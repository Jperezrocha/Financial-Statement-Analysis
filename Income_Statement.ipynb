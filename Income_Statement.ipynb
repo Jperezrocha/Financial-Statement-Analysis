{
 "cells": [
  {
   "cell_type": "code",
   "execution_count": 30,
   "metadata": {
    "ExecuteTime": {
     "end_time": "2024-02-09T20:14:23.607383Z",
     "start_time": "2024-02-09T20:14:23.571004Z"
    }
   },
   "outputs": [],
   "source": [
    "import matplotlib.pyplot as plt\n",
    "from matplotlib.pyplot import style\n",
    "import requests\n",
    "import pandas as pd\n",
    "import numpy as np\n",
    "from sklearn.linear_model import LinearRegression"
   ]
  },
  {
   "cell_type": "code",
   "execution_count": 31,
   "metadata": {
    "ExecuteTime": {
     "end_time": "2024-02-09T20:14:23.622816Z",
     "start_time": "2024-02-09T20:14:23.612555Z"
    }
   },
   "outputs": [],
   "source": [
    "ticker = \"AAPL\"\n",
    "api_key = \"ec2d6f3b0cc9395fbce02f1316669229\"\n",
    "years = 10"
   ]
  },
  {
   "cell_type": "code",
   "execution_count": 32,
   "metadata": {
    "ExecuteTime": {
     "end_time": "2024-02-09T20:14:24.390437Z",
     "start_time": "2024-02-09T20:14:23.629298Z"
    }
   },
   "outputs": [],
   "source": [
    "url = (f\"https://financialmodelingprep.com/api/v3/income-statement/{ticker}?limit={years}&apikey={api_key}\")\n",
    "r = requests.get(url)\n",
    "income_statement = r.json()\n"
   ]
  },
  {
   "cell_type": "code",
   "execution_count": 33,
   "metadata": {
    "ExecuteTime": {
     "end_time": "2024-02-09T20:14:24.405884Z",
     "start_time": "2024-02-09T20:14:24.386045Z"
    }
   },
   "outputs": [],
   "source": [
    "df_income_statement = pd.DataFrame(income_statement)"
   ]
  },
  {
   "cell_type": "code",
   "execution_count": 34,
   "metadata": {
    "ExecuteTime": {
     "end_time": "2024-02-09T20:14:24.442010Z",
     "start_time": "2024-02-09T20:14:24.406905Z"
    }
   },
   "outputs": [
    {
     "data": {
      "text/plain": "         date symbol reportedCurrency         cik fillingDate  \\\n0  2023-09-30   AAPL              USD  0000320193  2023-11-03   \n1  2022-09-24   AAPL              USD  0000320193  2022-10-28   \n2  2021-09-25   AAPL              USD  0000320193  2021-10-29   \n3  2020-09-26   AAPL              USD  0000320193  2020-10-30   \n4  2019-09-28   AAPL              USD  0000320193  2019-10-31   \n\n          acceptedDate calendarYear period       revenue  costOfRevenue  ...  \\\n0  2023-11-02 18:08:27         2023     FY  383285000000   214137000000  ...   \n1  2022-10-27 18:01:14         2022     FY  394328000000   223546000000  ...   \n2  2021-10-28 18:04:28         2021     FY  365817000000   212981000000  ...   \n3  2020-10-29 18:06:25         2020     FY  274515000000   169559000000  ...   \n4  2019-10-30 18:12:36         2019     FY  260174000000   161782000000  ...   \n\n   incomeBeforeTaxRatio  incomeTaxExpense    netIncome  netIncomeRatio   eps  \\\n0              0.296740       16741000000  96995000000        0.253062  6.16   \n1              0.302040       19300000000  99803000000        0.253096  6.15   \n2              0.298529       14527000000  94680000000        0.258818  5.67   \n3              0.244398        9680000000  57411000000        0.209136  3.31   \n4              0.252666       10481000000  55256000000        0.212381  2.99   \n\n   epsdiluted  weightedAverageShsOut  weightedAverageShsOutDil  \\\n0        6.13            15744231000               15812547000   \n1        6.11            16215963000               16325819000   \n2        5.61            16701272000               16864919000   \n3        3.28            17352119000               17528214000   \n4        2.97            18471336000               18595652000   \n\n                                                link  \\\n0  https://www.sec.gov/Archives/edgar/data/320193...   \n1  https://www.sec.gov/Archives/edgar/data/320193...   \n2  https://www.sec.gov/Archives/edgar/data/320193...   \n3  https://www.sec.gov/Archives/edgar/data/320193...   \n4  https://www.sec.gov/Archives/edgar/data/320193...   \n\n                                           finalLink  \n0  https://www.sec.gov/Archives/edgar/data/320193...  \n1  https://www.sec.gov/Archives/edgar/data/320193...  \n2  https://www.sec.gov/Archives/edgar/data/320193...  \n3  https://www.sec.gov/Archives/edgar/data/320193...  \n4  https://www.sec.gov/Archives/edgar/data/320193...  \n\n[5 rows x 38 columns]",
      "text/html": "<div>\n<style scoped>\n    .dataframe tbody tr th:only-of-type {\n        vertical-align: middle;\n    }\n\n    .dataframe tbody tr th {\n        vertical-align: top;\n    }\n\n    .dataframe thead th {\n        text-align: right;\n    }\n</style>\n<table border=\"1\" class=\"dataframe\">\n  <thead>\n    <tr style=\"text-align: right;\">\n      <th></th>\n      <th>date</th>\n      <th>symbol</th>\n      <th>reportedCurrency</th>\n      <th>cik</th>\n      <th>fillingDate</th>\n      <th>acceptedDate</th>\n      <th>calendarYear</th>\n      <th>period</th>\n      <th>revenue</th>\n      <th>costOfRevenue</th>\n      <th>...</th>\n      <th>incomeBeforeTaxRatio</th>\n      <th>incomeTaxExpense</th>\n      <th>netIncome</th>\n      <th>netIncomeRatio</th>\n      <th>eps</th>\n      <th>epsdiluted</th>\n      <th>weightedAverageShsOut</th>\n      <th>weightedAverageShsOutDil</th>\n      <th>link</th>\n      <th>finalLink</th>\n    </tr>\n  </thead>\n  <tbody>\n    <tr>\n      <th>0</th>\n      <td>2023-09-30</td>\n      <td>AAPL</td>\n      <td>USD</td>\n      <td>0000320193</td>\n      <td>2023-11-03</td>\n      <td>2023-11-02 18:08:27</td>\n      <td>2023</td>\n      <td>FY</td>\n      <td>383285000000</td>\n      <td>214137000000</td>\n      <td>...</td>\n      <td>0.296740</td>\n      <td>16741000000</td>\n      <td>96995000000</td>\n      <td>0.253062</td>\n      <td>6.16</td>\n      <td>6.13</td>\n      <td>15744231000</td>\n      <td>15812547000</td>\n      <td>https://www.sec.gov/Archives/edgar/data/320193...</td>\n      <td>https://www.sec.gov/Archives/edgar/data/320193...</td>\n    </tr>\n    <tr>\n      <th>1</th>\n      <td>2022-09-24</td>\n      <td>AAPL</td>\n      <td>USD</td>\n      <td>0000320193</td>\n      <td>2022-10-28</td>\n      <td>2022-10-27 18:01:14</td>\n      <td>2022</td>\n      <td>FY</td>\n      <td>394328000000</td>\n      <td>223546000000</td>\n      <td>...</td>\n      <td>0.302040</td>\n      <td>19300000000</td>\n      <td>99803000000</td>\n      <td>0.253096</td>\n      <td>6.15</td>\n      <td>6.11</td>\n      <td>16215963000</td>\n      <td>16325819000</td>\n      <td>https://www.sec.gov/Archives/edgar/data/320193...</td>\n      <td>https://www.sec.gov/Archives/edgar/data/320193...</td>\n    </tr>\n    <tr>\n      <th>2</th>\n      <td>2021-09-25</td>\n      <td>AAPL</td>\n      <td>USD</td>\n      <td>0000320193</td>\n      <td>2021-10-29</td>\n      <td>2021-10-28 18:04:28</td>\n      <td>2021</td>\n      <td>FY</td>\n      <td>365817000000</td>\n      <td>212981000000</td>\n      <td>...</td>\n      <td>0.298529</td>\n      <td>14527000000</td>\n      <td>94680000000</td>\n      <td>0.258818</td>\n      <td>5.67</td>\n      <td>5.61</td>\n      <td>16701272000</td>\n      <td>16864919000</td>\n      <td>https://www.sec.gov/Archives/edgar/data/320193...</td>\n      <td>https://www.sec.gov/Archives/edgar/data/320193...</td>\n    </tr>\n    <tr>\n      <th>3</th>\n      <td>2020-09-26</td>\n      <td>AAPL</td>\n      <td>USD</td>\n      <td>0000320193</td>\n      <td>2020-10-30</td>\n      <td>2020-10-29 18:06:25</td>\n      <td>2020</td>\n      <td>FY</td>\n      <td>274515000000</td>\n      <td>169559000000</td>\n      <td>...</td>\n      <td>0.244398</td>\n      <td>9680000000</td>\n      <td>57411000000</td>\n      <td>0.209136</td>\n      <td>3.31</td>\n      <td>3.28</td>\n      <td>17352119000</td>\n      <td>17528214000</td>\n      <td>https://www.sec.gov/Archives/edgar/data/320193...</td>\n      <td>https://www.sec.gov/Archives/edgar/data/320193...</td>\n    </tr>\n    <tr>\n      <th>4</th>\n      <td>2019-09-28</td>\n      <td>AAPL</td>\n      <td>USD</td>\n      <td>0000320193</td>\n      <td>2019-10-31</td>\n      <td>2019-10-30 18:12:36</td>\n      <td>2019</td>\n      <td>FY</td>\n      <td>260174000000</td>\n      <td>161782000000</td>\n      <td>...</td>\n      <td>0.252666</td>\n      <td>10481000000</td>\n      <td>55256000000</td>\n      <td>0.212381</td>\n      <td>2.99</td>\n      <td>2.97</td>\n      <td>18471336000</td>\n      <td>18595652000</td>\n      <td>https://www.sec.gov/Archives/edgar/data/320193...</td>\n      <td>https://www.sec.gov/Archives/edgar/data/320193...</td>\n    </tr>\n  </tbody>\n</table>\n<p>5 rows × 38 columns</p>\n</div>"
     },
     "execution_count": 34,
     "metadata": {},
     "output_type": "execute_result"
    }
   ],
   "source": [
    "df_income_statement.head()"
   ]
  },
  {
   "cell_type": "code",
   "outputs": [],
   "source": [
    "df_income_statement.drop(['cik', 'period', 'link'], axis = 1, inplace = True)"
   ],
   "metadata": {
    "collapsed": false,
    "ExecuteTime": {
     "end_time": "2024-02-09T20:14:24.475516Z",
     "start_time": "2024-02-09T20:14:24.452269Z"
    }
   },
   "execution_count": 35
  },
  {
   "cell_type": "code",
   "execution_count": 36,
   "metadata": {
    "ExecuteTime": {
     "end_time": "2024-02-09T20:14:24.519025Z",
     "start_time": "2024-02-09T20:14:24.462506Z"
    }
   },
   "outputs": [
    {
     "name": "stdout",
     "output_type": "stream",
     "text": [
      "<class 'pandas.core.frame.DataFrame'>\n",
      "RangeIndex: 5 entries, 0 to 4\n",
      "Data columns (total 35 columns):\n",
      " #   Column                                   Non-Null Count  Dtype  \n",
      "---  ------                                   --------------  -----  \n",
      " 0   date                                     5 non-null      object \n",
      " 1   symbol                                   5 non-null      object \n",
      " 2   reportedCurrency                         5 non-null      object \n",
      " 3   fillingDate                              5 non-null      object \n",
      " 4   acceptedDate                             5 non-null      object \n",
      " 5   calendarYear                             5 non-null      object \n",
      " 6   revenue                                  5 non-null      int64  \n",
      " 7   costOfRevenue                            5 non-null      int64  \n",
      " 8   grossProfit                              5 non-null      int64  \n",
      " 9   grossProfitRatio                         5 non-null      float64\n",
      " 10  researchAndDevelopmentExpenses           5 non-null      int64  \n",
      " 11  generalAndAdministrativeExpenses         5 non-null      int64  \n",
      " 12  sellingAndMarketingExpenses              5 non-null      int64  \n",
      " 13  sellingGeneralAndAdministrativeExpenses  5 non-null      int64  \n",
      " 14  otherExpenses                            5 non-null      int64  \n",
      " 15  operatingExpenses                        5 non-null      int64  \n",
      " 16  costAndExpenses                          5 non-null      int64  \n",
      " 17  interestIncome                           5 non-null      int64  \n",
      " 18  interestExpense                          5 non-null      int64  \n",
      " 19  depreciationAndAmortization              5 non-null      int64  \n",
      " 20  ebitda                                   5 non-null      int64  \n",
      " 21  ebitdaratio                              5 non-null      float64\n",
      " 22  operatingIncome                          5 non-null      int64  \n",
      " 23  operatingIncomeRatio                     5 non-null      float64\n",
      " 24  totalOtherIncomeExpensesNet              5 non-null      int64  \n",
      " 25  incomeBeforeTax                          5 non-null      int64  \n",
      " 26  incomeBeforeTaxRatio                     5 non-null      float64\n",
      " 27  incomeTaxExpense                         5 non-null      int64  \n",
      " 28  netIncome                                5 non-null      int64  \n",
      " 29  netIncomeRatio                           5 non-null      float64\n",
      " 30  eps                                      5 non-null      float64\n",
      " 31  epsdiluted                               5 non-null      float64\n",
      " 32  weightedAverageShsOut                    5 non-null      int64  \n",
      " 33  weightedAverageShsOutDil                 5 non-null      int64  \n",
      " 34  finalLink                                5 non-null      object \n",
      "dtypes: float64(7), int64(21), object(7)\n",
      "memory usage: 1.5+ KB\n"
     ]
    }
   ],
   "source": [
    "df_income_statement.info()"
   ]
  },
  {
   "cell_type": "markdown",
   "source": [
    "## Profitability Ratios\n",
    "Allows investors measure the ability of the company to earn and adequate  return on sales, assets, and invested capital."
   ],
   "metadata": {
    "collapsed": false
   }
  },
  {
   "cell_type": "markdown",
   "source": [
    "**Gross Profit Margin**\n",
    "* It indicates the capability of a Company to achieve a satisfactory return on its products or services.\n",
    "* The gross margin ratio, derived from deducting the cost of goods sold from the profit, is a measure of profitability that contrasts a company's gross margin with its total revenue.\n",
    "* For instance, if the ratio is determined to be 30%, it implies that for each dollar of revenue earned, 0.30 is kept, and 0.70 goes towards the cost of goods sold."
   ],
   "metadata": {
    "collapsed": false
   }
  },
  {
   "cell_type": "code",
   "execution_count": 37,
   "outputs": [
    {
     "name": "stdout",
     "output_type": "stream",
     "text": [
      "\n",
      "Date: 2023-09-30\n",
      "Gross Profit: 169148000000 , Revenue: 383285000000\n",
      "44.13%\n",
      "\n",
      "Date: 2022-09-24\n",
      "Gross Profit: 170782000000 , Revenue: 394328000000\n",
      "43.31%\n",
      "\n",
      "Date: 2021-09-25\n",
      "Gross Profit: 152836000000 , Revenue: 365817000000\n",
      "41.78%\n",
      "\n",
      "Date: 2020-09-26\n",
      "Gross Profit: 104956000000 , Revenue: 274515000000\n",
      "38.23%\n",
      "\n",
      "Date: 2019-09-28\n",
      "Gross Profit: 98392000000 , Revenue: 260174000000\n",
      "37.82%\n"
     ]
    }
   ],
   "source": [
    "for index, row in df_income_statement.iterrows():\n",
    "    gross_profit  = row['grossProfit']\n",
    "    revenue = row['revenue']\n",
    "    date = row['date']\n",
    "    print()\n",
    "    gpm = gross_profit / revenue\n",
    "    print(f'Date: {date}')\n",
    "    print(f'Gross Profit: {gross_profit} , Revenue: {revenue}')\n",
    "    print(f\"{gpm:.2%}\")"
   ],
   "metadata": {
    "collapsed": false,
    "ExecuteTime": {
     "end_time": "2024-02-09T20:14:24.608104Z",
     "start_time": "2024-02-09T20:14:24.491765Z"
    }
   }
  },
  {
   "cell_type": "markdown",
   "source": [
    "## Return on Assets (ROA)\n",
    "* ROA is a type of return on investment metric that measures the profitability of a business in relation to its total assets.\n",
    "* The ratio indicated how well is the company performing by comparing the profit it has generated to the capital invested in assets."
   ],
   "metadata": {
    "collapsed": false
   }
  },
  {
   "cell_type": "code",
   "outputs": [
    {
     "name": "stdout",
     "output_type": "stream",
     "text": [
      "[{'date': '2023-09-30', 'symbol': 'AAPL', 'reportedCurrency': 'USD', 'cik': '0000320193', 'fillingDate': '2023-11-03', 'acceptedDate': '2023-11-02 18:08:27', 'calendarYear': '2023', 'period': 'FY', 'cashAndCashEquivalents': 29965000000, 'shortTermInvestments': 31590000000, 'cashAndShortTermInvestments': 61555000000, 'netReceivables': 60985000000, 'inventory': 6331000000, 'otherCurrentAssets': 14695000000, 'totalCurrentAssets': 143566000000, 'propertyPlantEquipmentNet': 43715000000, 'goodwill': 0, 'intangibleAssets': 0, 'goodwillAndIntangibleAssets': 0, 'longTermInvestments': 100544000000, 'taxAssets': 0, 'otherNonCurrentAssets': 64758000000, 'totalNonCurrentAssets': 209017000000, 'otherAssets': 0, 'totalAssets': 352583000000, 'accountPayables': 62611000000, 'shortTermDebt': 15807000000, 'taxPayables': 0, 'deferredRevenue': 8061000000, 'otherCurrentLiabilities': 58829000000, 'totalCurrentLiabilities': 145308000000, 'longTermDebt': 95281000000, 'deferredRevenueNonCurrent': 0, 'deferredTaxLiabilitiesNonCurrent': 0, 'otherNonCurrentLiabilities': 49848000000, 'totalNonCurrentLiabilities': 145129000000, 'otherLiabilities': 0, 'capitalLeaseObligations': 0, 'totalLiabilities': 290437000000, 'preferredStock': 0, 'commonStock': 73812000000, 'retainedEarnings': -214000000, 'accumulatedOtherComprehensiveIncomeLoss': -11452000000, 'othertotalStockholdersEquity': 0, 'totalStockholdersEquity': 62146000000, 'totalEquity': 62146000000, 'totalLiabilitiesAndStockholdersEquity': 352583000000, 'minorityInterest': 0, 'totalLiabilitiesAndTotalEquity': 352583000000, 'totalInvestments': 31590000000, 'totalDebt': 111088000000, 'netDebt': 81123000000, 'link': 'https://www.sec.gov/Archives/edgar/data/320193/000032019323000106/0000320193-23-000106-index.htm', 'finalLink': 'https://www.sec.gov/Archives/edgar/data/320193/000032019323000106/aapl-20230930.htm'}, {'date': '2022-09-24', 'symbol': 'AAPL', 'reportedCurrency': 'USD', 'cik': '0000320193', 'fillingDate': '2022-10-28', 'acceptedDate': '2022-10-27 18:01:14', 'calendarYear': '2022', 'period': 'FY', 'cashAndCashEquivalents': 23646000000, 'shortTermInvestments': 24658000000, 'cashAndShortTermInvestments': 48304000000, 'netReceivables': 60932000000, 'inventory': 4946000000, 'otherCurrentAssets': 21223000000, 'totalCurrentAssets': 135405000000, 'propertyPlantEquipmentNet': 42117000000, 'goodwill': 0, 'intangibleAssets': 0, 'goodwillAndIntangibleAssets': 0, 'longTermInvestments': 120805000000, 'taxAssets': 0, 'otherNonCurrentAssets': 54428000000, 'totalNonCurrentAssets': 217350000000, 'otherAssets': 0, 'totalAssets': 352755000000, 'accountPayables': 64115000000, 'shortTermDebt': 21110000000, 'taxPayables': 0, 'deferredRevenue': 7912000000, 'otherCurrentLiabilities': 60845000000, 'totalCurrentLiabilities': 153982000000, 'longTermDebt': 98959000000, 'deferredRevenueNonCurrent': 0, 'deferredTaxLiabilitiesNonCurrent': 0, 'otherNonCurrentLiabilities': 49142000000, 'totalNonCurrentLiabilities': 148101000000, 'otherLiabilities': 0, 'capitalLeaseObligations': 0, 'totalLiabilities': 302083000000, 'preferredStock': 0, 'commonStock': 64849000000, 'retainedEarnings': -3068000000, 'accumulatedOtherComprehensiveIncomeLoss': -11109000000, 'othertotalStockholdersEquity': 0, 'totalStockholdersEquity': 50672000000, 'totalEquity': 50672000000, 'totalLiabilitiesAndStockholdersEquity': 352755000000, 'minorityInterest': 0, 'totalLiabilitiesAndTotalEquity': 352755000000, 'totalInvestments': 145463000000, 'totalDebt': 120069000000, 'netDebt': 96423000000, 'link': 'https://www.sec.gov/Archives/edgar/data/320193/000032019322000108/0000320193-22-000108-index.htm', 'finalLink': 'https://www.sec.gov/Archives/edgar/data/320193/000032019322000108/aapl-20220924.htm'}, {'date': '2021-09-25', 'symbol': 'AAPL', 'reportedCurrency': 'USD', 'cik': '0000320193', 'fillingDate': '2021-10-29', 'acceptedDate': '2021-10-28 18:04:28', 'calendarYear': '2021', 'period': 'FY', 'cashAndCashEquivalents': 34940000000, 'shortTermInvestments': 27699000000, 'cashAndShortTermInvestments': 62639000000, 'netReceivables': 51506000000, 'inventory': 6580000000, 'otherCurrentAssets': 14111000000, 'totalCurrentAssets': 134836000000, 'propertyPlantEquipmentNet': 39440000000, 'goodwill': 0, 'intangibleAssets': 0, 'goodwillAndIntangibleAssets': 0, 'longTermInvestments': 127877000000, 'taxAssets': 0, 'otherNonCurrentAssets': 48849000000, 'totalNonCurrentAssets': 216166000000, 'otherAssets': 0, 'totalAssets': 351002000000, 'accountPayables': 54763000000, 'shortTermDebt': 15613000000, 'taxPayables': 0, 'deferredRevenue': 7612000000, 'otherCurrentLiabilities': 47493000000, 'totalCurrentLiabilities': 125481000000, 'longTermDebt': 109106000000, 'deferredRevenueNonCurrent': 0, 'deferredTaxLiabilitiesNonCurrent': 0, 'otherNonCurrentLiabilities': 53325000000, 'totalNonCurrentLiabilities': 162431000000, 'otherLiabilities': 0, 'capitalLeaseObligations': 0, 'totalLiabilities': 287912000000, 'preferredStock': 0, 'commonStock': 57365000000, 'retainedEarnings': 5562000000, 'accumulatedOtherComprehensiveIncomeLoss': 163000000, 'othertotalStockholdersEquity': 0, 'totalStockholdersEquity': 63090000000, 'totalEquity': 63090000000, 'totalLiabilitiesAndStockholdersEquity': 351002000000, 'minorityInterest': 0, 'totalLiabilitiesAndTotalEquity': 351002000000, 'totalInvestments': 155576000000, 'totalDebt': 124719000000, 'netDebt': 89779000000, 'link': 'https://www.sec.gov/Archives/edgar/data/320193/000032019321000105/0000320193-21-000105-index.htm', 'finalLink': 'https://www.sec.gov/Archives/edgar/data/320193/000032019321000105/aapl-20210925.htm'}, {'date': '2020-09-26', 'symbol': 'AAPL', 'reportedCurrency': 'USD', 'cik': '0000320193', 'fillingDate': '2020-10-30', 'acceptedDate': '2020-10-29 18:06:25', 'calendarYear': '2020', 'period': 'FY', 'cashAndCashEquivalents': 38016000000, 'shortTermInvestments': 52927000000, 'cashAndShortTermInvestments': 90943000000, 'netReceivables': 37445000000, 'inventory': 4061000000, 'otherCurrentAssets': 11264000000, 'totalCurrentAssets': 143713000000, 'propertyPlantEquipmentNet': 36766000000, 'goodwill': 0, 'intangibleAssets': 0, 'goodwillAndIntangibleAssets': 0, 'longTermInvestments': 100887000000, 'taxAssets': 0, 'otherNonCurrentAssets': 42522000000, 'totalNonCurrentAssets': 180175000000, 'otherAssets': 0, 'totalAssets': 323888000000, 'accountPayables': 42296000000, 'shortTermDebt': 13769000000, 'taxPayables': 0, 'deferredRevenue': 6643000000, 'otherCurrentLiabilities': 42684000000, 'totalCurrentLiabilities': 105392000000, 'longTermDebt': 98667000000, 'deferredRevenueNonCurrent': 0, 'deferredTaxLiabilitiesNonCurrent': 0, 'otherNonCurrentLiabilities': 54490000000, 'totalNonCurrentLiabilities': 153157000000, 'otherLiabilities': 0, 'capitalLeaseObligations': 0, 'totalLiabilities': 258549000000, 'preferredStock': 0, 'commonStock': 50779000000, 'retainedEarnings': 14966000000, 'accumulatedOtherComprehensiveIncomeLoss': -406000000, 'othertotalStockholdersEquity': 0, 'totalStockholdersEquity': 65339000000, 'totalEquity': 65339000000, 'totalLiabilitiesAndStockholdersEquity': 323888000000, 'minorityInterest': 0, 'totalLiabilitiesAndTotalEquity': 323888000000, 'totalInvestments': 153814000000, 'totalDebt': 112436000000, 'netDebt': 74420000000, 'link': 'https://www.sec.gov/Archives/edgar/data/320193/000032019320000096/0000320193-20-000096-index.htm', 'finalLink': 'https://www.sec.gov/Archives/edgar/data/320193/000032019320000096/aapl-20200926.htm'}, {'date': '2019-09-28', 'symbol': 'AAPL', 'reportedCurrency': 'USD', 'cik': '0000320193', 'fillingDate': '2019-10-31', 'acceptedDate': '2019-10-30 18:12:36', 'calendarYear': '2019', 'period': 'FY', 'cashAndCashEquivalents': 48844000000, 'shortTermInvestments': 51713000000, 'cashAndShortTermInvestments': 100557000000, 'netReceivables': 45804000000, 'inventory': 4106000000, 'otherCurrentAssets': 12352000000, 'totalCurrentAssets': 162819000000, 'propertyPlantEquipmentNet': 37378000000, 'goodwill': 0, 'intangibleAssets': 0, 'goodwillAndIntangibleAssets': 0, 'longTermInvestments': 105341000000, 'taxAssets': 0, 'otherNonCurrentAssets': 32978000000, 'totalNonCurrentAssets': 175697000000, 'otherAssets': 0, 'totalAssets': 338516000000, 'accountPayables': 46236000000, 'shortTermDebt': 16240000000, 'taxPayables': 0, 'deferredRevenue': 5522000000, 'otherCurrentLiabilities': 37720000000, 'totalCurrentLiabilities': 105718000000, 'longTermDebt': 91807000000, 'deferredRevenueNonCurrent': 0, 'deferredTaxLiabilitiesNonCurrent': 0, 'otherNonCurrentLiabilities': 50503000000, 'totalNonCurrentLiabilities': 142310000000, 'otherLiabilities': 0, 'capitalLeaseObligations': 0, 'totalLiabilities': 248028000000, 'preferredStock': 0, 'commonStock': 45174000000, 'retainedEarnings': 45898000000, 'accumulatedOtherComprehensiveIncomeLoss': -584000000, 'othertotalStockholdersEquity': 0, 'totalStockholdersEquity': 90488000000, 'totalEquity': 90488000000, 'totalLiabilitiesAndStockholdersEquity': 338516000000, 'minorityInterest': 0, 'totalLiabilitiesAndTotalEquity': 338516000000, 'totalInvestments': 157054000000, 'totalDebt': 108047000000, 'netDebt': 59203000000, 'link': 'https://www.sec.gov/Archives/edgar/data/320193/000032019319000119/0000320193-19-000119-index.htm', 'finalLink': 'https://www.sec.gov/Archives/edgar/data/320193/000032019319000119/a10-k20199282019.htm'}]\n",
      "{'Error Message': 'Invalid API KEY. Please retry or visit our documentation to create one FREE https://financialmodelingprep.com/developer/docs'}\n",
      "         date symbol reportedCurrency         cik fillingDate  \\\n",
      "0  2023-09-30   AAPL              USD  0000320193  2023-11-03   \n",
      "1  2022-09-24   AAPL              USD  0000320193  2022-10-28   \n",
      "2  2021-09-25   AAPL              USD  0000320193  2021-10-29   \n",
      "3  2020-09-26   AAPL              USD  0000320193  2020-10-30   \n",
      "4  2019-09-28   AAPL              USD  0000320193  2019-10-31   \n",
      "\n",
      "          acceptedDate calendarYear period  cashAndCashEquivalents  \\\n",
      "0  2023-11-02 18:08:27         2023     FY             29965000000   \n",
      "1  2022-10-27 18:01:14         2022     FY             23646000000   \n",
      "2  2021-10-28 18:04:28         2021     FY             34940000000   \n",
      "3  2020-10-29 18:06:25         2020     FY             38016000000   \n",
      "4  2019-10-30 18:12:36         2019     FY             48844000000   \n",
      "\n",
      "   shortTermInvestments  ...  totalStockholdersEquity  totalEquity  \\\n",
      "0           31590000000  ...              62146000000  62146000000   \n",
      "1           24658000000  ...              50672000000  50672000000   \n",
      "2           27699000000  ...              63090000000  63090000000   \n",
      "3           52927000000  ...              65339000000  65339000000   \n",
      "4           51713000000  ...              90488000000  90488000000   \n",
      "\n",
      "   totalLiabilitiesAndStockholdersEquity  minorityInterest  \\\n",
      "0                           352583000000                 0   \n",
      "1                           352755000000                 0   \n",
      "2                           351002000000                 0   \n",
      "3                           323888000000                 0   \n",
      "4                           338516000000                 0   \n",
      "\n",
      "   totalLiabilitiesAndTotalEquity  totalInvestments     totalDebt  \\\n",
      "0                    352583000000       31590000000  111088000000   \n",
      "1                    352755000000      145463000000  120069000000   \n",
      "2                    351002000000      155576000000  124719000000   \n",
      "3                    323888000000      153814000000  112436000000   \n",
      "4                    338516000000      157054000000  108047000000   \n",
      "\n",
      "       netDebt                                               link  \\\n",
      "0  81123000000  https://www.sec.gov/Archives/edgar/data/320193...   \n",
      "1  96423000000  https://www.sec.gov/Archives/edgar/data/320193...   \n",
      "2  89779000000  https://www.sec.gov/Archives/edgar/data/320193...   \n",
      "3  74420000000  https://www.sec.gov/Archives/edgar/data/320193...   \n",
      "4  59203000000  https://www.sec.gov/Archives/edgar/data/320193...   \n",
      "\n",
      "                                           finalLink  \n",
      "0  https://www.sec.gov/Archives/edgar/data/320193...  \n",
      "1  https://www.sec.gov/Archives/edgar/data/320193...  \n",
      "2  https://www.sec.gov/Archives/edgar/data/320193...  \n",
      "3  https://www.sec.gov/Archives/edgar/data/320193...  \n",
      "4  https://www.sec.gov/Archives/edgar/data/320193...  \n",
      "\n",
      "[5 rows x 54 columns]\n",
      "<class 'pandas.core.frame.DataFrame'>\n",
      "RangeIndex: 5 entries, 0 to 4\n",
      "Data columns (total 54 columns):\n",
      " #   Column                                   Non-Null Count  Dtype \n",
      "---  ------                                   --------------  ----- \n",
      " 0   date                                     5 non-null      object\n",
      " 1   symbol                                   5 non-null      object\n",
      " 2   reportedCurrency                         5 non-null      object\n",
      " 3   cik                                      5 non-null      object\n",
      " 4   fillingDate                              5 non-null      object\n",
      " 5   acceptedDate                             5 non-null      object\n",
      " 6   calendarYear                             5 non-null      object\n",
      " 7   period                                   5 non-null      object\n",
      " 8   cashAndCashEquivalents                   5 non-null      int64 \n",
      " 9   shortTermInvestments                     5 non-null      int64 \n",
      " 10  cashAndShortTermInvestments              5 non-null      int64 \n",
      " 11  netReceivables                           5 non-null      int64 \n",
      " 12  inventory                                5 non-null      int64 \n",
      " 13  otherCurrentAssets                       5 non-null      int64 \n",
      " 14  totalCurrentAssets                       5 non-null      int64 \n",
      " 15  propertyPlantEquipmentNet                5 non-null      int64 \n",
      " 16  goodwill                                 5 non-null      int64 \n",
      " 17  intangibleAssets                         5 non-null      int64 \n",
      " 18  goodwillAndIntangibleAssets              5 non-null      int64 \n",
      " 19  longTermInvestments                      5 non-null      int64 \n",
      " 20  taxAssets                                5 non-null      int64 \n",
      " 21  otherNonCurrentAssets                    5 non-null      int64 \n",
      " 22  totalNonCurrentAssets                    5 non-null      int64 \n",
      " 23  otherAssets                              5 non-null      int64 \n",
      " 24  totalAssets                              5 non-null      int64 \n",
      " 25  accountPayables                          5 non-null      int64 \n",
      " 26  shortTermDebt                            5 non-null      int64 \n",
      " 27  taxPayables                              5 non-null      int64 \n",
      " 28  deferredRevenue                          5 non-null      int64 \n",
      " 29  otherCurrentLiabilities                  5 non-null      int64 \n",
      " 30  totalCurrentLiabilities                  5 non-null      int64 \n",
      " 31  longTermDebt                             5 non-null      int64 \n",
      " 32  deferredRevenueNonCurrent                5 non-null      int64 \n",
      " 33  deferredTaxLiabilitiesNonCurrent         5 non-null      int64 \n",
      " 34  otherNonCurrentLiabilities               5 non-null      int64 \n",
      " 35  totalNonCurrentLiabilities               5 non-null      int64 \n",
      " 36  otherLiabilities                         5 non-null      int64 \n",
      " 37  capitalLeaseObligations                  5 non-null      int64 \n",
      " 38  totalLiabilities                         5 non-null      int64 \n",
      " 39  preferredStock                           5 non-null      int64 \n",
      " 40  commonStock                              5 non-null      int64 \n",
      " 41  retainedEarnings                         5 non-null      int64 \n",
      " 42  accumulatedOtherComprehensiveIncomeLoss  5 non-null      int64 \n",
      " 43  othertotalStockholdersEquity             5 non-null      int64 \n",
      " 44  totalStockholdersEquity                  5 non-null      int64 \n",
      " 45  totalEquity                              5 non-null      int64 \n",
      " 46  totalLiabilitiesAndStockholdersEquity    5 non-null      int64 \n",
      " 47  minorityInterest                         5 non-null      int64 \n",
      " 48  totalLiabilitiesAndTotalEquity           5 non-null      int64 \n",
      " 49  totalInvestments                         5 non-null      int64 \n",
      " 50  totalDebt                                5 non-null      int64 \n",
      " 51  netDebt                                  5 non-null      int64 \n",
      " 52  link                                     5 non-null      object\n",
      " 53  finalLink                                5 non-null      object\n",
      "dtypes: int64(44), object(10)\n",
      "memory usage: 2.2+ KB\n",
      "\n",
      "The Company has more debt than Asset 0.82\n",
      "Total Assets:352583000000, Total Liabilities:290437000000\n",
      "\n",
      "The Company has more debt than Asset 0.86\n",
      "Total Assets:352755000000, Total Liabilities:302083000000\n",
      "\n",
      "The Company has more debt than Asset 0.82\n",
      "Total Assets:351002000000, Total Liabilities:287912000000\n",
      "\n",
      "The Company has more debt than Asset 0.80\n",
      "Total Assets:323888000000, Total Liabilities:258549000000\n",
      "\n",
      "The Company has more debt than Asset 0.73\n",
      "Total Assets:338516000000, Total Liabilities:248028000000\n",
      "\n",
      "It is not a healthy ratio: 1.7875325845589418,  \n",
      "Total Debt: 111088000000, Total Equity: 62146000000\n",
      "\n",
      "It is not a healthy ratio: 2.3695334701610355,  \n",
      "Total Debt: 120069000000, Total Equity: 50672000000\n",
      "\n",
      "It is not a healthy ratio: 1.9768426058012363,  \n",
      "Total Debt: 124719000000, Total Equity: 63090000000\n",
      "\n",
      "It is not a healthy ratio: 1.720809929750991,  \n",
      "Total Debt: 112436000000, Total Equity: 65339000000\n",
      "\n",
      "It is not a healthy ratio: 1.1940478295464592,  \n",
      "Total Debt: 108047000000, Total Equity: 90488000000\n",
      "\n",
      "Total Assets: 352583000000, Total Equity: 62146000000\n",
      "Total assets are approximately 5.67 times its total equity.\n",
      "\n",
      "Total Assets: 352755000000, Total Equity: 50672000000\n",
      "Total assets are approximately 6.96 times its total equity.\n",
      "\n",
      "Total Assets: 351002000000, Total Equity: 63090000000\n",
      "Total assets are approximately 5.56 times its total equity.\n",
      "\n",
      "Total Assets: 323888000000, Total Equity: 65339000000\n",
      "Total assets are approximately 4.96 times its total equity.\n",
      "\n",
      "Total Assets: 338516000000, Total Equity: 90488000000\n",
      "Total assets are approximately 3.74 times its total equity.\n",
      "\n",
      "Total Current Assets: 143566000000, Total Current Liabilities: 145308000000, Inventory: 6331000000\n",
      "Quick Ratio:0.94\n",
      "Might have liquidity Problems\n",
      "\n",
      "Total Current Assets: 135405000000, Total Current Liabilities: 153982000000, Inventory: 4946000000\n",
      "Quick Ratio:0.85\n",
      "Might have liquidity Problems\n",
      "\n",
      "Total Current Assets: 134836000000, Total Current Liabilities: 125481000000, Inventory: 6580000000\n",
      "Quick Ratio:1.02\n",
      "The company has sufficient liquidity to cover current liabilities\n",
      "\n",
      "Total Current Assets: 143713000000, Total Current Liabilities: 105392000000, Inventory: 4061000000\n",
      "Quick Ratio:1.33\n",
      "The company has sufficient liquidity to cover current liabilities\n",
      "\n",
      "Total Current Assets: 162819000000, Total Current Liabilities: 105718000000, Inventory: 4106000000\n",
      "Quick Ratio:1.50\n",
      "The company has sufficient liquidity to cover current liabilities\n",
      "\n",
      "2023-09-30\n",
      "Total Current Assets: 143566000000, Total Current Liabilities: 145308000000\n",
      "Current Ratio: 0.99\n",
      "\n",
      "2022-09-24\n",
      "Total Current Assets: 135405000000, Total Current Liabilities: 153982000000\n",
      "Current Ratio: 0.88\n",
      "\n",
      "2021-09-25\n",
      "Total Current Assets: 134836000000, Total Current Liabilities: 125481000000\n",
      "Current Ratio: 1.07\n",
      "\n",
      "2020-09-26\n",
      "Total Current Assets: 143713000000, Total Current Liabilities: 105392000000\n",
      "Current Ratio: 1.36\n",
      "\n",
      "2019-09-28\n",
      "Total Current Assets: 162819000000, Total Current Liabilities: 105718000000\n",
      "Current Ratio: 1.54\n",
      "\n",
      "Total Current Assets: 143566000000, Total Current Liabilities: 145308000000, Total Assets: 352583000000\n",
      "Net Working Capital -0.00\n",
      "\n",
      "Total Current Assets: 135405000000, Total Current Liabilities: 153982000000, Total Assets: 352755000000\n",
      "Net Working Capital -0.05\n",
      "\n",
      "Total Current Assets: 134836000000, Total Current Liabilities: 125481000000, Total Assets: 351002000000\n",
      "Net Working Capital  0.03\n",
      "\n",
      "Total Current Assets: 143713000000, Total Current Liabilities: 105392000000, Total Assets: 323888000000\n",
      "Net Working Capital  0.12\n",
      "\n",
      "Total Current Assets: 162819000000, Total Current Liabilities: 105718000000, Total Assets: 338516000000\n",
      "Net Working Capital  0.17\n",
      "Total Debt to Capitalization ratio: 0.6412597988847455\n",
      "Total Debt to Capitalization ratio: 0.7032230102904399\n",
      "Total Debt to Capitalization ratio: 0.6640736066961648\n",
      "Total Debt to Capitalization ratio: 0.6324623822247223\n",
      "Total Debt to Capitalization ratio: 0.5442214219155312\n",
      "Year: 2023\n",
      "Predicted Cash and Equivalents: 24656600000.00\n",
      "-----\n",
      "Year: 2024\n",
      "Predicted Cash and Equivalents: 19443800000.00\n",
      "-----\n",
      "Year: 2025\n",
      "Predicted Cash and Equivalents: 14231000000.00\n",
      "-----\n",
      "111088000000\n",
      "29965000000\n",
      "90488000000\n",
      "\n",
      "2023-09-30\n",
      "Total Assets: 338516000000 Net Income: 96995000000\n",
      "Return on Assets: 28.65%\n",
      "\n",
      "2022-09-24\n",
      "Total Assets: 323888000000 Net Income: 99803000000\n",
      "Return on Assets: 30.81%\n",
      "\n",
      "2021-09-25\n",
      "Total Assets: 351002000000 Net Income: 94680000000\n",
      "Return on Assets: 26.97%\n",
      "\n",
      "2020-09-26\n",
      "Total Assets: 352755000000 Net Income: 57411000000\n",
      "Return on Assets: 16.28%\n",
      "\n",
      "2019-09-28\n",
      "Total Assets: 352583000000 Net Income: 55256000000\n",
      "Return on Assets: 15.67%\n"
     ]
    }
   ],
   "source": [
    "%run Balance_Sheet.ipynb #get the assest from the balance sheet\n",
    "\n",
    "for (index_bs, row_bs), (index_is, row_is) in zip(df_balance_sheet.iterrows(), df_income_statement.iterrows()):\n",
    "    total_assets = row_bs['totalAssets']\n",
    "    net_income = row_is['netIncome']\n",
    "    date = row_is['date']\n",
    "    print()\n",
    "    ROA = net_income / total_assets\n",
    "    print(date)\n",
    "    print(\"Total Assets:\",total_assets, \"Net Income:\",net_income)\n",
    "    print(f'Return on Assets: {ROA:.2%}')"
   ],
   "metadata": {
    "collapsed": false,
    "ExecuteTime": {
     "end_time": "2024-02-09T20:14:25.770883Z",
     "start_time": "2024-02-09T20:14:24.505627Z"
    }
   },
   "execution_count": 38
  },
  {
   "cell_type": "markdown",
   "source": [
    "## Net Profit Margin\n",
    "* It determines the profit percentage a company makes from its overall revenue.\n",
    "* By subtracting all of the company's expenses from its total revenue, a 20% profit margin indicates that for every 1 of revenue, the company secures a net profit of $0.20."
   ],
   "metadata": {
    "collapsed": false
   }
  },
  {
   "cell_type": "code",
   "outputs": [
    {
     "name": "stdout",
     "output_type": "stream",
     "text": [
      "\n",
      "Date: 2023-09-30\n",
      "Net Income: 96995000000, Revenue 383285000000\n",
      "25.31%\n",
      "\n",
      "Date: 2022-09-24\n",
      "Net Income: 99803000000, Revenue 394328000000\n",
      "25.31%\n",
      "\n",
      "Date: 2021-09-25\n",
      "Net Income: 94680000000, Revenue 365817000000\n",
      "25.88%\n",
      "\n",
      "Date: 2020-09-26\n",
      "Net Income: 57411000000, Revenue 274515000000\n",
      "20.91%\n",
      "\n",
      "Date: 2019-09-28\n",
      "Net Income: 55256000000, Revenue 260174000000\n",
      "21.24%\n"
     ]
    }
   ],
   "source": [
    "for index, row in df_income_statement.iterrows():\n",
    "    net_income = row['netIncome']\n",
    "    revenue = row['revenue']\n",
    "    date = row['date']\n",
    "    print()\n",
    "    net_profit_margin = net_income / revenue\n",
    "    print(f'Date: {date}')\n",
    "    print(f'Net Income: {net_income}, Revenue {revenue}')\n",
    "    print(f'{net_profit_margin:.2%}')"
   ],
   "metadata": {
    "ExecuteTime": {
     "end_time": "2024-02-09T20:14:25.784931Z",
     "start_time": "2024-02-09T20:14:25.771778Z"
    }
   },
   "execution_count": 39
  },
  {
   "cell_type": "markdown",
   "source": [
    "## Interest Coverage Ration\n",
    "* Is a financial Ratio that is used to determine how well the company can pay the interest on its outstanding debts"
   ],
   "metadata": {
    "collapsed": false
   }
  },
  {
   "cell_type": "code",
   "outputs": [
    {
     "name": "stdout",
     "output_type": "stream",
     "text": [
      "\n",
      "Date: 2023-09-30\n",
      "Operating Income: 114301000000, Interest Expense: 3933000000\n",
      "Interest Coverage ratio: 29.06\n",
      "\n",
      "Date: 2022-09-24\n",
      "Operating Income: 119437000000, Interest Expense: 2931000000\n",
      "Interest Coverage ratio: 40.75\n",
      "\n",
      "Date: 2021-09-25\n",
      "Operating Income: 108949000000, Interest Expense: 2645000000\n",
      "Interest Coverage ratio: 41.19\n",
      "\n",
      "Date: 2020-09-26\n",
      "Operating Income: 66288000000, Interest Expense: 2873000000\n",
      "Interest Coverage ratio: 23.07\n",
      "\n",
      "Date: 2019-09-28\n",
      "Operating Income: 63930000000, Interest Expense: 3576000000\n",
      "Interest Coverage ratio: 17.88\n"
     ]
    }
   ],
   "source": [
    "for index, row in df_income_statement.iterrows():\n",
    "    operating_income = row['operatingIncome']\n",
    "    interest_exp = row['interestExpense']\n",
    "    date = row['date']\n",
    "    print()\n",
    "    int_coverage_ratio = operating_income / interest_exp\n",
    "    print(f'Date: {date}')\n",
    "    print(f'Operating Income: {operating_income}, Interest Expense: {interest_exp}')\n",
    "    print(f'Interest Coverage ratio: {int_coverage_ratio:.2f}')"
   ],
   "metadata": {
    "collapsed": false,
    "ExecuteTime": {
     "end_time": "2024-02-09T20:14:25.810251Z",
     "start_time": "2024-02-09T20:14:25.784193Z"
    }
   },
   "execution_count": 40
  },
  {
   "cell_type": "markdown",
   "source": [
    "# Operating Margin\n",
    "* Is an Important profitability ratio measuring revenue after deduction of operating expenses.\n",
    "* A company that generates operating profit rather than operating loss is a positive sign for potential investors."
   ],
   "metadata": {
    "collapsed": false
   }
  },
  {
   "cell_type": "code",
   "outputs": [
    {
     "name": "stdout",
     "output_type": "stream",
     "text": [
      "\n",
      "Date: 2023-09-30\n",
      "Operating Income: 114301000000, Revenue: 383285000000\n",
      "Operating Margin: 29.82%\n",
      "\n",
      "Date: 2022-09-24\n",
      "Operating Income: 119437000000, Revenue: 394328000000\n",
      "Operating Margin: 30.29%\n",
      "\n",
      "Date: 2021-09-25\n",
      "Operating Income: 108949000000, Revenue: 365817000000\n",
      "Operating Margin: 29.78%\n",
      "\n",
      "Date: 2020-09-26\n",
      "Operating Income: 66288000000, Revenue: 274515000000\n",
      "Operating Margin: 24.15%\n",
      "\n",
      "Date: 2019-09-28\n",
      "Operating Income: 63930000000, Revenue: 260174000000\n",
      "Operating Margin: 24.57%\n"
     ]
    }
   ],
   "source": [
    "for index, row  in df_income_statement.iterrows():\n",
    "    operating_income = row['operatingIncome']\n",
    "    revenue = row['revenue']\n",
    "    date = row['date']\n",
    "    print()\n",
    "    operating_margin = operating_income / revenue\n",
    "    print(f'Date: {date}')\n",
    "    print(f'Operating Income: {operating_income}, Revenue: {revenue}')\n",
    "    print(f'Operating Margin: {operating_margin:.2%}')"
   ],
   "metadata": {
    "ExecuteTime": {
     "end_time": "2024-02-09T20:14:25.812089Z",
     "start_time": "2024-02-09T20:14:25.795788Z"
    }
   },
   "execution_count": 41
  },
  {
   "cell_type": "code",
   "execution_count": 42,
   "outputs": [
    {
     "name": "stdout",
     "output_type": "stream",
     "text": [
      "Year: 2023\n",
      "Predicted Gross Profit: 180690400000.00\n",
      "Predicted Revenue: 408830800000.00\n",
      "-----\n",
      "Year: 2024\n",
      "Predicted Gross Profit: 201424200000.00\n",
      "Predicted Revenue: 445434300000.00\n",
      "-----\n",
      "Year: 2025\n",
      "Predicted Gross Profit: 222158000000.00\n",
      "Predicted Revenue: 482037800000.00\n",
      "-----\n"
     ]
    }
   ],
   "source": [
    "df_income_statement['date'] = pd.to_datetime(df_income_statement['date'])\n",
    "df_income_statement = df_income_statement.sort_values(by = 'date')\n",
    "\n",
    "df_income_statement['year'] = df_income_statement['date'].dt.year\n",
    "\n",
    "years = df_income_statement['year'].values.reshape(-1,1)\n",
    "gross_profits = df_income_statement['grossProfit'].values\n",
    "revenues = df_income_statement['revenue'].values\n",
    "\n",
    "gp_model = LinearRegression().fit(years, gross_profits)\n",
    "revenue_model = LinearRegression().fit(years, revenues)\n",
    "\n",
    "future_years = np.array([2023, 2024, 2025]).reshape(-1,1)\n",
    "predicted_gross_profit = gp_model.predict(future_years)\n",
    "predicted_revenues = revenue_model.predict(future_years)\n",
    "\n",
    "for year, gp, rev in zip(future_years, predicted_gross_profit, predicted_revenues ):\n",
    "    print(f\"Year: {year[0]}\")\n",
    "    print(f\"Predicted Gross Profit: {gp:.2f}\")\n",
    "    print(f\"Predicted Revenue: {rev:.2f}\")\n",
    "    print(\"-----\")\n"
   ],
   "metadata": {
    "collapsed": false,
    "ExecuteTime": {
     "end_time": "2024-02-09T20:14:25.856318Z",
     "start_time": "2024-02-09T20:14:25.810400Z"
    }
   }
  },
  {
   "cell_type": "code",
   "execution_count": 43,
   "outputs": [
    {
     "name": "stdout",
     "output_type": "stream",
     "text": [
      "3933000000\n"
     ]
    }
   ],
   "source": [
    "#For DCF cost of debt\n",
    "\n",
    "interest_exp = df_income_statement['interestExpense'][0]\n",
    "print(interest_exp)"
   ],
   "metadata": {
    "collapsed": false,
    "ExecuteTime": {
     "end_time": "2024-02-09T20:14:25.857196Z",
     "start_time": "2024-02-09T20:14:25.818413Z"
    }
   }
  },
  {
   "cell_type": "code",
   "execution_count": 44,
   "outputs": [
    {
     "name": "stdout",
     "output_type": "stream",
     "text": [
      "        revenue       date\n",
      "4  260174000000 2019-09-28\n",
      "3  274515000000 2020-09-26\n",
      "2  365817000000 2021-09-25\n",
      "1  394328000000 2022-09-24\n",
      "0  383285000000 2023-09-30\n"
     ]
    }
   ],
   "source": [
    "total_assets = df_income_statement[['revenue', 'date']]\n",
    "print(total_assets)"
   ],
   "metadata": {
    "collapsed": false,
    "ExecuteTime": {
     "end_time": "2024-02-09T20:14:25.858088Z",
     "start_time": "2024-02-09T20:14:25.827694Z"
    }
   }
  },
  {
   "cell_type": "markdown",
   "metadata": {},
   "source": []
  },
  {
   "cell_type": "markdown",
   "metadata": {},
   "source": []
  }
 ],
 "metadata": {
  "kernelspec": {
   "display_name": "Python 3 (ipykernel)",
   "language": "python",
   "name": "python3"
  },
  "language_info": {
   "codemirror_mode": {
    "name": "ipython",
    "version": 3
   },
   "file_extension": ".py",
   "mimetype": "text/x-python",
   "name": "python",
   "nbconvert_exporter": "python",
   "pygments_lexer": "ipython3",
   "version": "3.9.7"
  }
 },
 "nbformat": 4,
 "nbformat_minor": 1
}

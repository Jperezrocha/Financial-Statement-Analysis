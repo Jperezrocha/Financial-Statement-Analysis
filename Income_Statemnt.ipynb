{
 "cells": [
  {
   "cell_type": "code",
   "execution_count": 1,
   "metadata": {},
   "outputs": [],
   "source": [
    "import matplotlib.pyplot as plt\n",
    "from matplotlib.pyplot import style\n",
    "import requests\n",
    "import pandas as pd\n",
    "import numpy as np"
   ]
  },
  {
   "cell_type": "code",
   "execution_count": 2,
   "metadata": {},
   "outputs": [],
   "source": [
    "ticker = \"AMZN\"\n",
    "api_key = \"ec2d6f3b0cc9395fbce02f1316669229\"\n",
    "years = 10"
   ]
  },
  {
   "cell_type": "code",
   "execution_count": 3,
   "metadata": {},
   "outputs": [
    {
     "name": "stdout",
     "output_type": "stream",
     "text": [
      "[{'date': '2022-12-31', 'symbol': 'AMZN', 'reportedCurrency': 'USD', 'cik': '0001018724', 'fillingDate': '2023-02-03', 'acceptedDate': '2023-02-02 18:27:34', 'calendarYear': '2022', 'period': 'FY', 'revenue': 513983000000, 'costOfRevenue': 446343000000, 'grossProfit': 67640000000, 'grossProfitRatio': 0.1315996833, 'researchAndDevelopmentExpenses': 73213000000, 'generalAndAdministrativeExpenses': 11891000000, 'sellingAndMarketingExpenses': 42238000000, 'sellingGeneralAndAdministrativeExpenses': 54129000000, 'otherExpenses': -16806000000, 'operatingExpenses': 55392000000, 'costAndExpenses': 501735000000, 'interestIncome': 989000000, 'interestExpense': 2367000000, 'depreciationAndAmortization': 41921000000, 'ebitda': 38352000000, 'ebitdaratio': 0.0746172539, 'operatingIncome': 12248000000, 'operatingIncomeRatio': 0.0238295819, 'totalOtherIncomeExpensesNet': -16806000000, 'incomeBeforeTax': -5936000000, 'incomeBeforeTaxRatio': -0.0115490201, 'incomeTaxExpense': -3217000000, 'netIncome': -2722000000, 'netIncomeRatio': -0.005295895, 'eps': -0.27, 'epsdiluted': -0.27, 'weightedAverageShsOut': 10189000000, 'weightedAverageShsOutDil': 10189000000, 'link': 'https://www.sec.gov/Archives/edgar/data/1018724/000101872423000004/0001018724-23-000004-index.htm', 'finalLink': 'https://www.sec.gov/Archives/edgar/data/1018724/000101872423000004/amzn-20221231.htm'}, {'date': '2021-12-31', 'symbol': 'AMZN', 'reportedCurrency': 'USD', 'cik': '0001018724', 'fillingDate': '2022-02-04', 'acceptedDate': '2022-02-03 18:46:51', 'calendarYear': '2021', 'period': 'FY', 'revenue': 469822000000, 'costOfRevenue': 403507000000, 'grossProfit': 66315000000, 'grossProfitRatio': 0.1411492012, 'researchAndDevelopmentExpenses': 56052000000, 'generalAndAdministrativeExpenses': 8823000000, 'sellingAndMarketingExpenses': 32551000000, 'sellingGeneralAndAdministrativeExpenses': 41374000000, 'otherExpenses': 14633000000, 'operatingExpenses': 41436000000, 'costAndExpenses': 444943000000, 'interestIncome': 448000000, 'interestExpense': 1809000000, 'depreciationAndAmortization': 34296000000, 'ebitda': 74256000000, 'ebitdaratio': 0.1580513471, 'operatingIncome': 24879000000, 'operatingIncomeRatio': 0.0529540975, 'totalOtherIncomeExpensesNet': 14633000000, 'incomeBeforeTax': 38151000000, 'incomeBeforeTaxRatio': 0.0812030939, 'incomeTaxExpense': 4791000000, 'netIncome': 33364000000, 'netIncomeRatio': 0.0710141288, 'eps': 3.3, 'epsdiluted': 3.24, 'weightedAverageShsOut': 10120000000, 'weightedAverageShsOutDil': 10300000000, 'link': 'https://www.sec.gov/Archives/edgar/data/1018724/000101872422000005/0001018724-22-000005-index.htm', 'finalLink': 'https://www.sec.gov/Archives/edgar/data/1018724/000101872422000005/amzn-20211231.htm'}, {'date': '2020-12-31', 'symbol': 'AMZN', 'reportedCurrency': 'USD', 'cik': '0001018724', 'fillingDate': '2021-02-03', 'acceptedDate': '2021-02-02 19:44:10', 'calendarYear': '2020', 'period': 'FY', 'revenue': 386064000000, 'costOfRevenue': 334564000000, 'grossProfit': 51500000000, 'grossProfitRatio': 0.1333975714, 'researchAndDevelopmentExpenses': 42740000000, 'generalAndAdministrativeExpenses': 6668000000, 'sellingAndMarketingExpenses': 22008000000, 'sellingGeneralAndAdministrativeExpenses': 28676000000, 'otherExpenses': 2371000000, 'operatingExpenses': 28601000000, 'costAndExpenses': 363165000000, 'interestIncome': 555000000, 'interestExpense': 1647000000, 'depreciationAndAmortization': 25251000000, 'ebitda': 51076000000, 'ebitdaratio': 0.1322993079, 'operatingIncome': 22899000000, 'operatingIncomeRatio': 0.0593139998, 'totalOtherIncomeExpensesNet': 2371000000, 'incomeBeforeTax': 24178000000, 'incomeBeforeTaxRatio': 0.062626922, 'incomeTaxExpense': 2863000000, 'netIncome': 21331000000, 'netIncomeRatio': 0.055252497, 'eps': 2.13, 'epsdiluted': 2.09, 'weightedAverageShsOut': 10000000000, 'weightedAverageShsOutDil': 10200000000, 'link': 'https://www.sec.gov/Archives/edgar/data/1018724/000101872421000004/0001018724-21-000004-index.htm', 'finalLink': 'https://www.sec.gov/Archives/edgar/data/1018724/000101872421000004/amzn-20201231.htm'}, {'date': '2019-12-31', 'symbol': 'AMZN', 'reportedCurrency': 'USD', 'cik': '0001018724', 'fillingDate': '2020-01-31', 'acceptedDate': '2020-01-30 20:46:13', 'calendarYear': '2019', 'period': 'FY', 'revenue': 280522000000, 'costOfRevenue': 241699000000, 'grossProfit': 38823000000, 'grossProfitRatio': 0.1383955626, 'researchAndDevelopmentExpenses': 35931000000, 'generalAndAdministrativeExpenses': 5203000000, 'sellingAndMarketingExpenses': 18878000000, 'sellingGeneralAndAdministrativeExpenses': 24081000000, 'otherExpenses': 203000000, 'operatingExpenses': 24282000000, 'costAndExpenses': 265981000000, 'interestIncome': 832000000, 'interestExpense': 1600000000, 'depreciationAndAmortization': 21789000000, 'ebitda': 37365000000, 'ebitdaratio': 0.1331981092, 'operatingIncome': 14541000000, 'operatingIncomeRatio': 0.0518355067, 'totalOtherIncomeExpensesNet': 203000000, 'incomeBeforeTax': 13976000000, 'incomeBeforeTaxRatio': 0.0498214044, 'incomeTaxExpense': 2374000000, 'netIncome': 11588000000, 'netIncomeRatio': 0.0413087031, 'eps': 1.17, 'epsdiluted': 1.15, 'weightedAverageShsOut': 9880000000, 'weightedAverageShsOutDil': 10080000000, 'link': 'https://www.sec.gov/Archives/edgar/data/1018724/000101872420000004/0001018724-20-000004-index.htm', 'finalLink': 'https://www.sec.gov/Archives/edgar/data/1018724/000101872420000004/amzn-20191231x10k.htm'}, {'date': '2018-12-31', 'symbol': 'AMZN', 'reportedCurrency': 'USD', 'cik': '0001018724', 'fillingDate': '2019-02-01', 'acceptedDate': '2019-01-31 20:22:40', 'calendarYear': '2018', 'period': 'FY', 'revenue': 232887000000, 'costOfRevenue': 202020000000, 'grossProfit': 30867000000, 'grossProfitRatio': 0.1325406742, 'researchAndDevelopmentExpenses': 28837000000, 'generalAndAdministrativeExpenses': 4336000000, 'sellingAndMarketingExpenses': 13814000000, 'sellingGeneralAndAdministrativeExpenses': 18150000000, 'otherExpenses': -183000000, 'operatingExpenses': 18446000000, 'costAndExpenses': 220466000000, 'interestIncome': 440000000, 'interestExpense': 1417000000, 'depreciationAndAmortization': 15341000000, 'ebitda': 28019000000, 'ebitdaratio': 0.1203115674, 'operatingIncome': 12421000000, 'operatingIncomeRatio': 0.0533348791, 'totalOtherIncomeExpensesNet': -183000000, 'incomeBeforeTax': 11261000000, 'incomeBeforeTaxRatio': 0.0483539227, 'incomeTaxExpense': 1197000000, 'netIncome': 10073000000, 'netIncomeRatio': 0.0432527363, 'eps': 1.03, 'epsdiluted': 1.01, 'weightedAverageShsOut': 9740000000, 'weightedAverageShsOutDil': 10000000000, 'link': 'https://www.sec.gov/Archives/edgar/data/1018724/000101872419000004/0001018724-19-000004-index.htm', 'finalLink': 'https://www.sec.gov/Archives/edgar/data/1018724/000101872419000004/amzn-20181231x10k.htm'}]\n"
     ]
    }
   ],
   "source": [
    "url = (f\"https://financialmodelingprep.com/api/v3/income-statement/{ticker}?limit={years}&apikey={api_key}\")\n",
    "r = requests.get(url)\n",
    "income_statement = r.json()\n",
    "\n",
    "print(income_statement)"
   ]
  },
  {
   "cell_type": "code",
   "execution_count": 4,
   "metadata": {},
   "outputs": [
    {
     "name": "stdout",
     "output_type": "stream",
     "text": [
      "         date symbol reportedCurrency         cik fillingDate  \\\n",
      "0  2022-12-31   AMZN              USD  0001018724  2023-02-03   \n",
      "1  2021-12-31   AMZN              USD  0001018724  2022-02-04   \n",
      "2  2020-12-31   AMZN              USD  0001018724  2021-02-03   \n",
      "3  2019-12-31   AMZN              USD  0001018724  2020-01-31   \n",
      "4  2018-12-31   AMZN              USD  0001018724  2019-02-01   \n",
      "\n",
      "          acceptedDate calendarYear period       revenue  costOfRevenue  ...  \\\n",
      "0  2023-02-02 18:27:34         2022     FY  513983000000   446343000000  ...   \n",
      "1  2022-02-03 18:46:51         2021     FY  469822000000   403507000000  ...   \n",
      "2  2021-02-02 19:44:10         2020     FY  386064000000   334564000000  ...   \n",
      "3  2020-01-30 20:46:13         2019     FY  280522000000   241699000000  ...   \n",
      "4  2019-01-31 20:22:40         2018     FY  232887000000   202020000000  ...   \n",
      "\n",
      "   incomeBeforeTaxRatio  incomeTaxExpense    netIncome  netIncomeRatio   eps  \\\n",
      "0             -0.011549       -3217000000  -2722000000       -0.005296 -0.27   \n",
      "1              0.081203        4791000000  33364000000        0.071014  3.30   \n",
      "2              0.062627        2863000000  21331000000        0.055252  2.13   \n",
      "3              0.049821        2374000000  11588000000        0.041309  1.17   \n",
      "4              0.048354        1197000000  10073000000        0.043253  1.03   \n",
      "\n",
      "   epsdiluted  weightedAverageShsOut  weightedAverageShsOutDil  \\\n",
      "0       -0.27            10189000000               10189000000   \n",
      "1        3.24            10120000000               10300000000   \n",
      "2        2.09            10000000000               10200000000   \n",
      "3        1.15             9880000000               10080000000   \n",
      "4        1.01             9740000000               10000000000   \n",
      "\n",
      "                                                link  \\\n",
      "0  https://www.sec.gov/Archives/edgar/data/101872...   \n",
      "1  https://www.sec.gov/Archives/edgar/data/101872...   \n",
      "2  https://www.sec.gov/Archives/edgar/data/101872...   \n",
      "3  https://www.sec.gov/Archives/edgar/data/101872...   \n",
      "4  https://www.sec.gov/Archives/edgar/data/101872...   \n",
      "\n",
      "                                           finalLink  \n",
      "0  https://www.sec.gov/Archives/edgar/data/101872...  \n",
      "1  https://www.sec.gov/Archives/edgar/data/101872...  \n",
      "2  https://www.sec.gov/Archives/edgar/data/101872...  \n",
      "3  https://www.sec.gov/Archives/edgar/data/101872...  \n",
      "4  https://www.sec.gov/Archives/edgar/data/101872...  \n",
      "\n",
      "[5 rows x 38 columns]\n"
     ]
    }
   ],
   "source": [
    "df_income_statement = pd.DataFrame(income_statement)\n",
    "print(df_income_statement)\n"
   ]
  },
  {
   "cell_type": "code",
   "execution_count": 5,
   "metadata": {},
   "outputs": [
    {
     "data": {
      "text/plain": "         date symbol reportedCurrency         cik fillingDate  \\\n0  2022-12-31   AMZN              USD  0001018724  2023-02-03   \n1  2021-12-31   AMZN              USD  0001018724  2022-02-04   \n2  2020-12-31   AMZN              USD  0001018724  2021-02-03   \n3  2019-12-31   AMZN              USD  0001018724  2020-01-31   \n4  2018-12-31   AMZN              USD  0001018724  2019-02-01   \n\n          acceptedDate calendarYear period       revenue  costOfRevenue  ...  \\\n0  2023-02-02 18:27:34         2022     FY  513983000000   446343000000  ...   \n1  2022-02-03 18:46:51         2021     FY  469822000000   403507000000  ...   \n2  2021-02-02 19:44:10         2020     FY  386064000000   334564000000  ...   \n3  2020-01-30 20:46:13         2019     FY  280522000000   241699000000  ...   \n4  2019-01-31 20:22:40         2018     FY  232887000000   202020000000  ...   \n\n   incomeBeforeTaxRatio  incomeTaxExpense    netIncome  netIncomeRatio   eps  \\\n0             -0.011549       -3217000000  -2722000000       -0.005296 -0.27   \n1              0.081203        4791000000  33364000000        0.071014  3.30   \n2              0.062627        2863000000  21331000000        0.055252  2.13   \n3              0.049821        2374000000  11588000000        0.041309  1.17   \n4              0.048354        1197000000  10073000000        0.043253  1.03   \n\n   epsdiluted  weightedAverageShsOut  weightedAverageShsOutDil  \\\n0       -0.27            10189000000               10189000000   \n1        3.24            10120000000               10300000000   \n2        2.09            10000000000               10200000000   \n3        1.15             9880000000               10080000000   \n4        1.01             9740000000               10000000000   \n\n                                                link  \\\n0  https://www.sec.gov/Archives/edgar/data/101872...   \n1  https://www.sec.gov/Archives/edgar/data/101872...   \n2  https://www.sec.gov/Archives/edgar/data/101872...   \n3  https://www.sec.gov/Archives/edgar/data/101872...   \n4  https://www.sec.gov/Archives/edgar/data/101872...   \n\n                                           finalLink  \n0  https://www.sec.gov/Archives/edgar/data/101872...  \n1  https://www.sec.gov/Archives/edgar/data/101872...  \n2  https://www.sec.gov/Archives/edgar/data/101872...  \n3  https://www.sec.gov/Archives/edgar/data/101872...  \n4  https://www.sec.gov/Archives/edgar/data/101872...  \n\n[5 rows x 38 columns]",
      "text/html": "<div>\n<style scoped>\n    .dataframe tbody tr th:only-of-type {\n        vertical-align: middle;\n    }\n\n    .dataframe tbody tr th {\n        vertical-align: top;\n    }\n\n    .dataframe thead th {\n        text-align: right;\n    }\n</style>\n<table border=\"1\" class=\"dataframe\">\n  <thead>\n    <tr style=\"text-align: right;\">\n      <th></th>\n      <th>date</th>\n      <th>symbol</th>\n      <th>reportedCurrency</th>\n      <th>cik</th>\n      <th>fillingDate</th>\n      <th>acceptedDate</th>\n      <th>calendarYear</th>\n      <th>period</th>\n      <th>revenue</th>\n      <th>costOfRevenue</th>\n      <th>...</th>\n      <th>incomeBeforeTaxRatio</th>\n      <th>incomeTaxExpense</th>\n      <th>netIncome</th>\n      <th>netIncomeRatio</th>\n      <th>eps</th>\n      <th>epsdiluted</th>\n      <th>weightedAverageShsOut</th>\n      <th>weightedAverageShsOutDil</th>\n      <th>link</th>\n      <th>finalLink</th>\n    </tr>\n  </thead>\n  <tbody>\n    <tr>\n      <th>0</th>\n      <td>2022-12-31</td>\n      <td>AMZN</td>\n      <td>USD</td>\n      <td>0001018724</td>\n      <td>2023-02-03</td>\n      <td>2023-02-02 18:27:34</td>\n      <td>2022</td>\n      <td>FY</td>\n      <td>513983000000</td>\n      <td>446343000000</td>\n      <td>...</td>\n      <td>-0.011549</td>\n      <td>-3217000000</td>\n      <td>-2722000000</td>\n      <td>-0.005296</td>\n      <td>-0.27</td>\n      <td>-0.27</td>\n      <td>10189000000</td>\n      <td>10189000000</td>\n      <td>https://www.sec.gov/Archives/edgar/data/101872...</td>\n      <td>https://www.sec.gov/Archives/edgar/data/101872...</td>\n    </tr>\n    <tr>\n      <th>1</th>\n      <td>2021-12-31</td>\n      <td>AMZN</td>\n      <td>USD</td>\n      <td>0001018724</td>\n      <td>2022-02-04</td>\n      <td>2022-02-03 18:46:51</td>\n      <td>2021</td>\n      <td>FY</td>\n      <td>469822000000</td>\n      <td>403507000000</td>\n      <td>...</td>\n      <td>0.081203</td>\n      <td>4791000000</td>\n      <td>33364000000</td>\n      <td>0.071014</td>\n      <td>3.30</td>\n      <td>3.24</td>\n      <td>10120000000</td>\n      <td>10300000000</td>\n      <td>https://www.sec.gov/Archives/edgar/data/101872...</td>\n      <td>https://www.sec.gov/Archives/edgar/data/101872...</td>\n    </tr>\n    <tr>\n      <th>2</th>\n      <td>2020-12-31</td>\n      <td>AMZN</td>\n      <td>USD</td>\n      <td>0001018724</td>\n      <td>2021-02-03</td>\n      <td>2021-02-02 19:44:10</td>\n      <td>2020</td>\n      <td>FY</td>\n      <td>386064000000</td>\n      <td>334564000000</td>\n      <td>...</td>\n      <td>0.062627</td>\n      <td>2863000000</td>\n      <td>21331000000</td>\n      <td>0.055252</td>\n      <td>2.13</td>\n      <td>2.09</td>\n      <td>10000000000</td>\n      <td>10200000000</td>\n      <td>https://www.sec.gov/Archives/edgar/data/101872...</td>\n      <td>https://www.sec.gov/Archives/edgar/data/101872...</td>\n    </tr>\n    <tr>\n      <th>3</th>\n      <td>2019-12-31</td>\n      <td>AMZN</td>\n      <td>USD</td>\n      <td>0001018724</td>\n      <td>2020-01-31</td>\n      <td>2020-01-30 20:46:13</td>\n      <td>2019</td>\n      <td>FY</td>\n      <td>280522000000</td>\n      <td>241699000000</td>\n      <td>...</td>\n      <td>0.049821</td>\n      <td>2374000000</td>\n      <td>11588000000</td>\n      <td>0.041309</td>\n      <td>1.17</td>\n      <td>1.15</td>\n      <td>9880000000</td>\n      <td>10080000000</td>\n      <td>https://www.sec.gov/Archives/edgar/data/101872...</td>\n      <td>https://www.sec.gov/Archives/edgar/data/101872...</td>\n    </tr>\n    <tr>\n      <th>4</th>\n      <td>2018-12-31</td>\n      <td>AMZN</td>\n      <td>USD</td>\n      <td>0001018724</td>\n      <td>2019-02-01</td>\n      <td>2019-01-31 20:22:40</td>\n      <td>2018</td>\n      <td>FY</td>\n      <td>232887000000</td>\n      <td>202020000000</td>\n      <td>...</td>\n      <td>0.048354</td>\n      <td>1197000000</td>\n      <td>10073000000</td>\n      <td>0.043253</td>\n      <td>1.03</td>\n      <td>1.01</td>\n      <td>9740000000</td>\n      <td>10000000000</td>\n      <td>https://www.sec.gov/Archives/edgar/data/101872...</td>\n      <td>https://www.sec.gov/Archives/edgar/data/101872...</td>\n    </tr>\n  </tbody>\n</table>\n<p>5 rows × 38 columns</p>\n</div>"
     },
     "execution_count": 5,
     "metadata": {},
     "output_type": "execute_result"
    }
   ],
   "source": [
    "df_income_statement.head()"
   ]
  },
  {
   "cell_type": "code",
   "execution_count": 6,
   "metadata": {},
   "outputs": [
    {
     "name": "stdout",
     "output_type": "stream",
     "text": [
      "<class 'pandas.core.frame.DataFrame'>\n",
      "RangeIndex: 5 entries, 0 to 4\n",
      "Data columns (total 38 columns):\n",
      " #   Column                                   Non-Null Count  Dtype  \n",
      "---  ------                                   --------------  -----  \n",
      " 0   date                                     5 non-null      object \n",
      " 1   symbol                                   5 non-null      object \n",
      " 2   reportedCurrency                         5 non-null      object \n",
      " 3   cik                                      5 non-null      object \n",
      " 4   fillingDate                              5 non-null      object \n",
      " 5   acceptedDate                             5 non-null      object \n",
      " 6   calendarYear                             5 non-null      object \n",
      " 7   period                                   5 non-null      object \n",
      " 8   revenue                                  5 non-null      int64  \n",
      " 9   costOfRevenue                            5 non-null      int64  \n",
      " 10  grossProfit                              5 non-null      int64  \n",
      " 11  grossProfitRatio                         5 non-null      float64\n",
      " 12  researchAndDevelopmentExpenses           5 non-null      int64  \n",
      " 13  generalAndAdministrativeExpenses         5 non-null      int64  \n",
      " 14  sellingAndMarketingExpenses              5 non-null      int64  \n",
      " 15  sellingGeneralAndAdministrativeExpenses  5 non-null      int64  \n",
      " 16  otherExpenses                            5 non-null      int64  \n",
      " 17  operatingExpenses                        5 non-null      int64  \n",
      " 18  costAndExpenses                          5 non-null      int64  \n",
      " 19  interestIncome                           5 non-null      int64  \n",
      " 20  interestExpense                          5 non-null      int64  \n",
      " 21  depreciationAndAmortization              5 non-null      int64  \n",
      " 22  ebitda                                   5 non-null      int64  \n",
      " 23  ebitdaratio                              5 non-null      float64\n",
      " 24  operatingIncome                          5 non-null      int64  \n",
      " 25  operatingIncomeRatio                     5 non-null      float64\n",
      " 26  totalOtherIncomeExpensesNet              5 non-null      int64  \n",
      " 27  incomeBeforeTax                          5 non-null      int64  \n",
      " 28  incomeBeforeTaxRatio                     5 non-null      float64\n",
      " 29  incomeTaxExpense                         5 non-null      int64  \n",
      " 30  netIncome                                5 non-null      int64  \n",
      " 31  netIncomeRatio                           5 non-null      float64\n",
      " 32  eps                                      5 non-null      float64\n",
      " 33  epsdiluted                               5 non-null      float64\n",
      " 34  weightedAverageShsOut                    5 non-null      int64  \n",
      " 35  weightedAverageShsOutDil                 5 non-null      int64  \n",
      " 36  link                                     5 non-null      object \n",
      " 37  finalLink                                5 non-null      object \n",
      "dtypes: float64(7), int64(21), object(10)\n",
      "memory usage: 1.6+ KB\n"
     ]
    }
   ],
   "source": [
    "df_income_statement.info()"
   ]
  },
  {
   "cell_type": "code",
   "execution_count": 7,
   "metadata": {},
   "outputs": [
    {
     "name": "stdout",
     "output_type": "stream",
     "text": [
      "         grossProfit             revenue\n",
      "0  67,640,000,000.00  513,983,000,000.00\n",
      "1  66,315,000,000.00  469,822,000,000.00\n",
      "2  51,500,000,000.00  386,064,000,000.00\n",
      "3  38,823,000,000.00  280,522,000,000.00\n",
      "4  30,867,000,000.00  232,887,000,000.00\n",
      "Gross Profit Margin: 0.13\n",
      "Current profit margin indicates a healthy financial performance\n"
     ]
    }
   ],
   "source": [
    "#Gross Profit Margin - it reveals the ability of an organization to earn a reasonable return on its offerings\n",
    "def format_float(gpm):\n",
    "    return f'{gpm:,.2f}'\n",
    "gpm = df_income_statement[['grossProfit', 'revenue']].applymap(format_float)\n",
    "print(gpm)\n",
    "\n",
    "gross_profit_margin = df_income_statement['grossProfit'][0] / df_income_statement['revenue'][0]\n",
    "print(f'Gross Profit Margin: {gross_profit_margin:.2f}')\n",
    "\n",
    "if gross_profit_margin > 0.10:\n",
    "    print('Current profit margin indicates a healthy financial performance')\n",
    "elif gross_profit_margin < 0.10:\n",
    "    print('Understand why is the Gross profit Margin Low')"
   ]
  },
  {
   "cell_type": "code",
   "execution_count": 8,
   "metadata": {
    "scrolled": false
   },
   "outputs": [
    {
     "name": "stderr",
     "output_type": "stream",
     "text": [
      "/var/folders/07/hp5ltwgs395flys9xp50kcqh0000gn/T/ipykernel_45154/2583458648.py:7: MatplotlibDeprecationWarning: The seaborn styles shipped by Matplotlib are deprecated since 3.6, as they no longer correspond to the styles shipped by seaborn. However, they will remain available as 'seaborn-v0_8-<style>'. Alternatively, directly use the seaborn API instead.\n",
      "  plt.style.use('seaborn')\n"
     ]
    },
    {
     "data": {
      "text/plain": "<Figure size 640x480 with 2 Axes>",
      "image/png": "[encoded data removed]"
     },
     "metadata": {},
     "output_type": "display_data"
    }
   ],
   "source": [
    "df = df_income_statement.sort_index(ascending = False)\n",
    "df[['date', 'grossProfit', 'revenue']].head()\n",
    "\n",
    "fig, ax = plt.subplots()\n",
    "ax2 = ax.twinx()\n",
    "\n",
    "plt.style.use('seaborn')\n",
    "plt.xlabel('Gross Profit and Revenue')\n",
    "plt.ylabel('Date')\n",
    "ax.plot(df['grossProfit'], df['date'], color = \"royalblue\")\n",
    "ax2.plot(df['revenue'], df['date'], color = 'g')\n",
    "\n",
    "\n",
    "plt.show()\n"
   ]
  },
  {
   "cell_type": "code",
   "execution_count": 9,
   "metadata": {},
   "outputs": [
    {
     "name": "stdout",
     "output_type": "stream",
     "text": [
      "           netIncome             revenue\n",
      "0  -2,722,000,000.00  513,983,000,000.00\n",
      "1  33,364,000,000.00  469,822,000,000.00\n",
      "2  21,331,000,000.00  386,064,000,000.00\n",
      "3  11,588,000,000.00  280,522,000,000.00\n",
      "4  10,073,000,000.00  232,887,000,000.00\n",
      "Net Profit Margin -0.01\n",
      "raises concerns about profitability from your revenue streams\n"
     ]
    }
   ],
   "source": [
    "#Net Profit Margin - This is the Ultimate analysis item -  can a business earn a profit when all deductions are considered\n",
    "def format_float(npm):\n",
    "    return f'{npm:,.2f}'\n",
    "npm = df_income_statement[['netIncome', 'revenue']].applymap(format_float)\n",
    "print(npm)\n",
    "net_profit_margin = df_income_statement['netIncome'][0] / df_income_statement['revenue'][0]\n",
    "\n",
    "print(f'Net Profit Margin {net_profit_margin:.2f}')\n",
    "if net_profit_margin > 0.10:\n",
    "    print('Current net profit margin indicates a healthy financial performance')\n",
    "elif net_profit_margin < 0.10:\n",
    "    print('raises concerns about profitability from your revenue streams')"
   ]
  },
  {
   "cell_type": "code",
   "execution_count": 10,
   "metadata": {},
   "outputs": [
    {
     "name": "stdout",
     "output_type": "stream",
     "text": [
      "     operatingIncome   interestExpense\n",
      "0  12,248,000,000.00  2,367,000,000.00\n",
      "1  24,879,000,000.00  1,809,000,000.00\n",
      "2  22,899,000,000.00  1,647,000,000.00\n",
      "3  14,541,000,000.00  1,600,000,000.00\n",
      "4  12,421,000,000.00  1,417,000,000.00\n",
      "Interest Coverage ratio: 5.17\n"
     ]
    }
   ],
   "source": [
    "#Interest Coverage Ratio\n",
    "def format_float(icr):\n",
    "    return f'{icr:,.2f}'\n",
    "icr = df_income_statement[['operatingIncome', 'interestExpense']].applymap(format_float)\n",
    "print(icr)\n",
    "\n",
    "int_coverage_ratio = df_income_statement['operatingIncome'][0] / df_income_statement['interestExpense'][0]\n",
    "print(f'Interest Coverage ratio: {int_coverage_ratio:.2f}')"
   ]
  },
  {
   "cell_type": "markdown",
   "source": [
    "# Operating Margin\n",
    "It reveals the amount that a business has earned before financing other costs are considered."
   ],
   "metadata": {
    "collapsed": false
   }
  },
  {
   "cell_type": "code",
   "execution_count": 11,
   "metadata": {},
   "outputs": [
    {
     "name": "stdout",
     "output_type": "stream",
     "text": [
      "     operatingIncome             revenue\n",
      "0  12,248,000,000.00  513,983,000,000.00\n",
      "1  24,879,000,000.00  469,822,000,000.00\n",
      "2  22,899,000,000.00  386,064,000,000.00\n",
      "3  14,541,000,000.00  280,522,000,000.00\n",
      "4  12,421,000,000.00  232,887,000,000.00\n",
      "Operating Margin: 0.02\n",
      "The Operating Margin is below 10%, indicating a challenging profitability situation at the operational level.\n"
     ]
    }
   ],
   "source": [
    "def format_float(om):\n",
    "    return f'{om:,.2f}'\n",
    "om = df_income_statement[[\"operatingIncome\", 'revenue']].applymap(format_float)\n",
    "print(om)\n",
    "\n",
    "operating_margin = df_income_statement['operatingIncome'][0] / df_income_statement['revenue'][0]\n",
    "\n",
    "print(f'Operating Margin: {operating_margin:.2f}')\n",
    "if operating_margin > 0.10:\n",
    "    print(f'With an Operating Margin of {operating_margin:.2f}, {ticker} demonstrates efficient cost management in generating profits from operations.')\n",
    "else:\n",
    "    print('The Operating Margin is below 10%, indicating a challenging profitability situation at the operational level.')"
   ]
  },
  {
   "cell_type": "markdown",
   "metadata": {},
   "source": []
  },
  {
   "cell_type": "markdown",
   "metadata": {},
   "source": []
  }
 ],
 "metadata": {
  "kernelspec": {
   "display_name": "Python 3 (ipykernel)",
   "language": "python",
   "name": "python3"
  },
  "language_info": {
   "codemirror_mode": {
    "name": "ipython",
    "version": 3
   },
   "file_extension": ".py",
   "mimetype": "text/x-python",
   "name": "python",
   "nbconvert_exporter": "python",
   "pygments_lexer": "ipython3",
   "version": "3.9.7"
  }
 },
 "nbformat": 4,
 "nbformat_minor": 1
}

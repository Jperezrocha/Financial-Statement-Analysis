{
 "cells": [
  {
   "cell_type": "code",
   "execution_count": 1,
   "metadata": {},
   "outputs": [],
   "source": [
    "import matplotlib.pyplot as plt\n",
    "from matplotlib.pyplot import style\n",
    "import requests\n",
    "import pandas as pd\n",
    "import numpy as np"
   ]
  },
  {
   "cell_type": "code",
   "execution_count": 2,
   "metadata": {},
   "outputs": [],
   "source": [
    "ticker = \"TSLA\"\n",
    "api_key = \"ec2d6f3b0cc9395fbce02f1316669229\"\n",
    "years = 10"
   ]
  },
  {
   "cell_type": "code",
   "execution_count": 3,
   "metadata": {},
   "outputs": [
    {
     "name": "stdout",
     "output_type": "stream",
     "text": [
      "[{'date': '2022-12-31', 'symbol': 'TSLA', 'reportedCurrency': 'USD', 'cik': '0001318605', 'fillingDate': '2023-01-31', 'acceptedDate': '2023-01-30 21:29:15', 'calendarYear': '2022', 'period': 'FY', 'revenue': 81462000000, 'costOfRevenue': 60609000000, 'grossProfit': 20853000000, 'grossProfitRatio': 0.2559843854, 'researchAndDevelopmentExpenses': 3075000000, 'generalAndAdministrativeExpenses': 0, 'sellingAndMarketingExpenses': 0, 'sellingGeneralAndAdministrativeExpenses': 3946000000, 'otherExpenses': -43000000, 'operatingExpenses': 7021000000, 'costAndExpenses': 67630000000, 'interestIncome': 297000000, 'interestExpense': 191000000, 'depreciationAndAmortization': 4177000000, 'ebitda': 17833000000, 'ebitdaratio': 0.2189118853, 'operatingIncome': 13656000000, 'operatingIncomeRatio': 0.167636444, 'totalOtherIncomeExpensesNet': 63000000, 'incomeBeforeTax': 13719000000, 'incomeBeforeTaxRatio': 0.1684098107, 'incomeTaxExpense': 1132000000, 'netIncome': 12583000000, 'netIncomeRatio': 0.1544646584, 'eps': 4.02, 'epsdiluted': 3.62, 'weightedAverageShsOut': 3130000000, 'weightedAverageShsOutDil': 3475000000, 'link': 'https://www.sec.gov/Archives/edgar/data/1318605/000095017023001409/0000950170-23-001409-index.htm', 'finalLink': 'https://www.sec.gov/Archives/edgar/data/1318605/000095017023001409/tsla-20221231.htm'}, {'date': '2021-12-31', 'symbol': 'TSLA', 'reportedCurrency': 'USD', 'cik': '0001318605', 'fillingDate': '2022-02-07', 'acceptedDate': '2022-02-04 20:11:27', 'calendarYear': '2021', 'period': 'FY', 'revenue': 53823000000, 'costOfRevenue': 40217000000, 'grossProfit': 13606000000, 'grossProfitRatio': 0.2527915575, 'researchAndDevelopmentExpenses': 2593000000, 'generalAndAdministrativeExpenses': 0, 'sellingAndMarketingExpenses': 0, 'sellingGeneralAndAdministrativeExpenses': 4517000000, 'otherExpenses': 135000000, 'operatingExpenses': 7110000000, 'costAndExpenses': 47327000000, 'interestIncome': 56000000, 'interestExpense': 371000000, 'depreciationAndAmortization': 2911000000, 'ebitda': 9598000000, 'ebitdaratio': 0.1783252513, 'operatingIncome': 6687000000, 'operatingIncomeRatio': 0.1242405663, 'totalOtherIncomeExpensesNet': -344000000, 'incomeBeforeTax': 6343000000, 'incomeBeforeTaxRatio': 0.1178492466, 'incomeTaxExpense': 699000000, 'netIncome': 5519000000, 'netIncomeRatio': 0.1025398064, 'eps': 1.87, 'epsdiluted': 1.63, 'weightedAverageShsOut': 2958000000, 'weightedAverageShsOutDil': 3387000000, 'link': 'https://www.sec.gov/Archives/edgar/data/1318605/000095017022000796/0000950170-22-000796-index.htm', 'finalLink': 'https://www.sec.gov/Archives/edgar/data/1318605/000095017022000796/tsla-20211231.htm'}, {'date': '2020-12-31', 'symbol': 'TSLA', 'reportedCurrency': 'USD', 'cik': '0001318605', 'fillingDate': '2021-02-08', 'acceptedDate': '2021-02-08 07:27:23', 'calendarYear': '2020', 'period': 'FY', 'revenue': 31536000000, 'costOfRevenue': 24906000000, 'grossProfit': 6630000000, 'grossProfitRatio': 0.2102359209, 'researchAndDevelopmentExpenses': 1491000000, 'generalAndAdministrativeExpenses': 0, 'sellingAndMarketingExpenses': 0, 'sellingGeneralAndAdministrativeExpenses': 3145000000, 'otherExpenses': -122000000, 'operatingExpenses': 4636000000, 'costAndExpenses': 29542000000, 'interestIncome': 30000000, 'interestExpense': 748000000, 'depreciationAndAmortization': 2230000000, 'ebitda': 4224000000, 'ebitdaratio': 0.1339421613, 'operatingIncome': 1994000000, 'operatingIncomeRatio': 0.0632293252, 'totalOtherIncomeExpensesNet': -840000000, 'incomeBeforeTax': 1154000000, 'incomeBeforeTaxRatio': 0.0365930999, 'incomeTaxExpense': 292000000, 'netIncome': 690000000, 'netIncomeRatio': 0.0218797565, 'eps': 0.25, 'epsdiluted': 0.21, 'weightedAverageShsOut': 2799000000, 'weightedAverageShsOutDil': 3249000000, 'link': 'https://www.sec.gov/Archives/edgar/data/1318605/000156459021004599/0001564590-21-004599-index.htm', 'finalLink': 'https://www.sec.gov/Archives/edgar/data/1318605/000156459021004599/tsla-10k_20201231.htm'}, {'date': '2019-12-31', 'symbol': 'TSLA', 'reportedCurrency': 'USD', 'cik': '0001318605', 'fillingDate': '2020-02-13', 'acceptedDate': '2020-02-13 07:12:18', 'calendarYear': '2019', 'period': 'FY', 'revenue': 24578000000, 'costOfRevenue': 20509000000, 'grossProfit': 4069000000, 'grossProfitRatio': 0.165554561, 'researchAndDevelopmentExpenses': 1343000000, 'generalAndAdministrativeExpenses': 0, 'sellingAndMarketingExpenses': 0, 'sellingGeneralAndAdministrativeExpenses': 2646000000, 'otherExpenses': 45000000, 'operatingExpenses': 3989000000, 'costAndExpenses': 24498000000, 'interestIncome': 44000000, 'interestExpense': 685000000, 'depreciationAndAmortization': 2154000000, 'ebitda': 2323000000, 'ebitdaratio': 0.0945154203, 'operatingIncome': 169000000, 'operatingIncomeRatio': 0.006876068, 'totalOtherIncomeExpensesNet': -834000000, 'incomeBeforeTax': -665000000, 'incomeBeforeTaxRatio': -0.0270567174, 'incomeTaxExpense': 110000000, 'netIncome': -775000000, 'netIncomeRatio': -0.0315322646, 'eps': -0.29, 'epsdiluted': -0.29, 'weightedAverageShsOut': 2661000000, 'weightedAverageShsOutDil': 2661000000, 'link': 'https://www.sec.gov/Archives/edgar/data/1318605/000156459020004475/0001564590-20-004475-index.htm', 'finalLink': 'https://www.sec.gov/Archives/edgar/data/1318605/000156459020004475/tsla-10k_20191231.htm'}, {'date': '2018-12-31', 'symbol': 'TSLA', 'reportedCurrency': 'USD', 'cik': '0001318605', 'fillingDate': '2019-02-19', 'acceptedDate': '2019-02-19 06:10:16', 'calendarYear': '2018', 'period': 'FY', 'revenue': 21461268000, 'costOfRevenue': 17419247000, 'grossProfit': 4042021000, 'grossProfitRatio': 0.1883402695, 'researchAndDevelopmentExpenses': 1460370000, 'generalAndAdministrativeExpenses': 0, 'sellingAndMarketingExpenses': 0, 'sellingGeneralAndAdministrativeExpenses': 2834491000, 'otherExpenses': 21866000, 'operatingExpenses': 4294861000, 'costAndExpenses': 21714108000, 'interestIncome': 24533000, 'interestExpense': 663071000, 'depreciationAndAmortization': 1901050000, 'ebitda': 1694609000, 'ebitdaratio': 0.0789612711, 'operatingIncome': -388073000, 'operatingIncomeRatio': -0.0180824824, 'totalOtherIncomeExpensesNet': -113367000, 'incomeBeforeTax': -1004745000, 'incomeBeforeTaxRatio': -0.0468166653, 'incomeTaxExpense': 57837000, 'netIncome': -976091000, 'netIncomeRatio': -0.0454815158, 'eps': -0.38, 'epsdiluted': -0.38, 'weightedAverageShsOut': 2559000000, 'weightedAverageShsOutDil': 2559000000, 'link': 'https://www.sec.gov/Archives/edgar/data/1318605/000156459019003165/0001564590-19-003165-index.htm', 'finalLink': 'https://www.sec.gov/Archives/edgar/data/1318605/000156459019003165/tsla-10k_20181231.htm'}]\n"
     ]
    }
   ],
   "source": [
    "url = (f\"https://financialmodelingprep.com/api/v3/income-statement/{ticker}?limit={years}&apikey={api_key}\")\n",
    "r = requests.get(url)\n",
    "income_statement = r.json()\n",
    "\n",
    "print(income_statement)"
   ]
  },
  {
   "cell_type": "code",
   "execution_count": 4,
   "metadata": {},
   "outputs": [
    {
     "name": "stdout",
     "output_type": "stream",
     "text": [
      "         date symbol reportedCurrency         cik fillingDate  \\\n",
      "0  2022-12-31   TSLA              USD  0001318605  2023-01-31   \n",
      "1  2021-12-31   TSLA              USD  0001318605  2022-02-07   \n",
      "2  2020-12-31   TSLA              USD  0001318605  2021-02-08   \n",
      "3  2019-12-31   TSLA              USD  0001318605  2020-02-13   \n",
      "4  2018-12-31   TSLA              USD  0001318605  2019-02-19   \n",
      "\n",
      "          acceptedDate calendarYear period      revenue  costOfRevenue  ...  \\\n",
      "0  2023-01-30 21:29:15         2022     FY  81462000000    60609000000  ...   \n",
      "1  2022-02-04 20:11:27         2021     FY  53823000000    40217000000  ...   \n",
      "2  2021-02-08 07:27:23         2020     FY  31536000000    24906000000  ...   \n",
      "3  2020-02-13 07:12:18         2019     FY  24578000000    20509000000  ...   \n",
      "4  2019-02-19 06:10:16         2018     FY  21461268000    17419247000  ...   \n",
      "\n",
      "   incomeBeforeTaxRatio  incomeTaxExpense    netIncome  netIncomeRatio   eps  \\\n",
      "0              0.168410        1132000000  12583000000        0.154465  4.02   \n",
      "1              0.117849         699000000   5519000000        0.102540  1.87   \n",
      "2              0.036593         292000000    690000000        0.021880  0.25   \n",
      "3             -0.027057         110000000   -775000000       -0.031532 -0.29   \n",
      "4             -0.046817          57837000   -976091000       -0.045482 -0.38   \n",
      "\n",
      "   epsdiluted  weightedAverageShsOut  weightedAverageShsOutDil  \\\n",
      "0        3.62             3130000000                3475000000   \n",
      "1        1.63             2958000000                3387000000   \n",
      "2        0.21             2799000000                3249000000   \n",
      "3       -0.29             2661000000                2661000000   \n",
      "4       -0.38             2559000000                2559000000   \n",
      "\n",
      "                                                link  \\\n",
      "0  https://www.sec.gov/Archives/edgar/data/131860...   \n",
      "1  https://www.sec.gov/Archives/edgar/data/131860...   \n",
      "2  https://www.sec.gov/Archives/edgar/data/131860...   \n",
      "3  https://www.sec.gov/Archives/edgar/data/131860...   \n",
      "4  https://www.sec.gov/Archives/edgar/data/131860...   \n",
      "\n",
      "                                           finalLink  \n",
      "0  https://www.sec.gov/Archives/edgar/data/131860...  \n",
      "1  https://www.sec.gov/Archives/edgar/data/131860...  \n",
      "2  https://www.sec.gov/Archives/edgar/data/131860...  \n",
      "3  https://www.sec.gov/Archives/edgar/data/131860...  \n",
      "4  https://www.sec.gov/Archives/edgar/data/131860...  \n",
      "\n",
      "[5 rows x 38 columns]\n"
     ]
    }
   ],
   "source": [
    "df_income_statement = pd.DataFrame(income_statement)\n",
    "print(df_income_statement)\n"
   ]
  },
  {
   "cell_type": "code",
   "execution_count": 5,
   "metadata": {},
   "outputs": [
    {
     "data": {
      "text/plain": "         date symbol reportedCurrency         cik fillingDate  \\\n0  2022-12-31   TSLA              USD  0001318605  2023-01-31   \n1  2021-12-31   TSLA              USD  0001318605  2022-02-07   \n2  2020-12-31   TSLA              USD  0001318605  2021-02-08   \n3  2019-12-31   TSLA              USD  0001318605  2020-02-13   \n4  2018-12-31   TSLA              USD  0001318605  2019-02-19   \n\n          acceptedDate calendarYear period      revenue  costOfRevenue  ...  \\\n0  2023-01-30 21:29:15         2022     FY  81462000000    60609000000  ...   \n1  2022-02-04 20:11:27         2021     FY  53823000000    40217000000  ...   \n2  2021-02-08 07:27:23         2020     FY  31536000000    24906000000  ...   \n3  2020-02-13 07:12:18         2019     FY  24578000000    20509000000  ...   \n4  2019-02-19 06:10:16         2018     FY  21461268000    17419247000  ...   \n\n   incomeBeforeTaxRatio  incomeTaxExpense    netIncome  netIncomeRatio   eps  \\\n0              0.168410        1132000000  12583000000        0.154465  4.02   \n1              0.117849         699000000   5519000000        0.102540  1.87   \n2              0.036593         292000000    690000000        0.021880  0.25   \n3             -0.027057         110000000   -775000000       -0.031532 -0.29   \n4             -0.046817          57837000   -976091000       -0.045482 -0.38   \n\n   epsdiluted  weightedAverageShsOut  weightedAverageShsOutDil  \\\n0        3.62             3130000000                3475000000   \n1        1.63             2958000000                3387000000   \n2        0.21             2799000000                3249000000   \n3       -0.29             2661000000                2661000000   \n4       -0.38             2559000000                2559000000   \n\n                                                link  \\\n0  https://www.sec.gov/Archives/edgar/data/131860...   \n1  https://www.sec.gov/Archives/edgar/data/131860...   \n2  https://www.sec.gov/Archives/edgar/data/131860...   \n3  https://www.sec.gov/Archives/edgar/data/131860...   \n4  https://www.sec.gov/Archives/edgar/data/131860...   \n\n                                           finalLink  \n0  https://www.sec.gov/Archives/edgar/data/131860...  \n1  https://www.sec.gov/Archives/edgar/data/131860...  \n2  https://www.sec.gov/Archives/edgar/data/131860...  \n3  https://www.sec.gov/Archives/edgar/data/131860...  \n4  https://www.sec.gov/Archives/edgar/data/131860...  \n\n[5 rows x 38 columns]",
      "text/html": "<div>\n<style scoped>\n    .dataframe tbody tr th:only-of-type {\n        vertical-align: middle;\n    }\n\n    .dataframe tbody tr th {\n        vertical-align: top;\n    }\n\n    .dataframe thead th {\n        text-align: right;\n    }\n</style>\n<table border=\"1\" class=\"dataframe\">\n  <thead>\n    <tr style=\"text-align: right;\">\n      <th></th>\n      <th>date</th>\n      <th>symbol</th>\n      <th>reportedCurrency</th>\n      <th>cik</th>\n      <th>fillingDate</th>\n      <th>acceptedDate</th>\n      <th>calendarYear</th>\n      <th>period</th>\n      <th>revenue</th>\n      <th>costOfRevenue</th>\n      <th>...</th>\n      <th>incomeBeforeTaxRatio</th>\n      <th>incomeTaxExpense</th>\n      <th>netIncome</th>\n      <th>netIncomeRatio</th>\n      <th>eps</th>\n      <th>epsdiluted</th>\n      <th>weightedAverageShsOut</th>\n      <th>weightedAverageShsOutDil</th>\n      <th>link</th>\n      <th>finalLink</th>\n    </tr>\n  </thead>\n  <tbody>\n    <tr>\n      <th>0</th>\n      <td>2022-12-31</td>\n      <td>TSLA</td>\n      <td>USD</td>\n      <td>0001318605</td>\n      <td>2023-01-31</td>\n      <td>2023-01-30 21:29:15</td>\n      <td>2022</td>\n      <td>FY</td>\n      <td>81462000000</td>\n      <td>60609000000</td>\n      <td>...</td>\n      <td>0.168410</td>\n      <td>1132000000</td>\n      <td>12583000000</td>\n      <td>0.154465</td>\n      <td>4.02</td>\n      <td>3.62</td>\n      <td>3130000000</td>\n      <td>3475000000</td>\n      <td>https://www.sec.gov/Archives/edgar/data/131860...</td>\n      <td>https://www.sec.gov/Archives/edgar/data/131860...</td>\n    </tr>\n    <tr>\n      <th>1</th>\n      <td>2021-12-31</td>\n      <td>TSLA</td>\n      <td>USD</td>\n      <td>0001318605</td>\n      <td>2022-02-07</td>\n      <td>2022-02-04 20:11:27</td>\n      <td>2021</td>\n      <td>FY</td>\n      <td>53823000000</td>\n      <td>40217000000</td>\n      <td>...</td>\n      <td>0.117849</td>\n      <td>699000000</td>\n      <td>5519000000</td>\n      <td>0.102540</td>\n      <td>1.87</td>\n      <td>1.63</td>\n      <td>2958000000</td>\n      <td>3387000000</td>\n      <td>https://www.sec.gov/Archives/edgar/data/131860...</td>\n      <td>https://www.sec.gov/Archives/edgar/data/131860...</td>\n    </tr>\n    <tr>\n      <th>2</th>\n      <td>2020-12-31</td>\n      <td>TSLA</td>\n      <td>USD</td>\n      <td>0001318605</td>\n      <td>2021-02-08</td>\n      <td>2021-02-08 07:27:23</td>\n      <td>2020</td>\n      <td>FY</td>\n      <td>31536000000</td>\n      <td>24906000000</td>\n      <td>...</td>\n      <td>0.036593</td>\n      <td>292000000</td>\n      <td>690000000</td>\n      <td>0.021880</td>\n      <td>0.25</td>\n      <td>0.21</td>\n      <td>2799000000</td>\n      <td>3249000000</td>\n      <td>https://www.sec.gov/Archives/edgar/data/131860...</td>\n      <td>https://www.sec.gov/Archives/edgar/data/131860...</td>\n    </tr>\n    <tr>\n      <th>3</th>\n      <td>2019-12-31</td>\n      <td>TSLA</td>\n      <td>USD</td>\n      <td>0001318605</td>\n      <td>2020-02-13</td>\n      <td>2020-02-13 07:12:18</td>\n      <td>2019</td>\n      <td>FY</td>\n      <td>24578000000</td>\n      <td>20509000000</td>\n      <td>...</td>\n      <td>-0.027057</td>\n      <td>110000000</td>\n      <td>-775000000</td>\n      <td>-0.031532</td>\n      <td>-0.29</td>\n      <td>-0.29</td>\n      <td>2661000000</td>\n      <td>2661000000</td>\n      <td>https://www.sec.gov/Archives/edgar/data/131860...</td>\n      <td>https://www.sec.gov/Archives/edgar/data/131860...</td>\n    </tr>\n    <tr>\n      <th>4</th>\n      <td>2018-12-31</td>\n      <td>TSLA</td>\n      <td>USD</td>\n      <td>0001318605</td>\n      <td>2019-02-19</td>\n      <td>2019-02-19 06:10:16</td>\n      <td>2018</td>\n      <td>FY</td>\n      <td>21461268000</td>\n      <td>17419247000</td>\n      <td>...</td>\n      <td>-0.046817</td>\n      <td>57837000</td>\n      <td>-976091000</td>\n      <td>-0.045482</td>\n      <td>-0.38</td>\n      <td>-0.38</td>\n      <td>2559000000</td>\n      <td>2559000000</td>\n      <td>https://www.sec.gov/Archives/edgar/data/131860...</td>\n      <td>https://www.sec.gov/Archives/edgar/data/131860...</td>\n    </tr>\n  </tbody>\n</table>\n<p>5 rows × 38 columns</p>\n</div>"
     },
     "execution_count": 5,
     "metadata": {},
     "output_type": "execute_result"
    }
   ],
   "source": [
    "df_income_statement.head()"
   ]
  },
  {
   "cell_type": "code",
   "execution_count": 6,
   "metadata": {},
   "outputs": [
    {
     "name": "stdout",
     "output_type": "stream",
     "text": [
      "<class 'pandas.core.frame.DataFrame'>\n",
      "RangeIndex: 5 entries, 0 to 4\n",
      "Data columns (total 38 columns):\n",
      " #   Column                                   Non-Null Count  Dtype  \n",
      "---  ------                                   --------------  -----  \n",
      " 0   date                                     5 non-null      object \n",
      " 1   symbol                                   5 non-null      object \n",
      " 2   reportedCurrency                         5 non-null      object \n",
      " 3   cik                                      5 non-null      object \n",
      " 4   fillingDate                              5 non-null      object \n",
      " 5   acceptedDate                             5 non-null      object \n",
      " 6   calendarYear                             5 non-null      object \n",
      " 7   period                                   5 non-null      object \n",
      " 8   revenue                                  5 non-null      int64  \n",
      " 9   costOfRevenue                            5 non-null      int64  \n",
      " 10  grossProfit                              5 non-null      int64  \n",
      " 11  grossProfitRatio                         5 non-null      float64\n",
      " 12  researchAndDevelopmentExpenses           5 non-null      int64  \n",
      " 13  generalAndAdministrativeExpenses         5 non-null      int64  \n",
      " 14  sellingAndMarketingExpenses              5 non-null      int64  \n",
      " 15  sellingGeneralAndAdministrativeExpenses  5 non-null      int64  \n",
      " 16  otherExpenses                            5 non-null      int64  \n",
      " 17  operatingExpenses                        5 non-null      int64  \n",
      " 18  costAndExpenses                          5 non-null      int64  \n",
      " 19  interestIncome                           5 non-null      int64  \n",
      " 20  interestExpense                          5 non-null      int64  \n",
      " 21  depreciationAndAmortization              5 non-null      int64  \n",
      " 22  ebitda                                   5 non-null      int64  \n",
      " 23  ebitdaratio                              5 non-null      float64\n",
      " 24  operatingIncome                          5 non-null      int64  \n",
      " 25  operatingIncomeRatio                     5 non-null      float64\n",
      " 26  totalOtherIncomeExpensesNet              5 non-null      int64  \n",
      " 27  incomeBeforeTax                          5 non-null      int64  \n",
      " 28  incomeBeforeTaxRatio                     5 non-null      float64\n",
      " 29  incomeTaxExpense                         5 non-null      int64  \n",
      " 30  netIncome                                5 non-null      int64  \n",
      " 31  netIncomeRatio                           5 non-null      float64\n",
      " 32  eps                                      5 non-null      float64\n",
      " 33  epsdiluted                               5 non-null      float64\n",
      " 34  weightedAverageShsOut                    5 non-null      int64  \n",
      " 35  weightedAverageShsOutDil                 5 non-null      int64  \n",
      " 36  link                                     5 non-null      object \n",
      " 37  finalLink                                5 non-null      object \n",
      "dtypes: float64(7), int64(21), object(10)\n",
      "memory usage: 1.6+ KB\n"
     ]
    }
   ],
   "source": [
    "df_income_statement.info()"
   ]
  },
  {
   "cell_type": "code",
   "execution_count": 7,
   "metadata": {},
   "outputs": [
    {
     "name": "stdout",
     "output_type": "stream",
     "text": [
      "         grossProfit            revenue\n",
      "0  20,853,000,000.00  81,462,000,000.00\n",
      "1  13,606,000,000.00  53,823,000,000.00\n",
      "2   6,630,000,000.00  31,536,000,000.00\n",
      "3   4,069,000,000.00  24,578,000,000.00\n",
      "4   4,042,021,000.00  21,461,268,000.00\n",
      "Gross Profit Margin: 0.26\n",
      "Current profit margin indicates a healthy financial performance\n"
     ]
    }
   ],
   "source": [
    "#Gross Profit Margin - it reveals the ability of an organization to earn a reasonable return on its offerings\n",
    "def format_float(gpm):\n",
    "    return f'{gpm:,.2f}'\n",
    "gpm = df_income_statement[['grossProfit', 'revenue']].applymap(format_float)\n",
    "print(gpm)\n",
    "\n",
    "gross_profit_margin = df_income_statement['grossProfit'][0] / df_income_statement['revenue'][0]\n",
    "print(f'Gross Profit Margin: {gross_profit_margin:.2f}')\n",
    "\n",
    "if gross_profit_margin > 0.10:\n",
    "    print('Current profit margin indicates a healthy financial performance')\n",
    "elif gross_profit_margin < 0.10:\n",
    "    print('Understand why is the Gross profit Margin Low')"
   ]
  },
  {
   "cell_type": "code",
   "execution_count": 8,
   "metadata": {
    "scrolled": false
   },
   "outputs": [
    {
     "name": "stderr",
     "output_type": "stream",
     "text": [
      "/var/folders/07/hp5ltwgs395flys9xp50kcqh0000gn/T/ipykernel_1284/2583458648.py:7: MatplotlibDeprecationWarning: The seaborn styles shipped by Matplotlib are deprecated since 3.6, as they no longer correspond to the styles shipped by seaborn. However, they will remain available as 'seaborn-v0_8-<style>'. Alternatively, directly use the seaborn API instead.\n",
      "  plt.style.use('seaborn')\n"
     ]
    },
    {
     "data": {
      "text/plain": "<Figure size 640x480 with 2 Axes>",
      "image/png": "[encoded data removed]"
     },
     "metadata": {},
     "output_type": "display_data"
    }
   ],
   "source": [
    "df = df_income_statement.sort_index(ascending = False)\n",
    "df[['date', 'grossProfit', 'revenue']].head()\n",
    "\n",
    "fig, ax = plt.subplots()\n",
    "ax2 = ax.twinx()\n",
    "\n",
    "plt.style.use('seaborn')\n",
    "plt.xlabel('Gross Profit and Revenue')\n",
    "plt.ylabel('Date')\n",
    "ax.plot(df['grossProfit'], df['date'], color = \"royalblue\")\n",
    "ax2.plot(df['revenue'], df['date'], color = 'g')\n",
    "\n",
    "\n",
    "plt.show()\n"
   ]
  },
  {
   "cell_type": "code",
   "execution_count": 9,
   "metadata": {},
   "outputs": [
    {
     "name": "stdout",
     "output_type": "stream",
     "text": [
      "           netIncome            revenue\n",
      "0  12,583,000,000.00  81,462,000,000.00\n",
      "1   5,519,000,000.00  53,823,000,000.00\n",
      "2     690,000,000.00  31,536,000,000.00\n",
      "3    -775,000,000.00  24,578,000,000.00\n",
      "4    -976,091,000.00  21,461,268,000.00\n",
      "Net Profit Margin 0.15\n",
      "Current net profit margin indicates a healthy financial performance\n"
     ]
    }
   ],
   "source": [
    "#Net Profit Margin - This is the Ultimate analysis item -  can a business earn a profit when all deductions are considered\n",
    "def format_float(npm):\n",
    "    return f'{npm:,.2f}'\n",
    "npm = df_income_statement[['netIncome', 'revenue']].applymap(format_float)\n",
    "print(npm)\n",
    "net_profit_margin = df_income_statement['netIncome'][0] / df_income_statement['revenue'][0]\n",
    "\n",
    "print(f'Net Profit Margin {net_profit_margin:.2f}')\n",
    "if net_profit_margin > 0.10:\n",
    "    print('Current net profit margin indicates a healthy financial performance')\n",
    "elif net_profit_margin < 0.10:\n",
    "    print('raises concerns about profitability from your revenue streams')"
   ]
  },
  {
   "cell_type": "code",
   "execution_count": 10,
   "metadata": {},
   "outputs": [
    {
     "name": "stdout",
     "output_type": "stream",
     "text": [
      "     operatingIncome interestExpense\n",
      "0  13,656,000,000.00  191,000,000.00\n",
      "1   6,687,000,000.00  371,000,000.00\n",
      "2   1,994,000,000.00  748,000,000.00\n",
      "3     169,000,000.00  685,000,000.00\n",
      "4    -388,073,000.00  663,071,000.00\n",
      "71.50\n"
     ]
    }
   ],
   "source": [
    "#Interest Coverage Ratio\n",
    "def format_float(icr):\n",
    "    return f'{icr:,.2f}'\n",
    "icr = df_income_statement[['operatingIncome', 'interestExpense']].applymap(format_float)\n",
    "print(icr)\n",
    "\n",
    "int_coverage_ratio = df_income_statement['operatingIncome'][0] / df_income_statement['interestExpense'][0]\n",
    "print(f'{int_coverage_ratio:.2f}')"
   ]
  },
  {
   "cell_type": "markdown",
   "source": [
    "# Operating Margin\n",
    "It reveals the amount that a business has earned before financing other costs are considered."
   ],
   "metadata": {
    "collapsed": false
   }
  },
  {
   "cell_type": "code",
   "execution_count": 11,
   "metadata": {},
   "outputs": [
    {
     "name": "stdout",
     "output_type": "stream",
     "text": [
      "     operatingIncome            revenue\n",
      "0  13,656,000,000.00  81,462,000,000.00\n",
      "1   6,687,000,000.00  53,823,000,000.00\n",
      "2   1,994,000,000.00  31,536,000,000.00\n",
      "3     169,000,000.00  24,578,000,000.00\n",
      "4    -388,073,000.00  21,461,268,000.00\n",
      "Operating Margin: 0.17\n",
      "With an Operating Margin of 0.17, TSLA demonstrates efficient cost management in generating profits from operations.\n"
     ]
    }
   ],
   "source": [
    "def format_float(om):\n",
    "    return f'{om:,.2f}'\n",
    "om = df_income_statement[[\"operatingIncome\", 'revenue']].applymap(format_float)\n",
    "print(om)\n",
    "\n",
    "operating_margin = df_income_statement['operatingIncome'][0] / df_income_statement['revenue'][0]\n",
    "\n",
    "print(f'Operating Margin: {operating_margin:.2f}')\n",
    "if operating_margin > 0.10:\n",
    "    print(f'With an Operating Margin of {operating_margin:.2f}, {ticker} demonstrates efficient cost management in generating profits from operations.')\n",
    "else:\n",
    "    print('The Operating Margin is below 10%, indicating a challenging profitability situation at the operational level.')"
   ]
  },
  {
   "cell_type": "markdown",
   "metadata": {},
   "source": []
  },
  {
   "cell_type": "markdown",
   "metadata": {},
   "source": []
  }
 ],
 "metadata": {
  "kernelspec": {
   "display_name": "Python 3 (ipykernel)",
   "language": "python",
   "name": "python3"
  },
  "language_info": {
   "codemirror_mode": {
    "name": "ipython",
    "version": 3
   },
   "file_extension": ".py",
   "mimetype": "text/x-python",
   "name": "python",
   "nbconvert_exporter": "python",
   "pygments_lexer": "ipython3",
   "version": "3.9.7"
  }
 },
 "nbformat": 4,
 "nbformat_minor": 1
}

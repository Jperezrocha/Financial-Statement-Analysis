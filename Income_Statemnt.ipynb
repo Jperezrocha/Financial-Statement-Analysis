{
 "cells": [
  {
   "cell_type": "code",
   "execution_count": 1,
   "metadata": {},
   "outputs": [],
   "source": [
    "import matplotlib.pyplot as plt\n",
    "from matplotlib.pyplot import style\n",
    "import requests\n",
    "import pandas as pd"
   ]
  },
  {
   "cell_type": "code",
   "execution_count": 2,
   "metadata": {},
   "outputs": [],
   "source": [
    "ticker = \"RIVN\"\n",
    "api_key = \"ec2d6f3b0cc9395fbce02f1316669229\"\n",
    "years = 10"
   ]
  },
  {
   "cell_type": "code",
   "execution_count": 3,
   "metadata": {},
   "outputs": [
    {
     "name": "stdout",
     "output_type": "stream",
     "text": [
      "[{'date': '2022-12-31', 'symbol': 'RIVN', 'reportedCurrency': 'USD', 'cik': '0001874178', 'fillingDate': '2023-02-28', 'acceptedDate': '2023-02-28 17:15:26', 'calendarYear': '2022', 'period': 'FY', 'revenue': 1658000000, 'costOfRevenue': 4781000000, 'grossProfit': -3123000000, 'grossProfitRatio': -1.8835946924, 'researchAndDevelopmentExpenses': 1944000000, 'generalAndAdministrativeExpenses': 0, 'sellingAndMarketingExpenses': 0, 'sellingGeneralAndAdministrativeExpenses': 1789000000, 'otherExpenses': 18000000, 'operatingExpenses': 3733000000, 'costAndExpenses': 8514000000, 'interestIncome': 193000000, 'interestExpense': 103000000, 'depreciationAndAmortization': 863000000, 'ebitda': -5993000000, 'ebitdaratio': -3.6145958987, 'operatingIncome': -6856000000, 'operatingIncomeRatio': -4.1351025332, 'totalOtherIncomeExpensesNet': 108000000, 'incomeBeforeTax': -6748000000, 'incomeBeforeTaxRatio': -4.0699638118, 'incomeTaxExpense': 4000000, 'netIncome': -6752000000, 'netIncomeRatio': -4.0723763571, 'eps': -7.4, 'epsdiluted': -7.4, 'weightedAverageShsOut': 913000000, 'weightedAverageShsOutDil': 913000000, 'link': 'https://www.sec.gov/Archives/edgar/data/1874178/000187417823000009/0001874178-23-000009-index.htm', 'finalLink': 'https://www.sec.gov/Archives/edgar/data/1874178/000187417823000009/rivn-20221231.htm'}, {'date': '2021-12-31', 'symbol': 'RIVN', 'reportedCurrency': 'USD', 'cik': '0001874178', 'fillingDate': '2022-03-31', 'acceptedDate': '2022-03-31 08:22:02', 'calendarYear': '2021', 'period': 'FY', 'revenue': 55000000, 'costOfRevenue': 520000000, 'grossProfit': -465000000, 'grossProfitRatio': -8.4545454545, 'researchAndDevelopmentExpenses': 1850000000, 'generalAndAdministrativeExpenses': 0, 'sellingAndMarketingExpenses': 0, 'sellingGeneralAndAdministrativeExpenses': 1242000000, 'otherExpenses': 663000000, 'operatingExpenses': 3755000000, 'costAndExpenses': 4275000000, 'interestIncome': 3000000, 'interestExpense': 29000000, 'depreciationAndAmortization': 199000000, 'ebitda': -4021000000, 'ebitdaratio': -73.1090909091, 'operatingIncome': -4220000000, 'operatingIncomeRatio': -76.7272727273, 'totalOtherIncomeExpensesNet': -468000000, 'incomeBeforeTax': -4688000000, 'incomeBeforeTaxRatio': -85.2363636364, 'incomeTaxExpense': 28000000, 'netIncome': -4716000000, 'netIncomeRatio': -85.7454545455, 'eps': -5.24, 'epsdiluted': -5.24, 'weightedAverageShsOut': 900000000, 'weightedAverageShsOutDil': 900000000, 'link': 'https://www.sec.gov/Archives/edgar/data/1874178/000187417822000008/0001874178-22-000008-index.htm', 'finalLink': 'https://www.sec.gov/Archives/edgar/data/1874178/000187417822000008/rivn-20211231.htm'}, {'date': '2020-12-31', 'symbol': 'RIVN', 'reportedCurrency': 'USD', 'cik': '0001874178', 'fillingDate': '2020-12-31', 'acceptedDate': '2020-12-31 00:00:00', 'calendarYear': '2020', 'period': 'FY', 'revenue': 0, 'costOfRevenue': 0, 'grossProfit': 0, 'grossProfitRatio': 0, 'researchAndDevelopmentExpenses': 766000000, 'generalAndAdministrativeExpenses': 0, 'sellingAndMarketingExpenses': 0, 'sellingGeneralAndAdministrativeExpenses': 255000000, 'otherExpenses': 1000000, 'operatingExpenses': 1021000000, 'costAndExpenses': 1021000000, 'interestIncome': 10000000, 'interestExpense': 8000000, 'depreciationAndAmortization': 40000000, 'ebitda': -981000000, 'ebitdaratio': 0, 'operatingIncome': -1021000000, 'operatingIncomeRatio': 0, 'totalOtherIncomeExpensesNet': 3000000, 'incomeBeforeTax': -1018000000, 'incomeBeforeTaxRatio': 0, 'incomeTaxExpense': 9000000, 'netIncome': -1027000000, 'netIncomeRatio': 0, 'eps': -1.42, 'epsdiluted': -1.42, 'weightedAverageShsOut': 723000000, 'weightedAverageShsOutDil': 723000000, 'link': None, 'finalLink': None}, {'date': '2019-12-31', 'symbol': 'RIVN', 'reportedCurrency': 'USD', 'cik': '0001874178', 'fillingDate': '2019-12-31', 'acceptedDate': '2019-12-31 00:00:00', 'calendarYear': '2019', 'period': 'FY', 'revenue': 0, 'costOfRevenue': 0, 'grossProfit': 0, 'grossProfitRatio': 0, 'researchAndDevelopmentExpenses': 301000000, 'generalAndAdministrativeExpenses': 0, 'sellingAndMarketingExpenses': 0, 'sellingGeneralAndAdministrativeExpenses': 108000000, 'otherExpenses': -1000000, 'operatingExpenses': 409000000, 'costAndExpenses': 409000000, 'interestIncome': 18000000, 'interestExpense': 34000000, 'depreciationAndAmortization': 24000000, 'ebitda': -385000000, 'ebitdaratio': 0, 'operatingIncome': -409000000, 'operatingIncomeRatio': 0, 'totalOtherIncomeExpensesNet': -17000000, 'incomeBeforeTax': -426000000, 'incomeBeforeTaxRatio': 0, 'incomeTaxExpense': 33000000, 'netIncome': -459000000, 'netIncomeRatio': 0, 'eps': -0.63, 'epsdiluted': -0.63, 'weightedAverageShsOut': 723000000, 'weightedAverageShsOutDil': 723000000, 'link': None, 'finalLink': None}]\n"
     ]
    }
   ],
   "source": [
    "url = (f\"https://financialmodelingprep.com/api/v3/income-statement/{ticker}?limit={years}&apikey={api_key}\")\n",
    "r = requests.get(url)\n",
    "income_statement = r.json()\n",
    "\n",
    "print(income_statement)"
   ]
  },
  {
   "cell_type": "code",
   "execution_count": 4,
   "metadata": {},
   "outputs": [
    {
     "name": "stdout",
     "output_type": "stream",
     "text": [
      "         date symbol reportedCurrency         cik fillingDate  \\\n",
      "0  2022-12-31   RIVN              USD  0001874178  2023-02-28   \n",
      "1  2021-12-31   RIVN              USD  0001874178  2022-03-31   \n",
      "2  2020-12-31   RIVN              USD  0001874178  2020-12-31   \n",
      "3  2019-12-31   RIVN              USD  0001874178  2019-12-31   \n",
      "\n",
      "          acceptedDate calendarYear period     revenue  costOfRevenue  ...  \\\n",
      "0  2023-02-28 17:15:26         2022     FY  1658000000     4781000000  ...   \n",
      "1  2022-03-31 08:22:02         2021     FY    55000000      520000000  ...   \n",
      "2  2020-12-31 00:00:00         2020     FY           0              0  ...   \n",
      "3  2019-12-31 00:00:00         2019     FY           0              0  ...   \n",
      "\n",
      "   incomeBeforeTaxRatio  incomeTaxExpense   netIncome  netIncomeRatio   eps  \\\n",
      "0             -4.069964           4000000 -6752000000       -4.072376 -7.40   \n",
      "1            -85.236364          28000000 -4716000000      -85.745455 -5.24   \n",
      "2              0.000000           9000000 -1027000000        0.000000 -1.42   \n",
      "3              0.000000          33000000  -459000000        0.000000 -0.63   \n",
      "\n",
      "   epsdiluted  weightedAverageShsOut  weightedAverageShsOutDil  \\\n",
      "0       -7.40              913000000                 913000000   \n",
      "1       -5.24              900000000                 900000000   \n",
      "2       -1.42              723000000                 723000000   \n",
      "3       -0.63              723000000                 723000000   \n",
      "\n",
      "                                                link  \\\n",
      "0  https://www.sec.gov/Archives/edgar/data/187417...   \n",
      "1  https://www.sec.gov/Archives/edgar/data/187417...   \n",
      "2                                               None   \n",
      "3                                               None   \n",
      "\n",
      "                                           finalLink  \n",
      "0  https://www.sec.gov/Archives/edgar/data/187417...  \n",
      "1  https://www.sec.gov/Archives/edgar/data/187417...  \n",
      "2                                               None  \n",
      "3                                               None  \n",
      "\n",
      "[4 rows x 38 columns]\n"
     ]
    }
   ],
   "source": [
    "df_income_statement = pd.DataFrame(income_statement)\n",
    "print(df_income_statement)\n"
   ]
  },
  {
   "cell_type": "code",
   "execution_count": 5,
   "metadata": {},
   "outputs": [
    {
     "data": {
      "text/plain": "         date symbol reportedCurrency         cik fillingDate  \\\n0  2022-12-31   RIVN              USD  0001874178  2023-02-28   \n1  2021-12-31   RIVN              USD  0001874178  2022-03-31   \n2  2020-12-31   RIVN              USD  0001874178  2020-12-31   \n3  2019-12-31   RIVN              USD  0001874178  2019-12-31   \n\n          acceptedDate calendarYear period     revenue  costOfRevenue  ...  \\\n0  2023-02-28 17:15:26         2022     FY  1658000000     4781000000  ...   \n1  2022-03-31 08:22:02         2021     FY    55000000      520000000  ...   \n2  2020-12-31 00:00:00         2020     FY           0              0  ...   \n3  2019-12-31 00:00:00         2019     FY           0              0  ...   \n\n   incomeBeforeTaxRatio  incomeTaxExpense   netIncome  netIncomeRatio   eps  \\\n0             -4.069964           4000000 -6752000000       -4.072376 -7.40   \n1            -85.236364          28000000 -4716000000      -85.745455 -5.24   \n2              0.000000           9000000 -1027000000        0.000000 -1.42   \n3              0.000000          33000000  -459000000        0.000000 -0.63   \n\n   epsdiluted  weightedAverageShsOut  weightedAverageShsOutDil  \\\n0       -7.40              913000000                 913000000   \n1       -5.24              900000000                 900000000   \n2       -1.42              723000000                 723000000   \n3       -0.63              723000000                 723000000   \n\n                                                link  \\\n0  https://www.sec.gov/Archives/edgar/data/187417...   \n1  https://www.sec.gov/Archives/edgar/data/187417...   \n2                                               None   \n3                                               None   \n\n                                           finalLink  \n0  https://www.sec.gov/Archives/edgar/data/187417...  \n1  https://www.sec.gov/Archives/edgar/data/187417...  \n2                                               None  \n3                                               None  \n\n[4 rows x 38 columns]",
      "text/html": "<div>\n<style scoped>\n    .dataframe tbody tr th:only-of-type {\n        vertical-align: middle;\n    }\n\n    .dataframe tbody tr th {\n        vertical-align: top;\n    }\n\n    .dataframe thead th {\n        text-align: right;\n    }\n</style>\n<table border=\"1\" class=\"dataframe\">\n  <thead>\n    <tr style=\"text-align: right;\">\n      <th></th>\n      <th>date</th>\n      <th>symbol</th>\n      <th>reportedCurrency</th>\n      <th>cik</th>\n      <th>fillingDate</th>\n      <th>acceptedDate</th>\n      <th>calendarYear</th>\n      <th>period</th>\n      <th>revenue</th>\n      <th>costOfRevenue</th>\n      <th>...</th>\n      <th>incomeBeforeTaxRatio</th>\n      <th>incomeTaxExpense</th>\n      <th>netIncome</th>\n      <th>netIncomeRatio</th>\n      <th>eps</th>\n      <th>epsdiluted</th>\n      <th>weightedAverageShsOut</th>\n      <th>weightedAverageShsOutDil</th>\n      <th>link</th>\n      <th>finalLink</th>\n    </tr>\n  </thead>\n  <tbody>\n    <tr>\n      <th>0</th>\n      <td>2022-12-31</td>\n      <td>RIVN</td>\n      <td>USD</td>\n      <td>0001874178</td>\n      <td>2023-02-28</td>\n      <td>2023-02-28 17:15:26</td>\n      <td>2022</td>\n      <td>FY</td>\n      <td>1658000000</td>\n      <td>4781000000</td>\n      <td>...</td>\n      <td>-4.069964</td>\n      <td>4000000</td>\n      <td>-6752000000</td>\n      <td>-4.072376</td>\n      <td>-7.40</td>\n      <td>-7.40</td>\n      <td>913000000</td>\n      <td>913000000</td>\n      <td>https://www.sec.gov/Archives/edgar/data/187417...</td>\n      <td>https://www.sec.gov/Archives/edgar/data/187417...</td>\n    </tr>\n    <tr>\n      <th>1</th>\n      <td>2021-12-31</td>\n      <td>RIVN</td>\n      <td>USD</td>\n      <td>0001874178</td>\n      <td>2022-03-31</td>\n      <td>2022-03-31 08:22:02</td>\n      <td>2021</td>\n      <td>FY</td>\n      <td>55000000</td>\n      <td>520000000</td>\n      <td>...</td>\n      <td>-85.236364</td>\n      <td>28000000</td>\n      <td>-4716000000</td>\n      <td>-85.745455</td>\n      <td>-5.24</td>\n      <td>-5.24</td>\n      <td>900000000</td>\n      <td>900000000</td>\n      <td>https://www.sec.gov/Archives/edgar/data/187417...</td>\n      <td>https://www.sec.gov/Archives/edgar/data/187417...</td>\n    </tr>\n    <tr>\n      <th>2</th>\n      <td>2020-12-31</td>\n      <td>RIVN</td>\n      <td>USD</td>\n      <td>0001874178</td>\n      <td>2020-12-31</td>\n      <td>2020-12-31 00:00:00</td>\n      <td>2020</td>\n      <td>FY</td>\n      <td>0</td>\n      <td>0</td>\n      <td>...</td>\n      <td>0.000000</td>\n      <td>9000000</td>\n      <td>-1027000000</td>\n      <td>0.000000</td>\n      <td>-1.42</td>\n      <td>-1.42</td>\n      <td>723000000</td>\n      <td>723000000</td>\n      <td>None</td>\n      <td>None</td>\n    </tr>\n    <tr>\n      <th>3</th>\n      <td>2019-12-31</td>\n      <td>RIVN</td>\n      <td>USD</td>\n      <td>0001874178</td>\n      <td>2019-12-31</td>\n      <td>2019-12-31 00:00:00</td>\n      <td>2019</td>\n      <td>FY</td>\n      <td>0</td>\n      <td>0</td>\n      <td>...</td>\n      <td>0.000000</td>\n      <td>33000000</td>\n      <td>-459000000</td>\n      <td>0.000000</td>\n      <td>-0.63</td>\n      <td>-0.63</td>\n      <td>723000000</td>\n      <td>723000000</td>\n      <td>None</td>\n      <td>None</td>\n    </tr>\n  </tbody>\n</table>\n<p>4 rows × 38 columns</p>\n</div>"
     },
     "execution_count": 5,
     "metadata": {},
     "output_type": "execute_result"
    }
   ],
   "source": [
    "df_income_statement.head()"
   ]
  },
  {
   "cell_type": "code",
   "execution_count": 6,
   "metadata": {},
   "outputs": [
    {
     "name": "stdout",
     "output_type": "stream",
     "text": [
      "<class 'pandas.core.frame.DataFrame'>\n",
      "RangeIndex: 4 entries, 0 to 3\n",
      "Data columns (total 38 columns):\n",
      " #   Column                                   Non-Null Count  Dtype  \n",
      "---  ------                                   --------------  -----  \n",
      " 0   date                                     4 non-null      object \n",
      " 1   symbol                                   4 non-null      object \n",
      " 2   reportedCurrency                         4 non-null      object \n",
      " 3   cik                                      4 non-null      object \n",
      " 4   fillingDate                              4 non-null      object \n",
      " 5   acceptedDate                             4 non-null      object \n",
      " 6   calendarYear                             4 non-null      object \n",
      " 7   period                                   4 non-null      object \n",
      " 8   revenue                                  4 non-null      int64  \n",
      " 9   costOfRevenue                            4 non-null      int64  \n",
      " 10  grossProfit                              4 non-null      int64  \n",
      " 11  grossProfitRatio                         4 non-null      float64\n",
      " 12  researchAndDevelopmentExpenses           4 non-null      int64  \n",
      " 13  generalAndAdministrativeExpenses         4 non-null      int64  \n",
      " 14  sellingAndMarketingExpenses              4 non-null      int64  \n",
      " 15  sellingGeneralAndAdministrativeExpenses  4 non-null      int64  \n",
      " 16  otherExpenses                            4 non-null      int64  \n",
      " 17  operatingExpenses                        4 non-null      int64  \n",
      " 18  costAndExpenses                          4 non-null      int64  \n",
      " 19  interestIncome                           4 non-null      int64  \n",
      " 20  interestExpense                          4 non-null      int64  \n",
      " 21  depreciationAndAmortization              4 non-null      int64  \n",
      " 22  ebitda                                   4 non-null      int64  \n",
      " 23  ebitdaratio                              4 non-null      float64\n",
      " 24  operatingIncome                          4 non-null      int64  \n",
      " 25  operatingIncomeRatio                     4 non-null      float64\n",
      " 26  totalOtherIncomeExpensesNet              4 non-null      int64  \n",
      " 27  incomeBeforeTax                          4 non-null      int64  \n",
      " 28  incomeBeforeTaxRatio                     4 non-null      float64\n",
      " 29  incomeTaxExpense                         4 non-null      int64  \n",
      " 30  netIncome                                4 non-null      int64  \n",
      " 31  netIncomeRatio                           4 non-null      float64\n",
      " 32  eps                                      4 non-null      float64\n",
      " 33  epsdiluted                               4 non-null      float64\n",
      " 34  weightedAverageShsOut                    4 non-null      int64  \n",
      " 35  weightedAverageShsOutDil                 4 non-null      int64  \n",
      " 36  link                                     2 non-null      object \n",
      " 37  finalLink                                2 non-null      object \n",
      "dtypes: float64(7), int64(21), object(10)\n",
      "memory usage: 1.3+ KB\n"
     ]
    }
   ],
   "source": [
    "df_income_statement.info()"
   ]
  },
  {
   "cell_type": "code",
   "execution_count": 7,
   "metadata": {},
   "outputs": [
    {
     "name": "stdout",
     "output_type": "stream",
     "text": [
      "         grossProfit           revenue\n",
      "0  -3,123,000,000.00  1,658,000,000.00\n",
      "1    -465,000,000.00     55,000,000.00\n",
      "2               0.00              0.00\n",
      "3               0.00              0.00\n",
      "-188.36\n"
     ]
    }
   ],
   "source": [
    "#Gross Profit Margin - it reveals the ability of an organization to earn a reasonable return on its offerings\n",
    "def format_float(gpm):\n",
    "    return f'{gpm:,.2f}'\n",
    "gpm = df_income_statement[['grossProfit', 'revenue']].applymap(format_float)\n",
    "print(gpm)\n",
    "\n",
    "gross_profit_margin = df_income_statement['grossProfit'][0] / df_income_statement['revenue'][0] * 100\n",
    "print(f'{gross_profit_margin:.2f}')"
   ]
  },
  {
   "cell_type": "code",
   "execution_count": 8,
   "metadata": {
    "scrolled": false
   },
   "outputs": [
    {
     "name": "stderr",
     "output_type": "stream",
     "text": [
      "/var/folders/07/hp5ltwgs395flys9xp50kcqh0000gn/T/ipykernel_30200/2583458648.py:7: MatplotlibDeprecationWarning: The seaborn styles shipped by Matplotlib are deprecated since 3.6, as they no longer correspond to the styles shipped by seaborn. However, they will remain available as 'seaborn-v0_8-<style>'. Alternatively, directly use the seaborn API instead.\n",
      "  plt.style.use('seaborn')\n"
     ]
    },
    {
     "data": {
      "text/plain": "<Figure size 640x480 with 2 Axes>",
      "image/png": "[encoded data removed]"
     },
     "metadata": {},
     "output_type": "display_data"
    }
   ],
   "source": [
    "df = df_income_statement.sort_index(ascending = False)\n",
    "df[['date', 'grossProfit', 'revenue']].head()\n",
    "\n",
    "fig, ax = plt.subplots()\n",
    "ax2 = ax.twinx()\n",
    "\n",
    "plt.style.use('seaborn')\n",
    "plt.xlabel('Gross Profit and Revenue')\n",
    "plt.ylabel('Date')\n",
    "ax.plot(df['grossProfit'], df['date'], color = \"royalblue\")\n",
    "ax2.plot(df['revenue'], df['date'], color = 'g')\n",
    "\n",
    "\n",
    "plt.show()\n"
   ]
  },
  {
   "cell_type": "code",
   "execution_count": 9,
   "metadata": {},
   "outputs": [
    {
     "name": "stdout",
     "output_type": "stream",
     "text": [
      "           netIncome           revenue\n",
      "0  -6,752,000,000.00  1,658,000,000.00\n",
      "1  -4,716,000,000.00     55,000,000.00\n",
      "2  -1,027,000,000.00              0.00\n",
      "3    -459,000,000.00              0.00\n",
      "-407.24\n"
     ]
    }
   ],
   "source": [
    "#Net Profit Margin - This is the Ultimate analysis item -  can a business earn a profit when all deductions are considered\n",
    "def format_float(npm):\n",
    "    return f'{npm:,.2f}'\n",
    "npm = df_income_statement[['netIncome', 'revenue']].applymap(format_float)\n",
    "print(npm)\n",
    "\n",
    "net_profit_margin = df_income_statement['netIncome'][0] / df_income_statement['revenue'][0] * 100\n",
    "print(f'{net_profit_margin:.2f}')"
   ]
  },
  {
   "cell_type": "code",
   "execution_count": 10,
   "metadata": {},
   "outputs": [
    {
     "name": "stdout",
     "output_type": "stream",
     "text": [
      "              ebitda interestExpense\n",
      "0  -5,993,000,000.00  103,000,000.00\n",
      "1  -4,021,000,000.00   29,000,000.00\n",
      "2    -981,000,000.00    8,000,000.00\n",
      "3    -385,000,000.00   34,000,000.00\n",
      "-58.18\n"
     ]
    }
   ],
   "source": [
    "#Interest Coverage Ratio\n",
    "def format_float(icr):\n",
    "    return f'{icr:,.2f}'\n",
    "icr = df_income_statement[['ebitda', 'interestExpense']].applymap(format_float)\n",
    "print(icr)\n",
    "\n",
    "int_coverage_ratio = df_income_statement['ebitda'][0] / df_income_statement['interestExpense'][0]\n",
    "print(f'{int_coverage_ratio:.2f}')"
   ]
  },
  {
   "cell_type": "code",
   "execution_count": 11,
   "metadata": {},
   "outputs": [
    {
     "name": "stdout",
     "output_type": "stream",
     "text": [
      "-3.61\n"
     ]
    }
   ],
   "source": [
    "#Operating Margin - It reveals the amount that a business has earned before financing other costs are considered\n",
    "def format_float(om):\n",
    "    return f'{om:,.2f}'\n",
    "om = df_income_statement[[\"ebitda\", 'revenue']].applymap(format_float)\n",
    "\n",
    "operating_margin = df_income_statement['ebitda'][0] / df_income_statement['revenue'][0]\n",
    "print(f'{operating_margin:.2f}')"
   ]
  },
  {
   "cell_type": "markdown",
   "metadata": {},
   "source": []
  },
  {
   "cell_type": "markdown",
   "metadata": {},
   "source": []
  }
 ],
 "metadata": {
  "kernelspec": {
   "display_name": "Python 3 (ipykernel)",
   "language": "python",
   "name": "python3"
  },
  "language_info": {
   "codemirror_mode": {
    "name": "ipython",
    "version": 3
   },
   "file_extension": ".py",
   "mimetype": "text/x-python",
   "name": "python",
   "nbconvert_exporter": "python",
   "pygments_lexer": "ipython3",
   "version": "3.9.7"
  }
 },
 "nbformat": 4,
 "nbformat_minor": 1
}

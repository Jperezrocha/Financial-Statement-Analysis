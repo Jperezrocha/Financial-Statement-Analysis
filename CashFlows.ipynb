{
 "cells": [
  {
   "cell_type": "code",
<<<<<<<<< Temporary merge branch 1
   "execution_count": 23,
=========
   "execution_count": 24,
>>>>>>>>> Temporary merge branch 2
   "metadata": {
    "collapsed": true
   },
   "outputs": [],
   "source": [
    "import matplotlib.pyplot as plt\n",
    "from matplotlib import style\n",
    "import pandas as pd\n",
    "import requests\n",
    "import datetime as dt\n",
    "#import yfinance as yf"
   ]
  },
  {
   "cell_type": "code",
<<<<<<<<< Temporary merge branch 1
   "execution_count": 24,
=========
   "execution_count": 25,
>>>>>>>>> Temporary merge branch 2
   "outputs": [
    {
     "name": "stdout",
     "output_type": "stream",
     "text": [
      "[{'date': '2022-12-31', 'symbol': 'RIVN', 'reportedCurrency': 'USD', 'cik': '0001874178', 'fillingDate': '2023-02-28', 'acceptedDate': '2023-02-28 17:15:26', 'calendarYear': '2022', 'period': 'FY', 'netIncome': -6752000000, 'depreciationAndAmortization': 652000000, 'deferredIncomeTax': 0, 'stockBasedCompensation': 987000000, 'changeInWorkingCapital': -941000000, 'accountsReceivables': -76000000, 'inventory': -1657000000, 'accountsPayables': 461000000, 'otherWorkingCapital': 331000000, 'otherNonCashItems': 1002000000, 'netCashProvidedByOperatingActivities': -5052000000, 'investmentsInPropertyPlantAndEquipment': -1369000000, 'acquisitionsNet': 0, 'purchasesOfInvestments': 0, 'salesMaturitiesOfInvestments': 0, 'otherInvestingActivites': 0, 'netCashUsedForInvestingActivites': -1369000000, 'debtRepayment': 0, 'commonStockIssued': 102000000, 'commonStockRepurchased': 0, 'dividendsPaid': 0, 'otherFinancingActivites': -3000000, 'netCashUsedProvidedByFinancingActivities': 99000000, 'effectOfForexChangesOnCash': -2000000, 'netChangeInCash': -6324000000, 'cashAtEndOfPeriod': 12099000000, 'cashAtBeginningOfPeriod': 18423000000, 'operatingCashFlow': -5052000000, 'capitalExpenditure': -1369000000, 'freeCashFlow': -6421000000, 'link': 'https://www.sec.gov/Archives/edgar/data/1874178/000187417823000009/0001874178-23-000009-index.htm', 'finalLink': 'https://www.sec.gov/Archives/edgar/data/1874178/000187417823000009/rivn-20221231.htm'}, {'date': '2021-12-31', 'symbol': 'RIVN', 'reportedCurrency': 'USD', 'cik': '0001874178', 'fillingDate': '2022-03-31', 'acceptedDate': '2022-03-31 08:22:02', 'calendarYear': '2021', 'period': 'FY', 'netIncome': -4688000000, 'depreciationAndAmortization': 197000000, 'deferredIncomeTax': 95000000, 'stockBasedCompensation': 570000000, 'changeInWorkingCapital': 84000000, 'accountsReceivables': -20000000, 'inventory': -369000000, 'accountsPayables': 427000000, 'otherWorkingCapital': 46000000, 'otherNonCashItems': 1120000000, 'netCashProvidedByOperatingActivities': -2622000000, 'investmentsInPropertyPlantAndEquipment': -1794000000, 'acquisitionsNet': 0, 'purchasesOfInvestments': 0, 'salesMaturitiesOfInvestments': 0, 'otherInvestingActivites': 0, 'netCashUsedForInvestingActivites': -1794000000, 'debtRepayment': -86000000, 'commonStockIssued': 16188000000, 'commonStockRepurchased': 0, 'dividendsPaid': 0, 'otherFinancingActivites': 3726000000, 'netCashUsedProvidedByFinancingActivities': 19828000000, 'effectOfForexChangesOnCash': 0, 'netChangeInCash': 15412000000, 'cashAtEndOfPeriod': 18423000000, 'cashAtBeginningOfPeriod': 3011000000, 'operatingCashFlow': -2622000000, 'capitalExpenditure': -1794000000, 'freeCashFlow': -4416000000, 'link': 'https://www.sec.gov/Archives/edgar/data/1874178/000187417822000008/0001874178-22-000008-index.htm', 'finalLink': 'https://www.sec.gov/Archives/edgar/data/1874178/000187417822000008/rivn-20211231.htm'}, {'date': '2020-12-31', 'symbol': 'RIVN', 'reportedCurrency': 'USD', 'cik': '0001874178', 'fillingDate': '2020-12-31', 'acceptedDate': '2020-12-31 00:00:00', 'calendarYear': '2020', 'period': 'FY', 'netIncome': -1018000000, 'depreciationAndAmortization': 29000000, 'deferredIncomeTax': 0, 'stockBasedCompensation': 0, 'changeInWorkingCapital': 100000000, 'accountsReceivables': 0, 'inventory': 0, 'accountsPayables': 0, 'otherWorkingCapital': 100000000, 'otherNonCashItems': 41000000, 'netCashProvidedByOperatingActivities': -848000000, 'investmentsInPropertyPlantAndEquipment': -914000000, 'acquisitionsNet': 0, 'purchasesOfInvestments': 0, 'salesMaturitiesOfInvestments': 0, 'otherInvestingActivites': 0, 'netCashUsedForInvestingActivites': -914000000, 'debtRepayment': 0, 'commonStockIssued': 2506000000, 'commonStockRepurchased': -6000000, 'dividendsPaid': 0, 'otherFinancingActivites': 0, 'netCashUsedProvidedByFinancingActivities': 2500000000, 'effectOfForexChangesOnCash': 0, 'netChangeInCash': 738000000, 'cashAtEndOfPeriod': 3011000000, 'cashAtBeginningOfPeriod': 2273000000, 'operatingCashFlow': -848000000, 'capitalExpenditure': -914000000, 'freeCashFlow': -1762000000, 'link': None, 'finalLink': None}, {'date': '2019-12-31', 'symbol': 'RIVN', 'reportedCurrency': 'USD', 'cik': '0001874178', 'fillingDate': '2019-12-31', 'acceptedDate': '2019-12-31 00:00:00', 'calendarYear': '2019', 'period': 'FY', 'netIncome': -426000000, 'depreciationAndAmortization': 7000000, 'deferredIncomeTax': 0, 'stockBasedCompensation': 0, 'changeInWorkingCapital': 29000000, 'accountsReceivables': -16000000, 'inventory': 0, 'accountsPayables': 0, 'otherWorkingCapital': 45000000, 'otherNonCashItems': 37000000, 'netCashProvidedByOperatingActivities': -353000000, 'investmentsInPropertyPlantAndEquipment': -199000000, 'acquisitionsNet': 0, 'purchasesOfInvestments': 0, 'salesMaturitiesOfInvestments': 0, 'otherInvestingActivites': 0, 'netCashUsedForInvestingActivites': -199000000, 'debtRepayment': 0, 'commonStockIssued': 2750000000, 'commonStockRepurchased': 0, 'dividendsPaid': 0, 'otherFinancingActivites': 61000000, 'netCashUsedProvidedByFinancingActivities': 2811000000, 'effectOfForexChangesOnCash': 0, 'netChangeInCash': 2259000000, 'cashAtEndOfPeriod': 2273000000, 'cashAtBeginningOfPeriod': 14000000, 'operatingCashFlow': -353000000, 'capitalExpenditure': -199000000, 'freeCashFlow': -552000000, 'link': None, 'finalLink': None}]\n"
     ]
    }
   ],
   "source": [
<<<<<<<<< Temporary merge branch 1
    "ticker = 'AMZN'\n",
=========
    "ticker = 'AAPL'\n",
>>>>>>>>> Temporary merge branch 2
    "API = 'ec2d6f3b0cc9395fbce02f1316669229'\n",
    "url = (f\"https://financialmodelingprep.com/api/v3/cash-flow-statement/{ticker}?apikey={API}\")\n",
    "\n",
    "r = requests.get(url)\n",
    "cash_flow_statement = r.json()\n",
    "\n",
    "print(cash_flow_statement)\n"
   ],
   "metadata": {
    "collapsed": false
   }
  },
  {
   "cell_type": "code",
<<<<<<<<< Temporary merge branch 1
   "execution_count": 25,
=========
   "execution_count": 26,
>>>>>>>>> Temporary merge branch 2
   "outputs": [
    {
     "name": "stdout",
     "output_type": "stream",
     "text": [
      "         date symbol reportedCurrency         cik fillingDate  \\\n",
      "0  2022-12-31   RIVN              USD  0001874178  2023-02-28   \n",
      "1  2021-12-31   RIVN              USD  0001874178  2022-03-31   \n",
      "2  2020-12-31   RIVN              USD  0001874178  2020-12-31   \n",
      "3  2019-12-31   RIVN              USD  0001874178  2019-12-31   \n",
      "\n",
      "          acceptedDate calendarYear period   netIncome  \\\n",
      "0  2023-02-28 17:15:26         2022     FY -6752000000   \n",
      "1  2022-03-31 08:22:02         2021     FY -4688000000   \n",
      "2  2020-12-31 00:00:00         2020     FY -1018000000   \n",
      "3  2019-12-31 00:00:00         2019     FY  -426000000   \n",
      "\n",
      "   depreciationAndAmortization  ...  netCashUsedProvidedByFinancingActivities  \\\n",
      "0                    652000000  ...                                  99000000   \n",
      "1                    197000000  ...                               19828000000   \n",
      "2                     29000000  ...                                2500000000   \n",
      "3                      7000000  ...                                2811000000   \n",
      "\n",
      "   effectOfForexChangesOnCash  netChangeInCash  cashAtEndOfPeriod  \\\n",
      "0                    -2000000      -6324000000        12099000000   \n",
      "1                           0      15412000000        18423000000   \n",
      "2                           0        738000000         3011000000   \n",
      "3                           0       2259000000         2273000000   \n",
      "\n",
      "   cashAtBeginningOfPeriod  operatingCashFlow  capitalExpenditure  \\\n",
      "0              18423000000        -5052000000         -1369000000   \n",
      "1               3011000000        -2622000000         -1794000000   \n",
      "2               2273000000         -848000000          -914000000   \n",
      "3                 14000000         -353000000          -199000000   \n",
      "\n",
      "   freeCashFlow                                               link  \\\n",
      "0   -6421000000  https://www.sec.gov/Archives/edgar/data/187417...   \n",
      "1   -4416000000  https://www.sec.gov/Archives/edgar/data/187417...   \n",
      "2   -1762000000                                               None   \n",
      "3    -552000000                                               None   \n",
      "\n",
      "                                           finalLink  \n",
      "0  https://www.sec.gov/Archives/edgar/data/187417...  \n",
      "1  https://www.sec.gov/Archives/edgar/data/187417...  \n",
      "2                                               None  \n",
      "3                                               None  \n",
      "\n",
      "[4 rows x 40 columns]\n"
     ]
    }
   ],
   "source": [
    "df_cash_flow = pd.DataFrame(cash_flow_statement)\n",
    "print(df_cash_flow)"
   ],
   "metadata": {
    "collapsed": false
   }
  },
  {
   "cell_type": "code",
<<<<<<<<< Temporary merge branch 1
   "execution_count": 26,
=========
   "execution_count": 27,
>>>>>>>>> Temporary merge branch 2
   "outputs": [
    {
     "data": {
      "text/plain": "         date symbol reportedCurrency         cik fillingDate  \\\n0  2022-12-31   RIVN              USD  0001874178  2023-02-28   \n1  2021-12-31   RIVN              USD  0001874178  2022-03-31   \n2  2020-12-31   RIVN              USD  0001874178  2020-12-31   \n3  2019-12-31   RIVN              USD  0001874178  2019-12-31   \n\n          acceptedDate calendarYear period   netIncome  \\\n0  2023-02-28 17:15:26         2022     FY -6752000000   \n1  2022-03-31 08:22:02         2021     FY -4688000000   \n2  2020-12-31 00:00:00         2020     FY -1018000000   \n3  2019-12-31 00:00:00         2019     FY  -426000000   \n\n   depreciationAndAmortization  ...  netCashUsedProvidedByFinancingActivities  \\\n0                    652000000  ...                                  99000000   \n1                    197000000  ...                               19828000000   \n2                     29000000  ...                                2500000000   \n3                      7000000  ...                                2811000000   \n\n   effectOfForexChangesOnCash  netChangeInCash  cashAtEndOfPeriod  \\\n0                    -2000000      -6324000000        12099000000   \n1                           0      15412000000        18423000000   \n2                           0        738000000         3011000000   \n3                           0       2259000000         2273000000   \n\n   cashAtBeginningOfPeriod  operatingCashFlow  capitalExpenditure  \\\n0              18423000000        -5052000000         -1369000000   \n1               3011000000        -2622000000         -1794000000   \n2               2273000000         -848000000          -914000000   \n3                 14000000         -353000000          -199000000   \n\n   freeCashFlow                                               link  \\\n0   -6421000000  https://www.sec.gov/Archives/edgar/data/187417...   \n1   -4416000000  https://www.sec.gov/Archives/edgar/data/187417...   \n2   -1762000000                                               None   \n3    -552000000                                               None   \n\n                                           finalLink  \n0  https://www.sec.gov/Archives/edgar/data/187417...  \n1  https://www.sec.gov/Archives/edgar/data/187417...  \n2                                               None  \n3                                               None  \n\n[4 rows x 40 columns]",
      "text/html": "<div>\n<style scoped>\n    .dataframe tbody tr th:only-of-type {\n        vertical-align: middle;\n    }\n\n    .dataframe tbody tr th {\n        vertical-align: top;\n    }\n\n    .dataframe thead th {\n        text-align: right;\n    }\n</style>\n<table border=\"1\" class=\"dataframe\">\n  <thead>\n    <tr style=\"text-align: right;\">\n      <th></th>\n      <th>date</th>\n      <th>symbol</th>\n      <th>reportedCurrency</th>\n      <th>cik</th>\n      <th>fillingDate</th>\n      <th>acceptedDate</th>\n      <th>calendarYear</th>\n      <th>period</th>\n      <th>netIncome</th>\n      <th>depreciationAndAmortization</th>\n      <th>...</th>\n      <th>netCashUsedProvidedByFinancingActivities</th>\n      <th>effectOfForexChangesOnCash</th>\n      <th>netChangeInCash</th>\n      <th>cashAtEndOfPeriod</th>\n      <th>cashAtBeginningOfPeriod</th>\n      <th>operatingCashFlow</th>\n      <th>capitalExpenditure</th>\n      <th>freeCashFlow</th>\n      <th>link</th>\n      <th>finalLink</th>\n    </tr>\n  </thead>\n  <tbody>\n    <tr>\n      <th>0</th>\n      <td>2022-12-31</td>\n      <td>RIVN</td>\n      <td>USD</td>\n      <td>0001874178</td>\n      <td>2023-02-28</td>\n      <td>2023-02-28 17:15:26</td>\n      <td>2022</td>\n      <td>FY</td>\n      <td>-6752000000</td>\n      <td>652000000</td>\n      <td>...</td>\n      <td>99000000</td>\n      <td>-2000000</td>\n      <td>-6324000000</td>\n      <td>12099000000</td>\n      <td>18423000000</td>\n      <td>-5052000000</td>\n      <td>-1369000000</td>\n      <td>-6421000000</td>\n      <td>https://www.sec.gov/Archives/edgar/data/187417...</td>\n      <td>https://www.sec.gov/Archives/edgar/data/187417...</td>\n    </tr>\n    <tr>\n      <th>1</th>\n      <td>2021-12-31</td>\n      <td>RIVN</td>\n      <td>USD</td>\n      <td>0001874178</td>\n      <td>2022-03-31</td>\n      <td>2022-03-31 08:22:02</td>\n      <td>2021</td>\n      <td>FY</td>\n      <td>-4688000000</td>\n      <td>197000000</td>\n      <td>...</td>\n      <td>19828000000</td>\n      <td>0</td>\n      <td>15412000000</td>\n      <td>18423000000</td>\n      <td>3011000000</td>\n      <td>-2622000000</td>\n      <td>-1794000000</td>\n      <td>-4416000000</td>\n      <td>https://www.sec.gov/Archives/edgar/data/187417...</td>\n      <td>https://www.sec.gov/Archives/edgar/data/187417...</td>\n    </tr>\n    <tr>\n      <th>2</th>\n      <td>2020-12-31</td>\n      <td>RIVN</td>\n      <td>USD</td>\n      <td>0001874178</td>\n      <td>2020-12-31</td>\n      <td>2020-12-31 00:00:00</td>\n      <td>2020</td>\n      <td>FY</td>\n      <td>-1018000000</td>\n      <td>29000000</td>\n      <td>...</td>\n      <td>2500000000</td>\n      <td>0</td>\n      <td>738000000</td>\n      <td>3011000000</td>\n      <td>2273000000</td>\n      <td>-848000000</td>\n      <td>-914000000</td>\n      <td>-1762000000</td>\n      <td>None</td>\n      <td>None</td>\n    </tr>\n    <tr>\n      <th>3</th>\n      <td>2019-12-31</td>\n      <td>RIVN</td>\n      <td>USD</td>\n      <td>0001874178</td>\n      <td>2019-12-31</td>\n      <td>2019-12-31 00:00:00</td>\n      <td>2019</td>\n      <td>FY</td>\n      <td>-426000000</td>\n      <td>7000000</td>\n      <td>...</td>\n      <td>2811000000</td>\n      <td>0</td>\n      <td>2259000000</td>\n      <td>2273000000</td>\n      <td>14000000</td>\n      <td>-353000000</td>\n      <td>-199000000</td>\n      <td>-552000000</td>\n      <td>None</td>\n      <td>None</td>\n    </tr>\n  </tbody>\n</table>\n<p>4 rows × 40 columns</p>\n</div>"
     },
<<<<<<<<< Temporary merge branch 1
     "execution_count": 26,
=========
     "execution_count": 27,
>>>>>>>>> Temporary merge branch 2
     "metadata": {},
     "output_type": "execute_result"
    }
   ],
   "source": [
    "df_cash_flow.head()"
   ],
   "metadata": {
    "collapsed": false
   }
  },
  {
<<<<<<<<< Temporary merge branch 1
   "cell_type": "markdown",
   "source": [
    "## Operating Cash Flows"
   ],
   "metadata": {
    "collapsed": false
   }
  },
  {
   "cell_type": "code",
   "execution_count": 27,
=========
   "cell_type": "code",
   "execution_count": 28,
>>>>>>>>> Temporary merge branch 2
   "outputs": [
    {
     "name": "stdout",
     "output_type": "stream",
     "text": [
<<<<<<<<< Temporary merge branch 1
      "-6752000000\n",
      "-4688000000\n",
      "-1018000000\n",
      "-426000000\n"
=========
      "<class 'pandas.core.frame.DataFrame'>\n",
      "RangeIndex: 5 entries, 0 to 4\n",
      "Data columns (total 40 columns):\n",
      " #   Column                                    Non-Null Count  Dtype \n",
      "---  ------                                    --------------  ----- \n",
      " 0   date                                      5 non-null      object\n",
      " 1   symbol                                    5 non-null      object\n",
      " 2   reportedCurrency                          5 non-null      object\n",
      " 3   cik                                       5 non-null      object\n",
      " 4   fillingDate                               5 non-null      object\n",
      " 5   acceptedDate                              5 non-null      object\n",
      " 6   calendarYear                              5 non-null      object\n",
      " 7   period                                    5 non-null      object\n",
      " 8   netIncome                                 5 non-null      int64 \n",
      " 9   depreciationAndAmortization               5 non-null      int64 \n",
      " 10  deferredIncomeTax                         5 non-null      int64 \n",
      " 11  stockBasedCompensation                    5 non-null      int64 \n",
      " 12  changeInWorkingCapital                    5 non-null      int64 \n",
      " 13  accountsReceivables                       5 non-null      int64 \n",
      " 14  inventory                                 5 non-null      int64 \n",
      " 15  accountsPayables                          5 non-null      int64 \n",
      " 16  otherWorkingCapital                       5 non-null      int64 \n",
      " 17  otherNonCashItems                         5 non-null      int64 \n",
      " 18  netCashProvidedByOperatingActivities      5 non-null      int64 \n",
      " 19  investmentsInPropertyPlantAndEquipment    5 non-null      int64 \n",
      " 20  acquisitionsNet                           5 non-null      int64 \n",
      " 21  purchasesOfInvestments                    5 non-null      int64 \n",
      " 22  salesMaturitiesOfInvestments              5 non-null      int64 \n",
      " 23  otherInvestingActivites                   5 non-null      int64 \n",
      " 24  netCashUsedForInvestingActivites          5 non-null      int64 \n",
      " 25  debtRepayment                             5 non-null      int64 \n",
      " 26  commonStockIssued                         5 non-null      int64 \n",
      " 27  commonStockRepurchased                    5 non-null      int64 \n",
      " 28  dividendsPaid                             5 non-null      int64 \n",
      " 29  otherFinancingActivites                   5 non-null      int64 \n",
      " 30  netCashUsedProvidedByFinancingActivities  5 non-null      int64 \n",
      " 31  effectOfForexChangesOnCash                5 non-null      int64 \n",
      " 32  netChangeInCash                           5 non-null      int64 \n",
      " 33  cashAtEndOfPeriod                         5 non-null      int64 \n",
      " 34  cashAtBeginningOfPeriod                   5 non-null      int64 \n",
      " 35  operatingCashFlow                         5 non-null      int64 \n",
      " 36  capitalExpenditure                        5 non-null      int64 \n",
      " 37  freeCashFlow                              5 non-null      int64 \n",
      " 38  link                                      5 non-null      object\n",
      " 39  finalLink                                 5 non-null      object\n",
      "dtypes: int64(30), object(10)\n",
      "memory usage: 1.7+ KB\n"
>>>>>>>>> Temporary merge branch 2
     ]
    }
   ],
   "source": [
<<<<<<<<< Temporary merge branch 1
    "for net_income in df_cash_flow['netIncome']:\n",
    "    print(net_income)"
=========
    "df_cash_flow.info()"
   ],
   "metadata": {
    "collapsed": false
   }
  },
  {
   "cell_type": "markdown",
   "source": [
    "## Operating Cash Flows"
>>>>>>>>> Temporary merge branch 2
   ],
   "metadata": {
    "collapsed": false
   }
  },
  {
   "cell_type": "code",
<<<<<<<<< Temporary merge branch 1
   "execution_count": 28,
=========
   "execution_count": 29,
>>>>>>>>> Temporary merge branch 2
   "outputs": [
    {
     "name": "stdout",
     "output_type": "stream",
     "text": [
<<<<<<<<< Temporary merge branch 1
      "461000000\n",
      "427000000\n",
      "0\n",
      "0\n"
=========
      "122151000000\n",
      "104038000000\n",
      "80674000000\n",
      "69391000000\n",
      "77434000000\n"
>>>>>>>>> Temporary merge branch 2
     ]
    }
   ],
   "source": [
<<<<<<<<< Temporary merge branch 1
    "for accountsPayables in df_cash_flow['accountsPayables']:\n",
    "    print(accountsPayables)"
=========
    "for OFC in df_cash_flow['operatingCashFlow']:\n",
    "    print(OFC)"
   ],
   "metadata": {
    "collapsed": false
   }
  },
  {
   "cell_type": "code",
   "execution_count": 30,
   "outputs": [
    {
     "name": "stdout",
     "output_type": "stream",
     "text": [
      "111443000000\n",
      "92953000000\n",
      "73365000000\n",
      "58896000000\n",
      "64121000000\n"
     ]
    }
   ],
   "source": [
    "for FCF in df_cash_flow['freeCashFlow']:\n",
    "    print(FCF)"
   ],
   "metadata": {
    "collapsed": false
   }
  },
  {
   "cell_type": "markdown",
   "source": [
    "Discounted Cash Flow Model FCF part of the DCF Model\n",
    "* Finding all the historical FCF's Free cash flow formula\n",
    "* Projecting future cash flows\n",
    "* Free cash flow represent cash a company earns after paying for its operations\n",
    "* Free Cash flow is the actual cash earned, and so it is what should use for valuation\n",
    "\n",
    "Calculating FCF\n",
    "FCF = Net Income = + None-Cash Expenses - increase in Working Capital - Capital Expenditures\n",
    "Each of the components to this calculation besides net income themselves require a calculation\n",
    "The Formula is all about reversing the non-cash adjustments to net income\n",
    "There are two main appraoges to getting Future FCFs Forcast the FCFs and forcast the Financial Statements\n",
    "Forcasting FCFs is much easier but is not as accurate, both due to lack of granuilarity and du to typically uneven FCFs\n",
    "\n",
    "Calculate Non-Cash Expenses = Adjustments = depreciation + amortization + stock-based compensation + impairment charges + gains/losses on investments\n",
    "\n",
    "\n",
    "\n"
   ],
   "metadata": {
    "collapsed": false
   }
  },
  {
   "cell_type": "code",
   "execution_count": 30,
   "outputs": [],
   "source": [
    "\n"
>>>>>>>>> Temporary merge branch 2
   ],
   "metadata": {
    "collapsed": false
   }
  }
 ],
 "metadata": {
  "kernelspec": {
   "display_name": "Python 3 (ipykernel)",
   "language": "python",
   "name": "python3"
  },
  "language_info": {
   "codemirror_mode": {
    "name": "ipython",
    "version": 3
   },
   "file_extension": ".py",
   "mimetype": "text/x-python",
   "name": "python",
   "nbconvert_exporter": "python",
   "pygments_lexer": "ipython3",
   "version": "3.9.7"
  }
 },
 "nbformat": 4,
 "nbformat_minor": 1
}

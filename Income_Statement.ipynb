{
 "cells": [
  {
   "cell_type": "code",
   "execution_count": 1,
   "metadata": {
    "ExecuteTime": {
     "end_time": "2024-02-12T19:47:16.170706Z",
     "start_time": "2024-02-12T19:47:14.935868Z"
    }
   },
   "outputs": [],
   "source": [
    "import matplotlib.pyplot as plt\n",
    "from matplotlib.pyplot import style\n",
    "import requests\n",
    "import pandas as pd\n",
    "import numpy as np\n",
    "from sklearn.linear_model import LinearRegression"
   ]
  },
  {
   "cell_type": "code",
   "execution_count": 2,
   "metadata": {
    "ExecuteTime": {
     "end_time": "2024-02-12T19:47:16.176991Z",
     "start_time": "2024-02-12T19:47:16.169932Z"
    }
   },
   "outputs": [],
   "source": [
    "ticker = \"AAPL\"\n",
    "api_key = \"ec2d6f3b0cc9395fbce02f1316669229\"\n",
    "years = 10"
   ]
  },
  {
   "cell_type": "code",
   "execution_count": 3,
   "metadata": {
    "ExecuteTime": {
     "end_time": "2024-02-12T19:47:16.612269Z",
     "start_time": "2024-02-12T19:47:16.174892Z"
    }
   },
   "outputs": [],
   "source": [
    "url = (f\"https://financialmodelingprep.com/api/v3/income-statement/{ticker}?limit={years}&apikey={api_key}\")\n",
    "r = requests.get(url)\n",
    "income_statement = r.json()\n"
   ]
  },
  {
   "cell_type": "code",
   "execution_count": 4,
   "metadata": {
    "ExecuteTime": {
     "end_time": "2024-02-12T19:47:16.622237Z",
     "start_time": "2024-02-12T19:47:16.617729Z"
    }
   },
   "outputs": [],
   "source": [
    "df_income_statement = pd.DataFrame(income_statement)"
   ]
  },
  {
   "cell_type": "code",
   "execution_count": 5,
   "metadata": {
    "ExecuteTime": {
     "end_time": "2024-02-12T19:47:16.654182Z",
     "start_time": "2024-02-12T19:47:16.622795Z"
    }
   },
   "outputs": [
    {
     "data": {
      "text/plain": "         date symbol reportedCurrency         cik fillingDate  \\\n0  2023-09-30   AAPL              USD  0000320193  2023-11-03   \n1  2022-09-24   AAPL              USD  0000320193  2022-10-28   \n2  2021-09-25   AAPL              USD  0000320193  2021-10-29   \n3  2020-09-26   AAPL              USD  0000320193  2020-10-30   \n4  2019-09-28   AAPL              USD  0000320193  2019-10-31   \n\n          acceptedDate calendarYear period       revenue  costOfRevenue  ...  \\\n0  2023-11-02 18:08:27         2023     FY  383285000000   214137000000  ...   \n1  2022-10-27 18:01:14         2022     FY  394328000000   223546000000  ...   \n2  2021-10-28 18:04:28         2021     FY  365817000000   212981000000  ...   \n3  2020-10-29 18:06:25         2020     FY  274515000000   169559000000  ...   \n4  2019-10-30 18:12:36         2019     FY  260174000000   161782000000  ...   \n\n   incomeBeforeTaxRatio  incomeTaxExpense    netIncome  netIncomeRatio   eps  \\\n0              0.296740       16741000000  96995000000        0.253062  6.16   \n1              0.302040       19300000000  99803000000        0.253096  6.15   \n2              0.298529       14527000000  94680000000        0.258818  5.67   \n3              0.244398        9680000000  57411000000        0.209136  3.31   \n4              0.252666       10481000000  55256000000        0.212381  2.99   \n\n   epsdiluted  weightedAverageShsOut  weightedAverageShsOutDil  \\\n0        6.13            15744231000               15812547000   \n1        6.11            16215963000               16325819000   \n2        5.61            16701272000               16864919000   \n3        3.28            17352119000               17528214000   \n4        2.97            18471336000               18595652000   \n\n                                                link  \\\n0  https://www.sec.gov/Archives/edgar/data/320193...   \n1  https://www.sec.gov/Archives/edgar/data/320193...   \n2  https://www.sec.gov/Archives/edgar/data/320193...   \n3  https://www.sec.gov/Archives/edgar/data/320193...   \n4  https://www.sec.gov/Archives/edgar/data/320193...   \n\n                                           finalLink  \n0  https://www.sec.gov/Archives/edgar/data/320193...  \n1  https://www.sec.gov/Archives/edgar/data/320193...  \n2  https://www.sec.gov/Archives/edgar/data/320193...  \n3  https://www.sec.gov/Archives/edgar/data/320193...  \n4  https://www.sec.gov/Archives/edgar/data/320193...  \n\n[5 rows x 38 columns]",
      "text/html": "<div>\n<style scoped>\n    .dataframe tbody tr th:only-of-type {\n        vertical-align: middle;\n    }\n\n    .dataframe tbody tr th {\n        vertical-align: top;\n    }\n\n    .dataframe thead th {\n        text-align: right;\n    }\n</style>\n<table border=\"1\" class=\"dataframe\">\n  <thead>\n    <tr style=\"text-align: right;\">\n      <th></th>\n      <th>date</th>\n      <th>symbol</th>\n      <th>reportedCurrency</th>\n      <th>cik</th>\n      <th>fillingDate</th>\n      <th>acceptedDate</th>\n      <th>calendarYear</th>\n      <th>period</th>\n      <th>revenue</th>\n      <th>costOfRevenue</th>\n      <th>...</th>\n      <th>incomeBeforeTaxRatio</th>\n      <th>incomeTaxExpense</th>\n      <th>netIncome</th>\n      <th>netIncomeRatio</th>\n      <th>eps</th>\n      <th>epsdiluted</th>\n      <th>weightedAverageShsOut</th>\n      <th>weightedAverageShsOutDil</th>\n      <th>link</th>\n      <th>finalLink</th>\n    </tr>\n  </thead>\n  <tbody>\n    <tr>\n      <th>0</th>\n      <td>2023-09-30</td>\n      <td>AAPL</td>\n      <td>USD</td>\n      <td>0000320193</td>\n      <td>2023-11-03</td>\n      <td>2023-11-02 18:08:27</td>\n      <td>2023</td>\n      <td>FY</td>\n      <td>383285000000</td>\n      <td>214137000000</td>\n      <td>...</td>\n      <td>0.296740</td>\n      <td>16741000000</td>\n      <td>96995000000</td>\n      <td>0.253062</td>\n      <td>6.16</td>\n      <td>6.13</td>\n      <td>15744231000</td>\n      <td>15812547000</td>\n      <td>https://www.sec.gov/Archives/edgar/data/320193...</td>\n      <td>https://www.sec.gov/Archives/edgar/data/320193...</td>\n    </tr>\n    <tr>\n      <th>1</th>\n      <td>2022-09-24</td>\n      <td>AAPL</td>\n      <td>USD</td>\n      <td>0000320193</td>\n      <td>2022-10-28</td>\n      <td>2022-10-27 18:01:14</td>\n      <td>2022</td>\n      <td>FY</td>\n      <td>394328000000</td>\n      <td>223546000000</td>\n      <td>...</td>\n      <td>0.302040</td>\n      <td>19300000000</td>\n      <td>99803000000</td>\n      <td>0.253096</td>\n      <td>6.15</td>\n      <td>6.11</td>\n      <td>16215963000</td>\n      <td>16325819000</td>\n      <td>https://www.sec.gov/Archives/edgar/data/320193...</td>\n      <td>https://www.sec.gov/Archives/edgar/data/320193...</td>\n    </tr>\n    <tr>\n      <th>2</th>\n      <td>2021-09-25</td>\n      <td>AAPL</td>\n      <td>USD</td>\n      <td>0000320193</td>\n      <td>2021-10-29</td>\n      <td>2021-10-28 18:04:28</td>\n      <td>2021</td>\n      <td>FY</td>\n      <td>365817000000</td>\n      <td>212981000000</td>\n      <td>...</td>\n      <td>0.298529</td>\n      <td>14527000000</td>\n      <td>94680000000</td>\n      <td>0.258818</td>\n      <td>5.67</td>\n      <td>5.61</td>\n      <td>16701272000</td>\n      <td>16864919000</td>\n      <td>https://www.sec.gov/Archives/edgar/data/320193...</td>\n      <td>https://www.sec.gov/Archives/edgar/data/320193...</td>\n    </tr>\n    <tr>\n      <th>3</th>\n      <td>2020-09-26</td>\n      <td>AAPL</td>\n      <td>USD</td>\n      <td>0000320193</td>\n      <td>2020-10-30</td>\n      <td>2020-10-29 18:06:25</td>\n      <td>2020</td>\n      <td>FY</td>\n      <td>274515000000</td>\n      <td>169559000000</td>\n      <td>...</td>\n      <td>0.244398</td>\n      <td>9680000000</td>\n      <td>57411000000</td>\n      <td>0.209136</td>\n      <td>3.31</td>\n      <td>3.28</td>\n      <td>17352119000</td>\n      <td>17528214000</td>\n      <td>https://www.sec.gov/Archives/edgar/data/320193...</td>\n      <td>https://www.sec.gov/Archives/edgar/data/320193...</td>\n    </tr>\n    <tr>\n      <th>4</th>\n      <td>2019-09-28</td>\n      <td>AAPL</td>\n      <td>USD</td>\n      <td>0000320193</td>\n      <td>2019-10-31</td>\n      <td>2019-10-30 18:12:36</td>\n      <td>2019</td>\n      <td>FY</td>\n      <td>260174000000</td>\n      <td>161782000000</td>\n      <td>...</td>\n      <td>0.252666</td>\n      <td>10481000000</td>\n      <td>55256000000</td>\n      <td>0.212381</td>\n      <td>2.99</td>\n      <td>2.97</td>\n      <td>18471336000</td>\n      <td>18595652000</td>\n      <td>https://www.sec.gov/Archives/edgar/data/320193...</td>\n      <td>https://www.sec.gov/Archives/edgar/data/320193...</td>\n    </tr>\n  </tbody>\n</table>\n<p>5 rows × 38 columns</p>\n</div>"
     },
     "execution_count": 5,
     "metadata": {},
     "output_type": "execute_result"
    }
   ],
   "source": [
    "df_income_statement.head()"
   ]
  },
  {
   "cell_type": "code",
   "outputs": [],
   "source": [
    "df_income_statement.drop(['cik', 'period', 'link'], axis = 1, inplace = True)"
   ],
   "metadata": {
    "collapsed": false,
    "ExecuteTime": {
     "end_time": "2024-02-12T19:47:16.656075Z",
     "start_time": "2024-02-12T19:47:16.648896Z"
    }
   },
   "execution_count": 6
  },
  {
   "cell_type": "markdown",
   "source": [
    "## Profitability Ratios\n",
    "Allows investors measure the ability of the company to earn and adequate  return on sales, assets, and invested capital."
   ],
   "metadata": {
    "collapsed": false
   }
  },
  {
   "cell_type": "markdown",
   "source": [
    "**Gross Profit Margin**\n",
    "* It indicates the capability of a Company to achieve a satisfactory return on its products or services.\n",
    "* The gross margin ratio, derived from deducting the cost of goods sold from the profit, is a measure of profitability that contrasts a company's gross margin with its total revenue.\n",
    "* For instance, if the ratio is determined to be 30%, it implies that for each dollar of revenue earned, 0.30 is kept, and 0.70 goes towards the cost of goods sold."
   ],
   "metadata": {
    "collapsed": false
   }
  },
  {
   "cell_type": "code",
   "execution_count": 7,
   "outputs": [
    {
     "name": "stdout",
     "output_type": "stream",
     "text": [
      "\n",
      "Date: 2023-09-30\n",
      "Gross Profit: 169148000000 , Revenue: 383285000000\n",
      "44.13%\n",
      "\n",
      "Date: 2022-09-24\n",
      "Gross Profit: 170782000000 , Revenue: 394328000000\n",
      "43.31%\n",
      "\n",
      "Date: 2021-09-25\n",
      "Gross Profit: 152836000000 , Revenue: 365817000000\n",
      "41.78%\n",
      "\n",
      "Date: 2020-09-26\n",
      "Gross Profit: 104956000000 , Revenue: 274515000000\n",
      "38.23%\n",
      "\n",
      "Date: 2019-09-28\n",
      "Gross Profit: 98392000000 , Revenue: 260174000000\n",
      "37.82%\n"
     ]
    }
   ],
   "source": [
    "for index, row in df_income_statement.iterrows():\n",
    "    gross_profit  = row['grossProfit']\n",
    "    revenue = row['revenue']\n",
    "    date = row['date']\n",
    "    print()\n",
    "    gpm = gross_profit / revenue\n",
    "    print(f'Date: {date}')\n",
    "    print(f'Gross Profit: {gross_profit} , Revenue: {revenue}')\n",
    "    print(f\"{gpm:.2%}\")"
   ],
   "metadata": {
    "collapsed": false,
    "ExecuteTime": {
     "end_time": "2024-02-12T19:47:16.667547Z",
     "start_time": "2024-02-12T19:47:16.657433Z"
    }
   }
  },
  {
   "cell_type": "code",
   "outputs": [],
   "source": [
    "%%capture\n",
    "%run Balance_Sheet.ipynb #get the assest from the balance sheet"
   ],
   "metadata": {
    "collapsed": false,
    "ExecuteTime": {
     "end_time": "2024-02-12T19:47:17.655498Z",
     "start_time": "2024-02-12T19:47:16.663925Z"
    }
   },
   "execution_count": 8
  },
  {
   "cell_type": "markdown",
   "source": [
    "## Return on Assets (ROA)\n",
    "* ROA is a type of return on investment metric that measures the profitability of a business in relation to its total assets.\n",
    "* The ratio indicated how well is the company performing by comparing the profit it has generated to the capital invested in assets."
   ],
   "metadata": {
    "collapsed": false
   }
  },
  {
   "cell_type": "code",
   "outputs": [
    {
     "name": "stdout",
     "output_type": "stream",
     "text": [
      "\n",
      "2023-09-30\n",
      "Total Assets: 338516000000 Net Income: 96995000000\n",
      "Return on Assets: 28.65%\n",
      "\n",
      "2022-09-24\n",
      "Total Assets: 323888000000 Net Income: 99803000000\n",
      "Return on Assets: 30.81%\n",
      "\n",
      "2021-09-25\n",
      "Total Assets: 351002000000 Net Income: 94680000000\n",
      "Return on Assets: 26.97%\n",
      "\n",
      "2020-09-26\n",
      "Total Assets: 352755000000 Net Income: 57411000000\n",
      "Return on Assets: 16.28%\n",
      "\n",
      "2019-09-28\n",
      "Total Assets: 352583000000 Net Income: 55256000000\n",
      "Return on Assets: 15.67%\n"
     ]
    }
   ],
   "source": [
    "for (index_bs, row_bs), (index_is, row_is) in zip(df_balance_sheet.iterrows(), df_income_statement.iterrows()):\n",
    "    total_assets = row_bs['totalAssets']\n",
    "    net_income = row_is['netIncome']\n",
    "    date = row_is['date']\n",
    "    print()\n",
    "    ROA = net_income / total_assets\n",
    "    print(date)\n",
    "    print(\"Total Assets:\",total_assets, \"Net Income:\",net_income)\n",
    "    print(f'Return on Assets: {ROA:.2%}')"
   ],
   "metadata": {
    "collapsed": false,
    "ExecuteTime": {
     "end_time": "2024-02-12T19:47:17.669969Z",
     "start_time": "2024-02-12T19:47:17.656966Z"
    }
   },
   "execution_count": 9
  },
  {
   "cell_type": "markdown",
   "source": [
    "## Net Profit Margin\n",
    "* It determines the profit percentage a company makes from its overall revenue.\n",
    "* By subtracting all of the company's expenses from its total revenue, a 20% profit margin indicates that for every 1 of revenue, the company secures a net profit of $0.20."
   ],
   "metadata": {
    "collapsed": false
   }
  },
  {
   "cell_type": "code",
   "outputs": [
    {
     "name": "stdout",
     "output_type": "stream",
     "text": [
      "\n",
      "Date: 2023-09-30\n",
      "Net Income: 96995000000, Revenue 383285000000\n",
      "25.31%\n",
      "\n",
      "Date: 2022-09-24\n",
      "Net Income: 99803000000, Revenue 394328000000\n",
      "25.31%\n",
      "\n",
      "Date: 2021-09-25\n",
      "Net Income: 94680000000, Revenue 365817000000\n",
      "25.88%\n",
      "\n",
      "Date: 2020-09-26\n",
      "Net Income: 57411000000, Revenue 274515000000\n",
      "20.91%\n",
      "\n",
      "Date: 2019-09-28\n",
      "Net Income: 55256000000, Revenue 260174000000\n",
      "21.24%\n"
     ]
    }
   ],
   "source": [
    "for index, row in df_income_statement.iterrows():\n",
    "    net_income = row['netIncome']\n",
    "    revenue = row['revenue']\n",
    "    date = row['date']\n",
    "    print()\n",
    "    net_profit_margin = net_income / revenue\n",
    "    print(f'Date: {date}')\n",
    "    print(f'Net Income: {net_income}, Revenue {revenue}')\n",
    "    print(f'{net_profit_margin:.2%}')"
   ],
   "metadata": {
    "ExecuteTime": {
     "end_time": "2024-02-12T19:47:17.679771Z",
     "start_time": "2024-02-12T19:47:17.670638Z"
    }
   },
   "execution_count": 10
  },
  {
   "cell_type": "markdown",
   "source": [
    "## Interest Coverage Ration\n",
    "* Is a financial Ratio that is used to determine how well the company can pay the interest on its outstanding debts"
   ],
   "metadata": {
    "collapsed": false
   }
  },
  {
   "cell_type": "code",
   "outputs": [
    {
     "name": "stdout",
     "output_type": "stream",
     "text": [
      "\n",
      "Date: 2023-09-30\n",
      "Operating Income: 114301000000, Interest Expense: 3933000000\n",
      "Interest Coverage ratio: 29.06\n",
      "\n",
      "Date: 2022-09-24\n",
      "Operating Income: 119437000000, Interest Expense: 2931000000\n",
      "Interest Coverage ratio: 40.75\n",
      "\n",
      "Date: 2021-09-25\n",
      "Operating Income: 108949000000, Interest Expense: 2645000000\n",
      "Interest Coverage ratio: 41.19\n",
      "\n",
      "Date: 2020-09-26\n",
      "Operating Income: 66288000000, Interest Expense: 2873000000\n",
      "Interest Coverage ratio: 23.07\n",
      "\n",
      "Date: 2019-09-28\n",
      "Operating Income: 63930000000, Interest Expense: 3576000000\n",
      "Interest Coverage ratio: 17.88\n"
     ]
    }
   ],
   "source": [
    "for index, row in df_income_statement.iterrows():\n",
    "    operating_income = row['operatingIncome']\n",
    "    interest_exp = row['interestExpense']\n",
    "    date = row['date']\n",
    "    print()\n",
    "    int_coverage_ratio = operating_income / interest_exp\n",
    "    print(f'Date: {date}')\n",
    "    print(f'Operating Income: {operating_income}, Interest Expense: {interest_exp}')\n",
    "    print(f'Interest Coverage ratio: {int_coverage_ratio:.2f}')"
   ],
   "metadata": {
    "collapsed": false,
    "ExecuteTime": {
     "end_time": "2024-02-12T19:47:17.708611Z",
     "start_time": "2024-02-12T19:47:17.677470Z"
    }
   },
   "execution_count": 11
  },
  {
   "cell_type": "markdown",
   "source": [
    "# Operating Margin\n",
    "* Is an Important profitability ratio measuring revenue after deduction of operating expenses.\n",
    "* A company that generates operating profit rather than operating loss is a positive sign for potential investors."
   ],
   "metadata": {
    "collapsed": false
   }
  },
  {
   "cell_type": "code",
   "outputs": [
    {
     "name": "stdout",
     "output_type": "stream",
     "text": [
      "\n",
      "Date: 2023-09-30\n",
      "Operating Income: 114301000000, Revenue: 383285000000\n",
      "Operating Margin: 29.82%\n",
      "\n",
      "Date: 2022-09-24\n",
      "Operating Income: 119437000000, Revenue: 394328000000\n",
      "Operating Margin: 30.29%\n",
      "\n",
      "Date: 2021-09-25\n",
      "Operating Income: 108949000000, Revenue: 365817000000\n",
      "Operating Margin: 29.78%\n",
      "\n",
      "Date: 2020-09-26\n",
      "Operating Income: 66288000000, Revenue: 274515000000\n",
      "Operating Margin: 24.15%\n",
      "\n",
      "Date: 2019-09-28\n",
      "Operating Income: 63930000000, Revenue: 260174000000\n",
      "Operating Margin: 24.57%\n"
     ]
    }
   ],
   "source": [
    "for index, row  in df_income_statement.iterrows():\n",
    "    operating_income = row['operatingIncome']\n",
    "    revenue = row['revenue']\n",
    "    date = row['date']\n",
    "    print()\n",
    "    operating_margin = operating_income / revenue\n",
    "    print(f'Date: {date}')\n",
    "    print(f'Operating Income: {operating_income}, Revenue: {revenue}')\n",
    "    print(f'Operating Margin: {operating_margin:.2%}')"
   ],
   "metadata": {
    "ExecuteTime": {
     "end_time": "2024-02-12T19:47:17.709128Z",
     "start_time": "2024-02-12T19:47:17.683785Z"
    }
   },
   "execution_count": 12
  },
  {
   "cell_type": "code",
   "execution_count": 13,
   "outputs": [
    {
     "name": "stdout",
     "output_type": "stream",
     "text": [
      "Year: 2023\n",
      "Predicted Gross Profit: 180690400000.00\n",
      "Predicted Revenue: 408830800000.00\n",
      "-----\n",
      "Year: 2024\n",
      "Predicted Gross Profit: 201424200000.00\n",
      "Predicted Revenue: 445434300000.00\n",
      "-----\n",
      "Year: 2025\n",
      "Predicted Gross Profit: 222158000000.00\n",
      "Predicted Revenue: 482037800000.00\n",
      "-----\n"
     ]
    }
   ],
   "source": [
    "df_income_statement['date'] = pd.to_datetime(df_income_statement['date'])\n",
    "df_income_statement = df_income_statement.sort_values(by = 'date')\n",
    "\n",
    "df_income_statement['year'] = df_income_statement['date'].dt.year\n",
    "\n",
    "years = df_income_statement['year'].values.reshape(-1,1)\n",
    "gross_profits = df_income_statement['grossProfit'].values\n",
    "revenues = df_income_statement['revenue'].values\n",
    "\n",
    "gp_model = LinearRegression().fit(years, gross_profits)\n",
    "revenue_model = LinearRegression().fit(years, revenues)\n",
    "\n",
    "future_years = np.array([2023, 2024, 2025]).reshape(-1,1)\n",
    "predicted_gross_profit = gp_model.predict(future_years)\n",
    "predicted_revenues = revenue_model.predict(future_years)\n",
    "\n",
    "for year, gp, rev in zip(future_years, predicted_gross_profit, predicted_revenues ):\n",
    "    print(f\"Year: {year[0]}\")\n",
    "    print(f\"Predicted Gross Profit: {gp:.2f}\")\n",
    "    print(f\"Predicted Revenue: {rev:.2f}\")\n",
    "    print(\"-----\")\n"
   ],
   "metadata": {
    "collapsed": false,
    "ExecuteTime": {
     "end_time": "2024-02-12T19:47:17.709893Z",
     "start_time": "2024-02-12T19:47:17.694383Z"
    }
   }
  },
  {
   "cell_type": "code",
   "execution_count": 14,
   "outputs": [
    {
     "name": "stdout",
     "output_type": "stream",
     "text": [
      "3933000000\n"
     ]
    }
   ],
   "source": [
    "#For DCF cost of debt\n",
    "\n",
    "interest_exp = df_income_statement['interestExpense'][0]\n",
    "print(interest_exp)"
   ],
   "metadata": {
    "collapsed": false,
    "ExecuteTime": {
     "end_time": "2024-02-12T19:47:17.710547Z",
     "start_time": "2024-02-12T19:47:17.697906Z"
    }
   }
  },
  {
   "cell_type": "code",
   "execution_count": 15,
   "outputs": [
    {
     "name": "stdout",
     "output_type": "stream",
     "text": [
      "        revenue       date\n",
      "4  260174000000 2019-09-28\n",
      "3  274515000000 2020-09-26\n",
      "2  365817000000 2021-09-25\n",
      "1  394328000000 2022-09-24\n",
      "0  383285000000 2023-09-30\n"
     ]
    }
   ],
   "source": [
    "total_assets = df_income_statement[['revenue', 'date']]\n",
    "print(total_assets)"
   ],
   "metadata": {
    "collapsed": false,
    "ExecuteTime": {
     "end_time": "2024-02-12T19:47:17.750950Z",
     "start_time": "2024-02-12T19:47:17.706970Z"
    }
   }
  },
  {
   "cell_type": "markdown",
   "metadata": {},
   "source": []
  },
  {
   "cell_type": "markdown",
   "metadata": {},
   "source": []
  }
 ],
 "metadata": {
  "kernelspec": {
   "display_name": "Python 3 (ipykernel)",
   "language": "python",
   "name": "python3"
  },
  "language_info": {
   "codemirror_mode": {
    "name": "ipython",
    "version": 3
   },
   "file_extension": ".py",
   "mimetype": "text/x-python",
   "name": "python",
   "nbconvert_exporter": "python",
   "pygments_lexer": "ipython3",
   "version": "3.9.7"
  }
 },
 "nbformat": 4,
 "nbformat_minor": 1
}

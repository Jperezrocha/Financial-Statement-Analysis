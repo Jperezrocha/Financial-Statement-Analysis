{
 "cells": [
  {
   "cell_type": "code",
   "execution_count": null,
   "metadata": {
    "pycharm": {
     "is_executing": true
    }
   },
   "outputs": [],
   "source": [
    "import matplotlib.pyplot as plt\n",
    "from matplotlib.pyplot import style\n",
    "import requests\n",
    "import pandas as pd"
   ]
  },
  {
   "cell_type": "code",
   "execution_count": null,
   "metadata": {
    "pycharm": {
     "is_executing": true
    }
   },
   "outputs": [],
   "source": [
    "ticker = \"TSLA\"\n",
    "api_key = \"ec2d6f3b0cc9395fbce02f1316669229\"\n",
    "years = 10"
   ]
  },
  {
   "cell_type": "code",
   "execution_count": null,
   "metadata": {
    "pycharm": {
     "is_executing": true
    }
   },
   "outputs": [],
   "source": [
    "url = (f\"https://financialmodelingprep.com/api/v3/income-statement/{ticker}?limit={years}&apikey={api_key}\")\n",
    "r = requests.get(url)\n",
    "income_statement = r.json()\n",
    "\n",
    "print(income_statement)"
   ]
  },
  {
   "cell_type": "code",
   "execution_count": null,
   "metadata": {
    "pycharm": {
     "is_executing": true
    }
   },
   "outputs": [],
   "source": [
    "df_income_statement = pd.DataFrame(income_statement)\n",
    "print(df_income_statement)\n"
   ]
  },
  {
   "cell_type": "code",
   "execution_count": null,
   "metadata": {
    "pycharm": {
     "is_executing": true
    }
   },
   "outputs": [],
   "source": [
    "df_income_statement.head()"
   ]
  },
  {
   "cell_type": "code",
   "execution_count": 110,
   "metadata": {},
   "outputs": [
    {
     "name": "stdout",
     "output_type": "stream",
     "text": [
      "<class 'pandas.core.frame.DataFrame'>\n",
      "RangeIndex: 5 entries, 0 to 4\n",
      "Data columns (total 38 columns):\n",
      " #   Column                                   Non-Null Count  Dtype  \n",
      "---  ------                                   --------------  -----  \n",
      " 0   date                                     5 non-null      object \n",
      " 1   symbol                                   5 non-null      object \n",
      " 2   reportedCurrency                         5 non-null      object \n",
      " 3   cik                                      5 non-null      object \n",
      " 4   fillingDate                              5 non-null      object \n",
      " 5   acceptedDate                             5 non-null      object \n",
      " 6   calendarYear                             5 non-null      object \n",
      " 7   period                                   5 non-null      object \n",
      " 8   revenue                                  5 non-null      int64  \n",
      " 9   costOfRevenue                            5 non-null      int64  \n",
      " 10  grossProfit                              5 non-null      int64  \n",
      " 11  grossProfitRatio                         5 non-null      float64\n",
      " 12  researchAndDevelopmentExpenses           5 non-null      int64  \n",
      " 13  generalAndAdministrativeExpenses         5 non-null      int64  \n",
      " 14  sellingAndMarketingExpenses              5 non-null      int64  \n",
      " 15  sellingGeneralAndAdministrativeExpenses  5 non-null      int64  \n",
      " 16  otherExpenses                            5 non-null      int64  \n",
      " 17  operatingExpenses                        5 non-null      int64  \n",
      " 18  costAndExpenses                          5 non-null      int64  \n",
      " 19  interestIncome                           5 non-null      int64  \n",
      " 20  interestExpense                          5 non-null      int64  \n",
      " 21  depreciationAndAmortization              5 non-null      int64  \n",
      " 22  ebitda                                   5 non-null      int64  \n",
      " 23  ebitdaratio                              5 non-null      float64\n",
      " 24  operatingIncome                          5 non-null      int64  \n",
      " 25  operatingIncomeRatio                     5 non-null      float64\n",
      " 26  totalOtherIncomeExpensesNet              5 non-null      int64  \n",
      " 27  incomeBeforeTax                          5 non-null      int64  \n",
      " 28  incomeBeforeTaxRatio                     5 non-null      float64\n",
      " 29  incomeTaxExpense                         5 non-null      int64  \n",
      " 30  netIncome                                5 non-null      int64  \n",
      " 31  netIncomeRatio                           5 non-null      float64\n",
      " 32  eps                                      5 non-null      float64\n",
      " 33  epsdiluted                               5 non-null      float64\n",
      " 34  weightedAverageShsOut                    5 non-null      int64  \n",
      " 35  weightedAverageShsOutDil                 5 non-null      int64  \n",
      " 36  link                                     5 non-null      object \n",
      " 37  finalLink                                5 non-null      object \n",
      "dtypes: float64(7), int64(21), object(10)\n",
      "memory usage: 1.6+ KB\n"
     ]
    }
   ],
   "source": [
    "df_income_statement.info()"
   ]
  },
  {
   "cell_type": "code",
   "execution_count": 111,
   "metadata": {},
   "outputs": [
    {
     "name": "stdout",
     "output_type": "stream",
     "text": [
      "         grossProfit            revenue\n",
      "0  20,853,000,000.00  81,462,000,000.00\n",
      "1  13,606,000,000.00  53,823,000,000.00\n",
      "2   6,630,000,000.00  31,536,000,000.00\n",
      "3   4,069,000,000.00  24,578,000,000.00\n",
      "4   4,042,021,000.00  21,461,268,000.00\n",
      "Gross Profit Margin: 0.26\n",
      "Current profit margin indicates a healthy financial performance\n"
     ]
    }
   ],
   "source": [
    "#Gross Profit Margin - it reveals the ability of an organization to earn a reasonable return on its offerings\n",
    "def format_float(gpm):\n",
    "    return f'{gpm:,.2f}'\n",
    "gpm = df_income_statement[['grossProfit', 'revenue']].applymap(format_float)\n",
    "print(gpm)\n",
    "\n",
    "gross_profit_margin = df_income_statement['grossProfit'][0] / df_income_statement['revenue'][0]\n",
    "print(f'Gross Profit Margin: {gross_profit_margin:.2f}')\n",
    "\n",
    "if gross_profit_margin > 0.10:\n",
    "    print('Current profit margin indicates a healthy financial performance')\n",
    "elif gross_profit_margin < 0.10:\n",
    "    print('Understand why is the Gross profit Margin Low')"
   ]
  },
  {
   "cell_type": "code",
   "execution_count": 112,
   "metadata": {
    "scrolled": false
   },
   "outputs": [
    {
     "name": "stderr",
     "output_type": "stream",
     "text": [
      "/var/folders/07/hp5ltwgs395flys9xp50kcqh0000gn/T/ipykernel_93134/2583458648.py:7: MatplotlibDeprecationWarning: The seaborn styles shipped by Matplotlib are deprecated since 3.6, as they no longer correspond to the styles shipped by seaborn. However, they will remain available as 'seaborn-v0_8-<style>'. Alternatively, directly use the seaborn API instead.\n",
      "  plt.style.use('seaborn')\n"
     ]
    },
    {
     "data": {
      "text/plain": "<Figure size 800x550 with 2 Axes>",
      "image/png": "[encoded data removed]"
     },
     "metadata": {},
     "output_type": "display_data"
    }
   ],
   "source": [
    "df = df_income_statement.sort_index(ascending = False)\n",
    "df[['date', 'grossProfit', 'revenue']].head()\n",
    "\n",
    "fig, ax = plt.subplots()\n",
    "ax2 = ax.twinx()\n",
    "\n",
    "plt.style.use('seaborn')\n",
    "plt.xlabel('Gross Profit and Revenue')\n",
    "plt.ylabel('Date')\n",
    "ax.plot(df['grossProfit'], df['date'], color = \"royalblue\")\n",
    "ax2.plot(df['revenue'], df['date'], color = 'g')\n",
    "\n",
    "\n",
    "plt.show()\n"
   ]
  },
  {
   "cell_type": "code",
   "execution_count": 113,
   "metadata": {},
   "outputs": [
    {
     "name": "stdout",
     "output_type": "stream",
     "text": [
      "           netIncome            revenue\n",
      "0  12,583,000,000.00  81,462,000,000.00\n",
      "1   5,519,000,000.00  53,823,000,000.00\n",
      "2     690,000,000.00  31,536,000,000.00\n",
      "3    -775,000,000.00  24,578,000,000.00\n",
      "4    -976,091,000.00  21,461,268,000.00\n",
      "Net Profit Margin 0.15\n",
      "Current net profit margin indicates a healthy financial performance\n"
     ]
    }
   ],
   "source": [
    "#Net Profit Margin - This is the Ultimate analysis item -  can a business earn a profit when all deductions are considered\n",
    "def format_float(npm):\n",
    "    return f'{npm:,.2f}'\n",
    "npm = df_income_statement[['netIncome', 'revenue']].applymap(format_float)\n",
    "print(npm)\n",
    "net_profit_margin = df_income_statement['netIncome'][0] / df_income_statement['revenue'][0]\n",
    "\n",
    "print(f'Net Profit Margin {net_profit_margin:.2f}')\n",
    "if net_profit_margin > 0.10:\n",
    "    print('Current net profit margin indicates a healthy financial performance')\n",
    "elif net_profit_margin < 0.10:\n",
    "    print('raises concerns about profitability from your revenue streams')"
   ]
  },
  {
   "cell_type": "code",
   "execution_count": 114,
   "metadata": {},
   "outputs": [
    {
     "name": "stdout",
     "output_type": "stream",
     "text": [
      "     operatingIncome interestExpense\n",
      "0  13,656,000,000.00  191,000,000.00\n",
      "1   6,687,000,000.00  371,000,000.00\n",
      "2   1,994,000,000.00  748,000,000.00\n",
      "3     169,000,000.00  685,000,000.00\n",
      "4    -388,073,000.00  663,071,000.00\n",
      "71.50\n"
     ]
    }
   ],
   "source": [
    "#Interest Coverage Ratio\n",
    "def format_float(icr):\n",
    "    return f'{icr:,.2f}'\n",
    "icr = df_income_statement[['operatingIncome', 'interestExpense']].applymap(format_float)\n",
    "print(icr)\n",
    "\n",
    "int_coverage_ratio = df_income_statement['operatingIncome'][0] / df_income_statement['interestExpense'][0]\n",
    "print(f'{int_coverage_ratio:.2f}')"
   ]
  },
  {
   "cell_type": "code",
   "execution_count": 115,
   "metadata": {},
   "outputs": [
    {
     "name": "stdout",
     "output_type": "stream",
     "text": [
      "              ebitda            revenue\n",
      "0  17,833,000,000.00  81,462,000,000.00\n",
      "1   9,598,000,000.00  53,823,000,000.00\n",
      "2   4,224,000,000.00  31,536,000,000.00\n",
      "3   2,323,000,000.00  24,578,000,000.00\n",
      "4   1,694,609,000.00  21,461,268,000.00\n",
      "With an Operating Margin of 0.21891188529621172,TSLA demonstrates efficient cost management in generating profits from operations.\n",
      "0.22\n"
     ]
    }
   ],
   "source": [
    "#Operating Margin - It reveals the amount that a business has earned before financing other costs are considered\n",
    "def format_float(om):\n",
    "    return f'{om:,.2f}'\n",
    "om = df_income_statement[[\"ebitda\", 'revenue']].applymap(format_float)\n",
    "print(om)\n",
    "\n",
    "operating_margin = df_income_statement['ebitda'][0] / df_income_statement['revenue'][0]\n",
    "\n",
    "if operating_margin > 0.10:\n",
    "    print(f'With an Operating Margin of {operating_margin},{ticker} demonstrates efficient cost management in generating profits from operations.')\n",
    "else:\n",
    "    print('The Operating Margin is below 10%, indicating a challenging profitability situation at the operational level.')\n",
    "\n",
    "print(f'{operating_margin:.2f}')"
   ]
  },
  {
   "cell_type": "markdown",
   "metadata": {},
   "source": []
  },
  {
   "cell_type": "markdown",
   "metadata": {},
   "source": []
  }
 ],
 "metadata": {
  "kernelspec": {
   "display_name": "Python 3 (ipykernel)",
   "language": "python",
   "name": "python3"
  },
  "language_info": {
   "codemirror_mode": {
    "name": "ipython",
    "version": 3
   },
   "file_extension": ".py",
   "mimetype": "text/x-python",
   "name": "python",
   "nbconvert_exporter": "python",
   "pygments_lexer": "ipython3",
   "version": "3.9.7"
  }
 },
 "nbformat": 4,
 "nbformat_minor": 1
}

{
 "cells": [
  {
   "cell_type": "code",
   "metadata": {
    "ExecuteTime": {
     "end_time": "2024-05-02T18:53:07.511242Z",
     "start_time": "2024-05-02T18:53:07.469103Z"
    }
   },
   "source": [
    "import requests\n",
    "import numpy as np\n",
    "import matplotlib.pyplot as plt\n",
    "from matplotlib import style\n",
    "import datetime as dt\n",
    "import pandas as pd\n",
    "from matplotlib import style\n",
    "from sklearn.linear_model import LinearRegression"
   ],
   "outputs": [],
   "execution_count": 23
  },
  {
   "cell_type": "code",
   "metadata": {
    "ExecuteTime": {
     "end_time": "2024-05-02T18:53:08.890355Z",
     "start_time": "2024-05-02T18:53:08.013177Z"
    }
   },
   "source": [
    "ticker = 'AAPL'\n",
    "api_key = \"ec2d6f3b0cc9395fbce02f1316669229\"\n",
    "years = 10\n",
    "\n",
    "\n",
    "url = (f\"https://financialmodelingprep.com/api/v3/balance-sheet-statement/{ticker}?limit={years}&apikey={api_key}\")\n",
    "\n",
    "r = requests.get(url)\n",
    "balance_sheet = r.json()\n"
   ],
   "outputs": [],
   "execution_count": 24
  },
  {
   "cell_type": "code",
   "source": [
    "url1 = (f\"https://financialmodelingprep.com/api/v4/shares_float/{ticker}&apikey={api_key}\")\n",
    "f = requests.get(url1)\n",
    "\n",
    "shares_float = f.json()\n"
   ],
   "metadata": {
    "collapsed": false,
    "ExecuteTime": {
     "end_time": "2024-05-02T18:53:09.344170Z",
     "start_time": "2024-05-02T18:53:08.895691Z"
    }
   },
   "outputs": [],
   "execution_count": 25
  },
  {
   "cell_type": "code",
   "metadata": {
    "ExecuteTime": {
     "end_time": "2024-05-02T18:53:09.685087Z",
     "start_time": "2024-05-02T18:53:09.588305Z"
    }
   },
   "source": [
    "df_balance_sheet = pd.DataFrame(balance_sheet)"
   ],
   "outputs": [],
   "execution_count": 26
  },
  {
   "cell_type": "code",
   "metadata": {
    "ExecuteTime": {
     "end_time": "2024-05-02T18:53:10.036264Z",
     "start_time": "2024-05-02T18:53:10.015098Z"
    }
   },
   "source": [
    "df_balance_sheet.head()"
   ],
   "outputs": [
    {
     "data": {
      "text/plain": [
       "         date symbol reportedCurrency         cik fillingDate  \\\n",
       "0  2023-09-30   AAPL              USD  0000320193  2023-11-03   \n",
       "1  2022-09-24   AAPL              USD  0000320193  2022-10-28   \n",
       "2  2021-09-25   AAPL              USD  0000320193  2021-10-29   \n",
       "3  2020-09-26   AAPL              USD  0000320193  2020-10-30   \n",
       "4  2019-09-28   AAPL              USD  0000320193  2019-10-31   \n",
       "\n",
       "          acceptedDate calendarYear period  cashAndCashEquivalents  \\\n",
       "0  2023-11-02 18:08:27         2023     FY             29965000000   \n",
       "1  2022-10-27 18:01:14         2022     FY             23646000000   \n",
       "2  2021-10-28 18:04:28         2021     FY             34940000000   \n",
       "3  2020-10-29 18:06:25         2020     FY             38016000000   \n",
       "4  2019-10-30 18:12:36         2019     FY             48844000000   \n",
       "\n",
       "   shortTermInvestments  ...  totalStockholdersEquity  totalEquity  \\\n",
       "0           31590000000  ...              62146000000  62146000000   \n",
       "1           24658000000  ...              50672000000  50672000000   \n",
       "2           27699000000  ...              63090000000  63090000000   \n",
       "3           52927000000  ...              65339000000  65339000000   \n",
       "4           51713000000  ...              90488000000  90488000000   \n",
       "\n",
       "   totalLiabilitiesAndStockholdersEquity  minorityInterest  \\\n",
       "0                           352583000000                 0   \n",
       "1                           352755000000                 0   \n",
       "2                           351002000000                 0   \n",
       "3                           323888000000                 0   \n",
       "4                           338516000000                 0   \n",
       "\n",
       "   totalLiabilitiesAndTotalEquity  totalInvestments     totalDebt  \\\n",
       "0                    352583000000      132134000000  122355000000   \n",
       "1                    352755000000      145463000000  120069000000   \n",
       "2                    351002000000      155576000000  124719000000   \n",
       "3                    323888000000      153814000000  112436000000   \n",
       "4                    338516000000      157054000000  108047000000   \n",
       "\n",
       "       netDebt                                               link  \\\n",
       "0  92390000000  https://www.sec.gov/Archives/edgar/data/320193...   \n",
       "1  96423000000  https://www.sec.gov/Archives/edgar/data/320193...   \n",
       "2  89779000000  https://www.sec.gov/Archives/edgar/data/320193...   \n",
       "3  74420000000  https://www.sec.gov/Archives/edgar/data/320193...   \n",
       "4  59203000000  https://www.sec.gov/Archives/edgar/data/320193...   \n",
       "\n",
       "                                           finalLink  \n",
       "0  https://www.sec.gov/Archives/edgar/data/320193...  \n",
       "1  https://www.sec.gov/Archives/edgar/data/320193...  \n",
       "2  https://www.sec.gov/Archives/edgar/data/320193...  \n",
       "3  https://www.sec.gov/Archives/edgar/data/320193...  \n",
       "4  https://www.sec.gov/Archives/edgar/data/320193...  \n",
       "\n",
       "[5 rows x 54 columns]"
      ],
      "text/html": [
       "<div>\n",
       "<style scoped>\n",
       "    .dataframe tbody tr th:only-of-type {\n",
       "        vertical-align: middle;\n",
       "    }\n",
       "\n",
       "    .dataframe tbody tr th {\n",
       "        vertical-align: top;\n",
       "    }\n",
       "\n",
       "    .dataframe thead th {\n",
       "        text-align: right;\n",
       "    }\n",
       "</style>\n",
       "<table border=\"1\" class=\"dataframe\">\n",
       "  <thead>\n",
       "    <tr style=\"text-align: right;\">\n",
       "      <th></th>\n",
       "      <th>date</th>\n",
       "      <th>symbol</th>\n",
       "      <th>reportedCurrency</th>\n",
       "      <th>cik</th>\n",
       "      <th>fillingDate</th>\n",
       "      <th>acceptedDate</th>\n",
       "      <th>calendarYear</th>\n",
       "      <th>period</th>\n",
       "      <th>cashAndCashEquivalents</th>\n",
       "      <th>shortTermInvestments</th>\n",
       "      <th>...</th>\n",
       "      <th>totalStockholdersEquity</th>\n",
       "      <th>totalEquity</th>\n",
       "      <th>totalLiabilitiesAndStockholdersEquity</th>\n",
       "      <th>minorityInterest</th>\n",
       "      <th>totalLiabilitiesAndTotalEquity</th>\n",
       "      <th>totalInvestments</th>\n",
       "      <th>totalDebt</th>\n",
       "      <th>netDebt</th>\n",
       "      <th>link</th>\n",
       "      <th>finalLink</th>\n",
       "    </tr>\n",
       "  </thead>\n",
       "  <tbody>\n",
       "    <tr>\n",
       "      <th>0</th>\n",
       "      <td>2023-09-30</td>\n",
       "      <td>AAPL</td>\n",
       "      <td>USD</td>\n",
       "      <td>0000320193</td>\n",
       "      <td>2023-11-03</td>\n",
       "      <td>2023-11-02 18:08:27</td>\n",
       "      <td>2023</td>\n",
       "      <td>FY</td>\n",
       "      <td>29965000000</td>\n",
       "      <td>31590000000</td>\n",
       "      <td>...</td>\n",
       "      <td>62146000000</td>\n",
       "      <td>62146000000</td>\n",
       "      <td>352583000000</td>\n",
       "      <td>0</td>\n",
       "      <td>352583000000</td>\n",
       "      <td>132134000000</td>\n",
       "      <td>122355000000</td>\n",
       "      <td>92390000000</td>\n",
       "      <td>https://www.sec.gov/Archives/edgar/data/320193...</td>\n",
       "      <td>https://www.sec.gov/Archives/edgar/data/320193...</td>\n",
       "    </tr>\n",
       "    <tr>\n",
       "      <th>1</th>\n",
       "      <td>2022-09-24</td>\n",
       "      <td>AAPL</td>\n",
       "      <td>USD</td>\n",
       "      <td>0000320193</td>\n",
       "      <td>2022-10-28</td>\n",
       "      <td>2022-10-27 18:01:14</td>\n",
       "      <td>2022</td>\n",
       "      <td>FY</td>\n",
       "      <td>23646000000</td>\n",
       "      <td>24658000000</td>\n",
       "      <td>...</td>\n",
       "      <td>50672000000</td>\n",
       "      <td>50672000000</td>\n",
       "      <td>352755000000</td>\n",
       "      <td>0</td>\n",
       "      <td>352755000000</td>\n",
       "      <td>145463000000</td>\n",
       "      <td>120069000000</td>\n",
       "      <td>96423000000</td>\n",
       "      <td>https://www.sec.gov/Archives/edgar/data/320193...</td>\n",
       "      <td>https://www.sec.gov/Archives/edgar/data/320193...</td>\n",
       "    </tr>\n",
       "    <tr>\n",
       "      <th>2</th>\n",
       "      <td>2021-09-25</td>\n",
       "      <td>AAPL</td>\n",
       "      <td>USD</td>\n",
       "      <td>0000320193</td>\n",
       "      <td>2021-10-29</td>\n",
       "      <td>2021-10-28 18:04:28</td>\n",
       "      <td>2021</td>\n",
       "      <td>FY</td>\n",
       "      <td>34940000000</td>\n",
       "      <td>27699000000</td>\n",
       "      <td>...</td>\n",
       "      <td>63090000000</td>\n",
       "      <td>63090000000</td>\n",
       "      <td>351002000000</td>\n",
       "      <td>0</td>\n",
       "      <td>351002000000</td>\n",
       "      <td>155576000000</td>\n",
       "      <td>124719000000</td>\n",
       "      <td>89779000000</td>\n",
       "      <td>https://www.sec.gov/Archives/edgar/data/320193...</td>\n",
       "      <td>https://www.sec.gov/Archives/edgar/data/320193...</td>\n",
       "    </tr>\n",
       "    <tr>\n",
       "      <th>3</th>\n",
       "      <td>2020-09-26</td>\n",
       "      <td>AAPL</td>\n",
       "      <td>USD</td>\n",
       "      <td>0000320193</td>\n",
       "      <td>2020-10-30</td>\n",
       "      <td>2020-10-29 18:06:25</td>\n",
       "      <td>2020</td>\n",
       "      <td>FY</td>\n",
       "      <td>38016000000</td>\n",
       "      <td>52927000000</td>\n",
       "      <td>...</td>\n",
       "      <td>65339000000</td>\n",
       "      <td>65339000000</td>\n",
       "      <td>323888000000</td>\n",
       "      <td>0</td>\n",
       "      <td>323888000000</td>\n",
       "      <td>153814000000</td>\n",
       "      <td>112436000000</td>\n",
       "      <td>74420000000</td>\n",
       "      <td>https://www.sec.gov/Archives/edgar/data/320193...</td>\n",
       "      <td>https://www.sec.gov/Archives/edgar/data/320193...</td>\n",
       "    </tr>\n",
       "    <tr>\n",
       "      <th>4</th>\n",
       "      <td>2019-09-28</td>\n",
       "      <td>AAPL</td>\n",
       "      <td>USD</td>\n",
       "      <td>0000320193</td>\n",
       "      <td>2019-10-31</td>\n",
       "      <td>2019-10-30 18:12:36</td>\n",
       "      <td>2019</td>\n",
       "      <td>FY</td>\n",
       "      <td>48844000000</td>\n",
       "      <td>51713000000</td>\n",
       "      <td>...</td>\n",
       "      <td>90488000000</td>\n",
       "      <td>90488000000</td>\n",
       "      <td>338516000000</td>\n",
       "      <td>0</td>\n",
       "      <td>338516000000</td>\n",
       "      <td>157054000000</td>\n",
       "      <td>108047000000</td>\n",
       "      <td>59203000000</td>\n",
       "      <td>https://www.sec.gov/Archives/edgar/data/320193...</td>\n",
       "      <td>https://www.sec.gov/Archives/edgar/data/320193...</td>\n",
       "    </tr>\n",
       "  </tbody>\n",
       "</table>\n",
       "<p>5 rows × 54 columns</p>\n",
       "</div>"
      ]
     },
     "execution_count": 27,
     "metadata": {},
     "output_type": "execute_result"
    }
   ],
   "execution_count": 27
  },
  {
   "cell_type": "code",
   "metadata": {
    "ExecuteTime": {
     "end_time": "2024-05-02T18:53:11.079185Z",
     "start_time": "2024-05-02T18:53:11.028798Z"
    }
   },
   "source": [
    "df_balance_sheet.describe()"
   ],
   "outputs": [
    {
     "data": {
      "text/plain": [
       "       cashAndCashEquivalents  shortTermInvestments  \\\n",
       "count            5.000000e+00          5.000000e+00   \n",
       "mean             3.508220e+10          3.771740e+10   \n",
       "std              9.420549e+09          1.356162e+10   \n",
       "min              2.364600e+10          2.465800e+10   \n",
       "25%              2.996500e+10          2.769900e+10   \n",
       "50%              3.494000e+10          3.159000e+10   \n",
       "75%              3.801600e+10          5.171300e+10   \n",
       "max              4.884400e+10          5.292700e+10   \n",
       "\n",
       "       cashAndShortTermInvestments  netReceivables     inventory  \\\n",
       "count                 5.000000e+00    5.000000e+00  5.000000e+00   \n",
       "mean                  7.279960e+10    5.133440e+10  5.204800e+09   \n",
       "std                   2.196229e+10    1.010913e+10  1.198136e+09   \n",
       "min                   4.830400e+10    3.744500e+10  4.061000e+09   \n",
       "25%                   6.155500e+10    4.580400e+10  4.106000e+09   \n",
       "50%                   6.263900e+10    5.150600e+10  4.946000e+09   \n",
       "75%                   9.094300e+10    6.093200e+10  6.331000e+09   \n",
       "max                   1.005570e+11    6.098500e+10  6.580000e+09   \n",
       "\n",
       "       otherCurrentAssets  totalCurrentAssets  propertyPlantEquipmentNet  \\\n",
       "count        5.000000e+00        5.000000e+00               5.000000e+00   \n",
       "mean         1.472900e+10        1.440678e+11               4.201540e+10   \n",
       "std          3.879803e+09        1.131653e+10               7.219576e+09   \n",
       "min          1.126400e+10        1.348360e+11               3.676600e+10   \n",
       "25%          1.235200e+10        1.354050e+11               3.737800e+10   \n",
       "50%          1.411100e+10        1.435660e+11               3.944000e+10   \n",
       "75%          1.469500e+10        1.437130e+11               4.211700e+10   \n",
       "max          2.122300e+10        1.628190e+11               5.437600e+10   \n",
       "\n",
       "       goodwill  intangibleAssets  ...  \\\n",
       "count       5.0               5.0  ...   \n",
       "mean        0.0               0.0  ...   \n",
       "std         0.0               0.0  ...   \n",
       "min         0.0               0.0  ...   \n",
       "25%         0.0               0.0  ...   \n",
       "50%         0.0               0.0  ...   \n",
       "75%         0.0               0.0  ...   \n",
       "max         0.0               0.0  ...   \n",
       "\n",
       "       accumulatedOtherComprehensiveIncomeLoss  othertotalStockholdersEquity  \\\n",
       "count                             5.000000e+00                           5.0   \n",
       "mean                             -4.677600e+09                           0.0   \n",
       "std                               6.035125e+09                           0.0   \n",
       "min                              -1.145200e+10                           0.0   \n",
       "25%                              -1.110900e+10                           0.0   \n",
       "50%                              -5.840000e+08                           0.0   \n",
       "75%                              -4.060000e+08                           0.0   \n",
       "max                               1.630000e+08                           0.0   \n",
       "\n",
       "       totalStockholdersEquity   totalEquity  \\\n",
       "count             5.000000e+00  5.000000e+00   \n",
       "mean              6.634700e+10  6.634700e+10   \n",
       "std               1.464382e+10  1.464382e+10   \n",
       "min               5.067200e+10  5.067200e+10   \n",
       "25%               6.214600e+10  6.214600e+10   \n",
       "50%               6.309000e+10  6.309000e+10   \n",
       "75%               6.533900e+10  6.533900e+10   \n",
       "max               9.048800e+10  9.048800e+10   \n",
       "\n",
       "       totalLiabilitiesAndStockholdersEquity  minorityInterest  \\\n",
       "count                           5.000000e+00               5.0   \n",
       "mean                            3.437488e+11               0.0   \n",
       "std                             1.258568e+10               0.0   \n",
       "min                             3.238880e+11               0.0   \n",
       "25%                             3.385160e+11               0.0   \n",
       "50%                             3.510020e+11               0.0   \n",
       "75%                             3.525830e+11               0.0   \n",
       "max                             3.527550e+11               0.0   \n",
       "\n",
       "       totalLiabilitiesAndTotalEquity  totalInvestments     totalDebt  \\\n",
       "count                    5.000000e+00      5.000000e+00  5.000000e+00   \n",
       "mean                     3.437488e+11      1.488082e+11  1.175252e+11   \n",
       "std                      1.258568e+10      1.034497e+10  7.022907e+09   \n",
       "min                      3.238880e+11      1.321340e+11  1.080470e+11   \n",
       "25%                      3.385160e+11      1.454630e+11  1.124360e+11   \n",
       "50%                      3.510020e+11      1.538140e+11  1.200690e+11   \n",
       "75%                      3.525830e+11      1.555760e+11  1.223550e+11   \n",
       "max                      3.527550e+11      1.570540e+11  1.247190e+11   \n",
       "\n",
       "            netDebt  \n",
       "count  5.000000e+00  \n",
       "mean   8.244300e+10  \n",
       "std    1.543265e+10  \n",
       "min    5.920300e+10  \n",
       "25%    7.442000e+10  \n",
       "50%    8.977900e+10  \n",
       "75%    9.239000e+10  \n",
       "max    9.642300e+10  \n",
       "\n",
       "[8 rows x 44 columns]"
      ],
      "text/html": [
       "<div>\n",
       "<style scoped>\n",
       "    .dataframe tbody tr th:only-of-type {\n",
       "        vertical-align: middle;\n",
       "    }\n",
       "\n",
       "    .dataframe tbody tr th {\n",
       "        vertical-align: top;\n",
       "    }\n",
       "\n",
       "    .dataframe thead th {\n",
       "        text-align: right;\n",
       "    }\n",
       "</style>\n",
       "<table border=\"1\" class=\"dataframe\">\n",
       "  <thead>\n",
       "    <tr style=\"text-align: right;\">\n",
       "      <th></th>\n",
       "      <th>cashAndCashEquivalents</th>\n",
       "      <th>shortTermInvestments</th>\n",
       "      <th>cashAndShortTermInvestments</th>\n",
       "      <th>netReceivables</th>\n",
       "      <th>inventory</th>\n",
       "      <th>otherCurrentAssets</th>\n",
       "      <th>totalCurrentAssets</th>\n",
       "      <th>propertyPlantEquipmentNet</th>\n",
       "      <th>goodwill</th>\n",
       "      <th>intangibleAssets</th>\n",
       "      <th>...</th>\n",
       "      <th>accumulatedOtherComprehensiveIncomeLoss</th>\n",
       "      <th>othertotalStockholdersEquity</th>\n",
       "      <th>totalStockholdersEquity</th>\n",
       "      <th>totalEquity</th>\n",
       "      <th>totalLiabilitiesAndStockholdersEquity</th>\n",
       "      <th>minorityInterest</th>\n",
       "      <th>totalLiabilitiesAndTotalEquity</th>\n",
       "      <th>totalInvestments</th>\n",
       "      <th>totalDebt</th>\n",
       "      <th>netDebt</th>\n",
       "    </tr>\n",
       "  </thead>\n",
       "  <tbody>\n",
       "    <tr>\n",
       "      <th>count</th>\n",
       "      <td>5.000000e+00</td>\n",
       "      <td>5.000000e+00</td>\n",
       "      <td>5.000000e+00</td>\n",
       "      <td>5.000000e+00</td>\n",
       "      <td>5.000000e+00</td>\n",
       "      <td>5.000000e+00</td>\n",
       "      <td>5.000000e+00</td>\n",
       "      <td>5.000000e+00</td>\n",
       "      <td>5.0</td>\n",
       "      <td>5.0</td>\n",
       "      <td>...</td>\n",
       "      <td>5.000000e+00</td>\n",
       "      <td>5.0</td>\n",
       "      <td>5.000000e+00</td>\n",
       "      <td>5.000000e+00</td>\n",
       "      <td>5.000000e+00</td>\n",
       "      <td>5.0</td>\n",
       "      <td>5.000000e+00</td>\n",
       "      <td>5.000000e+00</td>\n",
       "      <td>5.000000e+00</td>\n",
       "      <td>5.000000e+00</td>\n",
       "    </tr>\n",
       "    <tr>\n",
       "      <th>mean</th>\n",
       "      <td>3.508220e+10</td>\n",
       "      <td>3.771740e+10</td>\n",
       "      <td>7.279960e+10</td>\n",
       "      <td>5.133440e+10</td>\n",
       "      <td>5.204800e+09</td>\n",
       "      <td>1.472900e+10</td>\n",
       "      <td>1.440678e+11</td>\n",
       "      <td>4.201540e+10</td>\n",
       "      <td>0.0</td>\n",
       "      <td>0.0</td>\n",
       "      <td>...</td>\n",
       "      <td>-4.677600e+09</td>\n",
       "      <td>0.0</td>\n",
       "      <td>6.634700e+10</td>\n",
       "      <td>6.634700e+10</td>\n",
       "      <td>3.437488e+11</td>\n",
       "      <td>0.0</td>\n",
       "      <td>3.437488e+11</td>\n",
       "      <td>1.488082e+11</td>\n",
       "      <td>1.175252e+11</td>\n",
       "      <td>8.244300e+10</td>\n",
       "    </tr>\n",
       "    <tr>\n",
       "      <th>std</th>\n",
       "      <td>9.420549e+09</td>\n",
       "      <td>1.356162e+10</td>\n",
       "      <td>2.196229e+10</td>\n",
       "      <td>1.010913e+10</td>\n",
       "      <td>1.198136e+09</td>\n",
       "      <td>3.879803e+09</td>\n",
       "      <td>1.131653e+10</td>\n",
       "      <td>7.219576e+09</td>\n",
       "      <td>0.0</td>\n",
       "      <td>0.0</td>\n",
       "      <td>...</td>\n",
       "      <td>6.035125e+09</td>\n",
       "      <td>0.0</td>\n",
       "      <td>1.464382e+10</td>\n",
       "      <td>1.464382e+10</td>\n",
       "      <td>1.258568e+10</td>\n",
       "      <td>0.0</td>\n",
       "      <td>1.258568e+10</td>\n",
       "      <td>1.034497e+10</td>\n",
       "      <td>7.022907e+09</td>\n",
       "      <td>1.543265e+10</td>\n",
       "    </tr>\n",
       "    <tr>\n",
       "      <th>min</th>\n",
       "      <td>2.364600e+10</td>\n",
       "      <td>2.465800e+10</td>\n",
       "      <td>4.830400e+10</td>\n",
       "      <td>3.744500e+10</td>\n",
       "      <td>4.061000e+09</td>\n",
       "      <td>1.126400e+10</td>\n",
       "      <td>1.348360e+11</td>\n",
       "      <td>3.676600e+10</td>\n",
       "      <td>0.0</td>\n",
       "      <td>0.0</td>\n",
       "      <td>...</td>\n",
       "      <td>-1.145200e+10</td>\n",
       "      <td>0.0</td>\n",
       "      <td>5.067200e+10</td>\n",
       "      <td>5.067200e+10</td>\n",
       "      <td>3.238880e+11</td>\n",
       "      <td>0.0</td>\n",
       "      <td>3.238880e+11</td>\n",
       "      <td>1.321340e+11</td>\n",
       "      <td>1.080470e+11</td>\n",
       "      <td>5.920300e+10</td>\n",
       "    </tr>\n",
       "    <tr>\n",
       "      <th>25%</th>\n",
       "      <td>2.996500e+10</td>\n",
       "      <td>2.769900e+10</td>\n",
       "      <td>6.155500e+10</td>\n",
       "      <td>4.580400e+10</td>\n",
       "      <td>4.106000e+09</td>\n",
       "      <td>1.235200e+10</td>\n",
       "      <td>1.354050e+11</td>\n",
       "      <td>3.737800e+10</td>\n",
       "      <td>0.0</td>\n",
       "      <td>0.0</td>\n",
       "      <td>...</td>\n",
       "      <td>-1.110900e+10</td>\n",
       "      <td>0.0</td>\n",
       "      <td>6.214600e+10</td>\n",
       "      <td>6.214600e+10</td>\n",
       "      <td>3.385160e+11</td>\n",
       "      <td>0.0</td>\n",
       "      <td>3.385160e+11</td>\n",
       "      <td>1.454630e+11</td>\n",
       "      <td>1.124360e+11</td>\n",
       "      <td>7.442000e+10</td>\n",
       "    </tr>\n",
       "    <tr>\n",
       "      <th>50%</th>\n",
       "      <td>3.494000e+10</td>\n",
       "      <td>3.159000e+10</td>\n",
       "      <td>6.263900e+10</td>\n",
       "      <td>5.150600e+10</td>\n",
       "      <td>4.946000e+09</td>\n",
       "      <td>1.411100e+10</td>\n",
       "      <td>1.435660e+11</td>\n",
       "      <td>3.944000e+10</td>\n",
       "      <td>0.0</td>\n",
       "      <td>0.0</td>\n",
       "      <td>...</td>\n",
       "      <td>-5.840000e+08</td>\n",
       "      <td>0.0</td>\n",
       "      <td>6.309000e+10</td>\n",
       "      <td>6.309000e+10</td>\n",
       "      <td>3.510020e+11</td>\n",
       "      <td>0.0</td>\n",
       "      <td>3.510020e+11</td>\n",
       "      <td>1.538140e+11</td>\n",
       "      <td>1.200690e+11</td>\n",
       "      <td>8.977900e+10</td>\n",
       "    </tr>\n",
       "    <tr>\n",
       "      <th>75%</th>\n",
       "      <td>3.801600e+10</td>\n",
       "      <td>5.171300e+10</td>\n",
       "      <td>9.094300e+10</td>\n",
       "      <td>6.093200e+10</td>\n",
       "      <td>6.331000e+09</td>\n",
       "      <td>1.469500e+10</td>\n",
       "      <td>1.437130e+11</td>\n",
       "      <td>4.211700e+10</td>\n",
       "      <td>0.0</td>\n",
       "      <td>0.0</td>\n",
       "      <td>...</td>\n",
       "      <td>-4.060000e+08</td>\n",
       "      <td>0.0</td>\n",
       "      <td>6.533900e+10</td>\n",
       "      <td>6.533900e+10</td>\n",
       "      <td>3.525830e+11</td>\n",
       "      <td>0.0</td>\n",
       "      <td>3.525830e+11</td>\n",
       "      <td>1.555760e+11</td>\n",
       "      <td>1.223550e+11</td>\n",
       "      <td>9.239000e+10</td>\n",
       "    </tr>\n",
       "    <tr>\n",
       "      <th>max</th>\n",
       "      <td>4.884400e+10</td>\n",
       "      <td>5.292700e+10</td>\n",
       "      <td>1.005570e+11</td>\n",
       "      <td>6.098500e+10</td>\n",
       "      <td>6.580000e+09</td>\n",
       "      <td>2.122300e+10</td>\n",
       "      <td>1.628190e+11</td>\n",
       "      <td>5.437600e+10</td>\n",
       "      <td>0.0</td>\n",
       "      <td>0.0</td>\n",
       "      <td>...</td>\n",
       "      <td>1.630000e+08</td>\n",
       "      <td>0.0</td>\n",
       "      <td>9.048800e+10</td>\n",
       "      <td>9.048800e+10</td>\n",
       "      <td>3.527550e+11</td>\n",
       "      <td>0.0</td>\n",
       "      <td>3.527550e+11</td>\n",
       "      <td>1.570540e+11</td>\n",
       "      <td>1.247190e+11</td>\n",
       "      <td>9.642300e+10</td>\n",
       "    </tr>\n",
       "  </tbody>\n",
       "</table>\n",
       "<p>8 rows × 44 columns</p>\n",
       "</div>"
      ]
     },
     "execution_count": 28,
     "metadata": {},
     "output_type": "execute_result"
    }
   ],
   "execution_count": 28
  },
  {
   "metadata": {
    "ExecuteTime": {
     "end_time": "2024-05-02T20:23:49.379420Z",
     "start_time": "2024-05-02T20:23:49.323920Z"
    }
   },
   "cell_type": "code",
   "source": [
    "#change in debt \n",
    "for index, row in df_balance_sheet.iterrows():\n",
    "    total_debt = row['totalDebt']\n",
    "    date = row['date']\n",
    "    print(date, total_debt)    \n",
    "\n",
    "print()    \n",
    "PC2019_2020 = (df_balance_sheet['totalDebt'][3] - df_balance_sheet['totalDebt'][4])/df_balance_sheet['totalDebt'][3] * 100\n",
    "print(f'Debt Change Percentage from 2019-2020:{PC2019_2020:.2f}%')\n",
    "\n",
    "PC2020_2021 = (df_balance_sheet['totalDebt'][2] - df_balance_sheet['totalDebt'][3])/df_balance_sheet['totalDebt'][2]*100\n",
    "print(f'Debt Change Percentage from 2020-2021:{PC2020_2021:.2f}%')\n",
    "\n",
    "PC2021_2022 =  (df_balance_sheet['totalDebt'][1] - df_balance_sheet['totalDebt'][2])/df_balance_sheet['totalDebt'][1]*100\n",
    "print(f'Debt Change Percentage from 2021-2022:{PC2021_2022:.2f}%')\n",
    "\n",
    "PC2022_2023 =  (df_balance_sheet['totalDebt'][0] - df_balance_sheet['totalDebt'][1])/df_balance_sheet['totalDebt'][0]*100\n",
    "print(f'Debt Change Percentage from 2022-2023:{PC2022_2023:.2f}%')\n",
    "\n",
    "    \n",
    "    "
   ],
   "outputs": [
    {
     "name": "stdout",
     "output_type": "stream",
     "text": [
      "2023-09-30 122355000000\n",
      "2022-09-24 120069000000\n",
      "2021-09-25 124719000000\n",
      "2020-09-26 112436000000\n",
      "2019-09-28 108047000000\n",
      "\n",
      "Debt Change Percentage from 2019-2020:3.90%\n",
      "Debt Change Percentage from 2020-2021:9.85%\n",
      "Debt Change Percentage from 2021-2022:-3.87%\n",
      "Debt Change Percentage from 2022-2023:1.87%\n"
     ]
    }
   ],
   "execution_count": 76
  },
  {
   "metadata": {
    "ExecuteTime": {
     "end_time": "2024-05-02T20:26:53.750121Z",
     "start_time": "2024-05-02T20:26:53.236019Z"
    }
   },
   "cell_type": "code",
   "source": [
    "plt.figure(figsize=(8,4))\n",
    "x = df_balance_sheet['date']\n",
    "y = df_balance_sheet['totalDebt']\n",
    "\n",
    "plt.xlabel('Date')\n",
    "plt.ylabel('Total Debt')\n",
    "plt.title('Total Debt', loc='left')\n",
    "\n",
    "plt.bar(x,y, color='red')\n",
    "plt.show()"
   ],
   "outputs": [
    {
     "data": {
      "text/plain": [
       "<Figure size 800x400 with 1 Axes>"
      ],
      "image/png": "[encoded data removed]"
     },
     "metadata": {},
     "output_type": "display_data"
    }
   ],
   "execution_count": 77
  },
  {
   "cell_type": "markdown",
   "source": [
    "## Debt ratio\n",
    "Debt Ratios\n",
    "- Amount of debt a company has in relation to it's assets\n",
    "- The Debt to Ratio tells us the degree of leverage used by the company\n"
   ],
   "metadata": {
    "collapsed": false
   }
  },
  {
   "cell_type": "code",
   "execution_count": 7,
   "metadata": {
    "ExecuteTime": {
     "end_time": "2024-02-12T19:46:41.277850Z",
     "start_time": "2024-02-12T19:46:41.239557Z"
    }
   },
   "outputs": [
    {
     "name": "stdout",
     "output_type": "stream",
     "text": [
      "\n",
      "The Company has more debt than Asset 0.82\n",
      "Total Assets:352583000000, Total Liabilities:290437000000\n",
      "\n",
      "The Company has more debt than Asset 0.86\n",
      "Total Assets:352755000000, Total Liabilities:302083000000\n",
      "\n",
      "The Company has more debt than Asset 0.82\n",
      "Total Assets:351002000000, Total Liabilities:287912000000\n",
      "\n",
      "The Company has more debt than Asset 0.80\n",
      "Total Assets:323888000000, Total Liabilities:258549000000\n",
      "\n",
      "The Company has more debt than Asset 0.73\n",
      "Total Assets:338516000000, Total Liabilities:248028000000\n"
     ]
    }
   ],
   "source": [
    "for index, row in df_balance_sheet.iterrows():\n",
    "    total_assets = row['totalAssets']\n",
    "    total_liabilities = row['totalLiabilities']\n",
    "    print()\n",
    "    debt_ratio = total_liabilities / total_assets\n",
    "    if debt_ratio <= 0.4:\n",
    "        print(f'The Company has more assets than debt {debt_ratio:.2f}')\n",
    "    else:\n",
    "        print(f'The Company has more debt than Asset {debt_ratio:.2f}')\n",
    "    print(f'Total Assets:{total_assets}, Total Liabilities:{total_liabilities}')\n"
   ]
  },
  {
   "cell_type": "markdown",
   "source": [
    "## Debt to Equity ratio\n",
    "- This is a measurement of the percentage of the company’s balance sheet that is financed by suppliers, lenders, creditors and obligors versus what the shareholders have committed.\n",
    "- Amount of debt a company has in relation to its equity\n",
    "- The Lower the ratio, the less the debt compared to equity\n",
    "- Whether or not a debt ratio is \"good\" depends on the context: the company's industrial sector, the current interest rate, and so on."
   ],
   "metadata": {
    "collapsed": false
   }
  },
  {
   "cell_type": "code",
   "execution_count": 8,
   "outputs": [
    {
     "name": "stdout",
     "output_type": "stream",
     "text": [
      "\n",
      "It is not a healthy ratio: 1.7875325845589418,  \n",
      "Total Debt: 111088000000, Total Equity: 62146000000\n",
      "\n",
      "It is not a healthy ratio: 2.3695334701610355,  \n",
      "Total Debt: 120069000000, Total Equity: 50672000000\n",
      "\n",
      "It is not a healthy ratio: 1.9768426058012363,  \n",
      "Total Debt: 124719000000, Total Equity: 63090000000\n",
      "\n",
      "It is not a healthy ratio: 1.720809929750991,  \n",
      "Total Debt: 112436000000, Total Equity: 65339000000\n",
      "\n",
      "It is not a healthy ratio: 1.1940478295464592,  \n",
      "Total Debt: 108047000000, Total Equity: 90488000000\n"
     ]
    }
   ],
   "source": [
    "for index, row in df_balance_sheet.iterrows():\n",
    "    total_debt = row['totalDebt']\n",
    "    total_equity = row['totalEquity']\n",
    "    print()\n",
    "    debt_to_equity = total_debt / total_equity\n",
    "    if debt_to_equity <= 0.4:\n",
    "        print(f'Good Debt to Equity Ratio: {debt_to_equity:.2f}')\n",
    "    else:\n",
    "        print(f'It is not a healthy ratio: {debt_to_equity},  ')\n",
    "    print(f'Total Debt: {total_debt}, Total Equity: {total_equity}')"
   ],
   "metadata": {
    "collapsed": false,
    "ExecuteTime": {
     "end_time": "2024-02-12T19:46:41.278674Z",
     "start_time": "2024-02-12T19:46:41.246923Z"
    }
   }
  },
  {
   "cell_type": "markdown",
   "source": [
    "## Equity Multiplier\n",
    "- Measures the proportion of a company's assets that ate financed trough debt versus equity\n",
    "- A high equity multiplier mean that the company is relying more on debt to finance its assets rather than equity\n",
    "- A lower equity multiplier suggests that a company's financial leverage is lower. In general, a low equity multiplier indicates that a corporation is not assuming excessive debt to finance its assets."
   ],
   "metadata": {
    "collapsed": false
   }
  },
  {
   "cell_type": "code",
   "execution_count": 9,
   "outputs": [
    {
     "name": "stdout",
     "output_type": "stream",
     "text": [
      "\n",
      "Total Assets: 352583000000, Total Equity: 62146000000\n",
      "Total assets are approximately 5.67 times its total equity.\n",
      "\n",
      "Total Assets: 352755000000, Total Equity: 50672000000\n",
      "Total assets are approximately 6.96 times its total equity.\n",
      "\n",
      "Total Assets: 351002000000, Total Equity: 63090000000\n",
      "Total assets are approximately 5.56 times its total equity.\n",
      "\n",
      "Total Assets: 323888000000, Total Equity: 65339000000\n",
      "Total assets are approximately 4.96 times its total equity.\n",
      "\n",
      "Total Assets: 338516000000, Total Equity: 90488000000\n",
      "Total assets are approximately 3.74 times its total equity.\n"
     ]
    }
   ],
   "source": [
    "for index, row in df_balance_sheet.iterrows():\n",
    "    total_assets = row['totalAssets']\n",
    "    total_equity = row['totalEquity']\n",
    "    print()\n",
    "    equity_multiplier = total_assets / total_equity\n",
    "    print(f'Total Assets: {total_assets}, Total Equity: {total_equity}')\n",
    "    print(f'Total assets are approximately {equity_multiplier:.2f} times its total equity.')\n"
   ],
   "metadata": {
    "collapsed": false,
    "ExecuteTime": {
     "end_time": "2024-02-12T19:46:41.279782Z",
     "start_time": "2024-02-12T19:46:41.253225Z"
    }
   }
  },
  {
   "cell_type": "markdown",
   "source": [
    "## Quick Ratio\n",
    "\n",
    "-Assesses a company's short-term liquidity and ability to meet its immediate obligations\n"
   ],
   "metadata": {
    "collapsed": false
   }
  },
  {
   "cell_type": "code",
   "execution_count": 10,
   "outputs": [
    {
     "name": "stdout",
     "output_type": "stream",
     "text": [
      "\n",
      "Total Current Assets: 143566000000, Total Current Liabilities: 145308000000, Inventory: 6331000000\n",
      "Quick Ratio:0.94\n",
      "Might have liquidity Problems\n",
      "\n",
      "Total Current Assets: 135405000000, Total Current Liabilities: 153982000000, Inventory: 4946000000\n",
      "Quick Ratio:0.85\n",
      "Might have liquidity Problems\n",
      "\n",
      "Total Current Assets: 134836000000, Total Current Liabilities: 125481000000, Inventory: 6580000000\n",
      "Quick Ratio:1.02\n",
      "The company has sufficient liquidity to cover current liabilities\n",
      "\n",
      "Total Current Assets: 143713000000, Total Current Liabilities: 105392000000, Inventory: 4061000000\n",
      "Quick Ratio:1.33\n",
      "The company has sufficient liquidity to cover current liabilities\n",
      "\n",
      "Total Current Assets: 162819000000, Total Current Liabilities: 105718000000, Inventory: 4106000000\n",
      "Quick Ratio:1.50\n",
      "The company has sufficient liquidity to cover current liabilities\n"
     ]
    }
   ],
   "source": [
    "for index, row in df_balance_sheet.iterrows():\n",
    "    current_assets = row['totalCurrentAssets']\n",
    "    inventory = row['inventory']\n",
    "    current_liabilities = row['totalCurrentLiabilities']\n",
    "    print()\n",
    "    quick_ratio = (current_assets - inventory) / current_liabilities\n",
    "    print(f'Total Current Assets: {current_assets}, Total Current Liabilities: {current_liabilities}, Inventory: {inventory}')\n",
    "    print(f'Quick Ratio:{quick_ratio:.2f}')\n",
    "    if quick_ratio > 1:\n",
    "        print(f'The company has sufficient liquidity to cover current liabilities')\n",
    "    else:\n",
    "       print('Might have liquidity Problems')"
   ],
   "metadata": {
    "collapsed": false,
    "ExecuteTime": {
     "end_time": "2024-02-12T19:46:41.342275Z",
     "start_time": "2024-02-12T19:46:41.263624Z"
    }
   }
  },
  {
   "cell_type": "markdown",
   "source": [
    "## Current Ratio\n",
    "\n",
    "- The current ratio is a liquidity ratio that measures a company’s ability to pay short-term obligations\n",
    "- A current ratio of 1.0 or greater is an indicator that the company is well-positioned to cover its current or short-term Liabilities"
   ],
   "metadata": {
    "collapsed": false
   }
  },
  {
   "cell_type": "code",
   "execution_count": 11,
   "outputs": [
    {
     "name": "stdout",
     "output_type": "stream",
     "text": [
      "\n",
      "2023-09-30\n",
      "Total Current Assets: 143566000000, Total Current Liabilities: 145308000000\n",
      "Current Ratio: 0.99\n",
      "\n",
      "2022-09-24\n",
      "Total Current Assets: 135405000000, Total Current Liabilities: 153982000000\n",
      "Current Ratio: 0.88\n",
      "\n",
      "2021-09-25\n",
      "Total Current Assets: 134836000000, Total Current Liabilities: 125481000000\n",
      "Current Ratio: 1.07\n",
      "\n",
      "2020-09-26\n",
      "Total Current Assets: 143713000000, Total Current Liabilities: 105392000000\n",
      "Current Ratio: 1.36\n",
      "\n",
      "2019-09-28\n",
      "Total Current Assets: 162819000000, Total Current Liabilities: 105718000000\n",
      "Current Ratio: 1.54\n"
     ]
    }
   ],
   "source": [
    "for index, row, in df_balance_sheet.iterrows():\n",
    "    current_assets = row['totalCurrentAssets']\n",
    "    current_liabilities = row['totalCurrentLiabilities']\n",
    "    date = row['date']\n",
    "    print()\n",
    "    current_ratio = current_assets / current_liabilities\n",
    "    print(date)\n",
    "    print(f'Total Current Assets: {current_assets}, Total Current Liabilities: {current_liabilities}')\n",
    "    print(f'Current Ratio: {current_ratio:.2f}')\n"
   ],
   "metadata": {
    "collapsed": false,
    "ExecuteTime": {
     "end_time": "2024-02-12T19:46:41.342927Z",
     "start_time": "2024-02-12T19:46:41.270185Z"
    }
   }
  },
  {
   "cell_type": "markdown",
   "source": [
    "## Net Working Capital"
   ],
   "metadata": {
    "collapsed": false
   }
  },
  {
   "cell_type": "code",
   "execution_count": 12,
   "outputs": [
    {
     "name": "stdout",
     "output_type": "stream",
     "text": [
      "\n",
      "Total Current Assets: 143566000000, Total Current Liabilities: 145308000000, Total Assets: 352583000000\n",
      "Net Working Capital -0.00\n",
      "\n",
      "Total Current Assets: 135405000000, Total Current Liabilities: 153982000000, Total Assets: 352755000000\n",
      "Net Working Capital -0.05\n",
      "\n",
      "Total Current Assets: 134836000000, Total Current Liabilities: 125481000000, Total Assets: 351002000000\n",
      "Net Working Capital  0.03\n",
      "\n",
      "Total Current Assets: 143713000000, Total Current Liabilities: 105392000000, Total Assets: 323888000000\n",
      "Net Working Capital  0.12\n",
      "\n",
      "Total Current Assets: 162819000000, Total Current Liabilities: 105718000000, Total Assets: 338516000000\n",
      "Net Working Capital  0.17\n"
     ]
    }
   ],
   "source": [
    "# current assets - current Liabilities / total Assets\n",
    "for index, row, in df_balance_sheet.iterrows():\n",
    "    current_assets = row['totalCurrentAssets']\n",
    "    current_liabilities = row['totalCurrentLiabilities']\n",
    "    total_assets = row['totalAssets']\n",
    "    print()\n",
    "    NWC = (current_assets - current_liabilities) / total_assets\n",
    "    print(f'Total Current Assets: {current_assets}, Total Current Liabilities: {current_liabilities}, Total Assets: {total_assets}')\n",
    "    print(f'Net Working Capital {NWC: .2f}')"
   ],
   "metadata": {
    "collapsed": false,
    "ExecuteTime": {
     "end_time": "2024-02-12T19:46:41.346211Z",
     "start_time": "2024-02-12T19:46:41.277282Z"
    }
   }
  },
  {
   "cell_type": "markdown",
   "source": [
    "## Total Debt - to - Capitalization Ratio\n",
    "* The total amount of debt in relation to company's total capitalization\n",
    "* The lower ratio the less your business is capitalized using debt"
   ],
   "metadata": {
    "collapsed": false
   }
  },
  {
   "cell_type": "code",
   "execution_count": 13,
   "outputs": [
    {
     "name": "stdout",
     "output_type": "stream",
     "text": [
      "Total Debt to Capitalization ratio: 0.6412597988847455\n",
      "Total Debt to Capitalization ratio: 0.7032230102904399\n",
      "Total Debt to Capitalization ratio: 0.6640736066961648\n",
      "Total Debt to Capitalization ratio: 0.6324623822247223\n",
      "Total Debt to Capitalization ratio: 0.5442214219155312\n"
     ]
    }
   ],
   "source": [
    "def tdebt_to_cap(total_debt, shareholders_equity):\n",
    "    return total_debt / (total_debt + shareholders_equity)\n",
    "\n",
    "for index, row in df_balance_sheet.iterrows():\n",
    "    total_debt = row['totalDebt']\n",
    "    shareholders_equity = row['totalStockholdersEquity']\n",
    "\n",
    "    result = tdebt_to_cap(total_debt, shareholders_equity)\n",
    "    print(f'Total Debt to Capitalization ratio: {result}')"
   ],
   "metadata": {
    "collapsed": false,
    "ExecuteTime": {
     "end_time": "2024-02-12T19:46:41.371682Z",
     "start_time": "2024-02-12T19:46:41.283082Z"
    }
   }
  },
  {
   "cell_type": "markdown",
   "source": [
    "## Cash Flow Projection\n",
    "\n",
    "* Opening Balance -> Starting cash balance for the projection period\n",
    "* Revenue\n",
    "* Investments"
   ],
   "metadata": {
    "collapsed": false
   }
  },
  {
   "cell_type": "code",
   "execution_count": 14,
   "outputs": [
    {
     "name": "stdout",
     "output_type": "stream",
     "text": [
      "Year: 2023\n",
      "Predicted Cash and Equivalents: 24656600000.00\n",
      "-----\n",
      "Year: 2024\n",
      "Predicted Cash and Equivalents: 19443800000.00\n",
      "-----\n",
      "Year: 2025\n",
      "Predicted Cash and Equivalents: 14231000000.00\n",
      "-----\n"
     ]
    }
   ],
   "source": [
    "df_balance_sheet['date'] = pd.to_datetime(df_balance_sheet['date'])\n",
    "df_balance_sheet = df_balance_sheet.sort_values(by = 'date')\n",
    "\n",
    "df_balance_sheet['year'] = df_balance_sheet['date'].dt.year\n",
    "\n",
    "years = df_balance_sheet['year'].values.reshape(-1,1)\n",
    "cash_and_cash_equivalents = df_balance_sheet['cashAndCashEquivalents'].values\n",
    "\n",
    "CACE_model = LinearRegression().fit(years, cash_and_cash_equivalents)\n",
    "\n",
    "\n",
    "future_years = np.array([2023, 2024, 2025]).reshape(-1,1)\n",
    "predicted_CACE = CACE_model.predict(future_years)\n",
    "\n",
    "for year, caec in zip(future_years, predicted_CACE):\n",
    "     print(f\"Year: {year[0]}\")\n",
    "     print(f'Predicted Cash and Equivalents: {caec:.2f}')\n",
    "     print(\"-----\")"
   ],
   "metadata": {
    "collapsed": false,
    "ExecuteTime": {
     "end_time": "2024-02-12T19:46:41.425088Z",
     "start_time": "2024-02-12T19:46:41.309161Z"
    }
   }
  },
  {
   "cell_type": "code",
   "execution_count": 15,
   "outputs": [
    {
     "name": "stdout",
     "output_type": "stream",
     "text": [
      "111088000000\n"
     ]
    }
   ],
   "source": [
    "#For DCF\n",
    "total_debt = df_balance_sheet['totalDebt'][0]\n",
    "\n",
    "\n",
    "print(total_debt)\n"
   ],
   "metadata": {
    "collapsed": false,
    "ExecuteTime": {
     "end_time": "2024-02-12T19:46:41.425798Z",
     "start_time": "2024-02-12T19:46:41.316444Z"
    }
   }
  },
  {
   "cell_type": "code",
   "execution_count": 16,
   "outputs": [
    {
     "name": "stdout",
     "output_type": "stream",
     "text": [
      "29965000000\n"
     ]
    }
   ],
   "source": [
    "cash = df_balance_sheet['cashAndCashEquivalents'][0]\n",
    "\n",
    "print(cash)"
   ],
   "metadata": {
    "collapsed": false,
    "ExecuteTime": {
     "end_time": "2024-02-12T19:46:41.426445Z",
     "start_time": "2024-02-12T19:46:41.320786Z"
    }
   }
  },
  {
   "cell_type": "code",
   "execution_count": 17,
   "outputs": [
    {
     "name": "stdout",
     "output_type": "stream",
     "text": [
      "90488000000\n"
     ]
    }
   ],
   "source": [
    "print(total_equity)"
   ],
   "metadata": {
    "collapsed": false,
    "ExecuteTime": {
     "end_time": "2024-02-12T19:46:41.427843Z",
     "start_time": "2024-02-12T19:46:41.326172Z"
    }
   }
  }
 ],
 "metadata": {
  "kernelspec": {
   "display_name": "Python 3 (ipykernel)",
   "language": "python",
   "name": "python3"
  },
  "language_info": {
   "codemirror_mode": {
    "name": "ipython",
    "version": 3
   },
   "file_extension": ".py",
   "mimetype": "text/x-python",
   "name": "python",
   "nbconvert_exporter": "python",
   "pygments_lexer": "ipython3",
   "version": "3.9.7"
  }
 },
 "nbformat": 4,
 "nbformat_minor": 1
}

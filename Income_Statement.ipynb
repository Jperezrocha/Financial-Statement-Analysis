{
 "cells": [
  {
   "cell_type": "code",
   "execution_count": 4,
   "metadata": {},
   "outputs": [],
   "source": [
    "import matplotlib.pyplot as plt\n",
    "from matplotlib.pyplot import style\n",
    "import requests\n",
    "import pandas as pd\n",
    "import numpy as np\n",
    "from sklearn.linear_model import LinearRegression"
   ]
  },
  {
   "cell_type": "code",
   "execution_count": 5,
   "metadata": {},
   "outputs": [],
   "source": [
    "ticker = \"AAPL\"\n",
    "api_key = \"ec2d6f3b0cc9395fbce02f1316669229\"\n",
    "years = 10"
   ]
  },
  {
   "cell_type": "code",
   "execution_count": 6,
   "metadata": {},
   "outputs": [
    {
     "name": "stdout",
     "output_type": "stream",
     "text": [
      "[{'date': '2022-09-24', 'symbol': 'AAPL', 'reportedCurrency': 'USD', 'cik': '0000320193', 'fillingDate': '2022-10-28', 'acceptedDate': '2022-10-27 18:01:14', 'calendarYear': '2022', 'period': 'FY', 'revenue': 394328000000, 'costOfRevenue': 223546000000, 'grossProfit': 170782000000, 'grossProfitRatio': 0.4330963056, 'researchAndDevelopmentExpenses': 26251000000, 'generalAndAdministrativeExpenses': 0, 'sellingAndMarketingExpenses': 0, 'sellingGeneralAndAdministrativeExpenses': 25094000000, 'otherExpenses': -334000000, 'operatingExpenses': 51345000000, 'costAndExpenses': 274891000000, 'interestIncome': 2825000000, 'interestExpense': 2931000000, 'depreciationAndAmortization': 11104000000, 'ebitda': 130541000000, 'ebitdaratio': 0.3310467428, 'operatingIncome': 119437000000, 'operatingIncomeRatio': 0.302887444, 'totalOtherIncomeExpensesNet': -334000000, 'incomeBeforeTax': 119103000000, 'incomeBeforeTaxRatio': 0.3020404333, 'incomeTaxExpense': 19300000000, 'netIncome': 99803000000, 'netIncomeRatio': 0.2530964071, 'eps': 6.15, 'epsdiluted': 6.11, 'weightedAverageShsOut': 16215963000, 'weightedAverageShsOutDil': 16325819000, 'link': 'https://www.sec.gov/Archives/edgar/data/320193/000032019322000108/0000320193-22-000108-index.htm', 'finalLink': 'https://www.sec.gov/Archives/edgar/data/320193/000032019322000108/aapl-20220924.htm'}, {'date': '2021-09-25', 'symbol': 'AAPL', 'reportedCurrency': 'USD', 'cik': '0000320193', 'fillingDate': '2021-10-29', 'acceptedDate': '2021-10-28 18:04:28', 'calendarYear': '2021', 'period': 'FY', 'revenue': 365817000000, 'costOfRevenue': 212981000000, 'grossProfit': 152836000000, 'grossProfitRatio': 0.4177935963, 'researchAndDevelopmentExpenses': 21914000000, 'generalAndAdministrativeExpenses': 0, 'sellingAndMarketingExpenses': 0, 'sellingGeneralAndAdministrativeExpenses': 21973000000, 'otherExpenses': 258000000, 'operatingExpenses': 43887000000, 'costAndExpenses': 256868000000, 'interestIncome': 2843000000, 'interestExpense': 2645000000, 'depreciationAndAmortization': 11284000000, 'ebitda': 120233000000, 'ebitdaratio': 0.3286697994, 'operatingIncome': 108949000000, 'operatingIncomeRatio': 0.2978237753, 'totalOtherIncomeExpensesNet': 258000000, 'incomeBeforeTax': 109207000000, 'incomeBeforeTaxRatio': 0.2985290459, 'incomeTaxExpense': 14527000000, 'netIncome': 94680000000, 'netIncomeRatio': 0.2588179336, 'eps': 5.67, 'epsdiluted': 5.61, 'weightedAverageShsOut': 16701272000, 'weightedAverageShsOutDil': 16864919000, 'link': 'https://www.sec.gov/Archives/edgar/data/320193/000032019321000105/0000320193-21-000105-index.htm', 'finalLink': 'https://www.sec.gov/Archives/edgar/data/320193/000032019321000105/aapl-20210925.htm'}, {'date': '2020-09-26', 'symbol': 'AAPL', 'reportedCurrency': 'USD', 'cik': '0000320193', 'fillingDate': '2020-10-30', 'acceptedDate': '2020-10-29 18:06:25', 'calendarYear': '2020', 'period': 'FY', 'revenue': 274515000000, 'costOfRevenue': 169559000000, 'grossProfit': 104956000000, 'grossProfitRatio': 0.3823324773, 'researchAndDevelopmentExpenses': 18752000000, 'generalAndAdministrativeExpenses': 0, 'sellingAndMarketingExpenses': 0, 'sellingGeneralAndAdministrativeExpenses': 19916000000, 'otherExpenses': 803000000, 'operatingExpenses': 38668000000, 'costAndExpenses': 208227000000, 'interestIncome': 3763000000, 'interestExpense': 2873000000, 'depreciationAndAmortization': 11056000000, 'ebitda': 77344000000, 'ebitdaratio': 0.2817478098, 'operatingIncome': 66288000000, 'operatingIncomeRatio': 0.2414731435, 'totalOtherIncomeExpensesNet': 803000000, 'incomeBeforeTax': 67091000000, 'incomeBeforeTaxRatio': 0.2443983025, 'incomeTaxExpense': 9680000000, 'netIncome': 57411000000, 'netIncomeRatio': 0.2091361128, 'eps': 3.31, 'epsdiluted': 3.28, 'weightedAverageShsOut': 17352119000, 'weightedAverageShsOutDil': 17528214000, 'link': 'https://www.sec.gov/Archives/edgar/data/320193/000032019320000096/0000320193-20-000096-index.htm', 'finalLink': 'https://www.sec.gov/Archives/edgar/data/320193/000032019320000096/aapl-20200926.htm'}, {'date': '2019-09-28', 'symbol': 'AAPL', 'reportedCurrency': 'USD', 'cik': '0000320193', 'fillingDate': '2019-10-31', 'acceptedDate': '2019-10-30 18:12:36', 'calendarYear': '2019', 'period': 'FY', 'revenue': 260174000000, 'costOfRevenue': 161782000000, 'grossProfit': 98392000000, 'grossProfitRatio': 0.3781776811, 'researchAndDevelopmentExpenses': 16217000000, 'generalAndAdministrativeExpenses': 0, 'sellingAndMarketingExpenses': 0, 'sellingGeneralAndAdministrativeExpenses': 18245000000, 'otherExpenses': 1807000000, 'operatingExpenses': 34462000000, 'costAndExpenses': 196244000000, 'interestIncome': 4961000000, 'interestExpense': 3576000000, 'depreciationAndAmortization': 12547000000, 'ebitda': 76477000000, 'ebitdaratio': 0.2939455903, 'operatingIncome': 63930000000, 'operatingIncomeRatio': 0.2457201719, 'totalOtherIncomeExpensesNet': 1807000000, 'incomeBeforeTax': 65737000000, 'incomeBeforeTaxRatio': 0.2526655238, 'incomeTaxExpense': 10481000000, 'netIncome': 55256000000, 'netIncomeRatio': 0.2123809451, 'eps': 2.99, 'epsdiluted': 2.97, 'weightedAverageShsOut': 18471336000, 'weightedAverageShsOutDil': 18595652000, 'link': 'https://www.sec.gov/Archives/edgar/data/320193/000032019319000119/0000320193-19-000119-index.htm', 'finalLink': 'https://www.sec.gov/Archives/edgar/data/320193/000032019319000119/a10-k20199282019.htm'}, {'date': '2018-09-29', 'symbol': 'AAPL', 'reportedCurrency': 'USD', 'cik': '0000320193', 'fillingDate': '2018-11-05', 'acceptedDate': '2018-11-05 08:01:40', 'calendarYear': '2018', 'period': 'FY', 'revenue': 265595000000, 'costOfRevenue': 163756000000, 'grossProfit': 101839000000, 'grossProfitRatio': 0.3834371882, 'researchAndDevelopmentExpenses': 14236000000, 'generalAndAdministrativeExpenses': 0, 'sellingAndMarketingExpenses': 0, 'sellingGeneralAndAdministrativeExpenses': 16705000000, 'otherExpenses': 2005000000, 'operatingExpenses': 30941000000, 'costAndExpenses': 194697000000, 'interestIncome': 5686000000, 'interestExpense': 3240000000, 'depreciationAndAmortization': 10903000000, 'ebitda': 81801000000, 'ebitdaratio': 0.3079914908, 'operatingIncome': 70898000000, 'operatingIncomeRatio': 0.2669402662, 'totalOtherIncomeExpensesNet': 2005000000, 'incomeBeforeTax': 72903000000, 'incomeBeforeTaxRatio': 0.2744893541, 'incomeTaxExpense': 13372000000, 'netIncome': 59531000000, 'netIncomeRatio': 0.2241420207, 'eps': 3, 'epsdiluted': 2.98, 'weightedAverageShsOut': 19821508000, 'weightedAverageShsOutDil': 20000436000, 'link': 'https://www.sec.gov/Archives/edgar/data/320193/000032019318000145/0000320193-18-000145-index.htm', 'finalLink': 'https://www.sec.gov/Archives/edgar/data/320193/000032019318000145/a10-k20189292018.htm'}]\n"
     ]
    }
   ],
   "source": [
    "url = (f\"https://financialmodelingprep.com/api/v3/income-statement/{ticker}?limit={years}&apikey={api_key}\")\n",
    "r = requests.get(url)\n",
    "income_statement = r.json()\n",
    "\n",
    "print(income_statement)"
   ]
  },
  {
   "cell_type": "code",
   "execution_count": 7,
   "metadata": {},
   "outputs": [
    {
     "name": "stdout",
     "output_type": "stream",
     "text": [
      "         date symbol reportedCurrency         cik fillingDate  \\\n",
      "0  2022-09-24   AAPL              USD  0000320193  2022-10-28   \n",
      "1  2021-09-25   AAPL              USD  0000320193  2021-10-29   \n",
      "2  2020-09-26   AAPL              USD  0000320193  2020-10-30   \n",
      "3  2019-09-28   AAPL              USD  0000320193  2019-10-31   \n",
      "4  2018-09-29   AAPL              USD  0000320193  2018-11-05   \n",
      "\n",
      "          acceptedDate calendarYear period       revenue  costOfRevenue  ...  \\\n",
      "0  2022-10-27 18:01:14         2022     FY  394328000000   223546000000  ...   \n",
      "1  2021-10-28 18:04:28         2021     FY  365817000000   212981000000  ...   \n",
      "2  2020-10-29 18:06:25         2020     FY  274515000000   169559000000  ...   \n",
      "3  2019-10-30 18:12:36         2019     FY  260174000000   161782000000  ...   \n",
      "4  2018-11-05 08:01:40         2018     FY  265595000000   163756000000  ...   \n",
      "\n",
      "   incomeBeforeTaxRatio  incomeTaxExpense    netIncome  netIncomeRatio   eps  \\\n",
      "0              0.302040       19300000000  99803000000        0.253096  6.15   \n",
      "1              0.298529       14527000000  94680000000        0.258818  5.67   \n",
      "2              0.244398        9680000000  57411000000        0.209136  3.31   \n",
      "3              0.252666       10481000000  55256000000        0.212381  2.99   \n",
      "4              0.274489       13372000000  59531000000        0.224142  3.00   \n",
      "\n",
      "   epsdiluted  weightedAverageShsOut  weightedAverageShsOutDil  \\\n",
      "0        6.11            16215963000               16325819000   \n",
      "1        5.61            16701272000               16864919000   \n",
      "2        3.28            17352119000               17528214000   \n",
      "3        2.97            18471336000               18595652000   \n",
      "4        2.98            19821508000               20000436000   \n",
      "\n",
      "                                                link  \\\n",
      "0  https://www.sec.gov/Archives/edgar/data/320193...   \n",
      "1  https://www.sec.gov/Archives/edgar/data/320193...   \n",
      "2  https://www.sec.gov/Archives/edgar/data/320193...   \n",
      "3  https://www.sec.gov/Archives/edgar/data/320193...   \n",
      "4  https://www.sec.gov/Archives/edgar/data/320193...   \n",
      "\n",
      "                                           finalLink  \n",
      "0  https://www.sec.gov/Archives/edgar/data/320193...  \n",
      "1  https://www.sec.gov/Archives/edgar/data/320193...  \n",
      "2  https://www.sec.gov/Archives/edgar/data/320193...  \n",
      "3  https://www.sec.gov/Archives/edgar/data/320193...  \n",
      "4  https://www.sec.gov/Archives/edgar/data/320193...  \n",
      "\n",
      "[5 rows x 38 columns]\n"
     ]
    }
   ],
   "source": [
    "df_income_statement = pd.DataFrame(income_statement)\n",
    "print(df_income_statement)\n"
   ]
  },
  {
   "cell_type": "code",
   "execution_count": 8,
   "metadata": {},
   "outputs": [
    {
     "data": {
      "text/plain": "         date symbol reportedCurrency         cik fillingDate  \\\n0  2022-09-24   AAPL              USD  0000320193  2022-10-28   \n1  2021-09-25   AAPL              USD  0000320193  2021-10-29   \n2  2020-09-26   AAPL              USD  0000320193  2020-10-30   \n3  2019-09-28   AAPL              USD  0000320193  2019-10-31   \n4  2018-09-29   AAPL              USD  0000320193  2018-11-05   \n\n          acceptedDate calendarYear period       revenue  costOfRevenue  ...  \\\n0  2022-10-27 18:01:14         2022     FY  394328000000   223546000000  ...   \n1  2021-10-28 18:04:28         2021     FY  365817000000   212981000000  ...   \n2  2020-10-29 18:06:25         2020     FY  274515000000   169559000000  ...   \n3  2019-10-30 18:12:36         2019     FY  260174000000   161782000000  ...   \n4  2018-11-05 08:01:40         2018     FY  265595000000   163756000000  ...   \n\n   incomeBeforeTaxRatio  incomeTaxExpense    netIncome  netIncomeRatio   eps  \\\n0              0.302040       19300000000  99803000000        0.253096  6.15   \n1              0.298529       14527000000  94680000000        0.258818  5.67   \n2              0.244398        9680000000  57411000000        0.209136  3.31   \n3              0.252666       10481000000  55256000000        0.212381  2.99   \n4              0.274489       13372000000  59531000000        0.224142  3.00   \n\n   epsdiluted  weightedAverageShsOut  weightedAverageShsOutDil  \\\n0        6.11            16215963000               16325819000   \n1        5.61            16701272000               16864919000   \n2        3.28            17352119000               17528214000   \n3        2.97            18471336000               18595652000   \n4        2.98            19821508000               20000436000   \n\n                                                link  \\\n0  https://www.sec.gov/Archives/edgar/data/320193...   \n1  https://www.sec.gov/Archives/edgar/data/320193...   \n2  https://www.sec.gov/Archives/edgar/data/320193...   \n3  https://www.sec.gov/Archives/edgar/data/320193...   \n4  https://www.sec.gov/Archives/edgar/data/320193...   \n\n                                           finalLink  \n0  https://www.sec.gov/Archives/edgar/data/320193...  \n1  https://www.sec.gov/Archives/edgar/data/320193...  \n2  https://www.sec.gov/Archives/edgar/data/320193...  \n3  https://www.sec.gov/Archives/edgar/data/320193...  \n4  https://www.sec.gov/Archives/edgar/data/320193...  \n\n[5 rows x 38 columns]",
      "text/html": "<div>\n<style scoped>\n    .dataframe tbody tr th:only-of-type {\n        vertical-align: middle;\n    }\n\n    .dataframe tbody tr th {\n        vertical-align: top;\n    }\n\n    .dataframe thead th {\n        text-align: right;\n    }\n</style>\n<table border=\"1\" class=\"dataframe\">\n  <thead>\n    <tr style=\"text-align: right;\">\n      <th></th>\n      <th>date</th>\n      <th>symbol</th>\n      <th>reportedCurrency</th>\n      <th>cik</th>\n      <th>fillingDate</th>\n      <th>acceptedDate</th>\n      <th>calendarYear</th>\n      <th>period</th>\n      <th>revenue</th>\n      <th>costOfRevenue</th>\n      <th>...</th>\n      <th>incomeBeforeTaxRatio</th>\n      <th>incomeTaxExpense</th>\n      <th>netIncome</th>\n      <th>netIncomeRatio</th>\n      <th>eps</th>\n      <th>epsdiluted</th>\n      <th>weightedAverageShsOut</th>\n      <th>weightedAverageShsOutDil</th>\n      <th>link</th>\n      <th>finalLink</th>\n    </tr>\n  </thead>\n  <tbody>\n    <tr>\n      <th>0</th>\n      <td>2022-09-24</td>\n      <td>AAPL</td>\n      <td>USD</td>\n      <td>0000320193</td>\n      <td>2022-10-28</td>\n      <td>2022-10-27 18:01:14</td>\n      <td>2022</td>\n      <td>FY</td>\n      <td>394328000000</td>\n      <td>223546000000</td>\n      <td>...</td>\n      <td>0.302040</td>\n      <td>19300000000</td>\n      <td>99803000000</td>\n      <td>0.253096</td>\n      <td>6.15</td>\n      <td>6.11</td>\n      <td>16215963000</td>\n      <td>16325819000</td>\n      <td>https://www.sec.gov/Archives/edgar/data/320193...</td>\n      <td>https://www.sec.gov/Archives/edgar/data/320193...</td>\n    </tr>\n    <tr>\n      <th>1</th>\n      <td>2021-09-25</td>\n      <td>AAPL</td>\n      <td>USD</td>\n      <td>0000320193</td>\n      <td>2021-10-29</td>\n      <td>2021-10-28 18:04:28</td>\n      <td>2021</td>\n      <td>FY</td>\n      <td>365817000000</td>\n      <td>212981000000</td>\n      <td>...</td>\n      <td>0.298529</td>\n      <td>14527000000</td>\n      <td>94680000000</td>\n      <td>0.258818</td>\n      <td>5.67</td>\n      <td>5.61</td>\n      <td>16701272000</td>\n      <td>16864919000</td>\n      <td>https://www.sec.gov/Archives/edgar/data/320193...</td>\n      <td>https://www.sec.gov/Archives/edgar/data/320193...</td>\n    </tr>\n    <tr>\n      <th>2</th>\n      <td>2020-09-26</td>\n      <td>AAPL</td>\n      <td>USD</td>\n      <td>0000320193</td>\n      <td>2020-10-30</td>\n      <td>2020-10-29 18:06:25</td>\n      <td>2020</td>\n      <td>FY</td>\n      <td>274515000000</td>\n      <td>169559000000</td>\n      <td>...</td>\n      <td>0.244398</td>\n      <td>9680000000</td>\n      <td>57411000000</td>\n      <td>0.209136</td>\n      <td>3.31</td>\n      <td>3.28</td>\n      <td>17352119000</td>\n      <td>17528214000</td>\n      <td>https://www.sec.gov/Archives/edgar/data/320193...</td>\n      <td>https://www.sec.gov/Archives/edgar/data/320193...</td>\n    </tr>\n    <tr>\n      <th>3</th>\n      <td>2019-09-28</td>\n      <td>AAPL</td>\n      <td>USD</td>\n      <td>0000320193</td>\n      <td>2019-10-31</td>\n      <td>2019-10-30 18:12:36</td>\n      <td>2019</td>\n      <td>FY</td>\n      <td>260174000000</td>\n      <td>161782000000</td>\n      <td>...</td>\n      <td>0.252666</td>\n      <td>10481000000</td>\n      <td>55256000000</td>\n      <td>0.212381</td>\n      <td>2.99</td>\n      <td>2.97</td>\n      <td>18471336000</td>\n      <td>18595652000</td>\n      <td>https://www.sec.gov/Archives/edgar/data/320193...</td>\n      <td>https://www.sec.gov/Archives/edgar/data/320193...</td>\n    </tr>\n    <tr>\n      <th>4</th>\n      <td>2018-09-29</td>\n      <td>AAPL</td>\n      <td>USD</td>\n      <td>0000320193</td>\n      <td>2018-11-05</td>\n      <td>2018-11-05 08:01:40</td>\n      <td>2018</td>\n      <td>FY</td>\n      <td>265595000000</td>\n      <td>163756000000</td>\n      <td>...</td>\n      <td>0.274489</td>\n      <td>13372000000</td>\n      <td>59531000000</td>\n      <td>0.224142</td>\n      <td>3.00</td>\n      <td>2.98</td>\n      <td>19821508000</td>\n      <td>20000436000</td>\n      <td>https://www.sec.gov/Archives/edgar/data/320193...</td>\n      <td>https://www.sec.gov/Archives/edgar/data/320193...</td>\n    </tr>\n  </tbody>\n</table>\n<p>5 rows × 38 columns</p>\n</div>"
     },
     "execution_count": 8,
     "metadata": {},
     "output_type": "execute_result"
    }
   ],
   "source": [
    "df_income_statement.head()"
   ]
  },
  {
   "cell_type": "code",
   "execution_count": 9,
   "metadata": {},
   "outputs": [
    {
     "name": "stdout",
     "output_type": "stream",
     "text": [
      "<class 'pandas.core.frame.DataFrame'>\n",
      "RangeIndex: 5 entries, 0 to 4\n",
      "Data columns (total 38 columns):\n",
      " #   Column                                   Non-Null Count  Dtype  \n",
      "---  ------                                   --------------  -----  \n",
      " 0   date                                     5 non-null      object \n",
      " 1   symbol                                   5 non-null      object \n",
      " 2   reportedCurrency                         5 non-null      object \n",
      " 3   cik                                      5 non-null      object \n",
      " 4   fillingDate                              5 non-null      object \n",
      " 5   acceptedDate                             5 non-null      object \n",
      " 6   calendarYear                             5 non-null      object \n",
      " 7   period                                   5 non-null      object \n",
      " 8   revenue                                  5 non-null      int64  \n",
      " 9   costOfRevenue                            5 non-null      int64  \n",
      " 10  grossProfit                              5 non-null      int64  \n",
      " 11  grossProfitRatio                         5 non-null      float64\n",
      " 12  researchAndDevelopmentExpenses           5 non-null      int64  \n",
      " 13  generalAndAdministrativeExpenses         5 non-null      int64  \n",
      " 14  sellingAndMarketingExpenses              5 non-null      int64  \n",
      " 15  sellingGeneralAndAdministrativeExpenses  5 non-null      int64  \n",
      " 16  otherExpenses                            5 non-null      int64  \n",
      " 17  operatingExpenses                        5 non-null      int64  \n",
      " 18  costAndExpenses                          5 non-null      int64  \n",
      " 19  interestIncome                           5 non-null      int64  \n",
      " 20  interestExpense                          5 non-null      int64  \n",
      " 21  depreciationAndAmortization              5 non-null      int64  \n",
      " 22  ebitda                                   5 non-null      int64  \n",
      " 23  ebitdaratio                              5 non-null      float64\n",
      " 24  operatingIncome                          5 non-null      int64  \n",
      " 25  operatingIncomeRatio                     5 non-null      float64\n",
      " 26  totalOtherIncomeExpensesNet              5 non-null      int64  \n",
      " 27  incomeBeforeTax                          5 non-null      int64  \n",
      " 28  incomeBeforeTaxRatio                     5 non-null      float64\n",
      " 29  incomeTaxExpense                         5 non-null      int64  \n",
      " 30  netIncome                                5 non-null      int64  \n",
      " 31  netIncomeRatio                           5 non-null      float64\n",
      " 32  eps                                      5 non-null      float64\n",
      " 33  epsdiluted                               5 non-null      float64\n",
      " 34  weightedAverageShsOut                    5 non-null      int64  \n",
      " 35  weightedAverageShsOutDil                 5 non-null      int64  \n",
      " 36  link                                     5 non-null      object \n",
      " 37  finalLink                                5 non-null      object \n",
      "dtypes: float64(7), int64(21), object(10)\n",
      "memory usage: 1.6+ KB\n"
     ]
    }
   ],
   "source": [
    "df_income_statement.info()"
   ]
  },
  {
   "cell_type": "markdown",
   "source": [
    "## Gross Profit Margin\n",
    "* It indicates the capability of a Company to achieve a satisfactory return on its products or services.\n",
    "* The gross margin ratio, derived from deducting the cost of goods sold from the profit, is a measure of profitability that contrasts a company's gross margin with its total revenue.\n",
    "* For instance, if the ratio is determined to be 30%, it implies that for each dollar of revenue earned, 0.30 is kept, and 0.70 goes towards the cost of goods sold."
   ],
   "metadata": {
    "collapsed": false
   }
  },
  {
   "cell_type": "code",
   "execution_count": 10,
   "outputs": [
    {
     "name": "stdout",
     "output_type": "stream",
     "text": [
      "\n",
      "Date: 2022-09-24\n",
      "Gross Profit: 170782000000 , Revenue: 394328000000\n",
      "43.31%\n",
      "\n",
      "Date: 2021-09-25\n",
      "Gross Profit: 152836000000 , Revenue: 365817000000\n",
      "41.78%\n",
      "\n",
      "Date: 2020-09-26\n",
      "Gross Profit: 104956000000 , Revenue: 274515000000\n",
      "38.23%\n",
      "\n",
      "Date: 2019-09-28\n",
      "Gross Profit: 98392000000 , Revenue: 260174000000\n",
      "37.82%\n",
      "\n",
      "Date: 2018-09-29\n",
      "Gross Profit: 101839000000 , Revenue: 265595000000\n",
      "38.34%\n"
     ]
    }
   ],
   "source": [
    "for index, row in df_income_statement.iterrows():\n",
    "    gross_profit  = row['grossProfit']\n",
    "    revenue = row['revenue']\n",
    "    date = row['date']\n",
    "    print()\n",
    "    gpm = gross_profit / revenue\n",
    "    print(f'Date: {date}')\n",
    "    print(f'Gross Profit: {gross_profit} , Revenue: {revenue}')\n",
    "    print(f\"{gpm:.2%}\")"
   ],
   "metadata": {
    "collapsed": false
   }
  },
  {
   "cell_type": "markdown",
   "source": [
    "## Net Profit Margin\n",
    "* It determines the profit percentage a company makes from its overall revenue.\n",
    "* By subtracting all of the company's expenses from its total revenue, a 20% profit margin indicates that for every 1 of revenue, the company secures a net profit of $0.20."
   ],
   "metadata": {
    "collapsed": false
   }
  },
  {
   "cell_type": "code",
   "execution_count": 11,
   "metadata": {},
   "outputs": [
    {
     "name": "stdout",
     "output_type": "stream",
     "text": [
      "\n",
      "Date: 2022-09-24\n",
      "Net Income: 99803000000, Revenue 394328000000\n",
      "25.31%\n",
      "\n",
      "Date: 2021-09-25\n",
      "Net Income: 94680000000, Revenue 365817000000\n",
      "25.88%\n",
      "\n",
      "Date: 2020-09-26\n",
      "Net Income: 57411000000, Revenue 274515000000\n",
      "20.91%\n",
      "\n",
      "Date: 2019-09-28\n",
      "Net Income: 55256000000, Revenue 260174000000\n",
      "21.24%\n",
      "\n",
      "Date: 2018-09-29\n",
      "Net Income: 59531000000, Revenue 265595000000\n",
      "22.41%\n"
     ]
    }
   ],
   "source": [
    "for index, row in df_income_statement.iterrows():\n",
    "    net_income = row['netIncome']\n",
    "    revenue = row['revenue']\n",
    "    date = row['date']\n",
    "    print()\n",
    "    net_profit_margin = net_income / revenue\n",
    "    print(f'Date: {date}')\n",
    "    print(f'Net Income: {net_income}, Revenue {revenue}')\n",
    "    print(f'{net_profit_margin:.2%}')"
   ]
  },
  {
   "cell_type": "markdown",
   "source": [
    "## Interest Coverage Ration\n",
    "* Is a financial Ratio that is used to determine how well the company can pay the interest on its outstanding debts"
   ],
   "metadata": {
    "collapsed": false
   }
  },
  {
   "cell_type": "code",
   "execution_count": 12,
   "outputs": [
    {
     "name": "stdout",
     "output_type": "stream",
     "text": [
      "\n",
      "Date: 2022-09-24\n",
      "Operating Income: 119437000000, Interest Expense: 2931000000\n",
      "Interest Coverage ratio: 40.75\n",
      "\n",
      "Date: 2021-09-25\n",
      "Operating Income: 108949000000, Interest Expense: 2645000000\n",
      "Interest Coverage ratio: 41.19\n",
      "\n",
      "Date: 2020-09-26\n",
      "Operating Income: 66288000000, Interest Expense: 2873000000\n",
      "Interest Coverage ratio: 23.07\n",
      "\n",
      "Date: 2019-09-28\n",
      "Operating Income: 63930000000, Interest Expense: 3576000000\n",
      "Interest Coverage ratio: 17.88\n",
      "\n",
      "Date: 2018-09-29\n",
      "Operating Income: 70898000000, Interest Expense: 3240000000\n",
      "Interest Coverage ratio: 21.88\n"
     ]
    }
   ],
   "source": [
    "for index, row in df_income_statement.iterrows():\n",
    "    operating_income = row['operatingIncome']\n",
    "    interest_exp = row['interestExpense']\n",
    "    date = row['date']\n",
    "    print()\n",
    "    int_coverage_ratio = operating_income / interest_exp\n",
    "    print(f'Date: {date}')\n",
    "    print(f'Operating Income: {operating_income}, Interest Expense: {interest_exp}')\n",
    "    print(f'Interest Coverage ratio: {int_coverage_ratio:.2f}')"
   ],
   "metadata": {
    "collapsed": false
   }
  },
  {
   "cell_type": "markdown",
   "source": [
    "# Operating Margin\n",
    "* Is an Important profitability ratio measuring revenue after deduction of operating expenses.\n",
    "* A company that generates operating profit rather than operating loss is a positive sign for potential investors."
   ],
   "metadata": {
    "collapsed": false
   }
  },
  {
   "cell_type": "code",
   "execution_count": 13,
   "metadata": {},
   "outputs": [
    {
     "name": "stdout",
     "output_type": "stream",
     "text": [
      "\n",
      "Date: 2022-09-24\n",
      "Operating Income: 119437000000, Revenue: 394328000000\n",
      "Operating Margin: 30.29%\n",
      "\n",
      "Date: 2021-09-25\n",
      "Operating Income: 108949000000, Revenue: 365817000000\n",
      "Operating Margin: 29.78%\n",
      "\n",
      "Date: 2020-09-26\n",
      "Operating Income: 66288000000, Revenue: 274515000000\n",
      "Operating Margin: 24.15%\n",
      "\n",
      "Date: 2019-09-28\n",
      "Operating Income: 63930000000, Revenue: 260174000000\n",
      "Operating Margin: 24.57%\n",
      "\n",
      "Date: 2018-09-29\n",
      "Operating Income: 70898000000, Revenue: 265595000000\n",
      "Operating Margin: 26.69%\n"
     ]
    }
   ],
   "source": [
    "for index, row  in df_income_statement.iterrows():\n",
    "    operating_income = row['operatingIncome']\n",
    "    revenue = row['revenue']\n",
    "    date = row['date']\n",
    "    print()\n",
    "    operating_margin = operating_income / revenue\n",
    "    print(f'Date: {date}')\n",
    "    print(f'Operating Income: {operating_income}, Revenue: {revenue}')\n",
    "    print(f'Operating Margin: {operating_margin:.2%}')"
   ]
  },
  {
   "cell_type": "markdown",
   "source": [
    "## Return on Assets (ROA)\n",
    "* ROA is a type of return on investment metric that measures the profitability of a business in relation to its total assets.\n",
    "* The ratio indicated how well is the company performing by comparing the profit it has generated to the capital invested in assets."
   ],
   "metadata": {
    "collapsed": false
   }
  },
  {
   "cell_type": "code",
   "execution_count": 14,
   "outputs": [
    {
     "name": "stdout",
     "output_type": "stream",
     "text": [
      "[{'date': '2022-09-24', 'symbol': 'AAPL', 'reportedCurrency': 'USD', 'cik': '0000320193', 'fillingDate': '2022-10-28', 'acceptedDate': '2022-10-27 18:01:14', 'calendarYear': '2022', 'period': 'FY', 'cashAndCashEquivalents': 23646000000, 'shortTermInvestments': 24658000000, 'cashAndShortTermInvestments': 48304000000, 'netReceivables': 60932000000, 'inventory': 4946000000, 'otherCurrentAssets': 21223000000, 'totalCurrentAssets': 135405000000, 'propertyPlantEquipmentNet': 42117000000, 'goodwill': 0, 'intangibleAssets': 0, 'goodwillAndIntangibleAssets': 0, 'longTermInvestments': 120805000000, 'taxAssets': 0, 'otherNonCurrentAssets': 54428000000, 'totalNonCurrentAssets': 217350000000, 'otherAssets': 0, 'totalAssets': 352755000000, 'accountPayables': 64115000000, 'shortTermDebt': 21110000000, 'taxPayables': 0, 'deferredRevenue': 7912000000, 'otherCurrentLiabilities': 60845000000, 'totalCurrentLiabilities': 153982000000, 'longTermDebt': 98959000000, 'deferredRevenueNonCurrent': 0, 'deferredTaxLiabilitiesNonCurrent': 0, 'otherNonCurrentLiabilities': 49142000000, 'totalNonCurrentLiabilities': 148101000000, 'otherLiabilities': 0, 'capitalLeaseObligations': 0, 'totalLiabilities': 302083000000, 'preferredStock': 0, 'commonStock': 64849000000, 'retainedEarnings': -3068000000, 'accumulatedOtherComprehensiveIncomeLoss': -11109000000, 'othertotalStockholdersEquity': 0, 'totalStockholdersEquity': 50672000000, 'totalEquity': 50672000000, 'totalLiabilitiesAndStockholdersEquity': 352755000000, 'minorityInterest': 0, 'totalLiabilitiesAndTotalEquity': 352755000000, 'totalInvestments': 145463000000, 'totalDebt': 120069000000, 'netDebt': 96423000000, 'link': 'https://www.sec.gov/Archives/edgar/data/320193/000032019322000108/0000320193-22-000108-index.htm', 'finalLink': 'https://www.sec.gov/Archives/edgar/data/320193/000032019322000108/aapl-20220924.htm'}, {'date': '2021-09-25', 'symbol': 'AAPL', 'reportedCurrency': 'USD', 'cik': '0000320193', 'fillingDate': '2021-10-29', 'acceptedDate': '2021-10-28 18:04:28', 'calendarYear': '2021', 'period': 'FY', 'cashAndCashEquivalents': 34940000000, 'shortTermInvestments': 27699000000, 'cashAndShortTermInvestments': 62639000000, 'netReceivables': 51506000000, 'inventory': 6580000000, 'otherCurrentAssets': 14111000000, 'totalCurrentAssets': 134836000000, 'propertyPlantEquipmentNet': 39440000000, 'goodwill': 0, 'intangibleAssets': 0, 'goodwillAndIntangibleAssets': 0, 'longTermInvestments': 127877000000, 'taxAssets': 0, 'otherNonCurrentAssets': 48849000000, 'totalNonCurrentAssets': 216166000000, 'otherAssets': 0, 'totalAssets': 351002000000, 'accountPayables': 54763000000, 'shortTermDebt': 15613000000, 'taxPayables': 0, 'deferredRevenue': 7612000000, 'otherCurrentLiabilities': 47493000000, 'totalCurrentLiabilities': 125481000000, 'longTermDebt': 109106000000, 'deferredRevenueNonCurrent': 0, 'deferredTaxLiabilitiesNonCurrent': 0, 'otherNonCurrentLiabilities': 53325000000, 'totalNonCurrentLiabilities': 162431000000, 'otherLiabilities': 0, 'capitalLeaseObligations': 0, 'totalLiabilities': 287912000000, 'preferredStock': 0, 'commonStock': 57365000000, 'retainedEarnings': 5562000000, 'accumulatedOtherComprehensiveIncomeLoss': 163000000, 'othertotalStockholdersEquity': 0, 'totalStockholdersEquity': 63090000000, 'totalEquity': 63090000000, 'totalLiabilitiesAndStockholdersEquity': 351002000000, 'minorityInterest': 0, 'totalLiabilitiesAndTotalEquity': 351002000000, 'totalInvestments': 155576000000, 'totalDebt': 124719000000, 'netDebt': 89779000000, 'link': 'https://www.sec.gov/Archives/edgar/data/320193/000032019321000105/0000320193-21-000105-index.htm', 'finalLink': 'https://www.sec.gov/Archives/edgar/data/320193/000032019321000105/aapl-20210925.htm'}, {'date': '2020-09-26', 'symbol': 'AAPL', 'reportedCurrency': 'USD', 'cik': '0000320193', 'fillingDate': '2020-10-30', 'acceptedDate': '2020-10-29 18:06:25', 'calendarYear': '2020', 'period': 'FY', 'cashAndCashEquivalents': 38016000000, 'shortTermInvestments': 52927000000, 'cashAndShortTermInvestments': 90943000000, 'netReceivables': 37445000000, 'inventory': 4061000000, 'otherCurrentAssets': 11264000000, 'totalCurrentAssets': 143713000000, 'propertyPlantEquipmentNet': 36766000000, 'goodwill': 0, 'intangibleAssets': 0, 'goodwillAndIntangibleAssets': 0, 'longTermInvestments': 100887000000, 'taxAssets': 0, 'otherNonCurrentAssets': 42522000000, 'totalNonCurrentAssets': 180175000000, 'otherAssets': 0, 'totalAssets': 323888000000, 'accountPayables': 42296000000, 'shortTermDebt': 13769000000, 'taxPayables': 0, 'deferredRevenue': 6643000000, 'otherCurrentLiabilities': 42684000000, 'totalCurrentLiabilities': 105392000000, 'longTermDebt': 98667000000, 'deferredRevenueNonCurrent': 0, 'deferredTaxLiabilitiesNonCurrent': 0, 'otherNonCurrentLiabilities': 54490000000, 'totalNonCurrentLiabilities': 153157000000, 'otherLiabilities': 0, 'capitalLeaseObligations': 0, 'totalLiabilities': 258549000000, 'preferredStock': 0, 'commonStock': 50779000000, 'retainedEarnings': 14966000000, 'accumulatedOtherComprehensiveIncomeLoss': -406000000, 'othertotalStockholdersEquity': 0, 'totalStockholdersEquity': 65339000000, 'totalEquity': 65339000000, 'totalLiabilitiesAndStockholdersEquity': 323888000000, 'minorityInterest': 0, 'totalLiabilitiesAndTotalEquity': 323888000000, 'totalInvestments': 153814000000, 'totalDebt': 112436000000, 'netDebt': 74420000000, 'link': 'https://www.sec.gov/Archives/edgar/data/320193/000032019320000096/0000320193-20-000096-index.htm', 'finalLink': 'https://www.sec.gov/Archives/edgar/data/320193/000032019320000096/aapl-20200926.htm'}, {'date': '2019-09-28', 'symbol': 'AAPL', 'reportedCurrency': 'USD', 'cik': '0000320193', 'fillingDate': '2019-10-31', 'acceptedDate': '2019-10-30 18:12:36', 'calendarYear': '2019', 'period': 'FY', 'cashAndCashEquivalents': 48844000000, 'shortTermInvestments': 51713000000, 'cashAndShortTermInvestments': 100557000000, 'netReceivables': 45804000000, 'inventory': 4106000000, 'otherCurrentAssets': 12352000000, 'totalCurrentAssets': 162819000000, 'propertyPlantEquipmentNet': 37378000000, 'goodwill': 0, 'intangibleAssets': 0, 'goodwillAndIntangibleAssets': 0, 'longTermInvestments': 105341000000, 'taxAssets': 0, 'otherNonCurrentAssets': 32978000000, 'totalNonCurrentAssets': 175697000000, 'otherAssets': 0, 'totalAssets': 338516000000, 'accountPayables': 46236000000, 'shortTermDebt': 16240000000, 'taxPayables': 0, 'deferredRevenue': 5522000000, 'otherCurrentLiabilities': 37720000000, 'totalCurrentLiabilities': 105718000000, 'longTermDebt': 91807000000, 'deferredRevenueNonCurrent': 0, 'deferredTaxLiabilitiesNonCurrent': 0, 'otherNonCurrentLiabilities': 50503000000, 'totalNonCurrentLiabilities': 142310000000, 'otherLiabilities': 0, 'capitalLeaseObligations': 0, 'totalLiabilities': 248028000000, 'preferredStock': 0, 'commonStock': 45174000000, 'retainedEarnings': 45898000000, 'accumulatedOtherComprehensiveIncomeLoss': -584000000, 'othertotalStockholdersEquity': 0, 'totalStockholdersEquity': 90488000000, 'totalEquity': 90488000000, 'totalLiabilitiesAndStockholdersEquity': 338516000000, 'minorityInterest': 0, 'totalLiabilitiesAndTotalEquity': 338516000000, 'totalInvestments': 157054000000, 'totalDebt': 108047000000, 'netDebt': 59203000000, 'link': 'https://www.sec.gov/Archives/edgar/data/320193/000032019319000119/0000320193-19-000119-index.htm', 'finalLink': 'https://www.sec.gov/Archives/edgar/data/320193/000032019319000119/a10-k20199282019.htm'}, {'date': '2018-09-29', 'symbol': 'AAPL', 'reportedCurrency': 'USD', 'cik': '0000320193', 'fillingDate': '2018-11-05', 'acceptedDate': '2018-11-05 08:01:40', 'calendarYear': '2018', 'period': 'FY', 'cashAndCashEquivalents': 25913000000, 'shortTermInvestments': 40388000000, 'cashAndShortTermInvestments': 66301000000, 'netReceivables': 48995000000, 'inventory': 3956000000, 'otherCurrentAssets': 12087000000, 'totalCurrentAssets': 131339000000, 'propertyPlantEquipmentNet': 41304000000, 'goodwill': 0, 'intangibleAssets': 0, 'goodwillAndIntangibleAssets': 0, 'longTermInvestments': 170799000000, 'taxAssets': 0, 'otherNonCurrentAssets': 22283000000, 'totalNonCurrentAssets': 234386000000, 'otherAssets': 0, 'totalAssets': 365725000000, 'accountPayables': 55888000000, 'shortTermDebt': 20748000000, 'taxPayables': 0, 'deferredRevenue': 7543000000, 'otherCurrentLiabilities': 32687000000, 'totalCurrentLiabilities': 116866000000, 'longTermDebt': 93735000000, 'deferredRevenueNonCurrent': 2797000000, 'deferredTaxLiabilitiesNonCurrent': 426000000, 'otherNonCurrentLiabilities': 44754000000, 'totalNonCurrentLiabilities': 141712000000, 'otherLiabilities': 0, 'capitalLeaseObligations': 0, 'totalLiabilities': 258578000000, 'preferredStock': 0, 'commonStock': 40201000000, 'retainedEarnings': 70400000000, 'accumulatedOtherComprehensiveIncomeLoss': -3454000000, 'othertotalStockholdersEquity': 0, 'totalStockholdersEquity': 107147000000, 'totalEquity': 107147000000, 'totalLiabilitiesAndStockholdersEquity': 365725000000, 'minorityInterest': 0, 'totalLiabilitiesAndTotalEquity': 365725000000, 'totalInvestments': 211187000000, 'totalDebt': 114483000000, 'netDebt': 88570000000, 'link': 'https://www.sec.gov/Archives/edgar/data/320193/000032019318000145/0000320193-18-000145-index.htm', 'finalLink': 'https://www.sec.gov/Archives/edgar/data/320193/000032019318000145/a10-k20189292018.htm'}]\n",
      "{'Error Message': 'Invalid API KEY. Please retry or visit our documentation to create one FREE https://financialmodelingprep.com/developer/docs'}\n",
      "         date symbol reportedCurrency         cik fillingDate  \\\n",
      "0  2022-09-24   AAPL              USD  0000320193  2022-10-28   \n",
      "1  2021-09-25   AAPL              USD  0000320193  2021-10-29   \n",
      "2  2020-09-26   AAPL              USD  0000320193  2020-10-30   \n",
      "3  2019-09-28   AAPL              USD  0000320193  2019-10-31   \n",
      "4  2018-09-29   AAPL              USD  0000320193  2018-11-05   \n",
      "\n",
      "          acceptedDate calendarYear period  cashAndCashEquivalents  \\\n",
      "0  2022-10-27 18:01:14         2022     FY             23646000000   \n",
      "1  2021-10-28 18:04:28         2021     FY             34940000000   \n",
      "2  2020-10-29 18:06:25         2020     FY             38016000000   \n",
      "3  2019-10-30 18:12:36         2019     FY             48844000000   \n",
      "4  2018-11-05 08:01:40         2018     FY             25913000000   \n",
      "\n",
      "   shortTermInvestments  ...  totalStockholdersEquity   totalEquity  \\\n",
      "0           24658000000  ...              50672000000   50672000000   \n",
      "1           27699000000  ...              63090000000   63090000000   \n",
      "2           52927000000  ...              65339000000   65339000000   \n",
      "3           51713000000  ...              90488000000   90488000000   \n",
      "4           40388000000  ...             107147000000  107147000000   \n",
      "\n",
      "   totalLiabilitiesAndStockholdersEquity  minorityInterest  \\\n",
      "0                           352755000000                 0   \n",
      "1                           351002000000                 0   \n",
      "2                           323888000000                 0   \n",
      "3                           338516000000                 0   \n",
      "4                           365725000000                 0   \n",
      "\n",
      "   totalLiabilitiesAndTotalEquity  totalInvestments     totalDebt  \\\n",
      "0                    352755000000      145463000000  120069000000   \n",
      "1                    351002000000      155576000000  124719000000   \n",
      "2                    323888000000      153814000000  112436000000   \n",
      "3                    338516000000      157054000000  108047000000   \n",
      "4                    365725000000      211187000000  114483000000   \n",
      "\n",
      "       netDebt                                               link  \\\n",
      "0  96423000000  https://www.sec.gov/Archives/edgar/data/320193...   \n",
      "1  89779000000  https://www.sec.gov/Archives/edgar/data/320193...   \n",
      "2  74420000000  https://www.sec.gov/Archives/edgar/data/320193...   \n",
      "3  59203000000  https://www.sec.gov/Archives/edgar/data/320193...   \n",
      "4  88570000000  https://www.sec.gov/Archives/edgar/data/320193...   \n",
      "\n",
      "                                           finalLink  \n",
      "0  https://www.sec.gov/Archives/edgar/data/320193...  \n",
      "1  https://www.sec.gov/Archives/edgar/data/320193...  \n",
      "2  https://www.sec.gov/Archives/edgar/data/320193...  \n",
      "3  https://www.sec.gov/Archives/edgar/data/320193...  \n",
      "4  https://www.sec.gov/Archives/edgar/data/320193...  \n",
      "\n",
      "[5 rows x 54 columns]\n",
      "<class 'pandas.core.frame.DataFrame'>\n",
      "RangeIndex: 5 entries, 0 to 4\n",
      "Data columns (total 54 columns):\n",
      " #   Column                                   Non-Null Count  Dtype \n",
      "---  ------                                   --------------  ----- \n",
      " 0   date                                     5 non-null      object\n",
      " 1   symbol                                   5 non-null      object\n",
      " 2   reportedCurrency                         5 non-null      object\n",
      " 3   cik                                      5 non-null      object\n",
      " 4   fillingDate                              5 non-null      object\n",
      " 5   acceptedDate                             5 non-null      object\n",
      " 6   calendarYear                             5 non-null      object\n",
      " 7   period                                   5 non-null      object\n",
      " 8   cashAndCashEquivalents                   5 non-null      int64 \n",
      " 9   shortTermInvestments                     5 non-null      int64 \n",
      " 10  cashAndShortTermInvestments              5 non-null      int64 \n",
      " 11  netReceivables                           5 non-null      int64 \n",
      " 12  inventory                                5 non-null      int64 \n",
      " 13  otherCurrentAssets                       5 non-null      int64 \n",
      " 14  totalCurrentAssets                       5 non-null      int64 \n",
      " 15  propertyPlantEquipmentNet                5 non-null      int64 \n",
      " 16  goodwill                                 5 non-null      int64 \n",
      " 17  intangibleAssets                         5 non-null      int64 \n",
      " 18  goodwillAndIntangibleAssets              5 non-null      int64 \n",
      " 19  longTermInvestments                      5 non-null      int64 \n",
      " 20  taxAssets                                5 non-null      int64 \n",
      " 21  otherNonCurrentAssets                    5 non-null      int64 \n",
      " 22  totalNonCurrentAssets                    5 non-null      int64 \n",
      " 23  otherAssets                              5 non-null      int64 \n",
      " 24  totalAssets                              5 non-null      int64 \n",
      " 25  accountPayables                          5 non-null      int64 \n",
      " 26  shortTermDebt                            5 non-null      int64 \n",
      " 27  taxPayables                              5 non-null      int64 \n",
      " 28  deferredRevenue                          5 non-null      int64 \n",
      " 29  otherCurrentLiabilities                  5 non-null      int64 \n",
      " 30  totalCurrentLiabilities                  5 non-null      int64 \n",
      " 31  longTermDebt                             5 non-null      int64 \n",
      " 32  deferredRevenueNonCurrent                5 non-null      int64 \n",
      " 33  deferredTaxLiabilitiesNonCurrent         5 non-null      int64 \n",
      " 34  otherNonCurrentLiabilities               5 non-null      int64 \n",
      " 35  totalNonCurrentLiabilities               5 non-null      int64 \n",
      " 36  otherLiabilities                         5 non-null      int64 \n",
      " 37  capitalLeaseObligations                  5 non-null      int64 \n",
      " 38  totalLiabilities                         5 non-null      int64 \n",
      " 39  preferredStock                           5 non-null      int64 \n",
      " 40  commonStock                              5 non-null      int64 \n",
      " 41  retainedEarnings                         5 non-null      int64 \n",
      " 42  accumulatedOtherComprehensiveIncomeLoss  5 non-null      int64 \n",
      " 43  othertotalStockholdersEquity             5 non-null      int64 \n",
      " 44  totalStockholdersEquity                  5 non-null      int64 \n",
      " 45  totalEquity                              5 non-null      int64 \n",
      " 46  totalLiabilitiesAndStockholdersEquity    5 non-null      int64 \n",
      " 47  minorityInterest                         5 non-null      int64 \n",
      " 48  totalLiabilitiesAndTotalEquity           5 non-null      int64 \n",
      " 49  totalInvestments                         5 non-null      int64 \n",
      " 50  totalDebt                                5 non-null      int64 \n",
      " 51  netDebt                                  5 non-null      int64 \n",
      " 52  link                                     5 non-null      object\n",
      " 53  finalLink                                5 non-null      object\n",
      "dtypes: int64(44), object(10)\n",
      "memory usage: 2.2+ KB\n",
      "\n",
      "The Company has more debt than Asset 0.86\n",
      "Total Assets:352755000000, Total Liabilities:302083000000\n",
      "\n",
      "The Company has more debt than Asset 0.82\n",
      "Total Assets:351002000000, Total Liabilities:287912000000\n",
      "\n",
      "The Company has more debt than Asset 0.80\n",
      "Total Assets:323888000000, Total Liabilities:258549000000\n",
      "\n",
      "The Company has more debt than Asset 0.73\n",
      "Total Assets:338516000000, Total Liabilities:248028000000\n",
      "\n",
      "The Company has more debt than Asset 0.71\n",
      "Total Assets:365725000000, Total Liabilities:258578000000\n",
      "\n",
      "It is not a healthy ratio: 2.3695334701610355,  \n",
      "Total Debt: 120069000000, Total Equity: 50672000000\n",
      "\n",
      "It is not a healthy ratio: 1.9768426058012363,  \n",
      "Total Debt: 124719000000, Total Equity: 63090000000\n",
      "\n",
      "It is not a healthy ratio: 1.720809929750991,  \n",
      "Total Debt: 112436000000, Total Equity: 65339000000\n",
      "\n",
      "It is not a healthy ratio: 1.1940478295464592,  \n",
      "Total Debt: 108047000000, Total Equity: 90488000000\n",
      "\n",
      "It is not a healthy ratio: 1.0684666859548098,  \n",
      "Total Debt: 114483000000, Total Equity: 107147000000\n",
      "\n",
      "Total Assets: 352755000000, Total Equity: 50672000000\n",
      "Total assets are approximately 6.96 times its total equity.\n",
      "\n",
      "Total Assets: 351002000000, Total Equity: 63090000000\n",
      "Total assets are approximately 5.56 times its total equity.\n",
      "\n",
      "Total Assets: 323888000000, Total Equity: 65339000000\n",
      "Total assets are approximately 4.96 times its total equity.\n",
      "\n",
      "Total Assets: 338516000000, Total Equity: 90488000000\n",
      "Total assets are approximately 3.74 times its total equity.\n",
      "\n",
      "Total Assets: 365725000000, Total Equity: 107147000000\n",
      "Total assets are approximately 3.41 times its total equity.\n",
      "\n",
      "Total Current Assets: 135405000000, Total Current Liabilities: 153982000000, Inventory: 4946000000\n",
      "Quick Ratio:0.85\n",
      "Might have liquidity Problems\n",
      "\n",
      "Total Current Assets: 134836000000, Total Current Liabilities: 125481000000, Inventory: 6580000000\n",
      "Quick Ratio:1.02\n",
      "The company has sufficient liquidity to cover current liabilities\n",
      "\n",
      "Total Current Assets: 143713000000, Total Current Liabilities: 105392000000, Inventory: 4061000000\n",
      "Quick Ratio:1.33\n",
      "The company has sufficient liquidity to cover current liabilities\n",
      "\n",
      "Total Current Assets: 162819000000, Total Current Liabilities: 105718000000, Inventory: 4106000000\n",
      "Quick Ratio:1.50\n",
      "The company has sufficient liquidity to cover current liabilities\n",
      "\n",
      "Total Current Assets: 131339000000, Total Current Liabilities: 116866000000, Inventory: 3956000000\n",
      "Quick Ratio:1.09\n",
      "The company has sufficient liquidity to cover current liabilities\n",
      "\n",
      "2022-09-24\n",
      "Total Current Assets: 135405000000, Total Current Liabilities: 153982000000\n",
      "Current Ratio: 0.88\n",
      "\n",
      "2021-09-25\n",
      "Total Current Assets: 134836000000, Total Current Liabilities: 125481000000\n",
      "Current Ratio: 1.07\n",
      "\n",
      "2020-09-26\n",
      "Total Current Assets: 143713000000, Total Current Liabilities: 105392000000\n",
      "Current Ratio: 1.36\n",
      "\n",
      "2019-09-28\n",
      "Total Current Assets: 162819000000, Total Current Liabilities: 105718000000\n",
      "Current Ratio: 1.54\n",
      "\n",
      "2018-09-29\n",
      "Total Current Assets: 131339000000, Total Current Liabilities: 116866000000\n",
      "Current Ratio: 1.12\n",
      "\n",
      "Total Current Assets: 135405000000, Total Current Liabilities: 153982000000, Total Assets: 352755000000\n",
      "Net Working Capital -0.05\n",
      "\n",
      "Total Current Assets: 134836000000, Total Current Liabilities: 125481000000, Total Assets: 351002000000\n",
      "Net Working Capital  0.03\n",
      "\n",
      "Total Current Assets: 143713000000, Total Current Liabilities: 105392000000, Total Assets: 323888000000\n",
      "Net Working Capital  0.12\n",
      "\n",
      "Total Current Assets: 162819000000, Total Current Liabilities: 105718000000, Total Assets: 338516000000\n",
      "Net Working Capital  0.17\n",
      "\n",
      "Total Current Assets: 131339000000, Total Current Liabilities: 116866000000, Total Assets: 365725000000\n",
      "Net Working Capital  0.04\n",
      "Total Debt to Capitalization ratio: 0.7032230102904399\n",
      "Total Debt to Capitalization ratio: 0.6640736066961648\n",
      "Total Debt to Capitalization ratio: 0.6324623822247223\n",
      "Total Debt to Capitalization ratio: 0.5442214219155312\n",
      "Total Debt to Capitalization ratio: 0.5165501060325768\n",
      "Year: 2023\n",
      "Predicted Cash and Equivalents: 28740400000.00\n",
      "-----\n",
      "Year: 2024\n",
      "Predicted Cash and Equivalents: 26896600000.00\n",
      "-----\n",
      "Year: 2025\n",
      "Predicted Cash and Equivalents: 25052800000.00\n",
      "-----\n",
      "120069000000\n"
     ]
    }
   ],
   "source": [
    "%run Balance_Sheet.ipynb"
   ],
   "metadata": {
    "collapsed": false
   }
  },
  {
   "cell_type": "code",
   "execution_count": 15,
   "outputs": [
    {
     "name": "stdout",
     "output_type": "stream",
     "text": [
      "\n",
      "2022-09-24\n",
      "Total Assets: 365725000000 Net Income: 99803000000\n",
      "Return on Assets: 27.29%\n",
      "\n",
      "2021-09-25\n",
      "Total Assets: 338516000000 Net Income: 94680000000\n",
      "Return on Assets: 27.97%\n",
      "\n",
      "2020-09-26\n",
      "Total Assets: 323888000000 Net Income: 57411000000\n",
      "Return on Assets: 17.73%\n",
      "\n",
      "2019-09-28\n",
      "Total Assets: 351002000000 Net Income: 55256000000\n",
      "Return on Assets: 15.74%\n",
      "\n",
      "2018-09-29\n",
      "Total Assets: 352755000000 Net Income: 59531000000\n",
      "Return on Assets: 16.88%\n"
     ]
    }
   ],
   "source": [
    "for (index_bs, row_bs), (index_is, row_is) in zip(df_balance_sheet.iterrows(), df_income_statement.iterrows()):\n",
    "    total_assets = row_bs['totalAssets']\n",
    "    net_income = row_is['netIncome']\n",
    "    date = row_is['date']\n",
    "    print()\n",
    "    ROA = net_income / total_assets\n",
    "    print(date)\n",
    "    print(\"Total Assets:\",total_assets, \"Net Income:\",net_income)\n",
    "    print(f'Return on Assets: {ROA:.2%}')"
   ],
   "metadata": {
    "collapsed": false
   }
  },
  {
   "cell_type": "code",
   "execution_count": 16,
   "outputs": [
    {
     "name": "stdout",
     "output_type": "stream",
     "text": [
      "Year: 2023\n",
      "Predicted Gross Profit: 183460000000.00\n",
      "Predicted Revenue: 421018500000.00\n",
      "-----\n",
      "Year: 2024\n",
      "Predicted Gross Profit: 202693000000.00\n",
      "Predicted Revenue: 457329400000.00\n",
      "-----\n",
      "Year: 2025\n",
      "Predicted Gross Profit: 221926000000.00\n",
      "Predicted Revenue: 493640300000.00\n",
      "-----\n"
     ]
    }
   ],
   "source": [
    "df_income_statement['date'] = pd.to_datetime(df_income_statement['date'])\n",
    "df_income_statement = df_income_statement.sort_values(by = 'date')\n",
    "\n",
    "df_income_statement['year'] = df_income_statement['date'].dt.year\n",
    "\n",
    "years = df_income_statement['year'].values.reshape(-1,1)\n",
    "gross_profits = df_income_statement['grossProfit'].values\n",
    "revenues = df_income_statement['revenue'].values\n",
    "\n",
    "gp_model = LinearRegression().fit(years, gross_profits)\n",
    "revenue_model = LinearRegression().fit(years, revenues)\n",
    "\n",
    "future_years = np.array([2023, 2024, 2025]).reshape(-1,1)\n",
    "predicted_gross_profit = gp_model.predict(future_years)\n",
    "predicted_revenues = revenue_model.predict(future_years)\n",
    "\n",
    "for year, gp, rev in zip(future_years, predicted_gross_profit, predicted_revenues ):\n",
    "    print(f\"Year: {year[0]}\")\n",
    "    print(f\"Predicted Gross Profit: {gp:.2f}\")\n",
    "    print(f\"Predicted Revenue: {rev:.2f}\")\n",
    "    print(\"-----\")\n"
   ],
   "metadata": {
    "collapsed": false
   }
  },
  {
   "cell_type": "code",
   "execution_count": 17,
   "outputs": [
    {
     "name": "stdout",
     "output_type": "stream",
     "text": [
      "2931000000\n"
     ]
    }
   ],
   "source": [
    "#For DCF cost of debt\n",
    "\n",
    "interest_exp = df_income_statement['interestExpense'][0]\n",
    "print(interest_exp)"
   ],
   "metadata": {
    "collapsed": false
   }
  },
  {
   "cell_type": "markdown",
   "metadata": {},
   "source": []
  },
  {
   "cell_type": "markdown",
   "metadata": {},
   "source": []
  }
 ],
 "metadata": {
  "kernelspec": {
   "display_name": "Python 3 (ipykernel)",
   "language": "python",
   "name": "python3"
  },
  "language_info": {
   "codemirror_mode": {
    "name": "ipython",
    "version": 3
   },
   "file_extension": ".py",
   "mimetype": "text/x-python",
   "name": "python",
   "nbconvert_exporter": "python",
   "pygments_lexer": "ipython3",
   "version": "3.9.7"
  }
 },
 "nbformat": 4,
 "nbformat_minor": 1
}

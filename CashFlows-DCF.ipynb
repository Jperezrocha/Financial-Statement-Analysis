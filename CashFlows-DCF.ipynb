{
 "cells": [
  {
   "cell_type": "code",
   "execution_count": 78,
   "outputs": [],
   "source": [
    "import matplotlib.pyplot as plt\n",
    "from matplotlib import style\n",
    "import pandas as pd\n",
    "import requests\n",
    "from sklearn.linear_model import LinearRegression\n",
    "import numpy as np\n",
    "import datetime as dt"
   ],
   "metadata": {
    "collapsed": false,
    "ExecuteTime": {
     "end_time": "2024-02-09T20:35:47.366328Z",
     "start_time": "2024-02-09T20:35:47.335708Z"
    }
   }
  },
  {
   "cell_type": "code",
   "execution_count": 79,
   "outputs": [],
   "source": [
    "ticker = 'AAPL'\n",
    "API = 'ec2d6f3b0cc9395fbce02f1316669229'\n",
    "url = (f\"https://financialmodelingprep.com/api/v3/cash-flow-statement/{ticker}?apikey={API}\")\n",
    "\n",
    "r = requests.get(url)\n",
    "cash_flow_statement = r.json()"
   ],
   "metadata": {
    "collapsed": false,
    "ExecuteTime": {
     "end_time": "2024-02-09T20:35:48.067678Z",
     "start_time": "2024-02-09T20:35:47.373435Z"
    }
   }
  },
  {
   "cell_type": "code",
   "execution_count": 80,
   "outputs": [
    {
     "name": "stdout",
     "output_type": "stream",
     "text": [
      "Price: 188.791\n"
     ]
    }
   ],
   "source": [
    "url1 = (F'https://financialmodelingprep.com/api/v3/quote-short/{ticker}?apikey={API}')\n",
    "\n",
    "f = requests.get(url1)\n",
    "quote = f.json()\n",
    "\n",
    "df_quote = pd.DataFrame(quote)\n",
    "price = df_quote['price'].iloc[0]  # This extracts the first value in the 'price' Series as a scalar\n",
    "print(f'Price: {price}')"
   ],
   "metadata": {
    "collapsed": false,
    "ExecuteTime": {
     "end_time": "2024-02-09T20:35:48.638595Z",
     "start_time": "2024-02-09T20:35:48.052666Z"
    }
   }
  },
  {
   "cell_type": "code",
   "execution_count": 81,
   "outputs": [],
   "source": [
    "df_cash_flow = pd.DataFrame(cash_flow_statement)\n"
   ],
   "metadata": {
    "collapsed": false,
    "ExecuteTime": {
     "end_time": "2024-02-09T20:35:48.645856Z",
     "start_time": "2024-02-09T20:35:48.640931Z"
    }
   }
  },
  {
   "cell_type": "code",
   "execution_count": 82,
   "outputs": [
    {
     "data": {
      "text/plain": "         date symbol reportedCurrency         cik fillingDate  \\\n0  2023-09-30   AAPL              USD  0000320193  2023-11-03   \n1  2022-09-24   AAPL              USD  0000320193  2022-10-28   \n2  2021-09-25   AAPL              USD  0000320193  2021-10-29   \n3  2020-09-26   AAPL              USD  0000320193  2020-10-30   \n4  2019-09-28   AAPL              USD  0000320193  2019-10-31   \n\n          acceptedDate calendarYear period    netIncome  \\\n0  2023-11-02 18:08:27         2023     FY  96995000000   \n1  2022-10-27 18:01:14         2022     FY  99803000000   \n2  2021-10-28 18:04:28         2021     FY  94680000000   \n3  2020-10-29 18:06:25         2020     FY  57411000000   \n4  2019-10-30 18:12:36         2019     FY  55256000000   \n\n   depreciationAndAmortization  ...  netCashUsedProvidedByFinancingActivities  \\\n0                  11519000000  ...                             -108488000000   \n1                  11104000000  ...                             -110749000000   \n2                  11284000000  ...                              -93353000000   \n3                  11056000000  ...                              -86820000000   \n4                  12547000000  ...                              -90976000000   \n\n   effectOfForexChangesOnCash  netChangeInCash  cashAtEndOfPeriod  \\\n0                           0       5760000000        30737000000   \n1                           0     -10952000000        24977000000   \n2                           0      -3860000000        35929000000   \n3                           0     -10435000000        39789000000   \n4                           0      24311000000        50224000000   \n\n   cashAtBeginningOfPeriod  operatingCashFlow  capitalExpenditure  \\\n0              24977000000       110543000000        -10959000000   \n1              35929000000       122151000000        -10708000000   \n2              39789000000       104038000000        -11085000000   \n3              50224000000        80674000000         -7309000000   \n4              25913000000        69391000000        -10495000000   \n\n   freeCashFlow                                               link  \\\n0   99584000000  https://www.sec.gov/Archives/edgar/data/320193...   \n1  111443000000  https://www.sec.gov/Archives/edgar/data/320193...   \n2   92953000000  https://www.sec.gov/Archives/edgar/data/320193...   \n3   73365000000  https://www.sec.gov/Archives/edgar/data/320193...   \n4   58896000000  https://www.sec.gov/Archives/edgar/data/320193...   \n\n                                           finalLink  \n0  https://www.sec.gov/Archives/edgar/data/320193...  \n1  https://www.sec.gov/Archives/edgar/data/320193...  \n2  https://www.sec.gov/Archives/edgar/data/320193...  \n3  https://www.sec.gov/Archives/edgar/data/320193...  \n4  https://www.sec.gov/Archives/edgar/data/320193...  \n\n[5 rows x 40 columns]",
      "text/html": "<div>\n<style scoped>\n    .dataframe tbody tr th:only-of-type {\n        vertical-align: middle;\n    }\n\n    .dataframe tbody tr th {\n        vertical-align: top;\n    }\n\n    .dataframe thead th {\n        text-align: right;\n    }\n</style>\n<table border=\"1\" class=\"dataframe\">\n  <thead>\n    <tr style=\"text-align: right;\">\n      <th></th>\n      <th>date</th>\n      <th>symbol</th>\n      <th>reportedCurrency</th>\n      <th>cik</th>\n      <th>fillingDate</th>\n      <th>acceptedDate</th>\n      <th>calendarYear</th>\n      <th>period</th>\n      <th>netIncome</th>\n      <th>depreciationAndAmortization</th>\n      <th>...</th>\n      <th>netCashUsedProvidedByFinancingActivities</th>\n      <th>effectOfForexChangesOnCash</th>\n      <th>netChangeInCash</th>\n      <th>cashAtEndOfPeriod</th>\n      <th>cashAtBeginningOfPeriod</th>\n      <th>operatingCashFlow</th>\n      <th>capitalExpenditure</th>\n      <th>freeCashFlow</th>\n      <th>link</th>\n      <th>finalLink</th>\n    </tr>\n  </thead>\n  <tbody>\n    <tr>\n      <th>0</th>\n      <td>2023-09-30</td>\n      <td>AAPL</td>\n      <td>USD</td>\n      <td>0000320193</td>\n      <td>2023-11-03</td>\n      <td>2023-11-02 18:08:27</td>\n      <td>2023</td>\n      <td>FY</td>\n      <td>96995000000</td>\n      <td>11519000000</td>\n      <td>...</td>\n      <td>-108488000000</td>\n      <td>0</td>\n      <td>5760000000</td>\n      <td>30737000000</td>\n      <td>24977000000</td>\n      <td>110543000000</td>\n      <td>-10959000000</td>\n      <td>99584000000</td>\n      <td>https://www.sec.gov/Archives/edgar/data/320193...</td>\n      <td>https://www.sec.gov/Archives/edgar/data/320193...</td>\n    </tr>\n    <tr>\n      <th>1</th>\n      <td>2022-09-24</td>\n      <td>AAPL</td>\n      <td>USD</td>\n      <td>0000320193</td>\n      <td>2022-10-28</td>\n      <td>2022-10-27 18:01:14</td>\n      <td>2022</td>\n      <td>FY</td>\n      <td>99803000000</td>\n      <td>11104000000</td>\n      <td>...</td>\n      <td>-110749000000</td>\n      <td>0</td>\n      <td>-10952000000</td>\n      <td>24977000000</td>\n      <td>35929000000</td>\n      <td>122151000000</td>\n      <td>-10708000000</td>\n      <td>111443000000</td>\n      <td>https://www.sec.gov/Archives/edgar/data/320193...</td>\n      <td>https://www.sec.gov/Archives/edgar/data/320193...</td>\n    </tr>\n    <tr>\n      <th>2</th>\n      <td>2021-09-25</td>\n      <td>AAPL</td>\n      <td>USD</td>\n      <td>0000320193</td>\n      <td>2021-10-29</td>\n      <td>2021-10-28 18:04:28</td>\n      <td>2021</td>\n      <td>FY</td>\n      <td>94680000000</td>\n      <td>11284000000</td>\n      <td>...</td>\n      <td>-93353000000</td>\n      <td>0</td>\n      <td>-3860000000</td>\n      <td>35929000000</td>\n      <td>39789000000</td>\n      <td>104038000000</td>\n      <td>-11085000000</td>\n      <td>92953000000</td>\n      <td>https://www.sec.gov/Archives/edgar/data/320193...</td>\n      <td>https://www.sec.gov/Archives/edgar/data/320193...</td>\n    </tr>\n    <tr>\n      <th>3</th>\n      <td>2020-09-26</td>\n      <td>AAPL</td>\n      <td>USD</td>\n      <td>0000320193</td>\n      <td>2020-10-30</td>\n      <td>2020-10-29 18:06:25</td>\n      <td>2020</td>\n      <td>FY</td>\n      <td>57411000000</td>\n      <td>11056000000</td>\n      <td>...</td>\n      <td>-86820000000</td>\n      <td>0</td>\n      <td>-10435000000</td>\n      <td>39789000000</td>\n      <td>50224000000</td>\n      <td>80674000000</td>\n      <td>-7309000000</td>\n      <td>73365000000</td>\n      <td>https://www.sec.gov/Archives/edgar/data/320193...</td>\n      <td>https://www.sec.gov/Archives/edgar/data/320193...</td>\n    </tr>\n    <tr>\n      <th>4</th>\n      <td>2019-09-28</td>\n      <td>AAPL</td>\n      <td>USD</td>\n      <td>0000320193</td>\n      <td>2019-10-31</td>\n      <td>2019-10-30 18:12:36</td>\n      <td>2019</td>\n      <td>FY</td>\n      <td>55256000000</td>\n      <td>12547000000</td>\n      <td>...</td>\n      <td>-90976000000</td>\n      <td>0</td>\n      <td>24311000000</td>\n      <td>50224000000</td>\n      <td>25913000000</td>\n      <td>69391000000</td>\n      <td>-10495000000</td>\n      <td>58896000000</td>\n      <td>https://www.sec.gov/Archives/edgar/data/320193...</td>\n      <td>https://www.sec.gov/Archives/edgar/data/320193...</td>\n    </tr>\n  </tbody>\n</table>\n<p>5 rows × 40 columns</p>\n</div>"
     },
     "execution_count": 82,
     "metadata": {},
     "output_type": "execute_result"
    }
   ],
   "source": [
    "df_cash_flow.head()"
   ],
   "metadata": {
    "collapsed": false,
    "ExecuteTime": {
     "end_time": "2024-02-09T20:35:48.686312Z",
     "start_time": "2024-02-09T20:35:48.674130Z"
    }
   }
  },
  {
   "cell_type": "markdown",
   "source": [
    "## Operating Cash Flows"
   ],
   "metadata": {
    "collapsed": false
   }
  },
  {
   "cell_type": "code",
   "execution_count": 83,
   "outputs": [
    {
     "name": "stdout",
     "output_type": "stream",
     "text": [
      "110543000000\n",
      "122151000000\n",
      "104038000000\n",
      "80674000000\n",
      "69391000000\n"
     ]
    }
   ],
   "source": [
    "for OFC in df_cash_flow['operatingCashFlow']:\n",
    "    print(OFC)"
   ],
   "metadata": {
    "collapsed": false,
    "ExecuteTime": {
     "end_time": "2024-02-09T20:35:48.700556Z",
     "start_time": "2024-02-09T20:35:48.684242Z"
    }
   }
  },
  {
   "cell_type": "code",
   "execution_count": 84,
   "outputs": [
    {
     "name": "stdout",
     "output_type": "stream",
     "text": [
      "99584000000\n",
      "111443000000\n",
      "92953000000\n",
      "73365000000\n",
      "58896000000\n"
     ]
    }
   ],
   "source": [
    "# FCF Cash Flow available to both debt an equity holders after the business pays for everything it needs to continue operating\n",
    "for FCF in df_cash_flow['freeCashFlow']:\n",
    "    print(FCF)"
   ],
   "metadata": {
    "collapsed": false,
    "ExecuteTime": {
     "end_time": "2024-02-09T20:35:48.724338Z",
     "start_time": "2024-02-09T20:35:48.694823Z"
    }
   }
  },
  {
   "cell_type": "markdown",
   "source": [
    "## DCF\n",
    "A DCF is a valuation methodology that measures the intrinsic value of a company based on the sum of the present value of its future cash flows --> More simple answer: a DCF measures the value of an asset based on the amount of cash it can produce\n",
    "\n",
    "1. Forecast the free cash flow --> The first step is to project out for 5-10 years by making assumptions on the company's revenue growth and EBIT margins. (in my case the assumptions where made using the scikit learn package)\n",
    "\n",
    "2. Calculated the weighted Average cost of capital (WACC) --> Rate of return required by debt equity investors for a company to fund the growth of its future free cash flow.\n",
    "\n",
    "    present value of your FCF --> WACC = (% of equity * cost of equity) + (% of Debt * cost of Debt * (1-Tax Rate))\n",
    "\n",
    "    To calculate the cost of Equity I used the following formula: CAPM = Capital Asset Pricing Model: Risk Free rate + (beta * expected Market return - risk free rate).\n",
    "    For equity value: Market cap --> debt + equity value(market cap)\n",
    "    For percentage of debt = debt / (debt + equity)\n",
    "    For percentage of equity = equity / (debt + equity)\n",
    "\n",
    "    The Risk free rate = 4.64%. It was obtained form: https://www.bloomberg.com/markets/rates-bonds/government-bonds/us I used the yield on a 5-year on a treasury bond.\n",
    "\n",
    "    The beta for Apple = 3.1 for 5 yield period. It was obtained form: https://finance.yahoo.com/quote/AAPL/\n",
    "\n",
    "    For the Market Return I used an average of 7.58% and 10.51% it is = to 9.05% according to: https://www.forbes.com/advisor/investing/average-stock-market-return/\n",
    "\n",
    "    For the tax rate I will use 15.65% https://valueinvesting.io/AAPL/valuation/wacc\n",
    "\n",
    "    For the cost of debt I'm using the following formula: Interest expense / total_debt * (1-tax rate)\n",
    "\n",
    "## WACC\n",
    "\n",
    "* Different industries have different average WACCs due to varying risk.\n",
    "* A company with volatile cash flows or in volatile industry might have a higher WACC\n",
    "* A company that is financed more by debt might have a higher WACC if the cost of debt is high, however debt is typically cheaper than equity due tax shields\n",
    "* During Periods of high-interest rates, WACC tends to increase because the cost of borrowing goes up\n",
    "\n",
    "\n",
    "\n",
    "3. Calculate the terminal value\n",
    "## Terminal Growth Value\n",
    "* The terminal growth rate is the steady rate at which a company's projected free cash flows are expected to increase indefinitely.\n",
    "* For the purposes of this analysis, we will employ the average GDP growth rate as a proxy for the terminal growth rate.\n",
    "* TGR = 2.1%\n",
    "\n",
    "\n",
    "4. Discount the free cash flow and terminal value\n",
    "5. Calculate the implied share price"
   ],
   "metadata": {
    "collapsed": false
   }
  },
  {
   "cell_type": "code",
   "execution_count": 85,
   "outputs": [
    {
     "name": "stdout",
     "output_type": "stream",
     "text": [
      "Year: 2023\n",
      "Predicted Free Cash Flows: 111139000000.0\n",
      "-------------------------\n",
      "Year: 2024\n",
      "Predicted Free Cash Flows: 123084400000.0\n",
      "-------------------------\n",
      "Year: 2025\n",
      "Predicted Free Cash Flows: 135029800000.0\n",
      "-------------------------\n",
      "Year: 2026\n",
      "Predicted Free Cash Flows: 146975200000.0\n",
      "-------------------------\n",
      "Year: 2027\n",
      "Predicted Free Cash Flows: 158920600000.0\n",
      "-------------------------\n"
     ]
    }
   ],
   "source": [
    "#Forecaste Free Cash flows\n",
    "\n",
    "#Sort Data Frame by date\n",
    "df_cash_flow['date'] = pd.to_datetime(df_cash_flow['date'])\n",
    "df_cash_flow = df_cash_flow.sort_values(by = 'date')\n",
    "\n",
    "# Get only the year from the date\n",
    "df_cash_flow['year'] = df_cash_flow['date'].dt.year\n",
    "\n",
    "#Historical Data\n",
    "years = df_cash_flow['year'].values.reshape(-1,1)\n",
    "future_free_cash_flows = df_cash_flow['freeCashFlow'].values\n",
    "\n",
    "ffcf = LinearRegression().fit(years, future_free_cash_flows)\n",
    "\n",
    "future_years = np.array([2023, 2024, 2025, 2026, 2027]).reshape(-1,1)\n",
    "predicted_ffcf = ffcf.predict(future_years)\n",
    "\n",
    "predicted_cash_flows_list = []\n",
    "\n",
    "for year, free_cash_flow in zip(future_years, predicted_ffcf):  # Removed the comma after 'free_cash_flow'\n",
    "    print(f\"Year: {year[0]}\")\n",
    "    print(f'Predicted Free Cash Flows: {free_cash_flow}')\n",
    "    print(\"-------------------------\")\n",
    "\n",
    "    predicted_cash_flows_list.append(free_cash_flow)  # Append without print\n",
    "\n",
    "# After the loop, you can print the entire list to confirm it has the values\n",
    "\n",
    "# Forecasted the cash flows using scikit learn, however I'm going to calculate the cash flows manually.\n",
    "# Free Cash Flow = EBIT * (1-tax rate) + Depreciation and Amortization --> ($no cash flow leaving the company$) - capital expenditures - increase in non-cash working capital\n",
    "# Formula for the Non-Cash Working Capital = current Assets - cash - current liabilities"
   ],
   "metadata": {
    "collapsed": false,
    "ExecuteTime": {
     "end_time": "2024-02-09T20:35:48.746978Z",
     "start_time": "2024-02-09T20:35:48.714496Z"
    }
   }
  },
  {
   "cell_type": "code",
   "outputs": [],
   "source": [
    "%%capture\n",
    "%run Income_Statement.ipynb # get data from the income statement\n",
    "%run Balance_Sheet.ipynb # get data from the balance sheet"
   ],
   "metadata": {
    "collapsed": false,
    "ExecuteTime": {
     "end_time": "2024-02-09T20:35:51.814353Z",
     "start_time": "2024-02-09T20:35:48.728075Z"
    }
   },
   "execution_count": 86
  },
  {
   "cell_type": "code",
   "execution_count": 87,
   "outputs": [
    {
     "name": "stdout",
     "output_type": "stream",
     "text": [
      "Cost of Equity: 0.10839\n",
      "-----------------------\n",
      "Percentage of Debt:0.035932661429983755\n",
      "-----------------------\n",
      "Percentage of Equity:0.9640673385700163\n",
      "-----------------------\n",
      "Cost of Debt: 0.029863581124873972\n"
     ]
    }
   ],
   "source": [
    "# Calculating the WACC = (% of equity * cost of equity) + (% of Debt * cost of Debt * (1-Tax Rate))\n",
    "# Cost of Equity = Risk Free rate + (beta * (expected Market return - risk free rate))\n",
    "risk_free_rate = 0.0482\n",
    "beta = 1.30\n",
    "market_return = 0.0945\n",
    "tax_rate = 0.1565\n",
    "\n",
    "cost_of_equity = risk_free_rate + (beta * (market_return - risk_free_rate))\n",
    "print(f'Cost of Equity: {cost_of_equity}')\n",
    "\n",
    "sharesoutstanding = 15787154000\n",
    "total_debt = df_balance_sheet['totalDebt'][0]\n",
    "value_of_equity = price * sharesoutstanding\n",
    "\n",
    "total =(value_of_equity + total_debt)\n",
    "\n",
    "\n",
    "print('-----------------------')\n",
    "\n",
    "percentage_debt = total_debt / total\n",
    "print(f'Percentage of Debt:{percentage_debt}')\n",
    "\n",
    "print('-----------------------')\n",
    "\n",
    "percentage_equity = value_of_equity / total\n",
    "print(f'Percentage of Equity:{percentage_equity}')\n",
    "\n",
    "print('-----------------------')\n",
    "\n",
    "cost_of_debt = interest_exp / total_debt * (1-tax_rate)\n",
    "print(f'Cost of Debt: {cost_of_debt}')"
   ],
   "metadata": {
    "collapsed": false,
    "ExecuteTime": {
     "end_time": "2024-02-09T20:35:51.815979Z",
     "start_time": "2024-02-09T20:35:51.813869Z"
    }
   }
  },
  {
   "cell_type": "code",
   "execution_count": 88,
   "outputs": [
    {
     "name": "stdout",
     "output_type": "stream",
     "text": [
      "WACC = 10.54%\n"
     ]
    }
   ],
   "source": [
    "# Calculating the WACC = (% of equity * cost of equity) + (% of Debt * cost of Debt * (1-Tax Rate))\n",
    "wacc = (percentage_equity * cost_of_equity) + (percentage_debt * cost_of_debt * (1 - tax_rate))\n",
    "print(f'WACC = {wacc:.2%}')"
   ],
   "metadata": {
    "collapsed": false,
    "ExecuteTime": {
     "end_time": "2024-02-09T20:35:51.822445Z",
     "start_time": "2024-02-09T20:35:51.818128Z"
    }
   }
  },
  {
   "cell_type": "code",
   "execution_count": 89,
   "outputs": [
    {
     "name": "stdout",
     "output_type": "stream",
     "text": [
      "Terminal Values for each year's predicted cash flow:\n",
      "\n",
      "Year 2024 Terminal Value: $1,344,459,491,838.38\n",
      "----------------------------\n",
      "Year 2025 Terminal Value: $1,488,964,178,886.18\n",
      "----------------------------\n",
      "Year 2026 Terminal Value: $1,633,468,865,933.99\n",
      "----------------------------\n",
      "Year 2027 Terminal Value: $1,777,973,552,981.79\n",
      "----------------------------\n",
      "Year 2028 Terminal Value: $1,922,478,240,029.60\n",
      "----------------------------\n"
     ]
    }
   ],
   "source": [
    "TGR = 0.021\n",
    "def terminal_value(TGR, predicted_cash_flows_list, wacc):\n",
    "    terminal_values = []\n",
    "\n",
    "    for predicted_cash_flow in predicted_cash_flows_list:\n",
    "\n",
    "        TV = predicted_cash_flow * (1 + TGR) / (wacc - TGR)\n",
    "        terminal_values.append(TV)\n",
    "\n",
    "    return terminal_values\n",
    "\n",
    "terminal_values_by_year = []\n",
    "\n",
    "TVs = terminal_value(TGR, predicted_cash_flows_list, wacc)\n",
    "print(\"Terminal Values for each year's predicted cash flow:\")\n",
    "print()\n",
    "for year, TV in enumerate(TVs, start=2024):\n",
    "    formatted_tv = \"{:,.2f}\".format(TV)\n",
    "    print(f\"Year {year} Terminal Value: ${formatted_tv}\")\n",
    "    print('----------------------------')\n",
    "\n",
    "    terminal_values_by_year.append(TV)"
   ],
   "metadata": {
    "collapsed": false,
    "ExecuteTime": {
     "end_time": "2024-02-09T20:35:51.827700Z",
     "start_time": "2024-02-09T20:35:51.823917Z"
    }
   }
  },
  {
   "cell_type": "code",
   "execution_count": 90,
   "outputs": [
    {
     "name": "stdout",
     "output_type": "stream",
     "text": [
      "Discounted Values for each year\n",
      "\n",
      "Year 2024 Present Values: $100,541,848,901.22\n",
      "-------------------------\n",
      "Year 2025 Present Values: $100,731,146,744.18\n",
      "-------------------------\n",
      "Year 2026 Present Values: $99,970,248,605.47\n",
      "-------------------------\n",
      "Year 2027 Present Values: $98,438,636,630.18\n",
      "-------------------------\n",
      "Year 2028 Present Values: $96,290,204,465.64\n",
      "-------------------------\n"
     ]
    }
   ],
   "source": [
    "def discount (predicted_cash_flows_list, wacc):\n",
    "    discount_values  = []\n",
    "\n",
    "    for i, predicted_cash_flow in enumerate(predicted_cash_flows_list, start=1):\n",
    "        PV = predicted_cash_flow / (1 + wacc) ** i\n",
    "        discount_values.append(PV)\n",
    "\n",
    "    return discount_values\n",
    "\n",
    "present_values_by_year = []\n",
    "\n",
    "PVs = discount(predicted_cash_flows_list, wacc)\n",
    "print('Discounted Values for each year')\n",
    "print()\n",
    "for year, PV in enumerate(PVs, start= 2024):\n",
    "    formatted_pv = \"{:,.2f}\".format(PV)\n",
    "    print(f'Year {year} Present Values: ${formatted_pv}')\n",
    "    print('-------------------------')\n",
    "\n",
    "    present_values_by_year.append(PV)"
   ],
   "metadata": {
    "collapsed": false,
    "ExecuteTime": {
     "end_time": "2024-02-09T20:35:51.833094Z",
     "start_time": "2024-02-09T20:35:51.829705Z"
    }
   }
  },
  {
   "cell_type": "code",
   "execution_count": 91,
   "outputs": [
    {
     "name": "stdout",
     "output_type": "stream",
     "text": [
      "0.9046495730681106\n",
      "0.8183908500523147\n",
      "0.7403569331026745\n",
      "0.6697635834493502\n",
      "0.6059013398240225\n"
     ]
    }
   ],
   "source": [
    "# Discount Factor 1/(1 + wacc) ** period\n",
    "\n",
    "for i in range(1,6):\n",
    "    discount_factors = 1/(1 + wacc) ** i\n",
    "    print(discount_factors)\n",
    "\n",
    "year2028 = float(terminal_values_by_year[-1])\n",
    "pv_of_tv = 0.6058938531864974 * year2028"
   ],
   "metadata": {
    "collapsed": false,
    "ExecuteTime": {
     "end_time": "2024-02-09T20:35:51.877107Z",
     "start_time": "2024-02-09T20:35:51.833504Z"
    }
   }
  },
  {
   "cell_type": "code",
   "execution_count": 92,
   "outputs": [
    {
     "name": "stdout",
     "output_type": "stream",
     "text": [
      "\n",
      "Share Price: 100.06026633207081\n"
     ]
    }
   ],
   "source": [
    "# Sum of Pv of free cash flow\n",
    "# + PV of terminal value\n",
    "#------------------------------\n",
    "# ENTERPRISE VALUE\n",
    "# - net debt\n",
    "# + preferred stock\n",
    "# + non controlling interest\n",
    "#-------------------------------\n",
    "# EQUITY VALUE\n",
    "# / Number of Shares\n",
    "#--------------------------------\n",
    "# IMPLIED SHARE PRICE\n",
    "sum_of_pv = 0\n",
    "for value in present_values_by_year:\n",
    "    sum_of_pv += value\n",
    "print()\n",
    "\n",
    "\n",
    "\n",
    "enterprise_value = pv_of_tv + sum_of_pv\n",
    "equity_value = enterprise_value - total_debt + cash\n",
    "\n",
    "\n",
    "implied_share_price = equity_value / sharesoutstanding\n",
    "print(f'Share Price: {implied_share_price}')"
   ],
   "metadata": {
    "collapsed": false,
    "ExecuteTime": {
     "end_time": "2024-02-09T20:35:51.877675Z",
     "start_time": "2024-02-09T20:35:51.841905Z"
    }
   }
  }
 ],
 "metadata": {
  "kernelspec": {
   "display_name": "Python 3 (ipykernel)",
   "language": "python",
   "name": "python3"
  },
  "language_info": {
   "codemirror_mode": {
    "name": "ipython",
    "version": 3
   },
   "file_extension": ".py",
   "mimetype": "text/x-python",
   "name": "python",
   "nbconvert_exporter": "python",
   "pygments_lexer": "ipython3",
   "version": "3.9.7"
  }
 },
 "nbformat": 4,
 "nbformat_minor": 1
}

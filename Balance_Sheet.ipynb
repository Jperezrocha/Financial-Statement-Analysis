{
 "cells": [
  {
   "cell_type": "code",
   "execution_count": 226,
   "metadata": {},
   "outputs": [],
   "source": [
    "import requests\n",
    "#import yfinance as yf\n",
    "import matplotlib.pyplot as plt\n",
    "from matplotlib import style\n",
    "import datetime as dt\n",
    "import pandas as pd\n",
    "from matplotlib import style\n",
    "import sklearn"
   ]
  },
  {
   "cell_type": "code",
   "execution_count": 227,
   "metadata": {},
   "outputs": [
    {
     "name": "stdout",
     "output_type": "stream",
     "text": [
      "[{'date': '2022-12-31', 'symbol': 'AMZN', 'reportedCurrency': 'USD', 'cik': '0001018724', 'fillingDate': '2023-02-03', 'acceptedDate': '2023-02-02 18:27:34', 'calendarYear': '2022', 'period': 'FY', 'cashAndCashEquivalents': 53888000000, 'shortTermInvestments': 16138000000, 'cashAndShortTermInvestments': 70026000000, 'netReceivables': 42360000000, 'inventory': 34405000000, 'otherCurrentAssets': 0, 'totalCurrentAssets': 146791000000, 'propertyPlantEquipmentNet': 252838000000, 'goodwill': 20288000000, 'intangibleAssets': 0, 'goodwillAndIntangibleAssets': 20288000000, 'longTermInvestments': 0, 'taxAssets': 0, 'otherNonCurrentAssets': 42758000000, 'totalNonCurrentAssets': 315884000000, 'otherAssets': 0, 'totalAssets': 462675000000, 'accountPayables': 79600000000, 'shortTermDebt': 0, 'taxPayables': 0, 'deferredRevenue': 13227000000, 'otherCurrentLiabilities': 62566000000, 'totalCurrentLiabilities': 155393000000, 'longTermDebt': 140118000000, 'deferredRevenueNonCurrent': 0, 'deferredTaxLiabilitiesNonCurrent': 0, 'otherNonCurrentLiabilities': 21121000000, 'totalNonCurrentLiabilities': 161239000000, 'otherLiabilities': 0, 'capitalLeaseObligations': 72968000000, 'totalLiabilities': 316632000000, 'preferredStock': 0, 'commonStock': 108000000, 'retainedEarnings': 83193000000, 'accumulatedOtherComprehensiveIncomeLoss': -4487000000, 'othertotalStockholdersEquity': 67229000000, 'totalStockholdersEquity': 146043000000, 'totalEquity': 146043000000, 'totalLiabilitiesAndStockholdersEquity': 462675000000, 'minorityInterest': 0, 'totalLiabilitiesAndTotalEquity': 462675000000, 'totalInvestments': 16138000000, 'totalDebt': 140118000000, 'netDebt': 86230000000, 'link': 'https://www.sec.gov/Archives/edgar/data/1018724/000101872423000004/0001018724-23-000004-index.htm', 'finalLink': 'https://www.sec.gov/Archives/edgar/data/1018724/000101872423000004/amzn-20221231.htm'}, {'date': '2021-12-31', 'symbol': 'AMZN', 'reportedCurrency': 'USD', 'cik': '0001018724', 'fillingDate': '2022-02-04', 'acceptedDate': '2022-02-03 18:46:51', 'calendarYear': '2021', 'period': 'FY', 'cashAndCashEquivalents': 36220000000, 'shortTermInvestments': 59829000000, 'cashAndShortTermInvestments': 96049000000, 'netReceivables': 32891000000, 'inventory': 32640000000, 'otherCurrentAssets': 0, 'totalCurrentAssets': 161580000000, 'propertyPlantEquipmentNet': 216363000000, 'goodwill': 15371000000, 'intangibleAssets': 5107000000, 'goodwillAndIntangibleAssets': 15371000000, 'longTermInvestments': 0, 'taxAssets': 0, 'otherNonCurrentAssets': 27235000000, 'totalNonCurrentAssets': 258969000000, 'otherAssets': 0, 'totalAssets': 420549000000, 'accountPayables': 78664000000, 'shortTermDebt': 0, 'taxPayables': 0, 'deferredRevenue': 11827000000, 'otherCurrentLiabilities': 51775000000, 'totalCurrentLiabilities': 142266000000, 'longTermDebt': 116395000000, 'deferredRevenueNonCurrent': 0, 'deferredTaxLiabilitiesNonCurrent': 0, 'otherNonCurrentLiabilities': 23643000000, 'totalNonCurrentLiabilities': 140038000000, 'otherLiabilities': 0, 'capitalLeaseObligations': 67651000000, 'totalLiabilities': 282304000000, 'preferredStock': 0, 'commonStock': 5000000, 'retainedEarnings': 85915000000, 'accumulatedOtherComprehensiveIncomeLoss': -1376000000, 'othertotalStockholdersEquity': 53701000000, 'totalStockholdersEquity': 138245000000, 'totalEquity': 138245000000, 'totalLiabilitiesAndStockholdersEquity': 420549000000, 'minorityInterest': 0, 'totalLiabilitiesAndTotalEquity': 420549000000, 'totalInvestments': 59829000000, 'totalDebt': 116395000000, 'netDebt': 80175000000, 'link': 'https://www.sec.gov/Archives/edgar/data/1018724/000101872422000005/0001018724-22-000005-index.htm', 'finalLink': 'https://www.sec.gov/Archives/edgar/data/1018724/000101872422000005/amzn-20211231.htm'}, {'date': '2020-12-31', 'symbol': 'AMZN', 'reportedCurrency': 'USD', 'cik': '0001018724', 'fillingDate': '2021-02-03', 'acceptedDate': '2021-02-02 19:44:10', 'calendarYear': '2020', 'period': 'FY', 'cashAndCashEquivalents': 42122000000, 'shortTermInvestments': 42274000000, 'cashAndShortTermInvestments': 84396000000, 'netReceivables': 24542000000, 'inventory': 23795000000, 'otherCurrentAssets': 0, 'totalCurrentAssets': 132733000000, 'propertyPlantEquipmentNet': 150667000000, 'goodwill': 15017000000, 'intangibleAssets': 4981000000, 'goodwillAndIntangibleAssets': 15017000000, 'longTermInvestments': 0, 'taxAssets': 0, 'otherNonCurrentAssets': 22778000000, 'totalNonCurrentAssets': 188462000000, 'otherAssets': 0, 'totalAssets': 321195000000, 'accountPayables': 72539000000, 'shortTermDebt': 0, 'taxPayables': 0, 'deferredRevenue': 9708000000, 'otherCurrentLiabilities': 44138000000, 'totalCurrentLiabilities': 126385000000, 'longTermDebt': 84389000000, 'deferredRevenueNonCurrent': 0, 'deferredTaxLiabilitiesNonCurrent': 0, 'otherNonCurrentLiabilities': 17017000000, 'totalNonCurrentLiabilities': 101406000000, 'otherLiabilities': 0, 'capitalLeaseObligations': 52573000000, 'totalLiabilities': 227791000000, 'preferredStock': 0, 'commonStock': 5000000, 'retainedEarnings': 52551000000, 'accumulatedOtherComprehensiveIncomeLoss': -180000000, 'othertotalStockholdersEquity': 41028000000, 'totalStockholdersEquity': 93404000000, 'totalEquity': 93404000000, 'totalLiabilitiesAndStockholdersEquity': 321195000000, 'minorityInterest': 0, 'totalLiabilitiesAndTotalEquity': 321195000000, 'totalInvestments': 42274000000, 'totalDebt': 84389000000, 'netDebt': 42267000000, 'link': 'https://www.sec.gov/Archives/edgar/data/1018724/000101872421000004/0001018724-21-000004-index.htm', 'finalLink': 'https://www.sec.gov/Archives/edgar/data/1018724/000101872421000004/amzn-20201231.htm'}, {'date': '2019-12-31', 'symbol': 'AMZN', 'reportedCurrency': 'USD', 'cik': '0001018724', 'fillingDate': '2020-01-31', 'acceptedDate': '2020-01-30 20:46:13', 'calendarYear': '2019', 'period': 'FY', 'cashAndCashEquivalents': 36092000000, 'shortTermInvestments': 18929000000, 'cashAndShortTermInvestments': 55021000000, 'netReceivables': 20816000000, 'inventory': 20497000000, 'otherCurrentAssets': 0, 'totalCurrentAssets': 96334000000, 'propertyPlantEquipmentNet': 97846000000, 'goodwill': 14754000000, 'intangibleAssets': 4049000000, 'goodwillAndIntangibleAssets': 14754000000, 'longTermInvestments': 0, 'taxAssets': 0, 'otherNonCurrentAssets': 16314000000, 'totalNonCurrentAssets': 128914000000, 'otherAssets': 0, 'totalAssets': 225248000000, 'accountPayables': 47183000000, 'shortTermDebt': 0, 'taxPayables': 0, 'deferredRevenue': 8190000000, 'otherCurrentLiabilities': 32439000000, 'totalCurrentLiabilities': 87812000000, 'longTermDebt': 63205000000, 'deferredRevenueNonCurrent': 0, 'deferredTaxLiabilitiesNonCurrent': 0, 'otherNonCurrentLiabilities': 12171000000, 'totalNonCurrentLiabilities': 75376000000, 'otherLiabilities': 0, 'capitalLeaseObligations': 39791000000, 'totalLiabilities': 163188000000, 'preferredStock': 0, 'commonStock': 5000000, 'retainedEarnings': 31220000000, 'accumulatedOtherComprehensiveIncomeLoss': -986000000, 'othertotalStockholdersEquity': 31821000000, 'totalStockholdersEquity': 62060000000, 'totalEquity': 62060000000, 'totalLiabilitiesAndStockholdersEquity': 225248000000, 'minorityInterest': 0, 'totalLiabilitiesAndTotalEquity': 225248000000, 'totalInvestments': 18929000000, 'totalDebt': 63205000000, 'netDebt': 27113000000, 'link': 'https://www.sec.gov/Archives/edgar/data/1018724/000101872420000004/0001018724-20-000004-index.htm', 'finalLink': 'https://www.sec.gov/Archives/edgar/data/1018724/000101872420000004/amzn-20191231x10k.htm'}, {'date': '2018-12-31', 'symbol': 'AMZN', 'reportedCurrency': 'USD', 'cik': '0001018724', 'fillingDate': '2019-02-01', 'acceptedDate': '2019-01-31 20:22:40', 'calendarYear': '2018', 'period': 'FY', 'cashAndCashEquivalents': 31750000000, 'shortTermInvestments': 9500000000, 'cashAndShortTermInvestments': 41250000000, 'netReceivables': 16677000000, 'inventory': 17174000000, 'otherCurrentAssets': 0, 'totalCurrentAssets': 75101000000, 'propertyPlantEquipmentNet': 61797000000, 'goodwill': 14548000000, 'intangibleAssets': 4110000000, 'goodwillAndIntangibleAssets': 18658000000, 'longTermInvestments': 0, 'taxAssets': 0, 'otherNonCurrentAssets': 7092000000, 'totalNonCurrentAssets': 87547000000, 'otherAssets': 0, 'totalAssets': 162648000000, 'accountPayables': 38192000000, 'shortTermDebt': 0, 'taxPayables': 0, 'deferredRevenue': 6536000000, 'otherCurrentLiabilities': 23663000000, 'totalCurrentLiabilities': 68391000000, 'longTermDebt': 23495000000, 'deferredRevenueNonCurrent': -2386000000, 'deferredTaxLiabilitiesNonCurrent': 2386000000, 'otherNonCurrentLiabilities': 27213000000, 'totalNonCurrentLiabilities': 50708000000, 'otherLiabilities': 0, 'capitalLeaseObligations': 16292000000, 'totalLiabilities': 119099000000, 'preferredStock': 0, 'commonStock': 5000000, 'retainedEarnings': 19625000000, 'accumulatedOtherComprehensiveIncomeLoss': -1035000000, 'othertotalStockholdersEquity': 24954000000, 'totalStockholdersEquity': 43549000000, 'totalEquity': 43549000000, 'totalLiabilitiesAndStockholdersEquity': 162648000000, 'minorityInterest': 0, 'totalLiabilitiesAndTotalEquity': 162648000000, 'totalInvestments': 9500000000, 'totalDebt': 39787000000, 'netDebt': 8037000000, 'link': 'https://www.sec.gov/Archives/edgar/data/1018724/000101872419000004/0001018724-19-000004-index.htm', 'finalLink': 'https://www.sec.gov/Archives/edgar/data/1018724/000101872419000004/amzn-20181231x10k.htm'}]\n"
     ]
    }
   ],
   "source": [
    "ticker = 'AMZN'\n",
    "api_key = \"ec2d6f3b0cc9395fbce02f1316669229\"\n",
    "years = 10\n",
    "\n",
    "\n",
    "url = (f\"https://financialmodelingprep.com/api/v3/balance-sheet-statement/{ticker}?limit={years}&apikey={api_key}\")\n",
    "\n",
    "r = requests.get(url)\n",
    "balance_sheet = r.json()\n",
    "print(balance_sheet)"
   ]
  },
  {
   "cell_type": "code",
   "execution_count": 228,
   "metadata": {},
   "outputs": [
    {
     "name": "stdout",
     "output_type": "stream",
     "text": [
      "         date symbol reportedCurrency         cik fillingDate  \\\n",
      "0  2022-12-31   AMZN              USD  0001018724  2023-02-03   \n",
      "1  2021-12-31   AMZN              USD  0001018724  2022-02-04   \n",
      "2  2020-12-31   AMZN              USD  0001018724  2021-02-03   \n",
      "3  2019-12-31   AMZN              USD  0001018724  2020-01-31   \n",
      "4  2018-12-31   AMZN              USD  0001018724  2019-02-01   \n",
      "\n",
      "          acceptedDate calendarYear period  cashAndCashEquivalents  \\\n",
      "0  2023-02-02 18:27:34         2022     FY             53888000000   \n",
      "1  2022-02-03 18:46:51         2021     FY             36220000000   \n",
      "2  2021-02-02 19:44:10         2020     FY             42122000000   \n",
      "3  2020-01-30 20:46:13         2019     FY             36092000000   \n",
      "4  2019-01-31 20:22:40         2018     FY             31750000000   \n",
      "\n",
      "   shortTermInvestments  ...  totalStockholdersEquity   totalEquity  \\\n",
      "0           16138000000  ...             146043000000  146043000000   \n",
      "1           59829000000  ...             138245000000  138245000000   \n",
      "2           42274000000  ...              93404000000   93404000000   \n",
      "3           18929000000  ...              62060000000   62060000000   \n",
      "4            9500000000  ...              43549000000   43549000000   \n",
      "\n",
      "   totalLiabilitiesAndStockholdersEquity  minorityInterest  \\\n",
      "0                           462675000000                 0   \n",
      "1                           420549000000                 0   \n",
      "2                           321195000000                 0   \n",
      "3                           225248000000                 0   \n",
      "4                           162648000000                 0   \n",
      "\n",
      "   totalLiabilitiesAndTotalEquity  totalInvestments     totalDebt  \\\n",
      "0                    462675000000       16138000000  140118000000   \n",
      "1                    420549000000       59829000000  116395000000   \n",
      "2                    321195000000       42274000000   84389000000   \n",
      "3                    225248000000       18929000000   63205000000   \n",
      "4                    162648000000        9500000000   39787000000   \n",
      "\n",
      "       netDebt                                               link  \\\n",
      "0  86230000000  https://www.sec.gov/Archives/edgar/data/101872...   \n",
      "1  80175000000  https://www.sec.gov/Archives/edgar/data/101872...   \n",
      "2  42267000000  https://www.sec.gov/Archives/edgar/data/101872...   \n",
      "3  27113000000  https://www.sec.gov/Archives/edgar/data/101872...   \n",
      "4   8037000000  https://www.sec.gov/Archives/edgar/data/101872...   \n",
      "\n",
      "                                           finalLink  \n",
      "0  https://www.sec.gov/Archives/edgar/data/101872...  \n",
      "1  https://www.sec.gov/Archives/edgar/data/101872...  \n",
      "2  https://www.sec.gov/Archives/edgar/data/101872...  \n",
      "3  https://www.sec.gov/Archives/edgar/data/101872...  \n",
      "4  https://www.sec.gov/Archives/edgar/data/101872...  \n",
      "\n",
      "[5 rows x 54 columns]\n"
     ]
    }
   ],
   "source": [
    "df_balance_sheet = pd.DataFrame(balance_sheet)\n",
    "print(df_balance_sheet)"
   ]
  },
  {
   "cell_type": "code",
   "execution_count": 229,
   "metadata": {},
   "outputs": [
    {
     "data": {
      "text/plain": "         date symbol reportedCurrency         cik fillingDate  \\\n0  2022-12-31   AMZN              USD  0001018724  2023-02-03   \n1  2021-12-31   AMZN              USD  0001018724  2022-02-04   \n2  2020-12-31   AMZN              USD  0001018724  2021-02-03   \n3  2019-12-31   AMZN              USD  0001018724  2020-01-31   \n4  2018-12-31   AMZN              USD  0001018724  2019-02-01   \n\n          acceptedDate calendarYear period  cashAndCashEquivalents  \\\n0  2023-02-02 18:27:34         2022     FY             53888000000   \n1  2022-02-03 18:46:51         2021     FY             36220000000   \n2  2021-02-02 19:44:10         2020     FY             42122000000   \n3  2020-01-30 20:46:13         2019     FY             36092000000   \n4  2019-01-31 20:22:40         2018     FY             31750000000   \n\n   shortTermInvestments  ...  totalStockholdersEquity   totalEquity  \\\n0           16138000000  ...             146043000000  146043000000   \n1           59829000000  ...             138245000000  138245000000   \n2           42274000000  ...              93404000000   93404000000   \n3           18929000000  ...              62060000000   62060000000   \n4            9500000000  ...              43549000000   43549000000   \n\n   totalLiabilitiesAndStockholdersEquity  minorityInterest  \\\n0                           462675000000                 0   \n1                           420549000000                 0   \n2                           321195000000                 0   \n3                           225248000000                 0   \n4                           162648000000                 0   \n\n   totalLiabilitiesAndTotalEquity  totalInvestments     totalDebt  \\\n0                    462675000000       16138000000  140118000000   \n1                    420549000000       59829000000  116395000000   \n2                    321195000000       42274000000   84389000000   \n3                    225248000000       18929000000   63205000000   \n4                    162648000000        9500000000   39787000000   \n\n       netDebt                                               link  \\\n0  86230000000  https://www.sec.gov/Archives/edgar/data/101872...   \n1  80175000000  https://www.sec.gov/Archives/edgar/data/101872...   \n2  42267000000  https://www.sec.gov/Archives/edgar/data/101872...   \n3  27113000000  https://www.sec.gov/Archives/edgar/data/101872...   \n4   8037000000  https://www.sec.gov/Archives/edgar/data/101872...   \n\n                                           finalLink  \n0  https://www.sec.gov/Archives/edgar/data/101872...  \n1  https://www.sec.gov/Archives/edgar/data/101872...  \n2  https://www.sec.gov/Archives/edgar/data/101872...  \n3  https://www.sec.gov/Archives/edgar/data/101872...  \n4  https://www.sec.gov/Archives/edgar/data/101872...  \n\n[5 rows x 54 columns]",
      "text/html": "<div>\n<style scoped>\n    .dataframe tbody tr th:only-of-type {\n        vertical-align: middle;\n    }\n\n    .dataframe tbody tr th {\n        vertical-align: top;\n    }\n\n    .dataframe thead th {\n        text-align: right;\n    }\n</style>\n<table border=\"1\" class=\"dataframe\">\n  <thead>\n    <tr style=\"text-align: right;\">\n      <th></th>\n      <th>date</th>\n      <th>symbol</th>\n      <th>reportedCurrency</th>\n      <th>cik</th>\n      <th>fillingDate</th>\n      <th>acceptedDate</th>\n      <th>calendarYear</th>\n      <th>period</th>\n      <th>cashAndCashEquivalents</th>\n      <th>shortTermInvestments</th>\n      <th>...</th>\n      <th>totalStockholdersEquity</th>\n      <th>totalEquity</th>\n      <th>totalLiabilitiesAndStockholdersEquity</th>\n      <th>minorityInterest</th>\n      <th>totalLiabilitiesAndTotalEquity</th>\n      <th>totalInvestments</th>\n      <th>totalDebt</th>\n      <th>netDebt</th>\n      <th>link</th>\n      <th>finalLink</th>\n    </tr>\n  </thead>\n  <tbody>\n    <tr>\n      <th>0</th>\n      <td>2022-12-31</td>\n      <td>AMZN</td>\n      <td>USD</td>\n      <td>0001018724</td>\n      <td>2023-02-03</td>\n      <td>2023-02-02 18:27:34</td>\n      <td>2022</td>\n      <td>FY</td>\n      <td>53888000000</td>\n      <td>16138000000</td>\n      <td>...</td>\n      <td>146043000000</td>\n      <td>146043000000</td>\n      <td>462675000000</td>\n      <td>0</td>\n      <td>462675000000</td>\n      <td>16138000000</td>\n      <td>140118000000</td>\n      <td>86230000000</td>\n      <td>https://www.sec.gov/Archives/edgar/data/101872...</td>\n      <td>https://www.sec.gov/Archives/edgar/data/101872...</td>\n    </tr>\n    <tr>\n      <th>1</th>\n      <td>2021-12-31</td>\n      <td>AMZN</td>\n      <td>USD</td>\n      <td>0001018724</td>\n      <td>2022-02-04</td>\n      <td>2022-02-03 18:46:51</td>\n      <td>2021</td>\n      <td>FY</td>\n      <td>36220000000</td>\n      <td>59829000000</td>\n      <td>...</td>\n      <td>138245000000</td>\n      <td>138245000000</td>\n      <td>420549000000</td>\n      <td>0</td>\n      <td>420549000000</td>\n      <td>59829000000</td>\n      <td>116395000000</td>\n      <td>80175000000</td>\n      <td>https://www.sec.gov/Archives/edgar/data/101872...</td>\n      <td>https://www.sec.gov/Archives/edgar/data/101872...</td>\n    </tr>\n    <tr>\n      <th>2</th>\n      <td>2020-12-31</td>\n      <td>AMZN</td>\n      <td>USD</td>\n      <td>0001018724</td>\n      <td>2021-02-03</td>\n      <td>2021-02-02 19:44:10</td>\n      <td>2020</td>\n      <td>FY</td>\n      <td>42122000000</td>\n      <td>42274000000</td>\n      <td>...</td>\n      <td>93404000000</td>\n      <td>93404000000</td>\n      <td>321195000000</td>\n      <td>0</td>\n      <td>321195000000</td>\n      <td>42274000000</td>\n      <td>84389000000</td>\n      <td>42267000000</td>\n      <td>https://www.sec.gov/Archives/edgar/data/101872...</td>\n      <td>https://www.sec.gov/Archives/edgar/data/101872...</td>\n    </tr>\n    <tr>\n      <th>3</th>\n      <td>2019-12-31</td>\n      <td>AMZN</td>\n      <td>USD</td>\n      <td>0001018724</td>\n      <td>2020-01-31</td>\n      <td>2020-01-30 20:46:13</td>\n      <td>2019</td>\n      <td>FY</td>\n      <td>36092000000</td>\n      <td>18929000000</td>\n      <td>...</td>\n      <td>62060000000</td>\n      <td>62060000000</td>\n      <td>225248000000</td>\n      <td>0</td>\n      <td>225248000000</td>\n      <td>18929000000</td>\n      <td>63205000000</td>\n      <td>27113000000</td>\n      <td>https://www.sec.gov/Archives/edgar/data/101872...</td>\n      <td>https://www.sec.gov/Archives/edgar/data/101872...</td>\n    </tr>\n    <tr>\n      <th>4</th>\n      <td>2018-12-31</td>\n      <td>AMZN</td>\n      <td>USD</td>\n      <td>0001018724</td>\n      <td>2019-02-01</td>\n      <td>2019-01-31 20:22:40</td>\n      <td>2018</td>\n      <td>FY</td>\n      <td>31750000000</td>\n      <td>9500000000</td>\n      <td>...</td>\n      <td>43549000000</td>\n      <td>43549000000</td>\n      <td>162648000000</td>\n      <td>0</td>\n      <td>162648000000</td>\n      <td>9500000000</td>\n      <td>39787000000</td>\n      <td>8037000000</td>\n      <td>https://www.sec.gov/Archives/edgar/data/101872...</td>\n      <td>https://www.sec.gov/Archives/edgar/data/101872...</td>\n    </tr>\n  </tbody>\n</table>\n<p>5 rows × 54 columns</p>\n</div>"
     },
     "execution_count": 229,
     "metadata": {},
     "output_type": "execute_result"
    }
   ],
   "source": [
    "df_balance_sheet.head()"
   ]
  },
  {
   "cell_type": "code",
   "execution_count": 230,
   "metadata": {},
   "outputs": [
    {
     "data": {
      "text/plain": "       cashAndCashEquivalents  shortTermInvestments  \\\ncount            5.000000e+00          5.000000e+00   \nmean             4.001440e+10          2.933400e+10   \nstd              8.587808e+09          2.105454e+10   \nmin              3.175000e+10          9.500000e+09   \n25%              3.609200e+10          1.613800e+10   \n50%              3.622000e+10          1.892900e+10   \n75%              4.212200e+10          4.227400e+10   \nmax              5.388800e+10          5.982900e+10   \n\n       cashAndShortTermInvestments  netReceivables     inventory  \\\ncount                 5.000000e+00    5.000000e+00  5.000000e+00   \nmean                  6.934840e+10    2.745720e+10  2.570220e+10   \nstd                   2.199208e+10    1.025227e+10  7.538792e+09   \nmin                   4.125000e+10    1.667700e+10  1.717400e+10   \n25%                   5.502100e+10    2.081600e+10  2.049700e+10   \n50%                   7.002600e+10    2.454200e+10  2.379500e+10   \n75%                   8.439600e+10    3.289100e+10  3.264000e+10   \nmax                   9.604900e+10    4.236000e+10  3.440500e+10   \n\n       otherCurrentAssets  totalCurrentAssets  propertyPlantEquipmentNet  \\\ncount                 5.0        5.000000e+00               5.000000e+00   \nmean                  0.0        1.225078e+11               1.559022e+11   \nstd                   0.0        3.589338e+10               7.953895e+10   \nmin                   0.0        7.510100e+10               6.179700e+10   \n25%                   0.0        9.633400e+10               9.784600e+10   \n50%                   0.0        1.327330e+11               1.506670e+11   \n75%                   0.0        1.467910e+11               2.163630e+11   \nmax                   0.0        1.615800e+11               2.528380e+11   \n\n           goodwill  intangibleAssets  ...  \\\ncount  5.000000e+00      5.000000e+00  ...   \nmean   1.599560e+10      3.649400e+09  ...   \nstd    2.419173e+09      2.096885e+09  ...   \nmin    1.454800e+10      0.000000e+00  ...   \n25%    1.475400e+10      4.049000e+09  ...   \n50%    1.501700e+10      4.110000e+09  ...   \n75%    1.537100e+10      4.981000e+09  ...   \nmax    2.028800e+10      5.107000e+09  ...   \n\n       accumulatedOtherComprehensiveIncomeLoss  othertotalStockholdersEquity  \\\ncount                             5.000000e+00                  5.000000e+00   \nmean                             -1.612800e+09                  4.374660e+10   \nstd                               1.665589e+09                  1.698003e+10   \nmin                              -4.487000e+09                  2.495400e+10   \n25%                              -1.376000e+09                  3.182100e+10   \n50%                              -1.035000e+09                  4.102800e+10   \n75%                              -9.860000e+08                  5.370100e+10   \nmax                              -1.800000e+08                  6.722900e+10   \n\n       totalStockholdersEquity   totalEquity  \\\ncount             5.000000e+00  5.000000e+00   \nmean              9.666020e+10  9.666020e+10   \nstd               4.526735e+10  4.526735e+10   \nmin               4.354900e+10  4.354900e+10   \n25%               6.206000e+10  6.206000e+10   \n50%               9.340400e+10  9.340400e+10   \n75%               1.382450e+11  1.382450e+11   \nmax               1.460430e+11  1.460430e+11   \n\n       totalLiabilitiesAndStockholdersEquity  minorityInterest  \\\ncount                           5.000000e+00               5.0   \nmean                            3.184630e+11               0.0   \nstd                             1.266821e+11               0.0   \nmin                             1.626480e+11               0.0   \n25%                             2.252480e+11               0.0   \n50%                             3.211950e+11               0.0   \n75%                             4.205490e+11               0.0   \nmax                             4.626750e+11               0.0   \n\n       totalLiabilitiesAndTotalEquity  totalInvestments     totalDebt  \\\ncount                    5.000000e+00      5.000000e+00  5.000000e+00   \nmean                     3.184630e+11      2.933400e+10  8.877880e+10   \nstd                      1.266821e+11      2.105454e+10  4.022392e+10   \nmin                      1.626480e+11      9.500000e+09  3.978700e+10   \n25%                      2.252480e+11      1.613800e+10  6.320500e+10   \n50%                      3.211950e+11      1.892900e+10  8.438900e+10   \n75%                      4.205490e+11      4.227400e+10  1.163950e+11   \nmax                      4.626750e+11      5.982900e+10  1.401180e+11   \n\n            netDebt  \ncount  5.000000e+00  \nmean   4.876440e+10  \nstd    3.376395e+10  \nmin    8.037000e+09  \n25%    2.711300e+10  \n50%    4.226700e+10  \n75%    8.017500e+10  \nmax    8.623000e+10  \n\n[8 rows x 44 columns]",
      "text/html": "<div>\n<style scoped>\n    .dataframe tbody tr th:only-of-type {\n        vertical-align: middle;\n    }\n\n    .dataframe tbody tr th {\n        vertical-align: top;\n    }\n\n    .dataframe thead th {\n        text-align: right;\n    }\n</style>\n<table border=\"1\" class=\"dataframe\">\n  <thead>\n    <tr style=\"text-align: right;\">\n      <th></th>\n      <th>cashAndCashEquivalents</th>\n      <th>shortTermInvestments</th>\n      <th>cashAndShortTermInvestments</th>\n      <th>netReceivables</th>\n      <th>inventory</th>\n      <th>otherCurrentAssets</th>\n      <th>totalCurrentAssets</th>\n      <th>propertyPlantEquipmentNet</th>\n      <th>goodwill</th>\n      <th>intangibleAssets</th>\n      <th>...</th>\n      <th>accumulatedOtherComprehensiveIncomeLoss</th>\n      <th>othertotalStockholdersEquity</th>\n      <th>totalStockholdersEquity</th>\n      <th>totalEquity</th>\n      <th>totalLiabilitiesAndStockholdersEquity</th>\n      <th>minorityInterest</th>\n      <th>totalLiabilitiesAndTotalEquity</th>\n      <th>totalInvestments</th>\n      <th>totalDebt</th>\n      <th>netDebt</th>\n    </tr>\n  </thead>\n  <tbody>\n    <tr>\n      <th>count</th>\n      <td>5.000000e+00</td>\n      <td>5.000000e+00</td>\n      <td>5.000000e+00</td>\n      <td>5.000000e+00</td>\n      <td>5.000000e+00</td>\n      <td>5.0</td>\n      <td>5.000000e+00</td>\n      <td>5.000000e+00</td>\n      <td>5.000000e+00</td>\n      <td>5.000000e+00</td>\n      <td>...</td>\n      <td>5.000000e+00</td>\n      <td>5.000000e+00</td>\n      <td>5.000000e+00</td>\n      <td>5.000000e+00</td>\n      <td>5.000000e+00</td>\n      <td>5.0</td>\n      <td>5.000000e+00</td>\n      <td>5.000000e+00</td>\n      <td>5.000000e+00</td>\n      <td>5.000000e+00</td>\n    </tr>\n    <tr>\n      <th>mean</th>\n      <td>4.001440e+10</td>\n      <td>2.933400e+10</td>\n      <td>6.934840e+10</td>\n      <td>2.745720e+10</td>\n      <td>2.570220e+10</td>\n      <td>0.0</td>\n      <td>1.225078e+11</td>\n      <td>1.559022e+11</td>\n      <td>1.599560e+10</td>\n      <td>3.649400e+09</td>\n      <td>...</td>\n      <td>-1.612800e+09</td>\n      <td>4.374660e+10</td>\n      <td>9.666020e+10</td>\n      <td>9.666020e+10</td>\n      <td>3.184630e+11</td>\n      <td>0.0</td>\n      <td>3.184630e+11</td>\n      <td>2.933400e+10</td>\n      <td>8.877880e+10</td>\n      <td>4.876440e+10</td>\n    </tr>\n    <tr>\n      <th>std</th>\n      <td>8.587808e+09</td>\n      <td>2.105454e+10</td>\n      <td>2.199208e+10</td>\n      <td>1.025227e+10</td>\n      <td>7.538792e+09</td>\n      <td>0.0</td>\n      <td>3.589338e+10</td>\n      <td>7.953895e+10</td>\n      <td>2.419173e+09</td>\n      <td>2.096885e+09</td>\n      <td>...</td>\n      <td>1.665589e+09</td>\n      <td>1.698003e+10</td>\n      <td>4.526735e+10</td>\n      <td>4.526735e+10</td>\n      <td>1.266821e+11</td>\n      <td>0.0</td>\n      <td>1.266821e+11</td>\n      <td>2.105454e+10</td>\n      <td>4.022392e+10</td>\n      <td>3.376395e+10</td>\n    </tr>\n    <tr>\n      <th>min</th>\n      <td>3.175000e+10</td>\n      <td>9.500000e+09</td>\n      <td>4.125000e+10</td>\n      <td>1.667700e+10</td>\n      <td>1.717400e+10</td>\n      <td>0.0</td>\n      <td>7.510100e+10</td>\n      <td>6.179700e+10</td>\n      <td>1.454800e+10</td>\n      <td>0.000000e+00</td>\n      <td>...</td>\n      <td>-4.487000e+09</td>\n      <td>2.495400e+10</td>\n      <td>4.354900e+10</td>\n      <td>4.354900e+10</td>\n      <td>1.626480e+11</td>\n      <td>0.0</td>\n      <td>1.626480e+11</td>\n      <td>9.500000e+09</td>\n      <td>3.978700e+10</td>\n      <td>8.037000e+09</td>\n    </tr>\n    <tr>\n      <th>25%</th>\n      <td>3.609200e+10</td>\n      <td>1.613800e+10</td>\n      <td>5.502100e+10</td>\n      <td>2.081600e+10</td>\n      <td>2.049700e+10</td>\n      <td>0.0</td>\n      <td>9.633400e+10</td>\n      <td>9.784600e+10</td>\n      <td>1.475400e+10</td>\n      <td>4.049000e+09</td>\n      <td>...</td>\n      <td>-1.376000e+09</td>\n      <td>3.182100e+10</td>\n      <td>6.206000e+10</td>\n      <td>6.206000e+10</td>\n      <td>2.252480e+11</td>\n      <td>0.0</td>\n      <td>2.252480e+11</td>\n      <td>1.613800e+10</td>\n      <td>6.320500e+10</td>\n      <td>2.711300e+10</td>\n    </tr>\n    <tr>\n      <th>50%</th>\n      <td>3.622000e+10</td>\n      <td>1.892900e+10</td>\n      <td>7.002600e+10</td>\n      <td>2.454200e+10</td>\n      <td>2.379500e+10</td>\n      <td>0.0</td>\n      <td>1.327330e+11</td>\n      <td>1.506670e+11</td>\n      <td>1.501700e+10</td>\n      <td>4.110000e+09</td>\n      <td>...</td>\n      <td>-1.035000e+09</td>\n      <td>4.102800e+10</td>\n      <td>9.340400e+10</td>\n      <td>9.340400e+10</td>\n      <td>3.211950e+11</td>\n      <td>0.0</td>\n      <td>3.211950e+11</td>\n      <td>1.892900e+10</td>\n      <td>8.438900e+10</td>\n      <td>4.226700e+10</td>\n    </tr>\n    <tr>\n      <th>75%</th>\n      <td>4.212200e+10</td>\n      <td>4.227400e+10</td>\n      <td>8.439600e+10</td>\n      <td>3.289100e+10</td>\n      <td>3.264000e+10</td>\n      <td>0.0</td>\n      <td>1.467910e+11</td>\n      <td>2.163630e+11</td>\n      <td>1.537100e+10</td>\n      <td>4.981000e+09</td>\n      <td>...</td>\n      <td>-9.860000e+08</td>\n      <td>5.370100e+10</td>\n      <td>1.382450e+11</td>\n      <td>1.382450e+11</td>\n      <td>4.205490e+11</td>\n      <td>0.0</td>\n      <td>4.205490e+11</td>\n      <td>4.227400e+10</td>\n      <td>1.163950e+11</td>\n      <td>8.017500e+10</td>\n    </tr>\n    <tr>\n      <th>max</th>\n      <td>5.388800e+10</td>\n      <td>5.982900e+10</td>\n      <td>9.604900e+10</td>\n      <td>4.236000e+10</td>\n      <td>3.440500e+10</td>\n      <td>0.0</td>\n      <td>1.615800e+11</td>\n      <td>2.528380e+11</td>\n      <td>2.028800e+10</td>\n      <td>5.107000e+09</td>\n      <td>...</td>\n      <td>-1.800000e+08</td>\n      <td>6.722900e+10</td>\n      <td>1.460430e+11</td>\n      <td>1.460430e+11</td>\n      <td>4.626750e+11</td>\n      <td>0.0</td>\n      <td>4.626750e+11</td>\n      <td>5.982900e+10</td>\n      <td>1.401180e+11</td>\n      <td>8.623000e+10</td>\n    </tr>\n  </tbody>\n</table>\n<p>8 rows × 44 columns</p>\n</div>"
     },
     "execution_count": 230,
     "metadata": {},
     "output_type": "execute_result"
    }
   ],
   "source": [
    "df_balance_sheet.describe()"
   ]
  },
  {
   "cell_type": "markdown",
   "source": [
    "## Debt ratio\n",
    "Debt Ratios\n",
    "- Amount of debt a company has in relation to it's assets\n",
    "- The Debt to Ratio tells us the degree of leverage used by the company\n"
   ],
   "metadata": {
    "collapsed": false
   }
  },
  {
   "cell_type": "code",
   "execution_count": 231,
   "metadata": {},
   "outputs": [
    {
     "name": "stdout",
     "output_type": "stream",
     "text": [
      "\n",
      "The Company has more debt than Asset 0.68\n",
      "Total Assets:462675000000, Total Liabilities:316632000000\n",
      "\n",
      "The Company has more debt than Asset 0.67\n",
      "Total Assets:420549000000, Total Liabilities:282304000000\n",
      "\n",
      "The Company has more debt than Asset 0.71\n",
      "Total Assets:321195000000, Total Liabilities:227791000000\n",
      "\n",
      "The Company has more debt than Asset 0.72\n",
      "Total Assets:225248000000, Total Liabilities:163188000000\n",
      "\n",
      "The Company has more debt than Asset 0.73\n",
      "Total Assets:162648000000, Total Liabilities:119099000000\n"
     ]
    }
   ],
   "source": [
    "for index, row in df_balance_sheet.iterrows():\n",
    "    total_assets = row['totalAssets']\n",
    "    total_liabilities = row['totalLiabilities']\n",
    "    print()\n",
    "    debt_ratio = total_liabilities / total_assets\n",
    "    if debt_ratio <= 0.4:\n",
    "        print(f'The Company has more assets than debt {debt_ratio:.2f}')\n",
    "    else:\n",
    "        print(f'The Company has more debt than Asset {debt_ratio:.2f}')\n",
    "    print(f'Total Assets:{total_assets}, Total Liabilities:{total_liabilities}')\n"
   ]
  },
  {
   "cell_type": "markdown",
   "source": [
    "## Debt to Equity ratio\n",
    "- This is a measurement of the percentage of the company’s balance sheet that is financed by suppliers, lenders, creditors and obligors versus what the shareholders have committed.\n",
    "- Amount of debt a company has in relation to its equity\n",
    "- The Lower the ratio, the less the debt compared to equity\n",
    "- Whether or not a debt ratio is \"good\" depends on the context: the company's industrial sector, the current interest rate, and so on."
   ],
   "metadata": {
    "collapsed": false
   }
  },
  {
   "cell_type": "code",
   "execution_count": 232,
   "outputs": [
    {
     "name": "stdout",
     "output_type": "stream",
     "text": [
      "\n",
      "It is not a healthy ratio: 0.9594297569893798,  \n",
      "Total Debt: 140118000000, Total Equity: 146043000000\n",
      "\n",
      "It is not a healthy ratio: 0.8419472675322797,  \n",
      "Total Debt: 116395000000, Total Equity: 138245000000\n",
      "\n",
      "It is not a healthy ratio: 0.9034837908440752,  \n",
      "Total Debt: 84389000000, Total Equity: 93404000000\n",
      "\n",
      "It is not a healthy ratio: 1.0184498872059298,  \n",
      "Total Debt: 63205000000, Total Equity: 62060000000\n",
      "\n",
      "It is not a healthy ratio: 0.9136145491285678,  \n",
      "Total Debt: 39787000000, Total Equity: 43549000000\n"
     ]
    }
   ],
   "source": [
    "for index, row in df_balance_sheet.iterrows():\n",
    "    total_debt = row['totalDebt']\n",
    "    total_equity = row['totalEquity']\n",
    "    print()\n",
    "    debt_to_equity = total_debt / total_equity\n",
    "    if debt_to_equity <= 0.4:\n",
    "        print(f'Good Debt to Equity Ratio: {debt_to_equity:.2f}')\n",
    "    else:\n",
    "        print(f'It is not a healthy ratio: {debt_to_equity},  ')\n",
    "    print(f'Total Debt: {total_debt}, Total Equity: {total_equity}')"
   ],
   "metadata": {
    "collapsed": false
   }
  },
  {
   "cell_type": "markdown",
   "source": [
    "## Equity Multiplier\n",
    "- Measures the proportion of a company's assets that ate financed trough debt versus equity\n",
    "- A high equity multiplier mean that the company is relying more on debt to finance its assets rather than equity\n",
    "- A lower equity multiplier suggests that a company's financial leverage is lower. In general, a low equity multiplier indicates that a corporation is not assuming excessive debt to finance its assets."
   ],
   "metadata": {
    "collapsed": false
   }
  },
  {
   "cell_type": "code",
   "execution_count": 233,
   "outputs": [
    {
     "name": "stdout",
     "output_type": "stream",
     "text": [
      "\n",
      "Total Assets: 462675000000, Total Equity: 146043000000\n",
      "Total assets are approximately 3.17 times its total equity.\n",
      "\n",
      "Total Assets: 420549000000, Total Equity: 138245000000\n",
      "Total assets are approximately 3.04 times its total equity.\n",
      "\n",
      "Total Assets: 321195000000, Total Equity: 93404000000\n",
      "Total assets are approximately 3.44 times its total equity.\n",
      "\n",
      "Total Assets: 225248000000, Total Equity: 62060000000\n",
      "Total assets are approximately 3.63 times its total equity.\n",
      "\n",
      "Total Assets: 162648000000, Total Equity: 43549000000\n",
      "Total assets are approximately 3.73 times its total equity.\n"
     ]
    }
   ],
   "source": [
    "for index, row in df_balance_sheet.iterrows():\n",
    "    total_assets = row['totalAssets']\n",
    "    total_equity = row['totalEquity']\n",
    "    print()\n",
    "    equity_multiplier = total_assets / total_equity\n",
    "    print(f'Total Assets: {total_assets}, Total Equity: {total_equity}')\n",
    "    print(f'Total assets are approximately {equity_multiplier:.2f} times its total equity.')\n"
   ],
   "metadata": {
    "collapsed": false
   }
  },
  {
   "cell_type": "markdown",
   "source": [
    "## Quick Ratio\n",
    "\n",
    "-Assesses a company's short-term liquidity and ability to meet its immediate obligations\n"
   ],
   "metadata": {
    "collapsed": false
   }
  },
  {
   "cell_type": "code",
   "execution_count": 234,
   "outputs": [
    {
     "name": "stdout",
     "output_type": "stream",
     "text": [
      "\n",
      "Total Current Assets: 146791000000, Total Current Liabilities: 155393000000, Inventory: 34405000000\n",
      "Quick Ratio:0.72\n",
      "Might have liquidity Problems\n",
      "\n",
      "Total Current Assets: 161580000000, Total Current Liabilities: 142266000000, Inventory: 32640000000\n",
      "Quick Ratio:0.91\n",
      "Might have liquidity Problems\n",
      "\n",
      "Total Current Assets: 132733000000, Total Current Liabilities: 126385000000, Inventory: 23795000000\n",
      "Quick Ratio:0.86\n",
      "Might have liquidity Problems\n",
      "\n",
      "Total Current Assets: 96334000000, Total Current Liabilities: 87812000000, Inventory: 20497000000\n",
      "Quick Ratio:0.86\n",
      "Might have liquidity Problems\n",
      "\n",
      "Total Current Assets: 75101000000, Total Current Liabilities: 68391000000, Inventory: 17174000000\n",
      "Quick Ratio:0.85\n",
      "Might have liquidity Problems\n"
     ]
    }
   ],
   "source": [
    "for index, row in df_balance_sheet.iterrows():\n",
    "    current_assets = row['totalCurrentAssets']\n",
    "    inventory = row['inventory']\n",
    "    current_liabilities = row['totalCurrentLiabilities']\n",
    "    print()\n",
    "    quick_ratio = (current_assets - inventory) / current_liabilities\n",
    "    print(f'Total Current Assets: {current_assets}, Total Current Liabilities: {current_liabilities}, Inventory: {inventory}')\n",
    "    print(f'Quick Ratio:{quick_ratio:.2f}')\n",
    "    if quick_ratio > 1:\n",
    "        print(f'The company has sufficient liquidity to cover current liabilities')\n",
    "    else:\n",
    "       print('Might have liquidity Problems')"
   ],
   "metadata": {
    "collapsed": false
   }
  },
  {
   "cell_type": "markdown",
   "source": [
    "## Current Ratio\n",
    "\n",
    "- The current ratio is a liquidity ratio that measures a company’s ability to pay short-term obligations\n",
    "- A current ratio of 1.0 or greater is an indicator that the company is well-positioned to cover its current or short-term Liabilities"
   ],
   "metadata": {
    "collapsed": false
   }
  },
  {
   "cell_type": "code",
   "execution_count": 235,
   "outputs": [
    {
     "name": "stdout",
     "output_type": "stream",
     "text": [
      "\n",
      "Total Current Assets: 146791000000, Total Current Liabilities: 155393000000\n",
      "Current Ratio: 0.94\n",
      "\n",
      "Total Current Assets: 161580000000, Total Current Liabilities: 142266000000\n",
      "Current Ratio: 1.14\n",
      "\n",
      "Total Current Assets: 132733000000, Total Current Liabilities: 126385000000\n",
      "Current Ratio: 1.05\n",
      "\n",
      "Total Current Assets: 96334000000, Total Current Liabilities: 87812000000\n",
      "Current Ratio: 1.10\n",
      "\n",
      "Total Current Assets: 75101000000, Total Current Liabilities: 68391000000\n",
      "Current Ratio: 1.10\n"
     ]
    }
   ],
   "source": [
    "for index, row, in df_balance_sheet.iterrows():\n",
    "    current_assets = row['totalCurrentAssets']\n",
    "    current_liabilities = row['totalCurrentLiabilities']\n",
    "    print()\n",
    "    current_ratio = current_assets / current_liabilities\n",
    "    print(f'Total Current Assets: {current_assets}, Total Current Liabilities: {current_liabilities}')\n",
    "    print(f'Current Ratio: {current_ratio:.2f}')\n"
   ],
   "metadata": {
    "collapsed": false
   }
  },
  {
   "cell_type": "markdown",
   "source": [
    "## Net Working Capital"
   ],
   "metadata": {
    "collapsed": false
   }
  },
  {
   "cell_type": "code",
   "execution_count": 236,
   "outputs": [
    {
     "name": "stdout",
     "output_type": "stream",
     "text": [
      "\n",
      "Total Current Assets: 146791000000, Total Current Liabilities: 155393000000, Total Assets: 462675000000\n",
      "Net Working Capital -0.02\n",
      "\n",
      "Total Current Assets: 161580000000, Total Current Liabilities: 142266000000, Total Assets: 420549000000\n",
      "Net Working Capital  0.05\n",
      "\n",
      "Total Current Assets: 132733000000, Total Current Liabilities: 126385000000, Total Assets: 321195000000\n",
      "Net Working Capital  0.02\n",
      "\n",
      "Total Current Assets: 96334000000, Total Current Liabilities: 87812000000, Total Assets: 225248000000\n",
      "Net Working Capital  0.04\n",
      "\n",
      "Total Current Assets: 75101000000, Total Current Liabilities: 68391000000, Total Assets: 162648000000\n",
      "Net Working Capital  0.04\n"
     ]
    }
   ],
   "source": [
    "# current assets - current Liabilities / total Assets\n",
    "for index, row, in df_balance_sheet.iterrows():\n",
    "    current_assets = row['totalCurrentAssets']\n",
    "    current_liabilities = row['totalCurrentLiabilities']\n",
    "    total_assets = row['totalAssets']\n",
    "    print()\n",
    "    NWC = (current_assets - current_liabilities) / total_assets\n",
    "    print(f'Total Current Assets: {current_assets}, Total Current Liabilities: {current_liabilities}, Total Assets: {total_assets}')\n",
    "    print(f'Net Working Capital {NWC: .2f}')"
   ],
   "metadata": {
    "collapsed": false
   }
  }
 ],
 "metadata": {
  "kernelspec": {
   "display_name": "Python 3 (ipykernel)",
   "language": "python",
   "name": "python3"
  },
  "language_info": {
   "codemirror_mode": {
    "name": "ipython",
    "version": 3
   },
   "file_extension": ".py",
   "mimetype": "text/x-python",
   "name": "python",
   "nbconvert_exporter": "python",
   "pygments_lexer": "ipython3",
   "version": "3.9.7"
  }
 },
 "nbformat": 4,
 "nbformat_minor": 1
}

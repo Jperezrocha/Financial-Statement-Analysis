{
 "cells": [
  {
   "cell_type": "code",
   "execution_count": 7,
   "metadata": {},
   "outputs": [],
   "source": [
    "import requests\n",
    "#import yfinance as yf\n",
    "import matplotlib.pyplot as plt\n",
    "from matplotlib import style\n",
    "import datetime as dt\n",
    "import pandas as pd\n",
    "from matplotlib import style\n",
    "import sklearn"
   ]
  },
  {
   "cell_type": "code",
   "execution_count": 8,
   "metadata": {},
   "outputs": [
    {
     "name": "stdout",
     "output_type": "stream",
     "text": [
      "[{'date': '2022-09-24', 'symbol': 'AAPL', 'reportedCurrency': 'USD', 'cik': '0000320193', 'fillingDate': '2022-10-28', 'acceptedDate': '2022-10-27 18:01:14', 'calendarYear': '2022', 'period': 'FY', 'cashAndCashEquivalents': 23646000000, 'shortTermInvestments': 24658000000, 'cashAndShortTermInvestments': 48304000000, 'netReceivables': 60932000000, 'inventory': 4946000000, 'otherCurrentAssets': 21223000000, 'totalCurrentAssets': 135405000000, 'propertyPlantEquipmentNet': 42117000000, 'goodwill': 0, 'intangibleAssets': 0, 'goodwillAndIntangibleAssets': 0, 'longTermInvestments': 120805000000, 'taxAssets': 0, 'otherNonCurrentAssets': 54428000000, 'totalNonCurrentAssets': 217350000000, 'otherAssets': 0, 'totalAssets': 352755000000, 'accountPayables': 64115000000, 'shortTermDebt': 21110000000, 'taxPayables': 0, 'deferredRevenue': 7912000000, 'otherCurrentLiabilities': 60845000000, 'totalCurrentLiabilities': 153982000000, 'longTermDebt': 98959000000, 'deferredRevenueNonCurrent': 0, 'deferredTaxLiabilitiesNonCurrent': 0, 'otherNonCurrentLiabilities': 49142000000, 'totalNonCurrentLiabilities': 148101000000, 'otherLiabilities': 0, 'capitalLeaseObligations': 0, 'totalLiabilities': 302083000000, 'preferredStock': 0, 'commonStock': 64849000000, 'retainedEarnings': -3068000000, 'accumulatedOtherComprehensiveIncomeLoss': -11109000000, 'othertotalStockholdersEquity': 0, 'totalStockholdersEquity': 50672000000, 'totalEquity': 50672000000, 'totalLiabilitiesAndStockholdersEquity': 352755000000, 'minorityInterest': 0, 'totalLiabilitiesAndTotalEquity': 352755000000, 'totalInvestments': 145463000000, 'totalDebt': 120069000000, 'netDebt': 96423000000, 'link': 'https://www.sec.gov/Archives/edgar/data/320193/000032019322000108/0000320193-22-000108-index.htm', 'finalLink': 'https://www.sec.gov/Archives/edgar/data/320193/000032019322000108/aapl-20220924.htm'}, {'date': '2021-09-25', 'symbol': 'AAPL', 'reportedCurrency': 'USD', 'cik': '0000320193', 'fillingDate': '2021-10-29', 'acceptedDate': '2021-10-28 18:04:28', 'calendarYear': '2021', 'period': 'FY', 'cashAndCashEquivalents': 34940000000, 'shortTermInvestments': 27699000000, 'cashAndShortTermInvestments': 62639000000, 'netReceivables': 51506000000, 'inventory': 6580000000, 'otherCurrentAssets': 14111000000, 'totalCurrentAssets': 134836000000, 'propertyPlantEquipmentNet': 39440000000, 'goodwill': 0, 'intangibleAssets': 0, 'goodwillAndIntangibleAssets': 0, 'longTermInvestments': 127877000000, 'taxAssets': 0, 'otherNonCurrentAssets': 48849000000, 'totalNonCurrentAssets': 216166000000, 'otherAssets': 0, 'totalAssets': 351002000000, 'accountPayables': 54763000000, 'shortTermDebt': 15613000000, 'taxPayables': 0, 'deferredRevenue': 7612000000, 'otherCurrentLiabilities': 47493000000, 'totalCurrentLiabilities': 125481000000, 'longTermDebt': 109106000000, 'deferredRevenueNonCurrent': 0, 'deferredTaxLiabilitiesNonCurrent': 0, 'otherNonCurrentLiabilities': 53325000000, 'totalNonCurrentLiabilities': 162431000000, 'otherLiabilities': 0, 'capitalLeaseObligations': 0, 'totalLiabilities': 287912000000, 'preferredStock': 0, 'commonStock': 57365000000, 'retainedEarnings': 5562000000, 'accumulatedOtherComprehensiveIncomeLoss': 163000000, 'othertotalStockholdersEquity': 0, 'totalStockholdersEquity': 63090000000, 'totalEquity': 63090000000, 'totalLiabilitiesAndStockholdersEquity': 351002000000, 'minorityInterest': 0, 'totalLiabilitiesAndTotalEquity': 351002000000, 'totalInvestments': 155576000000, 'totalDebt': 124719000000, 'netDebt': 89779000000, 'link': 'https://www.sec.gov/Archives/edgar/data/320193/000032019321000105/0000320193-21-000105-index.htm', 'finalLink': 'https://www.sec.gov/Archives/edgar/data/320193/000032019321000105/aapl-20210925.htm'}, {'date': '2020-09-26', 'symbol': 'AAPL', 'reportedCurrency': 'USD', 'cik': '0000320193', 'fillingDate': '2020-10-30', 'acceptedDate': '2020-10-29 18:06:25', 'calendarYear': '2020', 'period': 'FY', 'cashAndCashEquivalents': 38016000000, 'shortTermInvestments': 52927000000, 'cashAndShortTermInvestments': 90943000000, 'netReceivables': 37445000000, 'inventory': 4061000000, 'otherCurrentAssets': 11264000000, 'totalCurrentAssets': 143713000000, 'propertyPlantEquipmentNet': 36766000000, 'goodwill': 0, 'intangibleAssets': 0, 'goodwillAndIntangibleAssets': 0, 'longTermInvestments': 100887000000, 'taxAssets': 0, 'otherNonCurrentAssets': 42522000000, 'totalNonCurrentAssets': 180175000000, 'otherAssets': 0, 'totalAssets': 323888000000, 'accountPayables': 42296000000, 'shortTermDebt': 13769000000, 'taxPayables': 0, 'deferredRevenue': 6643000000, 'otherCurrentLiabilities': 42684000000, 'totalCurrentLiabilities': 105392000000, 'longTermDebt': 98667000000, 'deferredRevenueNonCurrent': 0, 'deferredTaxLiabilitiesNonCurrent': 0, 'otherNonCurrentLiabilities': 54490000000, 'totalNonCurrentLiabilities': 153157000000, 'otherLiabilities': 0, 'capitalLeaseObligations': 0, 'totalLiabilities': 258549000000, 'preferredStock': 0, 'commonStock': 50779000000, 'retainedEarnings': 14966000000, 'accumulatedOtherComprehensiveIncomeLoss': -406000000, 'othertotalStockholdersEquity': 0, 'totalStockholdersEquity': 65339000000, 'totalEquity': 65339000000, 'totalLiabilitiesAndStockholdersEquity': 323888000000, 'minorityInterest': 0, 'totalLiabilitiesAndTotalEquity': 323888000000, 'totalInvestments': 153814000000, 'totalDebt': 112436000000, 'netDebt': 74420000000, 'link': 'https://www.sec.gov/Archives/edgar/data/320193/000032019320000096/0000320193-20-000096-index.htm', 'finalLink': 'https://www.sec.gov/Archives/edgar/data/320193/000032019320000096/aapl-20200926.htm'}, {'date': '2019-09-28', 'symbol': 'AAPL', 'reportedCurrency': 'USD', 'cik': '0000320193', 'fillingDate': '2019-10-31', 'acceptedDate': '2019-10-30 18:12:36', 'calendarYear': '2019', 'period': 'FY', 'cashAndCashEquivalents': 48844000000, 'shortTermInvestments': 51713000000, 'cashAndShortTermInvestments': 100557000000, 'netReceivables': 45804000000, 'inventory': 4106000000, 'otherCurrentAssets': 12352000000, 'totalCurrentAssets': 162819000000, 'propertyPlantEquipmentNet': 37378000000, 'goodwill': 0, 'intangibleAssets': 0, 'goodwillAndIntangibleAssets': 0, 'longTermInvestments': 105341000000, 'taxAssets': 0, 'otherNonCurrentAssets': 32978000000, 'totalNonCurrentAssets': 175697000000, 'otherAssets': 0, 'totalAssets': 338516000000, 'accountPayables': 46236000000, 'shortTermDebt': 16240000000, 'taxPayables': 0, 'deferredRevenue': 5522000000, 'otherCurrentLiabilities': 37720000000, 'totalCurrentLiabilities': 105718000000, 'longTermDebt': 91807000000, 'deferredRevenueNonCurrent': 0, 'deferredTaxLiabilitiesNonCurrent': 0, 'otherNonCurrentLiabilities': 50503000000, 'totalNonCurrentLiabilities': 142310000000, 'otherLiabilities': 0, 'capitalLeaseObligations': 0, 'totalLiabilities': 248028000000, 'preferredStock': 0, 'commonStock': 45174000000, 'retainedEarnings': 45898000000, 'accumulatedOtherComprehensiveIncomeLoss': -584000000, 'othertotalStockholdersEquity': 0, 'totalStockholdersEquity': 90488000000, 'totalEquity': 90488000000, 'totalLiabilitiesAndStockholdersEquity': 338516000000, 'minorityInterest': 0, 'totalLiabilitiesAndTotalEquity': 338516000000, 'totalInvestments': 157054000000, 'totalDebt': 108047000000, 'netDebt': 59203000000, 'link': 'https://www.sec.gov/Archives/edgar/data/320193/000032019319000119/0000320193-19-000119-index.htm', 'finalLink': 'https://www.sec.gov/Archives/edgar/data/320193/000032019319000119/a10-k20199282019.htm'}, {'date': '2018-09-29', 'symbol': 'AAPL', 'reportedCurrency': 'USD', 'cik': '0000320193', 'fillingDate': '2018-11-05', 'acceptedDate': '2018-11-05 08:01:40', 'calendarYear': '2018', 'period': 'FY', 'cashAndCashEquivalents': 25913000000, 'shortTermInvestments': 40388000000, 'cashAndShortTermInvestments': 66301000000, 'netReceivables': 48995000000, 'inventory': 3956000000, 'otherCurrentAssets': 12087000000, 'totalCurrentAssets': 131339000000, 'propertyPlantEquipmentNet': 41304000000, 'goodwill': 0, 'intangibleAssets': 0, 'goodwillAndIntangibleAssets': 0, 'longTermInvestments': 170799000000, 'taxAssets': 0, 'otherNonCurrentAssets': 22283000000, 'totalNonCurrentAssets': 234386000000, 'otherAssets': 0, 'totalAssets': 365725000000, 'accountPayables': 55888000000, 'shortTermDebt': 20748000000, 'taxPayables': 0, 'deferredRevenue': 7543000000, 'otherCurrentLiabilities': 32687000000, 'totalCurrentLiabilities': 116866000000, 'longTermDebt': 93735000000, 'deferredRevenueNonCurrent': 2797000000, 'deferredTaxLiabilitiesNonCurrent': 426000000, 'otherNonCurrentLiabilities': 44754000000, 'totalNonCurrentLiabilities': 141712000000, 'otherLiabilities': 0, 'capitalLeaseObligations': 0, 'totalLiabilities': 258578000000, 'preferredStock': 0, 'commonStock': 40201000000, 'retainedEarnings': 70400000000, 'accumulatedOtherComprehensiveIncomeLoss': -3454000000, 'othertotalStockholdersEquity': 0, 'totalStockholdersEquity': 107147000000, 'totalEquity': 107147000000, 'totalLiabilitiesAndStockholdersEquity': 365725000000, 'minorityInterest': 0, 'totalLiabilitiesAndTotalEquity': 365725000000, 'totalInvestments': 211187000000, 'totalDebt': 114483000000, 'netDebt': 88570000000, 'link': 'https://www.sec.gov/Archives/edgar/data/320193/000032019318000145/0000320193-18-000145-index.htm', 'finalLink': 'https://www.sec.gov/Archives/edgar/data/320193/000032019318000145/a10-k20189292018.htm'}]\n"
     ]
    }
   ],
   "source": [
    "ticker = 'AAPL'\n",
    "api_key = \"ec2d6f3b0cc9395fbce02f1316669229\"\n",
    "years = 10\n",
    "\n",
    "\n",
    "url = (f\"https://financialmodelingprep.com/api/v3/balance-sheet-statement/{ticker}?limit={years}&apikey={api_key}\")\n",
    "\n",
    "r = requests.get(url)\n",
    "balance_sheet = r.json()\n",
    "print(balance_sheet)"
   ]
  },
  {
   "cell_type": "code",
   "execution_count": 9,
   "metadata": {},
   "outputs": [
    {
     "name": "stdout",
     "output_type": "stream",
     "text": [
      "         date symbol reportedCurrency         cik fillingDate  \\\n",
      "0  2022-09-24   AAPL              USD  0000320193  2022-10-28   \n",
      "1  2021-09-25   AAPL              USD  0000320193  2021-10-29   \n",
      "2  2020-09-26   AAPL              USD  0000320193  2020-10-30   \n",
      "3  2019-09-28   AAPL              USD  0000320193  2019-10-31   \n",
      "4  2018-09-29   AAPL              USD  0000320193  2018-11-05   \n",
      "\n",
      "          acceptedDate calendarYear period  cashAndCashEquivalents  \\\n",
      "0  2022-10-27 18:01:14         2022     FY             23646000000   \n",
      "1  2021-10-28 18:04:28         2021     FY             34940000000   \n",
      "2  2020-10-29 18:06:25         2020     FY             38016000000   \n",
      "3  2019-10-30 18:12:36         2019     FY             48844000000   \n",
      "4  2018-11-05 08:01:40         2018     FY             25913000000   \n",
      "\n",
      "   shortTermInvestments  ...  totalStockholdersEquity   totalEquity  \\\n",
      "0           24658000000  ...              50672000000   50672000000   \n",
      "1           27699000000  ...              63090000000   63090000000   \n",
      "2           52927000000  ...              65339000000   65339000000   \n",
      "3           51713000000  ...              90488000000   90488000000   \n",
      "4           40388000000  ...             107147000000  107147000000   \n",
      "\n",
      "   totalLiabilitiesAndStockholdersEquity  minorityInterest  \\\n",
      "0                           352755000000                 0   \n",
      "1                           351002000000                 0   \n",
      "2                           323888000000                 0   \n",
      "3                           338516000000                 0   \n",
      "4                           365725000000                 0   \n",
      "\n",
      "   totalLiabilitiesAndTotalEquity  totalInvestments     totalDebt  \\\n",
      "0                    352755000000      145463000000  120069000000   \n",
      "1                    351002000000      155576000000  124719000000   \n",
      "2                    323888000000      153814000000  112436000000   \n",
      "3                    338516000000      157054000000  108047000000   \n",
      "4                    365725000000      211187000000  114483000000   \n",
      "\n",
      "       netDebt                                               link  \\\n",
      "0  96423000000  https://www.sec.gov/Archives/edgar/data/320193...   \n",
      "1  89779000000  https://www.sec.gov/Archives/edgar/data/320193...   \n",
      "2  74420000000  https://www.sec.gov/Archives/edgar/data/320193...   \n",
      "3  59203000000  https://www.sec.gov/Archives/edgar/data/320193...   \n",
      "4  88570000000  https://www.sec.gov/Archives/edgar/data/320193...   \n",
      "\n",
      "                                           finalLink  \n",
      "0  https://www.sec.gov/Archives/edgar/data/320193...  \n",
      "1  https://www.sec.gov/Archives/edgar/data/320193...  \n",
      "2  https://www.sec.gov/Archives/edgar/data/320193...  \n",
      "3  https://www.sec.gov/Archives/edgar/data/320193...  \n",
      "4  https://www.sec.gov/Archives/edgar/data/320193...  \n",
      "\n",
      "[5 rows x 54 columns]\n"
     ]
    }
   ],
   "source": [
    "df_balance_sheet = pd.DataFrame(balance_sheet)\n",
    "print(df_balance_sheet)"
   ]
  },
  {
   "cell_type": "code",
   "execution_count": 10,
   "outputs": [
    {
     "name": "stdout",
     "output_type": "stream",
     "text": [
      "<class 'pandas.core.frame.DataFrame'>\n",
      "RangeIndex: 5 entries, 0 to 4\n",
      "Data columns (total 54 columns):\n",
      " #   Column                                   Non-Null Count  Dtype \n",
      "---  ------                                   --------------  ----- \n",
      " 0   date                                     5 non-null      object\n",
      " 1   symbol                                   5 non-null      object\n",
      " 2   reportedCurrency                         5 non-null      object\n",
      " 3   cik                                      5 non-null      object\n",
      " 4   fillingDate                              5 non-null      object\n",
      " 5   acceptedDate                             5 non-null      object\n",
      " 6   calendarYear                             5 non-null      object\n",
      " 7   period                                   5 non-null      object\n",
      " 8   cashAndCashEquivalents                   5 non-null      int64 \n",
      " 9   shortTermInvestments                     5 non-null      int64 \n",
      " 10  cashAndShortTermInvestments              5 non-null      int64 \n",
      " 11  netReceivables                           5 non-null      int64 \n",
      " 12  inventory                                5 non-null      int64 \n",
      " 13  otherCurrentAssets                       5 non-null      int64 \n",
      " 14  totalCurrentAssets                       5 non-null      int64 \n",
      " 15  propertyPlantEquipmentNet                5 non-null      int64 \n",
      " 16  goodwill                                 5 non-null      int64 \n",
      " 17  intangibleAssets                         5 non-null      int64 \n",
      " 18  goodwillAndIntangibleAssets              5 non-null      int64 \n",
      " 19  longTermInvestments                      5 non-null      int64 \n",
      " 20  taxAssets                                5 non-null      int64 \n",
      " 21  otherNonCurrentAssets                    5 non-null      int64 \n",
      " 22  totalNonCurrentAssets                    5 non-null      int64 \n",
      " 23  otherAssets                              5 non-null      int64 \n",
      " 24  totalAssets                              5 non-null      int64 \n",
      " 25  accountPayables                          5 non-null      int64 \n",
      " 26  shortTermDebt                            5 non-null      int64 \n",
      " 27  taxPayables                              5 non-null      int64 \n",
      " 28  deferredRevenue                          5 non-null      int64 \n",
      " 29  otherCurrentLiabilities                  5 non-null      int64 \n",
      " 30  totalCurrentLiabilities                  5 non-null      int64 \n",
      " 31  longTermDebt                             5 non-null      int64 \n",
      " 32  deferredRevenueNonCurrent                5 non-null      int64 \n",
      " 33  deferredTaxLiabilitiesNonCurrent         5 non-null      int64 \n",
      " 34  otherNonCurrentLiabilities               5 non-null      int64 \n",
      " 35  totalNonCurrentLiabilities               5 non-null      int64 \n",
      " 36  otherLiabilities                         5 non-null      int64 \n",
      " 37  capitalLeaseObligations                  5 non-null      int64 \n",
      " 38  totalLiabilities                         5 non-null      int64 \n",
      " 39  preferredStock                           5 non-null      int64 \n",
      " 40  commonStock                              5 non-null      int64 \n",
      " 41  retainedEarnings                         5 non-null      int64 \n",
      " 42  accumulatedOtherComprehensiveIncomeLoss  5 non-null      int64 \n",
      " 43  othertotalStockholdersEquity             5 non-null      int64 \n",
      " 44  totalStockholdersEquity                  5 non-null      int64 \n",
      " 45  totalEquity                              5 non-null      int64 \n",
      " 46  totalLiabilitiesAndStockholdersEquity    5 non-null      int64 \n",
      " 47  minorityInterest                         5 non-null      int64 \n",
      " 48  totalLiabilitiesAndTotalEquity           5 non-null      int64 \n",
      " 49  totalInvestments                         5 non-null      int64 \n",
      " 50  totalDebt                                5 non-null      int64 \n",
      " 51  netDebt                                  5 non-null      int64 \n",
      " 52  link                                     5 non-null      object\n",
      " 53  finalLink                                5 non-null      object\n",
      "dtypes: int64(44), object(10)\n",
      "memory usage: 2.2+ KB\n"
     ]
    }
   ],
   "source": [
    "df_balance_sheet.info()"
   ],
   "metadata": {
    "collapsed": false
   }
  },
  {
   "cell_type": "code",
   "execution_count": 11,
   "metadata": {},
   "outputs": [
    {
     "data": {
      "text/plain": "         date symbol reportedCurrency         cik fillingDate  \\\n0  2022-09-24   AAPL              USD  0000320193  2022-10-28   \n1  2021-09-25   AAPL              USD  0000320193  2021-10-29   \n2  2020-09-26   AAPL              USD  0000320193  2020-10-30   \n3  2019-09-28   AAPL              USD  0000320193  2019-10-31   \n4  2018-09-29   AAPL              USD  0000320193  2018-11-05   \n\n          acceptedDate calendarYear period  cashAndCashEquivalents  \\\n0  2022-10-27 18:01:14         2022     FY             23646000000   \n1  2021-10-28 18:04:28         2021     FY             34940000000   \n2  2020-10-29 18:06:25         2020     FY             38016000000   \n3  2019-10-30 18:12:36         2019     FY             48844000000   \n4  2018-11-05 08:01:40         2018     FY             25913000000   \n\n   shortTermInvestments  ...  totalStockholdersEquity   totalEquity  \\\n0           24658000000  ...              50672000000   50672000000   \n1           27699000000  ...              63090000000   63090000000   \n2           52927000000  ...              65339000000   65339000000   \n3           51713000000  ...              90488000000   90488000000   \n4           40388000000  ...             107147000000  107147000000   \n\n   totalLiabilitiesAndStockholdersEquity  minorityInterest  \\\n0                           352755000000                 0   \n1                           351002000000                 0   \n2                           323888000000                 0   \n3                           338516000000                 0   \n4                           365725000000                 0   \n\n   totalLiabilitiesAndTotalEquity  totalInvestments     totalDebt  \\\n0                    352755000000      145463000000  120069000000   \n1                    351002000000      155576000000  124719000000   \n2                    323888000000      153814000000  112436000000   \n3                    338516000000      157054000000  108047000000   \n4                    365725000000      211187000000  114483000000   \n\n       netDebt                                               link  \\\n0  96423000000  https://www.sec.gov/Archives/edgar/data/320193...   \n1  89779000000  https://www.sec.gov/Archives/edgar/data/320193...   \n2  74420000000  https://www.sec.gov/Archives/edgar/data/320193...   \n3  59203000000  https://www.sec.gov/Archives/edgar/data/320193...   \n4  88570000000  https://www.sec.gov/Archives/edgar/data/320193...   \n\n                                           finalLink  \n0  https://www.sec.gov/Archives/edgar/data/320193...  \n1  https://www.sec.gov/Archives/edgar/data/320193...  \n2  https://www.sec.gov/Archives/edgar/data/320193...  \n3  https://www.sec.gov/Archives/edgar/data/320193...  \n4  https://www.sec.gov/Archives/edgar/data/320193...  \n\n[5 rows x 54 columns]",
      "text/html": "<div>\n<style scoped>\n    .dataframe tbody tr th:only-of-type {\n        vertical-align: middle;\n    }\n\n    .dataframe tbody tr th {\n        vertical-align: top;\n    }\n\n    .dataframe thead th {\n        text-align: right;\n    }\n</style>\n<table border=\"1\" class=\"dataframe\">\n  <thead>\n    <tr style=\"text-align: right;\">\n      <th></th>\n      <th>date</th>\n      <th>symbol</th>\n      <th>reportedCurrency</th>\n      <th>cik</th>\n      <th>fillingDate</th>\n      <th>acceptedDate</th>\n      <th>calendarYear</th>\n      <th>period</th>\n      <th>cashAndCashEquivalents</th>\n      <th>shortTermInvestments</th>\n      <th>...</th>\n      <th>totalStockholdersEquity</th>\n      <th>totalEquity</th>\n      <th>totalLiabilitiesAndStockholdersEquity</th>\n      <th>minorityInterest</th>\n      <th>totalLiabilitiesAndTotalEquity</th>\n      <th>totalInvestments</th>\n      <th>totalDebt</th>\n      <th>netDebt</th>\n      <th>link</th>\n      <th>finalLink</th>\n    </tr>\n  </thead>\n  <tbody>\n    <tr>\n      <th>0</th>\n      <td>2022-09-24</td>\n      <td>AAPL</td>\n      <td>USD</td>\n      <td>0000320193</td>\n      <td>2022-10-28</td>\n      <td>2022-10-27 18:01:14</td>\n      <td>2022</td>\n      <td>FY</td>\n      <td>23646000000</td>\n      <td>24658000000</td>\n      <td>...</td>\n      <td>50672000000</td>\n      <td>50672000000</td>\n      <td>352755000000</td>\n      <td>0</td>\n      <td>352755000000</td>\n      <td>145463000000</td>\n      <td>120069000000</td>\n      <td>96423000000</td>\n      <td>https://www.sec.gov/Archives/edgar/data/320193...</td>\n      <td>https://www.sec.gov/Archives/edgar/data/320193...</td>\n    </tr>\n    <tr>\n      <th>1</th>\n      <td>2021-09-25</td>\n      <td>AAPL</td>\n      <td>USD</td>\n      <td>0000320193</td>\n      <td>2021-10-29</td>\n      <td>2021-10-28 18:04:28</td>\n      <td>2021</td>\n      <td>FY</td>\n      <td>34940000000</td>\n      <td>27699000000</td>\n      <td>...</td>\n      <td>63090000000</td>\n      <td>63090000000</td>\n      <td>351002000000</td>\n      <td>0</td>\n      <td>351002000000</td>\n      <td>155576000000</td>\n      <td>124719000000</td>\n      <td>89779000000</td>\n      <td>https://www.sec.gov/Archives/edgar/data/320193...</td>\n      <td>https://www.sec.gov/Archives/edgar/data/320193...</td>\n    </tr>\n    <tr>\n      <th>2</th>\n      <td>2020-09-26</td>\n      <td>AAPL</td>\n      <td>USD</td>\n      <td>0000320193</td>\n      <td>2020-10-30</td>\n      <td>2020-10-29 18:06:25</td>\n      <td>2020</td>\n      <td>FY</td>\n      <td>38016000000</td>\n      <td>52927000000</td>\n      <td>...</td>\n      <td>65339000000</td>\n      <td>65339000000</td>\n      <td>323888000000</td>\n      <td>0</td>\n      <td>323888000000</td>\n      <td>153814000000</td>\n      <td>112436000000</td>\n      <td>74420000000</td>\n      <td>https://www.sec.gov/Archives/edgar/data/320193...</td>\n      <td>https://www.sec.gov/Archives/edgar/data/320193...</td>\n    </tr>\n    <tr>\n      <th>3</th>\n      <td>2019-09-28</td>\n      <td>AAPL</td>\n      <td>USD</td>\n      <td>0000320193</td>\n      <td>2019-10-31</td>\n      <td>2019-10-30 18:12:36</td>\n      <td>2019</td>\n      <td>FY</td>\n      <td>48844000000</td>\n      <td>51713000000</td>\n      <td>...</td>\n      <td>90488000000</td>\n      <td>90488000000</td>\n      <td>338516000000</td>\n      <td>0</td>\n      <td>338516000000</td>\n      <td>157054000000</td>\n      <td>108047000000</td>\n      <td>59203000000</td>\n      <td>https://www.sec.gov/Archives/edgar/data/320193...</td>\n      <td>https://www.sec.gov/Archives/edgar/data/320193...</td>\n    </tr>\n    <tr>\n      <th>4</th>\n      <td>2018-09-29</td>\n      <td>AAPL</td>\n      <td>USD</td>\n      <td>0000320193</td>\n      <td>2018-11-05</td>\n      <td>2018-11-05 08:01:40</td>\n      <td>2018</td>\n      <td>FY</td>\n      <td>25913000000</td>\n      <td>40388000000</td>\n      <td>...</td>\n      <td>107147000000</td>\n      <td>107147000000</td>\n      <td>365725000000</td>\n      <td>0</td>\n      <td>365725000000</td>\n      <td>211187000000</td>\n      <td>114483000000</td>\n      <td>88570000000</td>\n      <td>https://www.sec.gov/Archives/edgar/data/320193...</td>\n      <td>https://www.sec.gov/Archives/edgar/data/320193...</td>\n    </tr>\n  </tbody>\n</table>\n<p>5 rows × 54 columns</p>\n</div>"
     },
     "execution_count": 11,
     "metadata": {},
     "output_type": "execute_result"
    }
   ],
   "source": [
    "df_balance_sheet.head()"
   ]
  },
  {
   "cell_type": "code",
   "execution_count": 12,
   "metadata": {},
   "outputs": [
    {
     "data": {
      "text/plain": "       cashAndCashEquivalents  shortTermInvestments  \\\ncount            5.000000e+00          5.000000e+00   \nmean             3.427180e+10          3.947700e+10   \nstd              1.011919e+10          1.313180e+10   \nmin              2.364600e+10          2.465800e+10   \n25%              2.591300e+10          2.769900e+10   \n50%              3.494000e+10          4.038800e+10   \n75%              3.801600e+10          5.171300e+10   \nmax              4.884400e+10          5.292700e+10   \n\n       cashAndShortTermInvestments  netReceivables     inventory  \\\ncount                 5.000000e+00    5.000000e+00  5.000000e+00   \nmean                  7.374880e+10    4.893640e+10  4.729800e+09   \nstd                   2.145143e+10    8.549341e+09  1.107381e+09   \nmin                   4.830400e+10    3.744500e+10  3.956000e+09   \n25%                   6.263900e+10    4.580400e+10  4.061000e+09   \n50%                   6.630100e+10    4.899500e+10  4.106000e+09   \n75%                   9.094300e+10    5.150600e+10  4.946000e+09   \nmax                   1.005570e+11    6.093200e+10  6.580000e+09   \n\n       otherCurrentAssets  totalCurrentAssets  propertyPlantEquipmentNet  \\\ncount        5.000000e+00        5.000000e+00               5.000000e+00   \nmean         1.420740e+10        1.416224e+11               3.940100e+10   \nstd          4.056789e+09        1.268982e+10               2.347091e+09   \nmin          1.126400e+10        1.313390e+11               3.676600e+10   \n25%          1.208700e+10        1.348360e+11               3.737800e+10   \n50%          1.235200e+10        1.354050e+11               3.944000e+10   \n75%          1.411100e+10        1.437130e+11               4.130400e+10   \nmax          2.122300e+10        1.628190e+11               4.211700e+10   \n\n       goodwill  intangibleAssets  ...  \\\ncount       5.0               5.0  ...   \nmean        0.0               0.0  ...   \nstd         0.0               0.0  ...   \nmin         0.0               0.0  ...   \n25%         0.0               0.0  ...   \n50%         0.0               0.0  ...   \n75%         0.0               0.0  ...   \nmax         0.0               0.0  ...   \n\n       accumulatedOtherComprehensiveIncomeLoss  othertotalStockholdersEquity  \\\ncount                             5.000000e+00                           5.0   \nmean                             -3.078000e+09                           0.0   \nstd                               4.703776e+09                           0.0   \nmin                              -1.110900e+10                           0.0   \n25%                              -3.454000e+09                           0.0   \n50%                              -5.840000e+08                           0.0   \n75%                              -4.060000e+08                           0.0   \nmax                               1.630000e+08                           0.0   \n\n       totalStockholdersEquity   totalEquity  \\\ncount             5.000000e+00  5.000000e+00   \nmean              7.534720e+10  7.534720e+10   \nstd               2.291146e+10  2.291146e+10   \nmin               5.067200e+10  5.067200e+10   \n25%               6.309000e+10  6.309000e+10   \n50%               6.533900e+10  6.533900e+10   \n75%               9.048800e+10  9.048800e+10   \nmax               1.071470e+11  1.071470e+11   \n\n       totalLiabilitiesAndStockholdersEquity  minorityInterest  \\\ncount                           5.000000e+00               5.0   \nmean                            3.463772e+11               0.0   \nstd                             1.584270e+10               0.0   \nmin                             3.238880e+11               0.0   \n25%                             3.385160e+11               0.0   \n50%                             3.510020e+11               0.0   \n75%                             3.527550e+11               0.0   \nmax                             3.657250e+11               0.0   \n\n       totalLiabilitiesAndTotalEquity  totalInvestments     totalDebt  \\\ncount                    5.000000e+00      5.000000e+00  5.000000e+00   \nmean                     3.463772e+11      1.646188e+11  1.159508e+11   \nstd                      1.584270e+10      2.641630e+10  6.534891e+09   \nmin                      3.238880e+11      1.454630e+11  1.080470e+11   \n25%                      3.385160e+11      1.538140e+11  1.124360e+11   \n50%                      3.510020e+11      1.555760e+11  1.144830e+11   \n75%                      3.527550e+11      1.570540e+11  1.200690e+11   \nmax                      3.657250e+11      2.111870e+11  1.247190e+11   \n\n            netDebt  \ncount  5.000000e+00  \nmean   8.167900e+10  \nstd    1.490256e+10  \nmin    5.920300e+10  \n25%    7.442000e+10  \n50%    8.857000e+10  \n75%    8.977900e+10  \nmax    9.642300e+10  \n\n[8 rows x 44 columns]",
      "text/html": "<div>\n<style scoped>\n    .dataframe tbody tr th:only-of-type {\n        vertical-align: middle;\n    }\n\n    .dataframe tbody tr th {\n        vertical-align: top;\n    }\n\n    .dataframe thead th {\n        text-align: right;\n    }\n</style>\n<table border=\"1\" class=\"dataframe\">\n  <thead>\n    <tr style=\"text-align: right;\">\n      <th></th>\n      <th>cashAndCashEquivalents</th>\n      <th>shortTermInvestments</th>\n      <th>cashAndShortTermInvestments</th>\n      <th>netReceivables</th>\n      <th>inventory</th>\n      <th>otherCurrentAssets</th>\n      <th>totalCurrentAssets</th>\n      <th>propertyPlantEquipmentNet</th>\n      <th>goodwill</th>\n      <th>intangibleAssets</th>\n      <th>...</th>\n      <th>accumulatedOtherComprehensiveIncomeLoss</th>\n      <th>othertotalStockholdersEquity</th>\n      <th>totalStockholdersEquity</th>\n      <th>totalEquity</th>\n      <th>totalLiabilitiesAndStockholdersEquity</th>\n      <th>minorityInterest</th>\n      <th>totalLiabilitiesAndTotalEquity</th>\n      <th>totalInvestments</th>\n      <th>totalDebt</th>\n      <th>netDebt</th>\n    </tr>\n  </thead>\n  <tbody>\n    <tr>\n      <th>count</th>\n      <td>5.000000e+00</td>\n      <td>5.000000e+00</td>\n      <td>5.000000e+00</td>\n      <td>5.000000e+00</td>\n      <td>5.000000e+00</td>\n      <td>5.000000e+00</td>\n      <td>5.000000e+00</td>\n      <td>5.000000e+00</td>\n      <td>5.0</td>\n      <td>5.0</td>\n      <td>...</td>\n      <td>5.000000e+00</td>\n      <td>5.0</td>\n      <td>5.000000e+00</td>\n      <td>5.000000e+00</td>\n      <td>5.000000e+00</td>\n      <td>5.0</td>\n      <td>5.000000e+00</td>\n      <td>5.000000e+00</td>\n      <td>5.000000e+00</td>\n      <td>5.000000e+00</td>\n    </tr>\n    <tr>\n      <th>mean</th>\n      <td>3.427180e+10</td>\n      <td>3.947700e+10</td>\n      <td>7.374880e+10</td>\n      <td>4.893640e+10</td>\n      <td>4.729800e+09</td>\n      <td>1.420740e+10</td>\n      <td>1.416224e+11</td>\n      <td>3.940100e+10</td>\n      <td>0.0</td>\n      <td>0.0</td>\n      <td>...</td>\n      <td>-3.078000e+09</td>\n      <td>0.0</td>\n      <td>7.534720e+10</td>\n      <td>7.534720e+10</td>\n      <td>3.463772e+11</td>\n      <td>0.0</td>\n      <td>3.463772e+11</td>\n      <td>1.646188e+11</td>\n      <td>1.159508e+11</td>\n      <td>8.167900e+10</td>\n    </tr>\n    <tr>\n      <th>std</th>\n      <td>1.011919e+10</td>\n      <td>1.313180e+10</td>\n      <td>2.145143e+10</td>\n      <td>8.549341e+09</td>\n      <td>1.107381e+09</td>\n      <td>4.056789e+09</td>\n      <td>1.268982e+10</td>\n      <td>2.347091e+09</td>\n      <td>0.0</td>\n      <td>0.0</td>\n      <td>...</td>\n      <td>4.703776e+09</td>\n      <td>0.0</td>\n      <td>2.291146e+10</td>\n      <td>2.291146e+10</td>\n      <td>1.584270e+10</td>\n      <td>0.0</td>\n      <td>1.584270e+10</td>\n      <td>2.641630e+10</td>\n      <td>6.534891e+09</td>\n      <td>1.490256e+10</td>\n    </tr>\n    <tr>\n      <th>min</th>\n      <td>2.364600e+10</td>\n      <td>2.465800e+10</td>\n      <td>4.830400e+10</td>\n      <td>3.744500e+10</td>\n      <td>3.956000e+09</td>\n      <td>1.126400e+10</td>\n      <td>1.313390e+11</td>\n      <td>3.676600e+10</td>\n      <td>0.0</td>\n      <td>0.0</td>\n      <td>...</td>\n      <td>-1.110900e+10</td>\n      <td>0.0</td>\n      <td>5.067200e+10</td>\n      <td>5.067200e+10</td>\n      <td>3.238880e+11</td>\n      <td>0.0</td>\n      <td>3.238880e+11</td>\n      <td>1.454630e+11</td>\n      <td>1.080470e+11</td>\n      <td>5.920300e+10</td>\n    </tr>\n    <tr>\n      <th>25%</th>\n      <td>2.591300e+10</td>\n      <td>2.769900e+10</td>\n      <td>6.263900e+10</td>\n      <td>4.580400e+10</td>\n      <td>4.061000e+09</td>\n      <td>1.208700e+10</td>\n      <td>1.348360e+11</td>\n      <td>3.737800e+10</td>\n      <td>0.0</td>\n      <td>0.0</td>\n      <td>...</td>\n      <td>-3.454000e+09</td>\n      <td>0.0</td>\n      <td>6.309000e+10</td>\n      <td>6.309000e+10</td>\n      <td>3.385160e+11</td>\n      <td>0.0</td>\n      <td>3.385160e+11</td>\n      <td>1.538140e+11</td>\n      <td>1.124360e+11</td>\n      <td>7.442000e+10</td>\n    </tr>\n    <tr>\n      <th>50%</th>\n      <td>3.494000e+10</td>\n      <td>4.038800e+10</td>\n      <td>6.630100e+10</td>\n      <td>4.899500e+10</td>\n      <td>4.106000e+09</td>\n      <td>1.235200e+10</td>\n      <td>1.354050e+11</td>\n      <td>3.944000e+10</td>\n      <td>0.0</td>\n      <td>0.0</td>\n      <td>...</td>\n      <td>-5.840000e+08</td>\n      <td>0.0</td>\n      <td>6.533900e+10</td>\n      <td>6.533900e+10</td>\n      <td>3.510020e+11</td>\n      <td>0.0</td>\n      <td>3.510020e+11</td>\n      <td>1.555760e+11</td>\n      <td>1.144830e+11</td>\n      <td>8.857000e+10</td>\n    </tr>\n    <tr>\n      <th>75%</th>\n      <td>3.801600e+10</td>\n      <td>5.171300e+10</td>\n      <td>9.094300e+10</td>\n      <td>5.150600e+10</td>\n      <td>4.946000e+09</td>\n      <td>1.411100e+10</td>\n      <td>1.437130e+11</td>\n      <td>4.130400e+10</td>\n      <td>0.0</td>\n      <td>0.0</td>\n      <td>...</td>\n      <td>-4.060000e+08</td>\n      <td>0.0</td>\n      <td>9.048800e+10</td>\n      <td>9.048800e+10</td>\n      <td>3.527550e+11</td>\n      <td>0.0</td>\n      <td>3.527550e+11</td>\n      <td>1.570540e+11</td>\n      <td>1.200690e+11</td>\n      <td>8.977900e+10</td>\n    </tr>\n    <tr>\n      <th>max</th>\n      <td>4.884400e+10</td>\n      <td>5.292700e+10</td>\n      <td>1.005570e+11</td>\n      <td>6.093200e+10</td>\n      <td>6.580000e+09</td>\n      <td>2.122300e+10</td>\n      <td>1.628190e+11</td>\n      <td>4.211700e+10</td>\n      <td>0.0</td>\n      <td>0.0</td>\n      <td>...</td>\n      <td>1.630000e+08</td>\n      <td>0.0</td>\n      <td>1.071470e+11</td>\n      <td>1.071470e+11</td>\n      <td>3.657250e+11</td>\n      <td>0.0</td>\n      <td>3.657250e+11</td>\n      <td>2.111870e+11</td>\n      <td>1.247190e+11</td>\n      <td>9.642300e+10</td>\n    </tr>\n  </tbody>\n</table>\n<p>8 rows × 44 columns</p>\n</div>"
     },
     "execution_count": 12,
     "metadata": {},
     "output_type": "execute_result"
    }
   ],
   "source": [
    "df_balance_sheet.describe()"
   ]
  },
  {
   "cell_type": "markdown",
   "source": [
    "## Debt ratio\n",
    "Debt Ratios\n",
    "- Amount of debt a company has in relation to it's assets\n",
    "- The Debt to Ratio tells us the degree of leverage used by the company\n"
   ],
   "metadata": {
    "collapsed": false
   }
  },
  {
   "cell_type": "code",
   "execution_count": 13,
   "metadata": {},
   "outputs": [
    {
     "name": "stdout",
     "output_type": "stream",
     "text": [
      "\n",
      "The Company has more debt than Asset 0.86\n",
      "Total Assets:352755000000, Total Liabilities:302083000000\n",
      "\n",
      "The Company has more debt than Asset 0.82\n",
      "Total Assets:351002000000, Total Liabilities:287912000000\n",
      "\n",
      "The Company has more debt than Asset 0.80\n",
      "Total Assets:323888000000, Total Liabilities:258549000000\n",
      "\n",
      "The Company has more debt than Asset 0.73\n",
      "Total Assets:338516000000, Total Liabilities:248028000000\n",
      "\n",
      "The Company has more debt than Asset 0.71\n",
      "Total Assets:365725000000, Total Liabilities:258578000000\n"
     ]
    }
   ],
   "source": [
    "for index, row in df_balance_sheet.iterrows():\n",
    "    total_assets = row['totalAssets']\n",
    "    total_liabilities = row['totalLiabilities']\n",
    "    print()\n",
    "    debt_ratio = total_liabilities / total_assets\n",
    "    if debt_ratio <= 0.4:\n",
    "        print(f'The Company has more assets than debt {debt_ratio:.2f}')\n",
    "    else:\n",
    "        print(f'The Company has more debt than Asset {debt_ratio:.2f}')\n",
    "    print(f'Total Assets:{total_assets}, Total Liabilities:{total_liabilities}')\n"
   ]
  },
  {
   "cell_type": "markdown",
   "source": [
    "## Debt to Equity ratio\n",
    "- This is a measurement of the percentage of the company’s balance sheet that is financed by suppliers, lenders, creditors and obligors versus what the shareholders have committed.\n",
    "- Amount of debt a company has in relation to its equity\n",
    "- The Lower the ratio, the less the debt compared to equity\n",
    "- Whether or not a debt ratio is \"good\" depends on the context: the company's industrial sector, the current interest rate, and so on."
   ],
   "metadata": {
    "collapsed": false
   }
  },
  {
   "cell_type": "code",
   "execution_count": 14,
   "outputs": [
    {
     "name": "stdout",
     "output_type": "stream",
     "text": [
      "\n",
      "It is not a healthy ratio: 2.3695334701610355,  \n",
      "Total Debt: 120069000000, Total Equity: 50672000000\n",
      "\n",
      "It is not a healthy ratio: 1.9768426058012363,  \n",
      "Total Debt: 124719000000, Total Equity: 63090000000\n",
      "\n",
      "It is not a healthy ratio: 1.720809929750991,  \n",
      "Total Debt: 112436000000, Total Equity: 65339000000\n",
      "\n",
      "It is not a healthy ratio: 1.1940478295464592,  \n",
      "Total Debt: 108047000000, Total Equity: 90488000000\n",
      "\n",
      "It is not a healthy ratio: 1.0684666859548098,  \n",
      "Total Debt: 114483000000, Total Equity: 107147000000\n"
     ]
    }
   ],
   "source": [
    "for index, row in df_balance_sheet.iterrows():\n",
    "    total_debt = row['totalDebt']\n",
    "    total_equity = row['totalEquity']\n",
    "    print()\n",
    "    debt_to_equity = total_debt / total_equity\n",
    "    if debt_to_equity <= 0.4:\n",
    "        print(f'Good Debt to Equity Ratio: {debt_to_equity:.2f}')\n",
    "    else:\n",
    "        print(f'It is not a healthy ratio: {debt_to_equity},  ')\n",
    "    print(f'Total Debt: {total_debt}, Total Equity: {total_equity}')"
   ],
   "metadata": {
    "collapsed": false
   }
  },
  {
   "cell_type": "markdown",
   "source": [
    "## Equity Multiplier\n",
    "- Measures the proportion of a company's assets that ate financed trough debt versus equity\n",
    "- A high equity multiplier mean that the company is relying more on debt to finance its assets rather than equity\n",
    "- A lower equity multiplier suggests that a company's financial leverage is lower. In general, a low equity multiplier indicates that a corporation is not assuming excessive debt to finance its assets."
   ],
   "metadata": {
    "collapsed": false
   }
  },
  {
   "cell_type": "code",
   "execution_count": 15,
   "outputs": [
    {
     "name": "stdout",
     "output_type": "stream",
     "text": [
      "\n",
      "Total Assets: 352755000000, Total Equity: 50672000000\n",
      "Total assets are approximately 6.96 times its total equity.\n",
      "\n",
      "Total Assets: 351002000000, Total Equity: 63090000000\n",
      "Total assets are approximately 5.56 times its total equity.\n",
      "\n",
      "Total Assets: 323888000000, Total Equity: 65339000000\n",
      "Total assets are approximately 4.96 times its total equity.\n",
      "\n",
      "Total Assets: 338516000000, Total Equity: 90488000000\n",
      "Total assets are approximately 3.74 times its total equity.\n",
      "\n",
      "Total Assets: 365725000000, Total Equity: 107147000000\n",
      "Total assets are approximately 3.41 times its total equity.\n"
     ]
    }
   ],
   "source": [
    "for index, row in df_balance_sheet.iterrows():\n",
    "    total_assets = row['totalAssets']\n",
    "    total_equity = row['totalEquity']\n",
    "    print()\n",
    "    equity_multiplier = total_assets / total_equity\n",
    "    print(f'Total Assets: {total_assets}, Total Equity: {total_equity}')\n",
    "    print(f'Total assets are approximately {equity_multiplier:.2f} times its total equity.')\n"
   ],
   "metadata": {
    "collapsed": false
   }
  },
  {
   "cell_type": "markdown",
   "source": [
    "## Quick Ratio\n",
    "\n",
    "-Assesses a company's short-term liquidity and ability to meet its immediate obligations\n"
   ],
   "metadata": {
    "collapsed": false
   }
  },
  {
   "cell_type": "code",
   "execution_count": 16,
   "outputs": [
    {
     "name": "stdout",
     "output_type": "stream",
     "text": [
      "\n",
      "Total Current Assets: 135405000000, Total Current Liabilities: 153982000000, Inventory: 4946000000\n",
      "Quick Ratio:0.85\n",
      "Might have liquidity Problems\n",
      "\n",
      "Total Current Assets: 134836000000, Total Current Liabilities: 125481000000, Inventory: 6580000000\n",
      "Quick Ratio:1.02\n",
      "The company has sufficient liquidity to cover current liabilities\n",
      "\n",
      "Total Current Assets: 143713000000, Total Current Liabilities: 105392000000, Inventory: 4061000000\n",
      "Quick Ratio:1.33\n",
      "The company has sufficient liquidity to cover current liabilities\n",
      "\n",
      "Total Current Assets: 162819000000, Total Current Liabilities: 105718000000, Inventory: 4106000000\n",
      "Quick Ratio:1.50\n",
      "The company has sufficient liquidity to cover current liabilities\n",
      "\n",
      "Total Current Assets: 131339000000, Total Current Liabilities: 116866000000, Inventory: 3956000000\n",
      "Quick Ratio:1.09\n",
      "The company has sufficient liquidity to cover current liabilities\n"
     ]
    }
   ],
   "source": [
    "for index, row in df_balance_sheet.iterrows():\n",
    "    current_assets = row['totalCurrentAssets']\n",
    "    inventory = row['inventory']\n",
    "    current_liabilities = row['totalCurrentLiabilities']\n",
    "    print()\n",
    "    quick_ratio = (current_assets - inventory) / current_liabilities\n",
    "    print(f'Total Current Assets: {current_assets}, Total Current Liabilities: {current_liabilities}, Inventory: {inventory}')\n",
    "    print(f'Quick Ratio:{quick_ratio:.2f}')\n",
    "    if quick_ratio > 1:\n",
    "        print(f'The company has sufficient liquidity to cover current liabilities')\n",
    "    else:\n",
    "       print('Might have liquidity Problems')"
   ],
   "metadata": {
    "collapsed": false
   }
  },
  {
   "cell_type": "markdown",
   "source": [
    "## Current Ratio\n",
    "\n",
    "- The current ratio is a liquidity ratio that measures a company’s ability to pay short-term obligations\n",
    "- A current ratio of 1.0 or greater is an indicator that the company is well-positioned to cover its current or short-term Liabilities"
   ],
   "metadata": {
    "collapsed": false
   }
  },
  {
   "cell_type": "code",
   "execution_count": 17,
   "outputs": [
    {
     "name": "stdout",
     "output_type": "stream",
     "text": [
      "\n",
      "Total Current Assets: 135405000000, Total Current Liabilities: 153982000000\n",
      "Current Ratio: 0.88\n",
      "\n",
      "Total Current Assets: 134836000000, Total Current Liabilities: 125481000000\n",
      "Current Ratio: 1.07\n",
      "\n",
      "Total Current Assets: 143713000000, Total Current Liabilities: 105392000000\n",
      "Current Ratio: 1.36\n",
      "\n",
      "Total Current Assets: 162819000000, Total Current Liabilities: 105718000000\n",
      "Current Ratio: 1.54\n",
      "\n",
      "Total Current Assets: 131339000000, Total Current Liabilities: 116866000000\n",
      "Current Ratio: 1.12\n"
     ]
    }
   ],
   "source": [
    "for index, row, in df_balance_sheet.iterrows():\n",
    "    current_assets = row['totalCurrentAssets']\n",
    "    current_liabilities = row['totalCurrentLiabilities']\n",
    "    date = row['date']\n",
    "    print()\n",
    "    current_ratio = current_assets / current_liabilities\n",
    "    print(date)\n",
    "    print(f'Total Current Assets: {current_assets}, Total Current Liabilities: {current_liabilities}')\n",
    "    print(f'Current Ratio: {current_ratio:.2f}')\n"
   ],
   "metadata": {
    "collapsed": false
   }
  },
  {
   "cell_type": "markdown",
   "source": [
    "## Net Working Capital"
   ],
   "metadata": {
    "collapsed": false
   }
  },
  {
   "cell_type": "code",
   "execution_count": 18,
   "outputs": [
    {
     "name": "stdout",
     "output_type": "stream",
     "text": [
      "\n",
      "Total Current Assets: 135405000000, Total Current Liabilities: 153982000000, Total Assets: 352755000000\n",
      "Net Working Capital -0.05\n",
      "\n",
      "Total Current Assets: 134836000000, Total Current Liabilities: 125481000000, Total Assets: 351002000000\n",
      "Net Working Capital  0.03\n",
      "\n",
      "Total Current Assets: 143713000000, Total Current Liabilities: 105392000000, Total Assets: 323888000000\n",
      "Net Working Capital  0.12\n",
      "\n",
      "Total Current Assets: 162819000000, Total Current Liabilities: 105718000000, Total Assets: 338516000000\n",
      "Net Working Capital  0.17\n",
      "\n",
      "Total Current Assets: 131339000000, Total Current Liabilities: 116866000000, Total Assets: 365725000000\n",
      "Net Working Capital  0.04\n"
     ]
    }
   ],
   "source": [
    "# current assets - current Liabilities / total Assets\n",
    "for index, row, in df_balance_sheet.iterrows():\n",
    "    current_assets = row['totalCurrentAssets']\n",
    "    current_liabilities = row['totalCurrentLiabilities']\n",
    "    total_assets = row['totalAssets']\n",
    "    print()\n",
    "    NWC = (current_assets - current_liabilities) / total_assets\n",
    "    print(f'Total Current Assets: {current_assets}, Total Current Liabilities: {current_liabilities}, Total Assets: {total_assets}')\n",
    "    print(f'Net Working Capital {NWC: .2f}')"
   ],
   "metadata": {
    "collapsed": false
   }
  },
  {
   "cell_type": "markdown",
   "source": [
    "## Total Debt - to - Capitalization Ratio\n",
    "* The total amount of debt in relation to company's total capitalization\n",
    "* The lower ratio the less your business is capitalized using debt"
   ],
   "metadata": {
    "collapsed": false
   }
  },
  {
   "cell_type": "code",
   "execution_count": 19,
   "outputs": [
    {
     "name": "stdout",
     "output_type": "stream",
     "text": [
      "Total Debt to Capitalization ratio: 0.7032230102904399\n",
      "Total Debt to Capitalization ratio: 0.6640736066961648\n",
      "Total Debt to Capitalization ratio: 0.6324623822247223\n",
      "Total Debt to Capitalization ratio: 0.5442214219155312\n",
      "Total Debt to Capitalization ratio: 0.5165501060325768\n"
     ]
    }
   ],
   "source": [
    "def tdebt_to_cap(total_debt, shareholders_equity):\n",
    "    return total_debt / (total_debt + shareholders_equity)\n",
    "\n",
    "for index, row in df_balance_sheet.iterrows():\n",
    "    total_debt = row['totalDebt']\n",
    "    shareholders_equity = row['totalStockholdersEquity']\n",
    "\n",
    "    result = tdebt_to_cap(total_debt, shareholders_equity)\n",
    "    print(f'Total Debt to Capitalization ratio: {result}')"
   ],
   "metadata": {
    "collapsed": false
   }
  },
  {
   "cell_type": "code",
   "execution_count": 19,
   "outputs": [],
   "source": [],
   "metadata": {
    "collapsed": false
   }
  }
 ],
 "metadata": {
  "kernelspec": {
   "display_name": "Python 3 (ipykernel)",
   "language": "python",
   "name": "python3"
  },
  "language_info": {
   "codemirror_mode": {
    "name": "ipython",
    "version": 3
   },
   "file_extension": ".py",
   "mimetype": "text/x-python",
   "name": "python",
   "nbconvert_exporter": "python",
   "pygments_lexer": "ipython3",
   "version": "3.9.7"
  }
 },
 "nbformat": 4,
 "nbformat_minor": 1
}

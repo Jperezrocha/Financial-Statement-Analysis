{
 "cells": [
  {
   "cell_type": "code",
   "metadata": {
    "ExecuteTime": {
     "end_time": "2024-05-03T18:30:06.805892Z",
     "start_time": "2024-05-03T18:30:06.794656Z"
    }
   },
   "source": [
    "import requests\n",
    "import numpy as np\n",
    "import matplotlib.pyplot as plt\n",
    "from matplotlib import style\n",
    "import datetime as dt\n",
    "import pandas as pd\n",
    "from matplotlib import style\n",
    "from sklearn.linear_model import LinearRegression"
   ],
   "outputs": [],
   "execution_count": 126
  },
  {
   "cell_type": "code",
   "metadata": {
    "ExecuteTime": {
     "end_time": "2024-05-07T02:17:18.541580Z",
     "start_time": "2024-05-07T02:17:17.851269Z"
    }
   },
   "source": [
    "ticker = 'CCJ'\n",
    "api_key = \"ec2d6f3b0cc9395fbce02f1316669229\"\n",
    "years = 10\n",
    "\n",
    "\n",
    "url = (f\"https://financialmodelingprep.com/api/v3/balance-sheet-statement/{ticker}?limit={years}&apikey={api_key}\")\n",
    "\n",
    "r = requests.get(url)\n",
    "balance_sheet = r.json()\n"
   ],
   "outputs": [],
   "execution_count": 187
  },
  {
   "cell_type": "code",
   "source": [
    "url1 = (f\"https://financialmodelingprep.com/api/v4/shares_float/{ticker}&apikey={api_key}\")\n",
    "f = requests.get(url1)\n",
    "\n",
    "shares_float = f.json()\n"
   ],
   "metadata": {
    "collapsed": false,
    "ExecuteTime": {
     "end_time": "2024-05-07T02:17:19.606247Z",
     "start_time": "2024-05-07T02:17:19.198945Z"
    }
   },
   "outputs": [],
   "execution_count": 188
  },
  {
   "cell_type": "code",
   "metadata": {
    "ExecuteTime": {
     "end_time": "2024-05-07T02:17:20.003016Z",
     "start_time": "2024-05-07T02:17:19.986387Z"
    }
   },
   "source": [
    "df_balance_sheet = pd.DataFrame(balance_sheet)"
   ],
   "outputs": [],
   "execution_count": 189
  },
  {
   "cell_type": "code",
   "metadata": {
    "ExecuteTime": {
     "end_time": "2024-05-07T02:17:20.645391Z",
     "start_time": "2024-05-07T02:17:20.625653Z"
    }
   },
   "source": [
    "df_balance_sheet.head()"
   ],
   "outputs": [
    {
     "data": {
      "text/plain": [
       "         date symbol reportedCurrency         cik fillingDate  \\\n",
       "0  2023-12-31    CCJ              CAD  0001009001  2023-12-31   \n",
       "1  2022-12-31    CCJ              CAD  0001009001  2022-12-31   \n",
       "2  2021-12-31    CCJ              CAD  0001009001  2021-12-31   \n",
       "3  2020-12-31    CCJ              CAD  0001009001  2020-12-31   \n",
       "4  2019-12-31    CCJ              CAD  0001009001  2019-12-31   \n",
       "\n",
       "          acceptedDate calendarYear period  cashAndCashEquivalents  \\\n",
       "0  2023-12-29 19:00:00         2023     FY               566809000   \n",
       "1  2022-12-30 19:00:00         2022     FY               904674000   \n",
       "2  2021-12-31 00:00:00         2021     FY              1014190000   \n",
       "3  2020-12-31 00:00:00         2020     FY               728242000   \n",
       "4  2019-12-31 00:00:00         2019     FY               866702000   \n",
       "\n",
       "   shortTermInvestments  ...  totalStockholdersEquity  totalEquity  \\\n",
       "0                     0  ...               6094305000   6094309000   \n",
       "1            1138174000  ...               5836054000   5836065000   \n",
       "2              84906000  ...               4845841000   4845968000   \n",
       "3              24985000  ...               4958355000   4958561000   \n",
       "4                     0  ...               4994725000   4994963000   \n",
       "\n",
       "   totalLiabilitiesAndStockholdersEquity  minorityInterest  \\\n",
       "0                             9934057000              4000   \n",
       "1                             8632793000             11000   \n",
       "2                             7517744000            127000   \n",
       "3                             7580831000            206000   \n",
       "4                             7427248000            238000   \n",
       "\n",
       "   totalLiabilitiesAndTotalEquity  totalInvestments   totalDebt     netDebt  \\\n",
       "0                      9934057000        3192515000  1792690000  1225881000   \n",
       "1                      8632793000        1349146000   997000000    92326000   \n",
       "2                      7517744000         318146000   996250000   -17940000   \n",
       "3                      7580831000         244673000   995541000   267299000   \n",
       "4                      7427248000         252681000   996718000   130016000   \n",
       "\n",
       "   link  finalLink  \n",
       "0  None       None  \n",
       "1                   \n",
       "2  None       None  \n",
       "3  None       None  \n",
       "4  None       None  \n",
       "\n",
       "[5 rows x 54 columns]"
      ],
      "text/html": [
       "<div>\n",
       "<style scoped>\n",
       "    .dataframe tbody tr th:only-of-type {\n",
       "        vertical-align: middle;\n",
       "    }\n",
       "\n",
       "    .dataframe tbody tr th {\n",
       "        vertical-align: top;\n",
       "    }\n",
       "\n",
       "    .dataframe thead th {\n",
       "        text-align: right;\n",
       "    }\n",
       "</style>\n",
       "<table border=\"1\" class=\"dataframe\">\n",
       "  <thead>\n",
       "    <tr style=\"text-align: right;\">\n",
       "      <th></th>\n",
       "      <th>date</th>\n",
       "      <th>symbol</th>\n",
       "      <th>reportedCurrency</th>\n",
       "      <th>cik</th>\n",
       "      <th>fillingDate</th>\n",
       "      <th>acceptedDate</th>\n",
       "      <th>calendarYear</th>\n",
       "      <th>period</th>\n",
       "      <th>cashAndCashEquivalents</th>\n",
       "      <th>shortTermInvestments</th>\n",
       "      <th>...</th>\n",
       "      <th>totalStockholdersEquity</th>\n",
       "      <th>totalEquity</th>\n",
       "      <th>totalLiabilitiesAndStockholdersEquity</th>\n",
       "      <th>minorityInterest</th>\n",
       "      <th>totalLiabilitiesAndTotalEquity</th>\n",
       "      <th>totalInvestments</th>\n",
       "      <th>totalDebt</th>\n",
       "      <th>netDebt</th>\n",
       "      <th>link</th>\n",
       "      <th>finalLink</th>\n",
       "    </tr>\n",
       "  </thead>\n",
       "  <tbody>\n",
       "    <tr>\n",
       "      <th>0</th>\n",
       "      <td>2023-12-31</td>\n",
       "      <td>CCJ</td>\n",
       "      <td>CAD</td>\n",
       "      <td>0001009001</td>\n",
       "      <td>2023-12-31</td>\n",
       "      <td>2023-12-29 19:00:00</td>\n",
       "      <td>2023</td>\n",
       "      <td>FY</td>\n",
       "      <td>566809000</td>\n",
       "      <td>0</td>\n",
       "      <td>...</td>\n",
       "      <td>6094305000</td>\n",
       "      <td>6094309000</td>\n",
       "      <td>9934057000</td>\n",
       "      <td>4000</td>\n",
       "      <td>9934057000</td>\n",
       "      <td>3192515000</td>\n",
       "      <td>1792690000</td>\n",
       "      <td>1225881000</td>\n",
       "      <td>None</td>\n",
       "      <td>None</td>\n",
       "    </tr>\n",
       "    <tr>\n",
       "      <th>1</th>\n",
       "      <td>2022-12-31</td>\n",
       "      <td>CCJ</td>\n",
       "      <td>CAD</td>\n",
       "      <td>0001009001</td>\n",
       "      <td>2022-12-31</td>\n",
       "      <td>2022-12-30 19:00:00</td>\n",
       "      <td>2022</td>\n",
       "      <td>FY</td>\n",
       "      <td>904674000</td>\n",
       "      <td>1138174000</td>\n",
       "      <td>...</td>\n",
       "      <td>5836054000</td>\n",
       "      <td>5836065000</td>\n",
       "      <td>8632793000</td>\n",
       "      <td>11000</td>\n",
       "      <td>8632793000</td>\n",
       "      <td>1349146000</td>\n",
       "      <td>997000000</td>\n",
       "      <td>92326000</td>\n",
       "      <td></td>\n",
       "      <td></td>\n",
       "    </tr>\n",
       "    <tr>\n",
       "      <th>2</th>\n",
       "      <td>2021-12-31</td>\n",
       "      <td>CCJ</td>\n",
       "      <td>CAD</td>\n",
       "      <td>0001009001</td>\n",
       "      <td>2021-12-31</td>\n",
       "      <td>2021-12-31 00:00:00</td>\n",
       "      <td>2021</td>\n",
       "      <td>FY</td>\n",
       "      <td>1014190000</td>\n",
       "      <td>84906000</td>\n",
       "      <td>...</td>\n",
       "      <td>4845841000</td>\n",
       "      <td>4845968000</td>\n",
       "      <td>7517744000</td>\n",
       "      <td>127000</td>\n",
       "      <td>7517744000</td>\n",
       "      <td>318146000</td>\n",
       "      <td>996250000</td>\n",
       "      <td>-17940000</td>\n",
       "      <td>None</td>\n",
       "      <td>None</td>\n",
       "    </tr>\n",
       "    <tr>\n",
       "      <th>3</th>\n",
       "      <td>2020-12-31</td>\n",
       "      <td>CCJ</td>\n",
       "      <td>CAD</td>\n",
       "      <td>0001009001</td>\n",
       "      <td>2020-12-31</td>\n",
       "      <td>2020-12-31 00:00:00</td>\n",
       "      <td>2020</td>\n",
       "      <td>FY</td>\n",
       "      <td>728242000</td>\n",
       "      <td>24985000</td>\n",
       "      <td>...</td>\n",
       "      <td>4958355000</td>\n",
       "      <td>4958561000</td>\n",
       "      <td>7580831000</td>\n",
       "      <td>206000</td>\n",
       "      <td>7580831000</td>\n",
       "      <td>244673000</td>\n",
       "      <td>995541000</td>\n",
       "      <td>267299000</td>\n",
       "      <td>None</td>\n",
       "      <td>None</td>\n",
       "    </tr>\n",
       "    <tr>\n",
       "      <th>4</th>\n",
       "      <td>2019-12-31</td>\n",
       "      <td>CCJ</td>\n",
       "      <td>CAD</td>\n",
       "      <td>0001009001</td>\n",
       "      <td>2019-12-31</td>\n",
       "      <td>2019-12-31 00:00:00</td>\n",
       "      <td>2019</td>\n",
       "      <td>FY</td>\n",
       "      <td>866702000</td>\n",
       "      <td>0</td>\n",
       "      <td>...</td>\n",
       "      <td>4994725000</td>\n",
       "      <td>4994963000</td>\n",
       "      <td>7427248000</td>\n",
       "      <td>238000</td>\n",
       "      <td>7427248000</td>\n",
       "      <td>252681000</td>\n",
       "      <td>996718000</td>\n",
       "      <td>130016000</td>\n",
       "      <td>None</td>\n",
       "      <td>None</td>\n",
       "    </tr>\n",
       "  </tbody>\n",
       "</table>\n",
       "<p>5 rows × 54 columns</p>\n",
       "</div>"
      ]
     },
     "execution_count": 190,
     "metadata": {},
     "output_type": "execute_result"
    }
   ],
   "execution_count": 190
  },
  {
   "cell_type": "code",
   "metadata": {
    "ExecuteTime": {
     "end_time": "2024-05-07T02:17:21.232914Z",
     "start_time": "2024-05-07T02:17:21.189593Z"
    }
   },
   "source": [
    "df_balance_sheet.describe()"
   ],
   "outputs": [
    {
     "data": {
      "text/plain": [
       "       cashAndCashEquivalents  shortTermInvestments  \\\n",
       "count            5.000000e+00          5.000000e+00   \n",
       "mean             8.161234e+08          2.496130e+08   \n",
       "std              1.728515e+08          4.979307e+08   \n",
       "min              5.668090e+08          0.000000e+00   \n",
       "25%              7.282420e+08          0.000000e+00   \n",
       "50%              8.667020e+08          2.498500e+07   \n",
       "75%              9.046740e+08          8.490600e+07   \n",
       "max              1.014190e+09          1.138174e+09   \n",
       "\n",
       "       cashAndShortTermInvestments  netReceivables     inventory  \\\n",
       "count                 5.000000e+00    5.000000e+00  5.000000e+00   \n",
       "mean                  1.065736e+09    3.029958e+08  6.391600e+08   \n",
       "std                   5.792377e+08    8.387940e+07  1.773497e+08   \n",
       "min                   5.668090e+08    2.171800e+08  4.062720e+08   \n",
       "25%                   7.532270e+08    2.318800e+08  5.048620e+08   \n",
       "50%                   8.667020e+08    3.043370e+08  6.922610e+08   \n",
       "75%                   1.099096e+09    3.382750e+08  7.697970e+08   \n",
       "max                   2.042848e+09    4.233070e+08  8.226080e+08   \n",
       "\n",
       "       otherCurrentAssets  totalCurrentAssets  propertyPlantEquipmentNet  \\\n",
       "count        5.000000e+00        5.000000e+00               5.000000e+00   \n",
       "mean         2.035278e+08        2.211420e+09               3.582218e+09   \n",
       "std          3.286130e+07        6.341417e+08               1.676539e+08   \n",
       "min          1.595130e+08        1.806978e+09               3.368772e+09   \n",
       "25%          1.901400e+08        1.841890e+09               3.473490e+09   \n",
       "50%          1.957290e+08        1.945044e+09               3.576599e+09   \n",
       "75%          2.332570e+08        2.141552e+09               3.720672e+09   \n",
       "max          2.390000e+08        3.321636e+09               3.771557e+09   \n",
       "\n",
       "       goodwill  intangibleAssets  ...  \\\n",
       "count       5.0      5.000000e+00  ...   \n",
       "mean        0.0      5.163460e+07  ...   \n",
       "std         0.0      6.708685e+06  ...   \n",
       "min         0.0      4.357700e+07  ...   \n",
       "25%         0.0      4.711700e+07  ...   \n",
       "50%         0.0      5.124700e+07  ...   \n",
       "75%         0.0      5.582200e+07  ...   \n",
       "max         0.0      6.041000e+07  ...   \n",
       "\n",
       "       accumulatedOtherComprehensiveIncomeLoss  othertotalStockholdersEquity  \\\n",
       "count                             5.000000e+00                  5.000000e+00   \n",
       "mean                              5.586420e+07                  2.284888e+08   \n",
       "std                               4.899090e+07                  8.630670e+06   \n",
       "min                              -1.528200e+07                  2.156790e+08   \n",
       "25%                               3.465200e+07                  2.246870e+08   \n",
       "50%                               7.169900e+07                  2.300390e+08   \n",
       "75%                               7.279500e+07                  2.346810e+08   \n",
       "max                               1.154570e+08                  2.373580e+08   \n",
       "\n",
       "       totalStockholdersEquity   totalEquity  \\\n",
       "count             5.000000e+00  5.000000e+00   \n",
       "mean              5.345856e+09  5.345973e+09   \n",
       "std               5.753119e+08  5.752169e+08   \n",
       "min               4.845841e+09  4.845968e+09   \n",
       "25%               4.958355e+09  4.958561e+09   \n",
       "50%               4.994725e+09  4.994963e+09   \n",
       "75%               5.836054e+09  5.836065e+09   \n",
       "max               6.094305e+09  6.094309e+09   \n",
       "\n",
       "       totalLiabilitiesAndStockholdersEquity  minorityInterest  \\\n",
       "count                           5.000000e+00          5.000000   \n",
       "mean                            8.218535e+09     117200.000000   \n",
       "std                             1.076863e+09     108012.499277   \n",
       "min                             7.427248e+09       4000.000000   \n",
       "25%                             7.517744e+09      11000.000000   \n",
       "50%                             7.580831e+09     127000.000000   \n",
       "75%                             8.632793e+09     206000.000000   \n",
       "max                             9.934057e+09     238000.000000   \n",
       "\n",
       "       totalLiabilitiesAndTotalEquity  totalInvestments     totalDebt  \\\n",
       "count                    5.000000e+00      5.000000e+00  5.000000e+00   \n",
       "mean                     8.218535e+09      1.071432e+09  1.155640e+09   \n",
       "std                      1.076863e+09      1.274504e+09  3.561223e+08   \n",
       "min                      7.427248e+09      2.446730e+08  9.955410e+08   \n",
       "25%                      7.517744e+09      2.526810e+08  9.962500e+08   \n",
       "50%                      7.580831e+09      3.181460e+08  9.967180e+08   \n",
       "75%                      8.632793e+09      1.349146e+09  9.970000e+08   \n",
       "max                      9.934057e+09      3.192515e+09  1.792690e+09   \n",
       "\n",
       "            netDebt  \n",
       "count  5.000000e+00  \n",
       "mean   3.395164e+08  \n",
       "std    5.058721e+08  \n",
       "min   -1.794000e+07  \n",
       "25%    9.232600e+07  \n",
       "50%    1.300160e+08  \n",
       "75%    2.672990e+08  \n",
       "max    1.225881e+09  \n",
       "\n",
       "[8 rows x 44 columns]"
      ],
      "text/html": [
       "<div>\n",
       "<style scoped>\n",
       "    .dataframe tbody tr th:only-of-type {\n",
       "        vertical-align: middle;\n",
       "    }\n",
       "\n",
       "    .dataframe tbody tr th {\n",
       "        vertical-align: top;\n",
       "    }\n",
       "\n",
       "    .dataframe thead th {\n",
       "        text-align: right;\n",
       "    }\n",
       "</style>\n",
       "<table border=\"1\" class=\"dataframe\">\n",
       "  <thead>\n",
       "    <tr style=\"text-align: right;\">\n",
       "      <th></th>\n",
       "      <th>cashAndCashEquivalents</th>\n",
       "      <th>shortTermInvestments</th>\n",
       "      <th>cashAndShortTermInvestments</th>\n",
       "      <th>netReceivables</th>\n",
       "      <th>inventory</th>\n",
       "      <th>otherCurrentAssets</th>\n",
       "      <th>totalCurrentAssets</th>\n",
       "      <th>propertyPlantEquipmentNet</th>\n",
       "      <th>goodwill</th>\n",
       "      <th>intangibleAssets</th>\n",
       "      <th>...</th>\n",
       "      <th>accumulatedOtherComprehensiveIncomeLoss</th>\n",
       "      <th>othertotalStockholdersEquity</th>\n",
       "      <th>totalStockholdersEquity</th>\n",
       "      <th>totalEquity</th>\n",
       "      <th>totalLiabilitiesAndStockholdersEquity</th>\n",
       "      <th>minorityInterest</th>\n",
       "      <th>totalLiabilitiesAndTotalEquity</th>\n",
       "      <th>totalInvestments</th>\n",
       "      <th>totalDebt</th>\n",
       "      <th>netDebt</th>\n",
       "    </tr>\n",
       "  </thead>\n",
       "  <tbody>\n",
       "    <tr>\n",
       "      <th>count</th>\n",
       "      <td>5.000000e+00</td>\n",
       "      <td>5.000000e+00</td>\n",
       "      <td>5.000000e+00</td>\n",
       "      <td>5.000000e+00</td>\n",
       "      <td>5.000000e+00</td>\n",
       "      <td>5.000000e+00</td>\n",
       "      <td>5.000000e+00</td>\n",
       "      <td>5.000000e+00</td>\n",
       "      <td>5.0</td>\n",
       "      <td>5.000000e+00</td>\n",
       "      <td>...</td>\n",
       "      <td>5.000000e+00</td>\n",
       "      <td>5.000000e+00</td>\n",
       "      <td>5.000000e+00</td>\n",
       "      <td>5.000000e+00</td>\n",
       "      <td>5.000000e+00</td>\n",
       "      <td>5.000000</td>\n",
       "      <td>5.000000e+00</td>\n",
       "      <td>5.000000e+00</td>\n",
       "      <td>5.000000e+00</td>\n",
       "      <td>5.000000e+00</td>\n",
       "    </tr>\n",
       "    <tr>\n",
       "      <th>mean</th>\n",
       "      <td>8.161234e+08</td>\n",
       "      <td>2.496130e+08</td>\n",
       "      <td>1.065736e+09</td>\n",
       "      <td>3.029958e+08</td>\n",
       "      <td>6.391600e+08</td>\n",
       "      <td>2.035278e+08</td>\n",
       "      <td>2.211420e+09</td>\n",
       "      <td>3.582218e+09</td>\n",
       "      <td>0.0</td>\n",
       "      <td>5.163460e+07</td>\n",
       "      <td>...</td>\n",
       "      <td>5.586420e+07</td>\n",
       "      <td>2.284888e+08</td>\n",
       "      <td>5.345856e+09</td>\n",
       "      <td>5.345973e+09</td>\n",
       "      <td>8.218535e+09</td>\n",
       "      <td>117200.000000</td>\n",
       "      <td>8.218535e+09</td>\n",
       "      <td>1.071432e+09</td>\n",
       "      <td>1.155640e+09</td>\n",
       "      <td>3.395164e+08</td>\n",
       "    </tr>\n",
       "    <tr>\n",
       "      <th>std</th>\n",
       "      <td>1.728515e+08</td>\n",
       "      <td>4.979307e+08</td>\n",
       "      <td>5.792377e+08</td>\n",
       "      <td>8.387940e+07</td>\n",
       "      <td>1.773497e+08</td>\n",
       "      <td>3.286130e+07</td>\n",
       "      <td>6.341417e+08</td>\n",
       "      <td>1.676539e+08</td>\n",
       "      <td>0.0</td>\n",
       "      <td>6.708685e+06</td>\n",
       "      <td>...</td>\n",
       "      <td>4.899090e+07</td>\n",
       "      <td>8.630670e+06</td>\n",
       "      <td>5.753119e+08</td>\n",
       "      <td>5.752169e+08</td>\n",
       "      <td>1.076863e+09</td>\n",
       "      <td>108012.499277</td>\n",
       "      <td>1.076863e+09</td>\n",
       "      <td>1.274504e+09</td>\n",
       "      <td>3.561223e+08</td>\n",
       "      <td>5.058721e+08</td>\n",
       "    </tr>\n",
       "    <tr>\n",
       "      <th>min</th>\n",
       "      <td>5.668090e+08</td>\n",
       "      <td>0.000000e+00</td>\n",
       "      <td>5.668090e+08</td>\n",
       "      <td>2.171800e+08</td>\n",
       "      <td>4.062720e+08</td>\n",
       "      <td>1.595130e+08</td>\n",
       "      <td>1.806978e+09</td>\n",
       "      <td>3.368772e+09</td>\n",
       "      <td>0.0</td>\n",
       "      <td>4.357700e+07</td>\n",
       "      <td>...</td>\n",
       "      <td>-1.528200e+07</td>\n",
       "      <td>2.156790e+08</td>\n",
       "      <td>4.845841e+09</td>\n",
       "      <td>4.845968e+09</td>\n",
       "      <td>7.427248e+09</td>\n",
       "      <td>4000.000000</td>\n",
       "      <td>7.427248e+09</td>\n",
       "      <td>2.446730e+08</td>\n",
       "      <td>9.955410e+08</td>\n",
       "      <td>-1.794000e+07</td>\n",
       "    </tr>\n",
       "    <tr>\n",
       "      <th>25%</th>\n",
       "      <td>7.282420e+08</td>\n",
       "      <td>0.000000e+00</td>\n",
       "      <td>7.532270e+08</td>\n",
       "      <td>2.318800e+08</td>\n",
       "      <td>5.048620e+08</td>\n",
       "      <td>1.901400e+08</td>\n",
       "      <td>1.841890e+09</td>\n",
       "      <td>3.473490e+09</td>\n",
       "      <td>0.0</td>\n",
       "      <td>4.711700e+07</td>\n",
       "      <td>...</td>\n",
       "      <td>3.465200e+07</td>\n",
       "      <td>2.246870e+08</td>\n",
       "      <td>4.958355e+09</td>\n",
       "      <td>4.958561e+09</td>\n",
       "      <td>7.517744e+09</td>\n",
       "      <td>11000.000000</td>\n",
       "      <td>7.517744e+09</td>\n",
       "      <td>2.526810e+08</td>\n",
       "      <td>9.962500e+08</td>\n",
       "      <td>9.232600e+07</td>\n",
       "    </tr>\n",
       "    <tr>\n",
       "      <th>50%</th>\n",
       "      <td>8.667020e+08</td>\n",
       "      <td>2.498500e+07</td>\n",
       "      <td>8.667020e+08</td>\n",
       "      <td>3.043370e+08</td>\n",
       "      <td>6.922610e+08</td>\n",
       "      <td>1.957290e+08</td>\n",
       "      <td>1.945044e+09</td>\n",
       "      <td>3.576599e+09</td>\n",
       "      <td>0.0</td>\n",
       "      <td>5.124700e+07</td>\n",
       "      <td>...</td>\n",
       "      <td>7.169900e+07</td>\n",
       "      <td>2.300390e+08</td>\n",
       "      <td>4.994725e+09</td>\n",
       "      <td>4.994963e+09</td>\n",
       "      <td>7.580831e+09</td>\n",
       "      <td>127000.000000</td>\n",
       "      <td>7.580831e+09</td>\n",
       "      <td>3.181460e+08</td>\n",
       "      <td>9.967180e+08</td>\n",
       "      <td>1.300160e+08</td>\n",
       "    </tr>\n",
       "    <tr>\n",
       "      <th>75%</th>\n",
       "      <td>9.046740e+08</td>\n",
       "      <td>8.490600e+07</td>\n",
       "      <td>1.099096e+09</td>\n",
       "      <td>3.382750e+08</td>\n",
       "      <td>7.697970e+08</td>\n",
       "      <td>2.332570e+08</td>\n",
       "      <td>2.141552e+09</td>\n",
       "      <td>3.720672e+09</td>\n",
       "      <td>0.0</td>\n",
       "      <td>5.582200e+07</td>\n",
       "      <td>...</td>\n",
       "      <td>7.279500e+07</td>\n",
       "      <td>2.346810e+08</td>\n",
       "      <td>5.836054e+09</td>\n",
       "      <td>5.836065e+09</td>\n",
       "      <td>8.632793e+09</td>\n",
       "      <td>206000.000000</td>\n",
       "      <td>8.632793e+09</td>\n",
       "      <td>1.349146e+09</td>\n",
       "      <td>9.970000e+08</td>\n",
       "      <td>2.672990e+08</td>\n",
       "    </tr>\n",
       "    <tr>\n",
       "      <th>max</th>\n",
       "      <td>1.014190e+09</td>\n",
       "      <td>1.138174e+09</td>\n",
       "      <td>2.042848e+09</td>\n",
       "      <td>4.233070e+08</td>\n",
       "      <td>8.226080e+08</td>\n",
       "      <td>2.390000e+08</td>\n",
       "      <td>3.321636e+09</td>\n",
       "      <td>3.771557e+09</td>\n",
       "      <td>0.0</td>\n",
       "      <td>6.041000e+07</td>\n",
       "      <td>...</td>\n",
       "      <td>1.154570e+08</td>\n",
       "      <td>2.373580e+08</td>\n",
       "      <td>6.094305e+09</td>\n",
       "      <td>6.094309e+09</td>\n",
       "      <td>9.934057e+09</td>\n",
       "      <td>238000.000000</td>\n",
       "      <td>9.934057e+09</td>\n",
       "      <td>3.192515e+09</td>\n",
       "      <td>1.792690e+09</td>\n",
       "      <td>1.225881e+09</td>\n",
       "    </tr>\n",
       "  </tbody>\n",
       "</table>\n",
       "<p>8 rows × 44 columns</p>\n",
       "</div>"
      ]
     },
     "execution_count": 191,
     "metadata": {},
     "output_type": "execute_result"
    }
   ],
   "execution_count": 191
  },
  {
   "metadata": {
    "ExecuteTime": {
     "end_time": "2024-05-07T02:17:21.795379Z",
     "start_time": "2024-05-07T02:17:21.787604Z"
    }
   },
   "cell_type": "code",
   "source": [
    "#change in debt \n",
    "for index, row in df_balance_sheet.iterrows():\n",
    "    total_debt = row['totalDebt']\n",
    "    date = row['date']\n",
    "    print(date, total_debt)    \n",
    "\n",
    "print()    \n",
    "PC2019_2020 = (df_balance_sheet['totalDebt'][3] - df_balance_sheet['totalDebt'][4])/df_balance_sheet['totalDebt'][3] * 100\n",
    "print(f'Debt Change Percentage from 2019-2020:{PC2019_2020:.2f}%')\n",
    "\n",
    "PC2020_2021 = (df_balance_sheet['totalDebt'][2] - df_balance_sheet['totalDebt'][3])/df_balance_sheet['totalDebt'][2]*100\n",
    "print(f'Debt Change Percentage from 2020-2021:{PC2020_2021:.2f}%')\n",
    "\n",
    "PC2021_2022 =  (df_balance_sheet['totalDebt'][1] - df_balance_sheet['totalDebt'][2])/df_balance_sheet['totalDebt'][1]*100\n",
    "print(f'Debt Change Percentage from 2021-2022:{PC2021_2022:.2f}%')\n",
    "\n",
    "PC2022_2023 =  (df_balance_sheet['totalDebt'][0] - df_balance_sheet['totalDebt'][1])/df_balance_sheet['totalDebt'][0]*100\n",
    "print(f'Debt Change Percentage from 2022-2023:{PC2022_2023:.2f}%')\n",
    "\n",
    "    \n",
    "    "
   ],
   "outputs": [
    {
     "name": "stdout",
     "output_type": "stream",
     "text": [
      "2023-12-31 1792690000\n",
      "2022-12-31 997000000\n",
      "2021-12-31 996250000\n",
      "2020-12-31 995541000\n",
      "2019-12-31 996718000\n",
      "\n",
      "Debt Change Percentage from 2019-2020:-0.12%\n",
      "Debt Change Percentage from 2020-2021:0.07%\n",
      "Debt Change Percentage from 2021-2022:0.08%\n",
      "Debt Change Percentage from 2022-2023:44.39%\n"
     ]
    }
   ],
   "execution_count": 192
  },
  {
   "metadata": {
    "ExecuteTime": {
     "end_time": "2024-05-07T02:17:22.442671Z",
     "start_time": "2024-05-07T02:17:22.330629Z"
    }
   },
   "cell_type": "code",
   "source": [
    "plt.figure(figsize=(8,4))\n",
    "x = df_balance_sheet['date']\n",
    "y = df_balance_sheet['totalDebt']\n",
    "\n",
    "plt.xlabel('Date')\n",
    "plt.ylabel('Total Debt')\n",
    "plt.title('Total Debt', loc='left')\n",
    "\n",
    "plt.bar(x,y, color='red')\n",
    "plt.show()"
   ],
   "outputs": [
    {
     "data": {
      "text/plain": [
       "<Figure size 800x400 with 1 Axes>"
      ],
      "image/png": "[encoded data removed]"
     },
     "metadata": {},
     "output_type": "display_data"
    }
   ],
   "execution_count": 193
  },
  {
   "metadata": {},
   "cell_type": "markdown",
   "source": [
    "## Debt ratio\n",
    "Debt Ratios\n",
    "- Amount of debt a company has in relation to it's assets\n",
    "- The Debt to Ratio tells us the degree of leverage used by the company\n"
   ]
  },
  {
   "metadata": {
    "ExecuteTime": {
     "end_time": "2024-05-07T02:17:24.142394Z",
     "start_time": "2024-05-07T02:17:24.130762Z"
    }
   },
   "cell_type": "code",
   "source": [
    "for index, row in df_balance_sheet.iterrows():\n",
    "    total_assets = row['totalAssets']\n",
    "    total_debt = row['totalDebt']\n",
    "    print()\n",
    "    debt_ratio = total_debt / total_assets\n",
    "    if debt_ratio <= 0.4:\n",
    "        print(f'The Company has more assets than debt {debt_ratio:.2f}')\n",
    "    else:\n",
    "        print(f'The Company has more debt than Asset {debt_ratio:.2f}')\n",
    "    print(f'Total Assets:{total_assets}, Total debt:{total_debt}')\n"
   ],
   "outputs": [
    {
     "name": "stdout",
     "output_type": "stream",
     "text": [
      "\n",
      "The Company has more assets than debt 0.18\n",
      "Total Assets:9934057000, Total debt:1792690000\n",
      "\n",
      "The Company has more assets than debt 0.12\n",
      "Total Assets:8632793000, Total debt:997000000\n",
      "\n",
      "The Company has more assets than debt 0.13\n",
      "Total Assets:7517744000, Total debt:996250000\n",
      "\n",
      "The Company has more assets than debt 0.13\n",
      "Total Assets:7580831000, Total debt:995541000\n",
      "\n",
      "The Company has more assets than debt 0.13\n",
      "Total Assets:7427248000, Total debt:996718000\n"
     ]
    }
   ],
   "execution_count": 194
  },
  {
   "metadata": {
    "ExecuteTime": {
     "end_time": "2024-05-07T02:17:24.951333Z",
     "start_time": "2024-05-07T02:17:24.943378Z"
    }
   },
   "cell_type": "code",
   "source": [
    "#Change in assets\n",
    "for index, row in df_balance_sheet.iterrows():\n",
    "    total_debt = row['totalAssets']\n",
    "    date = row['date']\n",
    "    print(date, total_debt)    \n",
    "\n",
    "print()    \n",
    "PC2019_2020 = (df_balance_sheet['totalAssets'][3] - df_balance_sheet['totalAssets'][4])/df_balance_sheet['totalAssets'][3] * 100\n",
    "print(f'Assets Change Percentage from 2019-2020:{PC2019_2020:.2f}%')\n",
    "\n",
    "PC2020_2021 = (df_balance_sheet['totalAssets'][2] - df_balance_sheet['totalAssets'][3])/df_balance_sheet['totalAssets'][2]*100\n",
    "print(f'Assets Change Percentage from 2020-2021:{PC2020_2021:.2f}%')\n",
    "\n",
    "PC2021_2022 =  (df_balance_sheet['totalAssets'][1] - df_balance_sheet['totalAssets'][2])/df_balance_sheet['totalAssets'][1]*100\n",
    "print(f'Assets Change Percentage from 2021-2022:{PC2021_2022:.2f}%')\n",
    "\n",
    "PC2022_2023 =  (df_balance_sheet['totalAssets'][0] - df_balance_sheet['totalAssets'][1])/df_balance_sheet['totalAssets'][0]*100\n",
    "print(f'Assets Change Percentage from 2022-2023:{PC2022_2023:.2f}%')\n"
   ],
   "outputs": [
    {
     "name": "stdout",
     "output_type": "stream",
     "text": [
      "2023-12-31 9934057000\n",
      "2022-12-31 8632793000\n",
      "2021-12-31 7517744000\n",
      "2020-12-31 7580831000\n",
      "2019-12-31 7427248000\n",
      "\n",
      "Assets Change Percentage from 2019-2020:2.03%\n",
      "Assets Change Percentage from 2020-2021:-0.84%\n",
      "Assets Change Percentage from 2021-2022:12.92%\n",
      "Assets Change Percentage from 2022-2023:13.10%\n"
     ]
    }
   ],
   "execution_count": 195
  },
  {
   "metadata": {
    "ExecuteTime": {
     "end_time": "2024-05-07T02:17:38.393182Z",
     "start_time": "2024-05-07T02:17:38.259719Z"
    }
   },
   "cell_type": "code",
   "source": [
    "#total Assets \n",
    "plt.figure(figsize=(8,4))\n",
    "x = df_balance_sheet['date']\n",
    "y = df_balance_sheet['totalAssets']\n",
    "\n",
    "plt.xlabel('Date')\n",
    "plt.ylabel('Total Assets')\n",
    "plt.title('Total Assets', loc='left')\n",
    "\n",
    "plt.bar(x,y, color='green')\n",
    "plt.show()"
   ],
   "outputs": [
    {
     "data": {
      "text/plain": [
       "<Figure size 800x400 with 1 Axes>"
      ],
      "image/png": "[encoded data removed]"
     },
     "metadata": {},
     "output_type": "display_data"
    }
   ],
   "execution_count": 198
  },
  {
   "metadata": {
    "ExecuteTime": {
     "end_time": "2024-05-07T02:17:28.473868Z",
     "start_time": "2024-05-07T02:17:28.379671Z"
    }
   },
   "cell_type": "code",
   "source": [
    "plt.figure(figsize=(8,4))\n",
    "plt.bar(df_balance_sheet['date'], df_balance_sheet['totalDebt'], label='Total Debt', color='red')\n",
    "plt.bar(df_balance_sheet['date'], df_balance_sheet['totalAssets'], bottom=df_balance_sheet['totalDebt'], label='Total Assets', color='green')\n",
    "plt.xticks(rotation=45, ha='right')\n",
    "plt.legend()\n",
    "plt.show()"
   ],
   "outputs": [
    {
     "data": {
      "text/plain": [
       "<Figure size 800x400 with 1 Axes>"
      ],
      "image/png": "[encoded data removed]"
     },
     "metadata": {},
     "output_type": "display_data"
    }
   ],
   "execution_count": 197
  },
  {
   "metadata": {},
   "cell_type": "code",
   "outputs": [
    {
     "name": "stdout",
     "output_type": "stream",
     "text": [
      "2023-09-30 6331000000\n",
      "2022-09-24 4946000000\n",
      "2021-09-25 6580000000\n",
      "2020-09-26 4061000000\n",
      "2019-09-28 4106000000\n",
      "\n",
      "Inventory Change Percentage from 2019-2020:-1.11%\n",
      "Inventory Change Percentage from 2020-2021:38.28%\n",
      "Inventory Change Percentage from 2021-2022:-33.04%\n",
      "Inventory Change Percentage from 2022-2023:21.88%\n"
     ]
    }
   ],
   "execution_count": 177,
   "source": [
    "#Change in inventory \n",
    "for index, row in df_balance_sheet.iterrows():\n",
    "    inventory = row['inventory']\n",
    "    date = row['date']\n",
    "    print(date, inventory)\n",
    "\n",
    "print()    \n",
    "PC2019_2020 = (df_balance_sheet['inventory'][3] - df_balance_sheet['inventory'][4])/df_balance_sheet['inventory'][3] * 100\n",
    "print(f'Inventory Change Percentage from 2019-2020:{PC2019_2020:.2f}%')\n",
    "\n",
    "PC2020_2021 = (df_balance_sheet['inventory'][2] - df_balance_sheet['inventory'][3])/df_balance_sheet['inventory'][2]*100\n",
    "print(f'Inventory Change Percentage from 2020-2021:{PC2020_2021:.2f}%')\n",
    "\n",
    "PC2021_2022 =  (df_balance_sheet['inventory'][1] - df_balance_sheet['inventory'][2])/df_balance_sheet['inventory'][1]*100\n",
    "print(f'Inventory Change Percentage from 2021-2022:{PC2021_2022:.2f}%')\n",
    "\n",
    "PC2022_2023 =  (df_balance_sheet['inventory'][0] - df_balance_sheet['inventory'][1])/df_balance_sheet['inventory'][0]*100\n",
    "print(f'Inventory Change Percentage from 2022-2023:{PC2022_2023:.2f}%')"
   ]
  },
  {
   "metadata": {},
   "cell_type": "code",
   "outputs": [
    {
     "data": {
      "text/plain": [
       "<Figure size 800x400 with 1 Axes>"
      ],
      "image/png": "[encoded data removed]"
     },
     "metadata": {},
     "output_type": "display_data"
    }
   ],
   "execution_count": 178,
   "source": [
    "plt.figure(figsize=(8,4))\n",
    "y = df_balance_sheet['inventory']\n",
    "x = df_balance_sheet['date']\n",
    "\n",
    "plt.xlabel('Inventory')\n",
    "plt.ylabel('Date')\n",
    "plt.title('Inventory', loc='left')\n",
    "\n",
    "plt.bar(x,y, color = 'red')\n",
    "plt.show()"
   ]
  },
  {
   "cell_type": "markdown",
   "source": [
    "## Debt to Equity ratio\n",
    "- This is a measurement of the percentage of the company’s balance sheet that is financed by suppliers, lenders, creditors and obligors versus what the shareholders have committed.\n",
    "- Amount of debt a company has in relation to its equity\n",
    "- The Lower the ratio, the less the debt compared to equity\n",
    "- Whether or not a debt ratio is \"good\" depends on the context: the company's industrial sector, the current interest rate, and so on."
   ],
   "metadata": {
    "collapsed": false
   }
  },
  {
   "cell_type": "code",
   "execution_count": 8,
   "outputs": [
    {
     "name": "stdout",
     "output_type": "stream",
     "text": [
      "\n",
      "It is not a healthy ratio: 1.7875325845589418,  \n",
      "Total Debt: 111088000000, Total Equity: 62146000000\n",
      "\n",
      "It is not a healthy ratio: 2.3695334701610355,  \n",
      "Total Debt: 120069000000, Total Equity: 50672000000\n",
      "\n",
      "It is not a healthy ratio: 1.9768426058012363,  \n",
      "Total Debt: 124719000000, Total Equity: 63090000000\n",
      "\n",
      "It is not a healthy ratio: 1.720809929750991,  \n",
      "Total Debt: 112436000000, Total Equity: 65339000000\n",
      "\n",
      "It is not a healthy ratio: 1.1940478295464592,  \n",
      "Total Debt: 108047000000, Total Equity: 90488000000\n"
     ]
    }
   ],
   "source": [
    "for index, row in df_balance_sheet.iterrows():\n",
    "    total_debt = row['totalDebt']\n",
    "    total_equity = row['totalEquity']\n",
    "    print()\n",
    "    debt_to_equity = total_debt / total_equity\n",
    "    if debt_to_equity <= 0.4:\n",
    "        print(f'Good Debt to Equity Ratio: {debt_to_equity:.2f}')\n",
    "    else:\n",
    "        print(f'It is not a healthy ratio: {debt_to_equity},  ')\n",
    "    print(f'Total Debt: {total_debt}, Total Equity: {total_equity}')"
   ],
   "metadata": {
    "collapsed": false,
    "ExecuteTime": {
     "end_time": "2024-02-12T19:46:41.278674Z",
     "start_time": "2024-02-12T19:46:41.246923Z"
    }
   }
  },
  {
   "cell_type": "markdown",
   "source": [
    "## Equity Multiplier\n",
    "- Measures the proportion of a company's assets that ate financed trough debt versus equity\n",
    "- A high equity multiplier mean that the company is relying more on debt to finance its assets rather than equity\n",
    "- A lower equity multiplier suggests that a company's financial leverage is lower. In general, a low equity multiplier indicates that a corporation is not assuming excessive debt to finance its assets."
   ],
   "metadata": {
    "collapsed": false
   }
  },
  {
   "cell_type": "code",
   "execution_count": 9,
   "outputs": [
    {
     "name": "stdout",
     "output_type": "stream",
     "text": [
      "\n",
      "Total Assets: 352583000000, Total Equity: 62146000000\n",
      "Total assets are approximately 5.67 times its total equity.\n",
      "\n",
      "Total Assets: 352755000000, Total Equity: 50672000000\n",
      "Total assets are approximately 6.96 times its total equity.\n",
      "\n",
      "Total Assets: 351002000000, Total Equity: 63090000000\n",
      "Total assets are approximately 5.56 times its total equity.\n",
      "\n",
      "Total Assets: 323888000000, Total Equity: 65339000000\n",
      "Total assets are approximately 4.96 times its total equity.\n",
      "\n",
      "Total Assets: 338516000000, Total Equity: 90488000000\n",
      "Total assets are approximately 3.74 times its total equity.\n"
     ]
    }
   ],
   "source": [
    "for index, row in df_balance_sheet.iterrows():\n",
    "    total_assets = row['totalAssets']\n",
    "    total_equity = row['totalEquity']\n",
    "    print()\n",
    "    equity_multiplier = total_assets / total_equity\n",
    "    print(f'Total Assets: {total_assets}, Total Equity: {total_equity}')\n",
    "    print(f'Total assets are approximately {equity_multiplier:.2f} times its total equity.')\n"
   ],
   "metadata": {
    "collapsed": false,
    "ExecuteTime": {
     "end_time": "2024-02-12T19:46:41.279782Z",
     "start_time": "2024-02-12T19:46:41.253225Z"
    }
   }
  },
  {
   "cell_type": "markdown",
   "source": [
    "## Quick Ratio\n",
    "\n",
    "-Assesses a company's short-term liquidity and ability to meet its immediate obligations\n"
   ],
   "metadata": {
    "collapsed": false
   }
  },
  {
   "cell_type": "code",
   "execution_count": 10,
   "outputs": [
    {
     "name": "stdout",
     "output_type": "stream",
     "text": [
      "\n",
      "Total Current Assets: 143566000000, Total Current Liabilities: 145308000000, Inventory: 6331000000\n",
      "Quick Ratio:0.94\n",
      "Might have liquidity Problems\n",
      "\n",
      "Total Current Assets: 135405000000, Total Current Liabilities: 153982000000, Inventory: 4946000000\n",
      "Quick Ratio:0.85\n",
      "Might have liquidity Problems\n",
      "\n",
      "Total Current Assets: 134836000000, Total Current Liabilities: 125481000000, Inventory: 6580000000\n",
      "Quick Ratio:1.02\n",
      "The company has sufficient liquidity to cover current liabilities\n",
      "\n",
      "Total Current Assets: 143713000000, Total Current Liabilities: 105392000000, Inventory: 4061000000\n",
      "Quick Ratio:1.33\n",
      "The company has sufficient liquidity to cover current liabilities\n",
      "\n",
      "Total Current Assets: 162819000000, Total Current Liabilities: 105718000000, Inventory: 4106000000\n",
      "Quick Ratio:1.50\n",
      "The company has sufficient liquidity to cover current liabilities\n"
     ]
    }
   ],
   "source": [
    "for index, row in df_balance_sheet.iterrows():\n",
    "    current_assets = row['totalCurrentAssets']\n",
    "    inventory = row['inventory']\n",
    "    current_liabilities = row['totalCurrentLiabilities']\n",
    "    print()\n",
    "    quick_ratio = (current_assets - inventory) / current_liabilities\n",
    "    print(f'Total Current Assets: {current_assets}, Total Current Liabilities: {current_liabilities}, Inventory: {inventory}')\n",
    "    print(f'Quick Ratio:{quick_ratio:.2f}')\n",
    "    if quick_ratio > 1:\n",
    "        print(f'The company has sufficient liquidity to cover current liabilities')\n",
    "    else:\n",
    "       print('Might have liquidity Problems')"
   ],
   "metadata": {
    "collapsed": false,
    "ExecuteTime": {
     "end_time": "2024-02-12T19:46:41.342275Z",
     "start_time": "2024-02-12T19:46:41.263624Z"
    }
   }
  },
  {
   "cell_type": "markdown",
   "source": [
    "## Current Ratio\n",
    "\n",
    "- The current ratio is a liquidity ratio that measures a company’s ability to pay short-term obligations\n",
    "- A current ratio of 1.0 or greater is an indicator that the company is well-positioned to cover its current or short-term Liabilities"
   ],
   "metadata": {
    "collapsed": false
   }
  },
  {
   "cell_type": "code",
   "execution_count": 11,
   "outputs": [
    {
     "name": "stdout",
     "output_type": "stream",
     "text": [
      "\n",
      "2023-09-30\n",
      "Total Current Assets: 143566000000, Total Current Liabilities: 145308000000\n",
      "Current Ratio: 0.99\n",
      "\n",
      "2022-09-24\n",
      "Total Current Assets: 135405000000, Total Current Liabilities: 153982000000\n",
      "Current Ratio: 0.88\n",
      "\n",
      "2021-09-25\n",
      "Total Current Assets: 134836000000, Total Current Liabilities: 125481000000\n",
      "Current Ratio: 1.07\n",
      "\n",
      "2020-09-26\n",
      "Total Current Assets: 143713000000, Total Current Liabilities: 105392000000\n",
      "Current Ratio: 1.36\n",
      "\n",
      "2019-09-28\n",
      "Total Current Assets: 162819000000, Total Current Liabilities: 105718000000\n",
      "Current Ratio: 1.54\n"
     ]
    }
   ],
   "source": [
    "for index, row, in df_balance_sheet.iterrows():\n",
    "    current_assets = row['totalCurrentAssets']\n",
    "    current_liabilities = row['totalCurrentLiabilities']\n",
    "    date = row['date']\n",
    "    print()\n",
    "    current_ratio = current_assets / current_liabilities\n",
    "    print(date)\n",
    "    print(f'Total Current Assets: {current_assets}, Total Current Liabilities: {current_liabilities}')\n",
    "    print(f'Current Ratio: {current_ratio:.2f}')\n"
   ],
   "metadata": {
    "collapsed": false,
    "ExecuteTime": {
     "end_time": "2024-02-12T19:46:41.342927Z",
     "start_time": "2024-02-12T19:46:41.270185Z"
    }
   }
  },
  {
   "cell_type": "markdown",
   "source": [
    "## Net Working Capital"
   ],
   "metadata": {
    "collapsed": false
   }
  },
  {
   "cell_type": "code",
   "execution_count": 12,
   "outputs": [
    {
     "name": "stdout",
     "output_type": "stream",
     "text": [
      "\n",
      "Total Current Assets: 143566000000, Total Current Liabilities: 145308000000, Total Assets: 352583000000\n",
      "Net Working Capital -0.00\n",
      "\n",
      "Total Current Assets: 135405000000, Total Current Liabilities: 153982000000, Total Assets: 352755000000\n",
      "Net Working Capital -0.05\n",
      "\n",
      "Total Current Assets: 134836000000, Total Current Liabilities: 125481000000, Total Assets: 351002000000\n",
      "Net Working Capital  0.03\n",
      "\n",
      "Total Current Assets: 143713000000, Total Current Liabilities: 105392000000, Total Assets: 323888000000\n",
      "Net Working Capital  0.12\n",
      "\n",
      "Total Current Assets: 162819000000, Total Current Liabilities: 105718000000, Total Assets: 338516000000\n",
      "Net Working Capital  0.17\n"
     ]
    }
   ],
   "source": [
    "# current assets - current Liabilities / total Assets\n",
    "for index, row, in df_balance_sheet.iterrows():\n",
    "    current_assets = row['totalCurrentAssets']\n",
    "    current_liabilities = row['totalCurrentLiabilities']\n",
    "    total_assets = row['totalAssets']\n",
    "    print()\n",
    "    NWC = (current_assets - current_liabilities) / total_assets\n",
    "    print(f'Total Current Assets: {current_assets}, Total Current Liabilities: {current_liabilities}, Total Assets: {total_assets}')\n",
    "    print(f'Net Working Capital {NWC: .2f}')"
   ],
   "metadata": {
    "collapsed": false,
    "ExecuteTime": {
     "end_time": "2024-02-12T19:46:41.346211Z",
     "start_time": "2024-02-12T19:46:41.277282Z"
    }
   }
  },
  {
   "cell_type": "markdown",
   "source": [
    "## Total Debt - to - Capitalization Ratio\n",
    "* The total amount of debt in relation to company's total capitalization\n",
    "* The lower ratio the less your business is capitalized using debt"
   ],
   "metadata": {
    "collapsed": false
   }
  },
  {
   "cell_type": "code",
   "execution_count": 13,
   "outputs": [
    {
     "name": "stdout",
     "output_type": "stream",
     "text": [
      "Total Debt to Capitalization ratio: 0.6412597988847455\n",
      "Total Debt to Capitalization ratio: 0.7032230102904399\n",
      "Total Debt to Capitalization ratio: 0.6640736066961648\n",
      "Total Debt to Capitalization ratio: 0.6324623822247223\n",
      "Total Debt to Capitalization ratio: 0.5442214219155312\n"
     ]
    }
   ],
   "source": [
    "def tdebt_to_cap(total_debt, shareholders_equity):\n",
    "    return total_debt / (total_debt + shareholders_equity)\n",
    "\n",
    "for index, row in df_balance_sheet.iterrows():\n",
    "    total_debt = row['totalDebt']\n",
    "    shareholders_equity = row['totalStockholdersEquity']\n",
    "\n",
    "    result = tdebt_to_cap(total_debt, shareholders_equity)\n",
    "    print(f'Total Debt to Capitalization ratio: {result}')"
   ],
   "metadata": {
    "collapsed": false,
    "ExecuteTime": {
     "end_time": "2024-02-12T19:46:41.371682Z",
     "start_time": "2024-02-12T19:46:41.283082Z"
    }
   }
  },
  {
   "cell_type": "markdown",
   "source": [
    "## Cash Flow Projection\n",
    "\n",
    "* Opening Balance -> Starting cash balance for the projection period\n",
    "* Revenue\n",
    "* Investments"
   ],
   "metadata": {
    "collapsed": false
   }
  },
  {
   "cell_type": "code",
   "execution_count": 14,
   "outputs": [
    {
     "name": "stdout",
     "output_type": "stream",
     "text": [
      "Year: 2023\n",
      "Predicted Cash and Equivalents: 24656600000.00\n",
      "-----\n",
      "Year: 2024\n",
      "Predicted Cash and Equivalents: 19443800000.00\n",
      "-----\n",
      "Year: 2025\n",
      "Predicted Cash and Equivalents: 14231000000.00\n",
      "-----\n"
     ]
    }
   ],
   "source": [
    "df_balance_sheet['date'] = pd.to_datetime(df_balance_sheet['date'])\n",
    "df_balance_sheet = df_balance_sheet.sort_values(by = 'date')\n",
    "\n",
    "df_balance_sheet['year'] = df_balance_sheet['date'].dt.year\n",
    "\n",
    "years = df_balance_sheet['year'].values.reshape(-1,1)\n",
    "cash_and_cash_equivalents = df_balance_sheet['cashAndCashEquivalents'].values\n",
    "\n",
    "CACE_model = LinearRegression().fit(years, cash_and_cash_equivalents)\n",
    "\n",
    "\n",
    "future_years = np.array([2023, 2024, 2025]).reshape(-1,1)\n",
    "predicted_CACE = CACE_model.predict(future_years)\n",
    "\n",
    "for year, caec in zip(future_years, predicted_CACE):\n",
    "     print(f\"Year: {year[0]}\")\n",
    "     print(f'Predicted Cash and Equivalents: {caec:.2f}')\n",
    "     print(\"-----\")"
   ],
   "metadata": {
    "collapsed": false,
    "ExecuteTime": {
     "end_time": "2024-02-12T19:46:41.425088Z",
     "start_time": "2024-02-12T19:46:41.309161Z"
    }
   }
  },
  {
   "cell_type": "code",
   "execution_count": 15,
   "outputs": [
    {
     "name": "stdout",
     "output_type": "stream",
     "text": [
      "111088000000\n"
     ]
    }
   ],
   "source": [
    "#For DCF\n",
    "total_debt = df_balance_sheet['totalDebt'][0]\n",
    "\n",
    "\n",
    "print(total_debt)\n"
   ],
   "metadata": {
    "collapsed": false,
    "ExecuteTime": {
     "end_time": "2024-02-12T19:46:41.425798Z",
     "start_time": "2024-02-12T19:46:41.316444Z"
    }
   }
  },
  {
   "cell_type": "code",
   "execution_count": 16,
   "outputs": [
    {
     "name": "stdout",
     "output_type": "stream",
     "text": [
      "29965000000\n"
     ]
    }
   ],
   "source": [
    "cash = df_balance_sheet['cashAndCashEquivalents'][0]\n",
    "\n",
    "print(cash)"
   ],
   "metadata": {
    "collapsed": false,
    "ExecuteTime": {
     "end_time": "2024-02-12T19:46:41.426445Z",
     "start_time": "2024-02-12T19:46:41.320786Z"
    }
   }
  },
  {
   "cell_type": "code",
   "execution_count": 17,
   "outputs": [
    {
     "name": "stdout",
     "output_type": "stream",
     "text": [
      "90488000000\n"
     ]
    }
   ],
   "source": [
    "print(total_equity)"
   ],
   "metadata": {
    "collapsed": false,
    "ExecuteTime": {
     "end_time": "2024-02-12T19:46:41.427843Z",
     "start_time": "2024-02-12T19:46:41.326172Z"
    }
   }
  }
 ],
 "metadata": {
  "kernelspec": {
   "display_name": "Python 3 (ipykernel)",
   "language": "python",
   "name": "python3"
  },
  "language_info": {
   "codemirror_mode": {
    "name": "ipython",
    "version": 3
   },
   "file_extension": ".py",
   "mimetype": "text/x-python",
   "name": "python",
   "nbconvert_exporter": "python",
   "pygments_lexer": "ipython3",
   "version": "3.9.7"
  }
 },
 "nbformat": 4,
 "nbformat_minor": 1
}

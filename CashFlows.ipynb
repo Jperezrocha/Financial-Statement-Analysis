{
 "cells": [
  {
   "cell_type": "code",
   "execution_count": 63,
   "outputs": [],
   "source": [
    "import matplotlib.pyplot as plt\n",
    "from matplotlib import style\n",
    "import pandas as pd\n",
    "import requests\n",
    "from sklearn.linear_model import LinearRegression\n",
    "import numpy as np\n",
    "import datetime as dt"
   ],
   "metadata": {
    "collapsed": false
   }
  },
  {
   "cell_type": "code",
   "execution_count": 64,
   "outputs": [
    {
     "name": "stdout",
     "output_type": "stream",
     "text": [
      "[{'date': '2022-09-24', 'symbol': 'AAPL', 'reportedCurrency': 'USD', 'cik': '0000320193', 'fillingDate': '2022-10-28', 'acceptedDate': '2022-10-27 18:01:14', 'calendarYear': '2022', 'period': 'FY', 'netIncome': 99803000000, 'depreciationAndAmortization': 11104000000, 'deferredIncomeTax': 895000000, 'stockBasedCompensation': 9038000000, 'changeInWorkingCapital': 1200000000, 'accountsReceivables': -1823000000, 'inventory': 1484000000, 'accountsPayables': 9448000000, 'otherWorkingCapital': -7909000000, 'otherNonCashItems': 111000000, 'netCashProvidedByOperatingActivities': 122151000000, 'investmentsInPropertyPlantAndEquipment': -10708000000, 'acquisitionsNet': -306000000, 'purchasesOfInvestments': -76923000000, 'salesMaturitiesOfInvestments': 67363000000, 'otherInvestingActivites': -1780000000, 'netCashUsedForInvestingActivites': -22354000000, 'debtRepayment': -9543000000, 'commonStockIssued': 0, 'commonStockRepurchased': -89402000000, 'dividendsPaid': -14841000000, 'otherFinancingActivites': 3037000000, 'netCashUsedProvidedByFinancingActivities': -110749000000, 'effectOfForexChangesOnCash': 0, 'netChangeInCash': -10952000000, 'cashAtEndOfPeriod': 24977000000, 'cashAtBeginningOfPeriod': 35929000000, 'operatingCashFlow': 122151000000, 'capitalExpenditure': -10708000000, 'freeCashFlow': 111443000000, 'link': 'https://www.sec.gov/Archives/edgar/data/320193/000032019322000108/0000320193-22-000108-index.htm', 'finalLink': 'https://www.sec.gov/Archives/edgar/data/320193/000032019322000108/aapl-20220924.htm'}, {'date': '2021-09-25', 'symbol': 'AAPL', 'reportedCurrency': 'USD', 'cik': '0000320193', 'fillingDate': '2021-10-29', 'acceptedDate': '2021-10-28 18:04:28', 'calendarYear': '2021', 'period': 'FY', 'netIncome': 94680000000, 'depreciationAndAmortization': 11284000000, 'deferredIncomeTax': -4774000000, 'stockBasedCompensation': 7906000000, 'changeInWorkingCapital': -4911000000, 'accountsReceivables': -10125000000, 'inventory': -2642000000, 'accountsPayables': 12326000000, 'otherWorkingCapital': -4470000000, 'otherNonCashItems': -147000000, 'netCashProvidedByOperatingActivities': 104038000000, 'investmentsInPropertyPlantAndEquipment': -11085000000, 'acquisitionsNet': -33000000, 'purchasesOfInvestments': -109558000000, 'salesMaturitiesOfInvestments': 106483000000, 'otherInvestingActivites': -352000000, 'netCashUsedForInvestingActivites': -14545000000, 'debtRepayment': -8750000000, 'commonStockIssued': 1105000000, 'commonStockRepurchased': -85971000000, 'dividendsPaid': -14467000000, 'otherFinancingActivites': 14730000000, 'netCashUsedProvidedByFinancingActivities': -93353000000, 'effectOfForexChangesOnCash': 0, 'netChangeInCash': -3860000000, 'cashAtEndOfPeriod': 35929000000, 'cashAtBeginningOfPeriod': 39789000000, 'operatingCashFlow': 104038000000, 'capitalExpenditure': -11085000000, 'freeCashFlow': 92953000000, 'link': 'https://www.sec.gov/Archives/edgar/data/320193/000032019321000105/0000320193-21-000105-index.htm', 'finalLink': 'https://www.sec.gov/Archives/edgar/data/320193/000032019321000105/aapl-20210925.htm'}, {'date': '2020-09-26', 'symbol': 'AAPL', 'reportedCurrency': 'USD', 'cik': '0000320193', 'fillingDate': '2020-10-30', 'acceptedDate': '2020-10-29 18:06:25', 'calendarYear': '2020', 'period': 'FY', 'netIncome': 57411000000, 'depreciationAndAmortization': 11056000000, 'deferredIncomeTax': -215000000, 'stockBasedCompensation': 6829000000, 'changeInWorkingCapital': 5690000000, 'accountsReceivables': 6917000000, 'inventory': -127000000, 'accountsPayables': -4062000000, 'otherWorkingCapital': 2962000000, 'otherNonCashItems': -97000000, 'netCashProvidedByOperatingActivities': 80674000000, 'investmentsInPropertyPlantAndEquipment': -7309000000, 'acquisitionsNet': -1524000000, 'purchasesOfInvestments': -115148000000, 'salesMaturitiesOfInvestments': 120483000000, 'otherInvestingActivites': -791000000, 'netCashUsedForInvestingActivites': -4289000000, 'debtRepayment': -13592000000, 'commonStockIssued': 880000000, 'commonStockRepurchased': -72358000000, 'dividendsPaid': -14081000000, 'otherFinancingActivites': 12331000000, 'netCashUsedProvidedByFinancingActivities': -86820000000, 'effectOfForexChangesOnCash': 0, 'netChangeInCash': -10435000000, 'cashAtEndOfPeriod': 39789000000, 'cashAtBeginningOfPeriod': 50224000000, 'operatingCashFlow': 80674000000, 'capitalExpenditure': -7309000000, 'freeCashFlow': 73365000000, 'link': 'https://www.sec.gov/Archives/edgar/data/320193/000032019320000096/0000320193-20-000096-index.htm', 'finalLink': 'https://www.sec.gov/Archives/edgar/data/320193/000032019320000096/aapl-20200926.htm'}, {'date': '2019-09-28', 'symbol': 'AAPL', 'reportedCurrency': 'USD', 'cik': '0000320193', 'fillingDate': '2019-10-31', 'acceptedDate': '2019-10-30 18:12:36', 'calendarYear': '2019', 'period': 'FY', 'netIncome': 55256000000, 'depreciationAndAmortization': 12547000000, 'deferredIncomeTax': -340000000, 'stockBasedCompensation': 6068000000, 'changeInWorkingCapital': -3488000000, 'accountsReceivables': 245000000, 'inventory': -289000000, 'accountsPayables': -1923000000, 'otherWorkingCapital': -1521000000, 'otherNonCashItems': -652000000, 'netCashProvidedByOperatingActivities': 69391000000, 'investmentsInPropertyPlantAndEquipment': -10495000000, 'acquisitionsNet': -624000000, 'purchasesOfInvestments': -40631000000, 'salesMaturitiesOfInvestments': 98724000000, 'otherInvestingActivites': -1078000000, 'netCashUsedForInvestingActivites': 45896000000, 'debtRepayment': -8805000000, 'commonStockIssued': 781000000, 'commonStockRepurchased': -66897000000, 'dividendsPaid': -14119000000, 'otherFinancingActivites': -1936000000, 'netCashUsedProvidedByFinancingActivities': -90976000000, 'effectOfForexChangesOnCash': 0, 'netChangeInCash': 24311000000, 'cashAtEndOfPeriod': 50224000000, 'cashAtBeginningOfPeriod': 25913000000, 'operatingCashFlow': 69391000000, 'capitalExpenditure': -10495000000, 'freeCashFlow': 58896000000, 'link': 'https://www.sec.gov/Archives/edgar/data/320193/000032019319000119/0000320193-19-000119-index.htm', 'finalLink': 'https://www.sec.gov/Archives/edgar/data/320193/000032019319000119/a10-k20199282019.htm'}, {'date': '2018-09-29', 'symbol': 'AAPL', 'reportedCurrency': 'USD', 'cik': '0000320193', 'fillingDate': '2018-11-05', 'acceptedDate': '2018-11-05 08:01:40', 'calendarYear': '2018', 'period': 'FY', 'netIncome': 59531000000, 'depreciationAndAmortization': 10903000000, 'deferredIncomeTax': -32590000000, 'stockBasedCompensation': 5340000000, 'changeInWorkingCapital': 34694000000, 'accountsReceivables': -5322000000, 'inventory': 828000000, 'accountsPayables': 9175000000, 'otherWorkingCapital': 30013000000, 'otherNonCashItems': -444000000, 'netCashProvidedByOperatingActivities': 77434000000, 'investmentsInPropertyPlantAndEquipment': -13313000000, 'acquisitionsNet': -721000000, 'purchasesOfInvestments': -73227000000, 'salesMaturitiesOfInvestments': 104072000000, 'otherInvestingActivites': -745000000, 'netCashUsedForInvestingActivites': 16066000000, 'debtRepayment': -6500000000, 'commonStockIssued': 669000000, 'commonStockRepurchased': -72738000000, 'dividendsPaid': -13712000000, 'otherFinancingActivites': 4405000000, 'netCashUsedProvidedByFinancingActivities': -87876000000, 'effectOfForexChangesOnCash': 0, 'netChangeInCash': 5624000000, 'cashAtEndOfPeriod': 25913000000, 'cashAtBeginningOfPeriod': 20289000000, 'operatingCashFlow': 77434000000, 'capitalExpenditure': -13313000000, 'freeCashFlow': 64121000000, 'link': 'https://www.sec.gov/Archives/edgar/data/320193/000032019318000145/0000320193-18-000145-index.htm', 'finalLink': 'https://www.sec.gov/Archives/edgar/data/320193/000032019318000145/a10-k20189292018.htm'}]\n"
     ]
    }
   ],
   "source": [
    "ticker = 'AAPL'\n",
    "API = 'ec2d6f3b0cc9395fbce02f1316669229'\n",
    "url = (f\"https://financialmodelingprep.com/api/v3/cash-flow-statement/{ticker}?apikey={API}\")\n",
    "\n",
    "r = requests.get(url)\n",
    "cash_flow_statement = r.json()\n",
    "\n",
    "print(cash_flow_statement)\n"
   ],
   "metadata": {
    "collapsed": false
   }
  },
  {
   "cell_type": "code",
   "execution_count": 68,
   "outputs": [
    {
     "name": "stdout",
     "output_type": "stream",
     "text": [
      "[{'symbol': 'AAPL', 'price': 170.77, 'volume': 44768914}]\n"
     ]
    }
   ],
   "source": [
    "url1 = (F'https://financialmodelingprep.com/api/v3/quote-short/{ticker}?apikey={API}')\n",
    "\n",
    "f = requests.get(url1)\n",
    "quote = f.json()\n",
    "\n",
    "print(quote)"
   ],
   "metadata": {
    "collapsed": false
   }
  },
  {
   "cell_type": "code",
   "execution_count": 69,
   "outputs": [
    {
     "name": "stdout",
     "output_type": "stream",
     "text": [
      "         date symbol reportedCurrency         cik fillingDate  \\\n",
      "0  2022-09-24   AAPL              USD  0000320193  2022-10-28   \n",
      "1  2021-09-25   AAPL              USD  0000320193  2021-10-29   \n",
      "2  2020-09-26   AAPL              USD  0000320193  2020-10-30   \n",
      "3  2019-09-28   AAPL              USD  0000320193  2019-10-31   \n",
      "4  2018-09-29   AAPL              USD  0000320193  2018-11-05   \n",
      "\n",
      "          acceptedDate calendarYear period    netIncome  \\\n",
      "0  2022-10-27 18:01:14         2022     FY  99803000000   \n",
      "1  2021-10-28 18:04:28         2021     FY  94680000000   \n",
      "2  2020-10-29 18:06:25         2020     FY  57411000000   \n",
      "3  2019-10-30 18:12:36         2019     FY  55256000000   \n",
      "4  2018-11-05 08:01:40         2018     FY  59531000000   \n",
      "\n",
      "   depreciationAndAmortization  ...  netCashUsedProvidedByFinancingActivities  \\\n",
      "0                  11104000000  ...                             -110749000000   \n",
      "1                  11284000000  ...                              -93353000000   \n",
      "2                  11056000000  ...                              -86820000000   \n",
      "3                  12547000000  ...                              -90976000000   \n",
      "4                  10903000000  ...                              -87876000000   \n",
      "\n",
      "   effectOfForexChangesOnCash  netChangeInCash  cashAtEndOfPeriod  \\\n",
      "0                           0     -10952000000        24977000000   \n",
      "1                           0      -3860000000        35929000000   \n",
      "2                           0     -10435000000        39789000000   \n",
      "3                           0      24311000000        50224000000   \n",
      "4                           0       5624000000        25913000000   \n",
      "\n",
      "   cashAtBeginningOfPeriod  operatingCashFlow  capitalExpenditure  \\\n",
      "0              35929000000       122151000000        -10708000000   \n",
      "1              39789000000       104038000000        -11085000000   \n",
      "2              50224000000        80674000000         -7309000000   \n",
      "3              25913000000        69391000000        -10495000000   \n",
      "4              20289000000        77434000000        -13313000000   \n",
      "\n",
      "   freeCashFlow                                               link  \\\n",
      "0  111443000000  https://www.sec.gov/Archives/edgar/data/320193...   \n",
      "1   92953000000  https://www.sec.gov/Archives/edgar/data/320193...   \n",
      "2   73365000000  https://www.sec.gov/Archives/edgar/data/320193...   \n",
      "3   58896000000  https://www.sec.gov/Archives/edgar/data/320193...   \n",
      "4   64121000000  https://www.sec.gov/Archives/edgar/data/320193...   \n",
      "\n",
      "                                           finalLink  \n",
      "0  https://www.sec.gov/Archives/edgar/data/320193...  \n",
      "1  https://www.sec.gov/Archives/edgar/data/320193...  \n",
      "2  https://www.sec.gov/Archives/edgar/data/320193...  \n",
      "3  https://www.sec.gov/Archives/edgar/data/320193...  \n",
      "4  https://www.sec.gov/Archives/edgar/data/320193...  \n",
      "\n",
      "[5 rows x 40 columns]\n"
     ]
    }
   ],
   "source": [
    "df_cash_flow = pd.DataFrame(cash_flow_statement)\n",
    "print(df_cash_flow)"
   ],
   "metadata": {
    "collapsed": false
   }
  },
  {
   "cell_type": "code",
   "execution_count": 70,
   "outputs": [
    {
     "data": {
      "text/plain": "         date symbol reportedCurrency         cik fillingDate  \\\n0  2022-09-24   AAPL              USD  0000320193  2022-10-28   \n1  2021-09-25   AAPL              USD  0000320193  2021-10-29   \n2  2020-09-26   AAPL              USD  0000320193  2020-10-30   \n3  2019-09-28   AAPL              USD  0000320193  2019-10-31   \n4  2018-09-29   AAPL              USD  0000320193  2018-11-05   \n\n          acceptedDate calendarYear period    netIncome  \\\n0  2022-10-27 18:01:14         2022     FY  99803000000   \n1  2021-10-28 18:04:28         2021     FY  94680000000   \n2  2020-10-29 18:06:25         2020     FY  57411000000   \n3  2019-10-30 18:12:36         2019     FY  55256000000   \n4  2018-11-05 08:01:40         2018     FY  59531000000   \n\n   depreciationAndAmortization  ...  netCashUsedProvidedByFinancingActivities  \\\n0                  11104000000  ...                             -110749000000   \n1                  11284000000  ...                              -93353000000   \n2                  11056000000  ...                              -86820000000   \n3                  12547000000  ...                              -90976000000   \n4                  10903000000  ...                              -87876000000   \n\n   effectOfForexChangesOnCash  netChangeInCash  cashAtEndOfPeriod  \\\n0                           0     -10952000000        24977000000   \n1                           0      -3860000000        35929000000   \n2                           0     -10435000000        39789000000   \n3                           0      24311000000        50224000000   \n4                           0       5624000000        25913000000   \n\n   cashAtBeginningOfPeriod  operatingCashFlow  capitalExpenditure  \\\n0              35929000000       122151000000        -10708000000   \n1              39789000000       104038000000        -11085000000   \n2              50224000000        80674000000         -7309000000   \n3              25913000000        69391000000        -10495000000   \n4              20289000000        77434000000        -13313000000   \n\n   freeCashFlow                                               link  \\\n0  111443000000  https://www.sec.gov/Archives/edgar/data/320193...   \n1   92953000000  https://www.sec.gov/Archives/edgar/data/320193...   \n2   73365000000  https://www.sec.gov/Archives/edgar/data/320193...   \n3   58896000000  https://www.sec.gov/Archives/edgar/data/320193...   \n4   64121000000  https://www.sec.gov/Archives/edgar/data/320193...   \n\n                                           finalLink  \n0  https://www.sec.gov/Archives/edgar/data/320193...  \n1  https://www.sec.gov/Archives/edgar/data/320193...  \n2  https://www.sec.gov/Archives/edgar/data/320193...  \n3  https://www.sec.gov/Archives/edgar/data/320193...  \n4  https://www.sec.gov/Archives/edgar/data/320193...  \n\n[5 rows x 40 columns]",
      "text/html": "<div>\n<style scoped>\n    .dataframe tbody tr th:only-of-type {\n        vertical-align: middle;\n    }\n\n    .dataframe tbody tr th {\n        vertical-align: top;\n    }\n\n    .dataframe thead th {\n        text-align: right;\n    }\n</style>\n<table border=\"1\" class=\"dataframe\">\n  <thead>\n    <tr style=\"text-align: right;\">\n      <th></th>\n      <th>date</th>\n      <th>symbol</th>\n      <th>reportedCurrency</th>\n      <th>cik</th>\n      <th>fillingDate</th>\n      <th>acceptedDate</th>\n      <th>calendarYear</th>\n      <th>period</th>\n      <th>netIncome</th>\n      <th>depreciationAndAmortization</th>\n      <th>...</th>\n      <th>netCashUsedProvidedByFinancingActivities</th>\n      <th>effectOfForexChangesOnCash</th>\n      <th>netChangeInCash</th>\n      <th>cashAtEndOfPeriod</th>\n      <th>cashAtBeginningOfPeriod</th>\n      <th>operatingCashFlow</th>\n      <th>capitalExpenditure</th>\n      <th>freeCashFlow</th>\n      <th>link</th>\n      <th>finalLink</th>\n    </tr>\n  </thead>\n  <tbody>\n    <tr>\n      <th>0</th>\n      <td>2022-09-24</td>\n      <td>AAPL</td>\n      <td>USD</td>\n      <td>0000320193</td>\n      <td>2022-10-28</td>\n      <td>2022-10-27 18:01:14</td>\n      <td>2022</td>\n      <td>FY</td>\n      <td>99803000000</td>\n      <td>11104000000</td>\n      <td>...</td>\n      <td>-110749000000</td>\n      <td>0</td>\n      <td>-10952000000</td>\n      <td>24977000000</td>\n      <td>35929000000</td>\n      <td>122151000000</td>\n      <td>-10708000000</td>\n      <td>111443000000</td>\n      <td>https://www.sec.gov/Archives/edgar/data/320193...</td>\n      <td>https://www.sec.gov/Archives/edgar/data/320193...</td>\n    </tr>\n    <tr>\n      <th>1</th>\n      <td>2021-09-25</td>\n      <td>AAPL</td>\n      <td>USD</td>\n      <td>0000320193</td>\n      <td>2021-10-29</td>\n      <td>2021-10-28 18:04:28</td>\n      <td>2021</td>\n      <td>FY</td>\n      <td>94680000000</td>\n      <td>11284000000</td>\n      <td>...</td>\n      <td>-93353000000</td>\n      <td>0</td>\n      <td>-3860000000</td>\n      <td>35929000000</td>\n      <td>39789000000</td>\n      <td>104038000000</td>\n      <td>-11085000000</td>\n      <td>92953000000</td>\n      <td>https://www.sec.gov/Archives/edgar/data/320193...</td>\n      <td>https://www.sec.gov/Archives/edgar/data/320193...</td>\n    </tr>\n    <tr>\n      <th>2</th>\n      <td>2020-09-26</td>\n      <td>AAPL</td>\n      <td>USD</td>\n      <td>0000320193</td>\n      <td>2020-10-30</td>\n      <td>2020-10-29 18:06:25</td>\n      <td>2020</td>\n      <td>FY</td>\n      <td>57411000000</td>\n      <td>11056000000</td>\n      <td>...</td>\n      <td>-86820000000</td>\n      <td>0</td>\n      <td>-10435000000</td>\n      <td>39789000000</td>\n      <td>50224000000</td>\n      <td>80674000000</td>\n      <td>-7309000000</td>\n      <td>73365000000</td>\n      <td>https://www.sec.gov/Archives/edgar/data/320193...</td>\n      <td>https://www.sec.gov/Archives/edgar/data/320193...</td>\n    </tr>\n    <tr>\n      <th>3</th>\n      <td>2019-09-28</td>\n      <td>AAPL</td>\n      <td>USD</td>\n      <td>0000320193</td>\n      <td>2019-10-31</td>\n      <td>2019-10-30 18:12:36</td>\n      <td>2019</td>\n      <td>FY</td>\n      <td>55256000000</td>\n      <td>12547000000</td>\n      <td>...</td>\n      <td>-90976000000</td>\n      <td>0</td>\n      <td>24311000000</td>\n      <td>50224000000</td>\n      <td>25913000000</td>\n      <td>69391000000</td>\n      <td>-10495000000</td>\n      <td>58896000000</td>\n      <td>https://www.sec.gov/Archives/edgar/data/320193...</td>\n      <td>https://www.sec.gov/Archives/edgar/data/320193...</td>\n    </tr>\n    <tr>\n      <th>4</th>\n      <td>2018-09-29</td>\n      <td>AAPL</td>\n      <td>USD</td>\n      <td>0000320193</td>\n      <td>2018-11-05</td>\n      <td>2018-11-05 08:01:40</td>\n      <td>2018</td>\n      <td>FY</td>\n      <td>59531000000</td>\n      <td>10903000000</td>\n      <td>...</td>\n      <td>-87876000000</td>\n      <td>0</td>\n      <td>5624000000</td>\n      <td>25913000000</td>\n      <td>20289000000</td>\n      <td>77434000000</td>\n      <td>-13313000000</td>\n      <td>64121000000</td>\n      <td>https://www.sec.gov/Archives/edgar/data/320193...</td>\n      <td>https://www.sec.gov/Archives/edgar/data/320193...</td>\n    </tr>\n  </tbody>\n</table>\n<p>5 rows × 40 columns</p>\n</div>"
     },
     "execution_count": 70,
     "metadata": {},
     "output_type": "execute_result"
    }
   ],
   "source": [
    "df_cash_flow.head()"
   ],
   "metadata": {
    "collapsed": false
   }
  },
  {
   "cell_type": "code",
   "execution_count": 71,
   "outputs": [
    {
     "name": "stdout",
     "output_type": "stream",
     "text": [
      "<class 'pandas.core.frame.DataFrame'>\n",
      "RangeIndex: 5 entries, 0 to 4\n",
      "Data columns (total 40 columns):\n",
      " #   Column                                    Non-Null Count  Dtype \n",
      "---  ------                                    --------------  ----- \n",
      " 0   date                                      5 non-null      object\n",
      " 1   symbol                                    5 non-null      object\n",
      " 2   reportedCurrency                          5 non-null      object\n",
      " 3   cik                                       5 non-null      object\n",
      " 4   fillingDate                               5 non-null      object\n",
      " 5   acceptedDate                              5 non-null      object\n",
      " 6   calendarYear                              5 non-null      object\n",
      " 7   period                                    5 non-null      object\n",
      " 8   netIncome                                 5 non-null      int64 \n",
      " 9   depreciationAndAmortization               5 non-null      int64 \n",
      " 10  deferredIncomeTax                         5 non-null      int64 \n",
      " 11  stockBasedCompensation                    5 non-null      int64 \n",
      " 12  changeInWorkingCapital                    5 non-null      int64 \n",
      " 13  accountsReceivables                       5 non-null      int64 \n",
      " 14  inventory                                 5 non-null      int64 \n",
      " 15  accountsPayables                          5 non-null      int64 \n",
      " 16  otherWorkingCapital                       5 non-null      int64 \n",
      " 17  otherNonCashItems                         5 non-null      int64 \n",
      " 18  netCashProvidedByOperatingActivities      5 non-null      int64 \n",
      " 19  investmentsInPropertyPlantAndEquipment    5 non-null      int64 \n",
      " 20  acquisitionsNet                           5 non-null      int64 \n",
      " 21  purchasesOfInvestments                    5 non-null      int64 \n",
      " 22  salesMaturitiesOfInvestments              5 non-null      int64 \n",
      " 23  otherInvestingActivites                   5 non-null      int64 \n",
      " 24  netCashUsedForInvestingActivites          5 non-null      int64 \n",
      " 25  debtRepayment                             5 non-null      int64 \n",
      " 26  commonStockIssued                         5 non-null      int64 \n",
      " 27  commonStockRepurchased                    5 non-null      int64 \n",
      " 28  dividendsPaid                             5 non-null      int64 \n",
      " 29  otherFinancingActivites                   5 non-null      int64 \n",
      " 30  netCashUsedProvidedByFinancingActivities  5 non-null      int64 \n",
      " 31  effectOfForexChangesOnCash                5 non-null      int64 \n",
      " 32  netChangeInCash                           5 non-null      int64 \n",
      " 33  cashAtEndOfPeriod                         5 non-null      int64 \n",
      " 34  cashAtBeginningOfPeriod                   5 non-null      int64 \n",
      " 35  operatingCashFlow                         5 non-null      int64 \n",
      " 36  capitalExpenditure                        5 non-null      int64 \n",
      " 37  freeCashFlow                              5 non-null      int64 \n",
      " 38  link                                      5 non-null      object\n",
      " 39  finalLink                                 5 non-null      object\n",
      "dtypes: int64(30), object(10)\n",
      "memory usage: 1.7+ KB\n"
     ]
    }
   ],
   "source": [
    "df_cash_flow.info()"
   ],
   "metadata": {
    "collapsed": false
   }
  },
  {
   "cell_type": "markdown",
   "source": [
    "## Operating Cash Flows"
   ],
   "metadata": {
    "collapsed": false
   }
  },
  {
   "cell_type": "code",
   "execution_count": 72,
   "outputs": [
    {
     "name": "stdout",
     "output_type": "stream",
     "text": [
      "122151000000\n",
      "104038000000\n",
      "80674000000\n",
      "69391000000\n",
      "77434000000\n"
     ]
    }
   ],
   "source": [
    "for OFC in df_cash_flow['operatingCashFlow']:\n",
    "    print(OFC)"
   ],
   "metadata": {
    "collapsed": false
   }
  },
  {
   "cell_type": "code",
   "execution_count": 73,
   "outputs": [
    {
     "name": "stdout",
     "output_type": "stream",
     "text": [
      "111443000000\n",
      "92953000000\n",
      "73365000000\n",
      "58896000000\n",
      "64121000000\n"
     ]
    }
   ],
   "source": [
    "for FCF in df_cash_flow['freeCashFlow']:\n",
    "    print(FCF)"
   ],
   "metadata": {
    "collapsed": false
   }
  },
  {
   "cell_type": "markdown",
   "source": [
    "## DCF\n",
    "A DCF is a valuation methodology that measures the intrinsic value of a company based on the sum of the present value of its future cash flows --> More simple answer: a DCF measures the value of an asset based on the amount of cash it can produce\n",
    "\n",
    "1. Forecast the free cash flow --> The first step is to project out for 5-10 years by making assumptions on the company's revenue growth and EBIT margins. (in my case the assumptions where made using the scikit learn package)\n",
    "\n",
    "2. Calculated the weighted Average cost of capital (WACC) --> Rate of return required by debt equity investors for a company to fund the growth of its future free cash flow.\n",
    "\n",
    "present value of your FCF --> WACC = (% of equity * cost of equity) + (% of Debt * cost of Debt * (1-Tax Rate))\n",
    "\n",
    "To calculate the cost of Equity I used the following formula: Risk Free rate + (beta * expected Market return - risk free rate).\n",
    "\n",
    "The Risk free rate = 4.82%. It was obtained form: https://www.bloomberg.com/markets/rates-bonds/government-bonds/us I used the yield on a 5-year on a treasury bond.\n",
    "\n",
    "The beta for Apple = 3.1 for 5 yield period. It was obtained form: https://finance.yahoo.com/quote/AAPL/\n",
    "For the Market Return I used an average of 7.58% and 10.51% it is = to 9.05% according to: https://www.forbes.com/advisor/investing/average-stock-market-return/\n",
    "\n",
    "\n",
    "3. Calculate the terminal value\n",
    "4. Discount the free cash flow and terminal value\n",
    "5. Calculate the implied share price"
   ],
   "metadata": {
    "collapsed": false
   }
  },
  {
   "cell_type": "code",
   "execution_count": 74,
   "outputs": [
    {
     "name": "stdout",
     "output_type": "stream",
     "text": [
      "Year: 2023\n",
      "Predicted Free Cash Flows 118765900000.0\n",
      "-----\n",
      "Year: 2024\n",
      "Predicted Free Cash Flows 131636000000.0\n",
      "-----\n",
      "Year: 2025\n",
      "Predicted Free Cash Flows 144506100000.0\n",
      "-----\n",
      "Year: 2026\n",
      "Predicted Free Cash Flows 157376200000.0\n",
      "-----\n",
      "Year: 2027\n",
      "Predicted Free Cash Flows 170246300000.0\n",
      "-----\n"
     ]
    }
   ],
   "source": [
    "#Forecaste Free Cash flows\n",
    "\n",
    "#Sort Data Frame by date\n",
    "df_cash_flow['date'] = pd.to_datetime(df_cash_flow['date'])\n",
    "df_cash_flow = df_cash_flow.sort_values(by = 'date')\n",
    "\n",
    "# Get only the year from the date\n",
    "df_cash_flow['year'] = df_cash_flow['date'].dt.year\n",
    "\n",
    "#Historical Data\n",
    "years = df_cash_flow['year'].values.reshape(-1,1)\n",
    "future_free_cash_flows = df_cash_flow['freeCashFlow'].values\n",
    "\n",
    "ffcf = LinearRegression().fit(years, future_free_cash_flows)\n",
    "\n",
    "future_years = np.array([2023, 2024, 2025, 2026, 2027]).reshape(-1,1)\n",
    "predicted_ffcf = ffcf.predict(future_years)\n",
    "\n",
    "for year, free, in zip(future_years, predicted_ffcf):\n",
    "    print(f\"Year: {year[0]}\")\n",
    "    print(f'Predicted Free Cash Flows {free}')\n",
    "    print(\"-----\")\n",
    "\n",
    "# Forecasted the cash flows using scikit learn, however I'm going to calculate the cash flows manually.\n",
    "# Free Cash Flow = EBIT * (1-tax rate) + Depreciation and Amortization --> ($no cash flow leaving the company$) - capital expenditures - increase in non-cash working capital\n",
    "# Formula for the Non-Cash Working Capital = current Assets - cash - current liabilities"
   ],
   "metadata": {
    "collapsed": false
   }
  },
  {
   "cell_type": "code",
   "execution_count": 75,
   "outputs": [
    {
     "name": "stdout",
     "output_type": "stream",
     "text": [
      "0.19173\n"
     ]
    }
   ],
   "source": [
    "# Calculating the WACC = (% of equity * cost of equity) + (% of Debt * cost of Debt * (1-Tax Rate))\n",
    "# Cost of Equity = Risk Free rate + (beta * (expected Market return - risk free rate))\n",
    "\n",
    "risk_free_rate = 0.0482\n",
    "beta = 3.1\n",
    "market_return = 0.0945\n",
    "\n",
    "cost_of_equity = risk_free_rate + (beta * (market_return - risk_free_rate))\n",
    "print(cost_of_equity)\n"
   ],
   "metadata": {
    "collapsed": false
   }
  },
  {
   "cell_type": "code",
   "execution_count": 76,
   "outputs": [
    {
     "ename": "SyntaxError",
     "evalue": "expected ':' (1372560311.py, line 3)",
     "output_type": "error",
     "traceback": [
      "\u001B[0;36m  Cell \u001B[0;32mIn[76], line 3\u001B[0;36m\u001B[0m\n\u001B[0;31m    for so in df_balance_sheet['']\u001B[0m\n\u001B[0m                                  ^\u001B[0m\n\u001B[0;31mSyntaxError\u001B[0m\u001B[0;31m:\u001B[0m expected ':'\n"
     ]
    }
   ],
   "source": [
    "%run Balance_Sheet.ipynb #to get the Market Value of equity -->  Current Stock Price * Number of outstanding shares\n",
    "\n",
    "for so in df_balance_sheet['']"
   ],
   "metadata": {
    "collapsed": false
   }
  },
  {
   "cell_type": "markdown",
   "source": [],
   "metadata": {
    "collapsed": false
   }
  }
 ],
 "metadata": {
  "kernelspec": {
   "display_name": "Python 3 (ipykernel)",
   "language": "python",
   "name": "python3"
  },
  "language_info": {
   "codemirror_mode": {
    "name": "ipython",
    "version": 3
   },
   "file_extension": ".py",
   "mimetype": "text/x-python",
   "name": "python",
   "nbconvert_exporter": "python",
   "pygments_lexer": "ipython3",
   "version": "3.9.7"
  }
 },
 "nbformat": 4,
 "nbformat_minor": 1
}
